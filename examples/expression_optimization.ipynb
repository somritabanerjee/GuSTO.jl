{
 "cells": [
  {
   "cell_type": "code",
   "execution_count": 48,
   "metadata": {},
   "outputs": [],
   "source": [
    "using Flux\n",
    "using Flux: @epochs, throttle\n",
    "using ExprOptimization\n",
    "using Base.Iterators: repeated\n",
    "using BSON\n",
    "using Plots\n",
    "using LinearAlgebra\n",
    "using JLD2, FileIO\n"
   ]
  },
  {
   "cell_type": "markdown",
   "metadata": {},
   "source": [
    "# Functions to plot loss"
   ]
  },
  {
   "cell_type": "code",
   "execution_count": 49,
   "metadata": {},
   "outputs": [
    {
     "data": {
      "text/plain": [
       "plotLoss (generic function with 1 method)"
      ]
     },
     "execution_count": 49,
     "metadata": {},
     "output_type": "execute_result"
    }
   ],
   "source": [
    "function plotLoss(lossVals)\n",
    "    floatLossVals = [Tracker.data(lv) for lv in lossVals]\n",
    "    gr(fmt=:png)\n",
    "    plot()\n",
    "    plot!(floatLossVals,\n",
    "        xlabel = \"time\",\n",
    "        ylabel = \"loss\",\n",
    "        label = \"mse loss\",\n",
    "        title = \"loss evolution\")\n",
    "end"
   ]
  },
  {
   "cell_type": "code",
   "execution_count": 94,
   "metadata": {},
   "outputs": [
    {
     "data": {
      "text/plain": [
       "plotLossOnSameFigure! (generic function with 3 methods)"
      ]
     },
     "execution_count": 94,
     "metadata": {},
     "output_type": "execute_result"
    }
   ],
   "source": [
    "function plotLossOnSameFigure!(lossVals, lbl = \"mse loss\", colorNum = nothing)\n",
    "    floatLossVals = [Tracker.data(lv) for lv in lossVals]\n",
    "    if colorNum != nothing\n",
    "        p = plot!(floatLossVals,\n",
    "        xlabel = \"epochs\",\n",
    "        ylabel = \"loss\",\n",
    "        label = lbl,\n",
    "        title = \"Loss evolution for different models\",\n",
    "        color = colorNum)\n",
    "    else\n",
    "        p = plot!(floatLossVals,\n",
    "            xlabel = \"epochs\",\n",
    "            ylabel = \"loss\",\n",
    "            label = lbl,\n",
    "            title = \"Loss evolution for different models\")\n",
    "    end\n",
    "    return p\n",
    "end"
   ]
  },
  {
   "cell_type": "markdown",
   "metadata": {},
   "source": [
    "# Try with the trajectory training data and model"
   ]
  },
  {
   "cell_type": "code",
   "execution_count": 97,
   "metadata": {},
   "outputs": [
    {
     "data": {
      "text/plain": [
       "train_model (generic function with 1 method)"
      ]
     },
     "execution_count": 97,
     "metadata": {},
     "output_type": "execute_result"
    }
   ],
   "source": [
    "function train_model(model, X_train, Y_train; verbose = false)\n",
    "    loss(x, y) = begin \n",
    "        Flux.reset!(model)\n",
    "        Flux.mse(model(x), y)        \n",
    "    end\n",
    "    data = repeated((X_train, Y_train), 1)\n",
    "    opt = Flux.Optimise.ADAM()\n",
    "    lossVals = [loss(X_train,Y_train)]\n",
    "    evalcb = () -> begin curLoss = loss(X_train,Y_train)\n",
    "        push!(lossVals, curLoss)\n",
    "        verbose && @show(curLoss) end\n",
    "#     evalcb2 = () -> BSON.@save \"model-flux-trial.bson\" model\n",
    "    verbose && @show loss(X_train,Y_train)\n",
    "    @epochs 10 Flux.train!(loss, params(model), data, opt, cb = [throttle(evalcb, 30)])\n",
    "#     @epochs 10 Flux.train!(loss, params(model), data, opt, cb = [throttle(evalcb, 30), throttle(evalcb2, 60)])\n",
    "    verbose && @show lossVals\n",
    "    verbose && plotLoss(lossVals)\n",
    "    return lossVals\n",
    "end"
   ]
  },
  {
   "cell_type": "code",
   "execution_count": 98,
   "metadata": {},
   "outputs": [
    {
     "data": {
      "text/plain": [
       "loss (generic function with 1 method)"
      ]
     },
     "execution_count": 98,
     "metadata": {},
     "output_type": "execute_result"
    }
   ],
   "source": [
    "function loss(tree::RuleNode, grammar::Grammar)\n",
    "    ex = get_executable(tree, grammar)\n",
    "    model = []\n",
    "    model = Core.eval(S,ex)\n",
    "    push!(models_tested, model)\n",
    "    loss_vals = train_model(model, X_train[1,:], Y_train[1,:], verbose = false)\n",
    "\n",
    "    Y_NN = model(X_test[1,:])\n",
    "    Y_NN = [Tracker.data(ynn) for ynn in Y_NN]\n",
    "    los = norm(Y_NN - Y_test[1,:])\n",
    "    push!(model_final_losses, los)\n",
    "    push!(model_all_losses, loss_vals)\n",
    "    println(\"returning $los\")\n",
    "    Flux.reset!(model)\n",
    "    Flux.truncate!(model)\n",
    "    return los\n",
    "end"
   ]
  },
  {
   "cell_type": "code",
   "execution_count": 99,
   "metadata": {},
   "outputs": [
    {
     "data": {
      "text/plain": [
       "findAverageFinalLoss (generic function with 1 method)"
      ]
     },
     "execution_count": 99,
     "metadata": {},
     "output_type": "execute_result"
    }
   ],
   "source": [
    "function findAverageFinalLoss(data)\n",
    "    avg = 0.0\n",
    "    for i = 1:length(data)\n",
    "        last_loss = data[i][end]\n",
    "        avg = avg + last_loss\n",
    "\n",
    "    end\n",
    "    avg = avg/length(data)\n",
    "    return avg\n",
    "end"
   ]
  },
  {
   "cell_type": "code",
   "execution_count": 104,
   "metadata": {},
   "outputs": [
    {
     "name": "stdout",
     "output_type": "stream",
     "text": [
      "size(train_input_collected_first_only) = (646, 182)\n",
      "size(train_output_collected_first_only) = (646, 180)\n",
      "size(X_train) = (500, 182)\n",
      "size(X_test) = (146, 182)\n",
      "size(Y_train) = (500, 180)\n",
      "size(Y_test) = (146, 180)\n"
     ]
    },
    {
     "data": {
      "text/plain": [
       "(146, 180)"
      ]
     },
     "execution_count": 104,
     "metadata": {},
     "output_type": "execute_result"
    }
   ],
   "source": [
    "input_size = 182\n",
    "output_size = 180\n",
    "JLD2.@load \"NoObstacleFirst3IterEndsInOKtf80ZeroFinVelOnly1Iter.jld2\" train_input_collected_first_only train_output_collected_first_only\n",
    "@show size(train_input_collected_first_only)\n",
    "@show size(train_output_collected_first_only)\n",
    "\n",
    "X_train = train_input_collected_first_only[1:500,:]\n",
    "X_test = train_input_collected_first_only[501:end,:]\n",
    "\n",
    "Y_train = train_output_collected_first_only[1:500, :]\n",
    "Y_test = train_output_collected_first_only[501:end, :]\n",
    "\n",
    "@show size(X_train)\n",
    "@show size(X_test)\n",
    "@show size(Y_train)\n",
    "@show size(Y_test)"
   ]
  },
  {
   "cell_type": "code",
   "execution_count": 122,
   "metadata": {},
   "outputs": [
    {
     "name": "stderr",
     "output_type": "stream",
     "text": [
      "WARNING: redefining constant grammar\n",
      "WARNING: redefining constant S\n"
     ]
    },
    {
     "data": {
      "text/plain": [
       "Dict{Symbol,Any} with 7 entries:\n",
       "  :output_size => 180\n",
       "  :RNN         => RNN\n",
       "  :relu        => relu\n",
       "  :Chain       => Chain\n",
       "  :Dense       => Dense\n",
       "  :input_size  => 182\n",
       "  :tanh        => tanh"
      ]
     },
     "execution_count": 122,
     "metadata": {},
     "output_type": "execute_result"
    }
   ],
   "source": [
    "const grammar = @grammar begin\n",
    "model =  Chain(in_layer1, layer1, layer1, out_layer1) | Chain(in_layer2, layer2, layer2, out_layer2) | Chain(in_layer3, layer3, layer3, out_layer3) | Chain(in_layer3, layer3, layer3, out_layer3) | Chain(in_layer3, out_layer3)\n",
    "in_layer1 = Dense(input_size, 256, activation)\n",
    "out_layer1 = Dense(256, output_size, activation)\n",
    "layer1 = Dense(256,256, activation)\n",
    "in_layer2 = Dense(input_size, 512, activation)\n",
    "out_layer2 = Dense(512, output_size, activation)\n",
    "layer2 = Dense(512,512, activation)\n",
    "in_layer3 = Dense(input_size, 64, activation)\n",
    "out_layer3 = Dense(64, output_size, activation)\n",
    "layer3 = Dense(64,64, activation)\n",
    "RNNlayer = RNN(256,256, activation)\n",
    "activation = relu | tanh\n",
    "end\n",
    "\n",
    "const S = SymbolTable(grammar)"
   ]
  },
  {
   "cell_type": "code",
   "execution_count": 123,
   "metadata": {
    "scrolled": true
   },
   "outputs": [
    {
     "name": "stdout",
     "output_type": "stream",
     "text": [
      "samples: 1 of 20\n",
      "returning 0.8842768498238303\n",
      "samples: 2 of 20\n",
      "returning 1.7560886327395318\n",
      "samples: 3 of 20\n"
     ]
    },
    {
     "name": "stderr",
     "output_type": "stream",
     "text": [
      "┌ Info: Epoch 1\n",
      "└ @ Main /home/somrita/.julia/packages/Flux/qXNjB/src/optimise/train.jl:105\n",
      "┌ Info: Epoch 2\n",
      "└ @ Main /home/somrita/.julia/packages/Flux/qXNjB/src/optimise/train.jl:105\n",
      "┌ Info: Epoch 3\n",
      "└ @ Main /home/somrita/.julia/packages/Flux/qXNjB/src/optimise/train.jl:105\n",
      "┌ Info: Epoch 4\n",
      "└ @ Main /home/somrita/.julia/packages/Flux/qXNjB/src/optimise/train.jl:105\n",
      "┌ Info: Epoch 5\n",
      "└ @ Main /home/somrita/.julia/packages/Flux/qXNjB/src/optimise/train.jl:105\n",
      "┌ Info: Epoch 6\n",
      "└ @ Main /home/somrita/.julia/packages/Flux/qXNjB/src/optimise/train.jl:105\n",
      "┌ Info: Epoch 7\n",
      "└ @ Main /home/somrita/.julia/packages/Flux/qXNjB/src/optimise/train.jl:105\n",
      "┌ Info: Epoch 8\n",
      "└ @ Main /home/somrita/.julia/packages/Flux/qXNjB/src/optimise/train.jl:105\n",
      "┌ Info: Epoch 9\n",
      "└ @ Main /home/somrita/.julia/packages/Flux/qXNjB/src/optimise/train.jl:105\n",
      "┌ Info: Epoch 10\n",
      "└ @ Main /home/somrita/.julia/packages/Flux/qXNjB/src/optimise/train.jl:105\n",
      "┌ Info: Epoch 1\n",
      "└ @ Main /home/somrita/.julia/packages/Flux/qXNjB/src/optimise/train.jl:105\n",
      "┌ Info: Epoch 2\n",
      "└ @ Main /home/somrita/.julia/packages/Flux/qXNjB/src/optimise/train.jl:105\n",
      "┌ Info: Epoch 3\n",
      "└ @ Main /home/somrita/.julia/packages/Flux/qXNjB/src/optimise/train.jl:105\n",
      "┌ Info: Epoch 4\n",
      "└ @ Main /home/somrita/.julia/packages/Flux/qXNjB/src/optimise/train.jl:105\n",
      "┌ Info: Epoch 5\n",
      "└ @ Main /home/somrita/.julia/packages/Flux/qXNjB/src/optimise/train.jl:105\n",
      "┌ Info: Epoch 6\n",
      "└ @ Main /home/somrita/.julia/packages/Flux/qXNjB/src/optimise/train.jl:105\n",
      "┌ Info: Epoch 7\n",
      "└ @ Main /home/somrita/.julia/packages/Flux/qXNjB/src/optimise/train.jl:105\n",
      "┌ Info: Epoch 8\n",
      "└ @ Main /home/somrita/.julia/packages/Flux/qXNjB/src/optimise/train.jl:105\n",
      "┌ Info: Epoch 9\n",
      "└ @ Main /home/somrita/.julia/packages/Flux/qXNjB/src/optimise/train.jl:105\n",
      "┌ Info: Epoch 10\n",
      "└ @ Main /home/somrita/.julia/packages/Flux/qXNjB/src/optimise/train.jl:105\n",
      "┌ Info: Epoch 1\n",
      "└ @ Main /home/somrita/.julia/packages/Flux/qXNjB/src/optimise/train.jl:105\n",
      "┌ Info: Epoch 2\n",
      "└ @ Main /home/somrita/.julia/packages/Flux/qXNjB/src/optimise/train.jl:105\n",
      "┌ Info: Epoch 3\n",
      "└ @ Main /home/somrita/.julia/packages/Flux/qXNjB/src/optimise/train.jl:105\n",
      "┌ Info: Epoch 4\n",
      "└ @ Main /home/somrita/.julia/packages/Flux/qXNjB/src/optimise/train.jl:105\n",
      "┌ Info: Epoch 5\n",
      "└ @ Main /home/somrita/.julia/packages/Flux/qXNjB/src/optimise/train.jl:105\n"
     ]
    },
    {
     "name": "stdout",
     "output_type": "stream",
     "text": [
      "returning 1.4349376410007852\n",
      "samples: 4 of 20\n"
     ]
    },
    {
     "name": "stderr",
     "output_type": "stream",
     "text": [
      "┌ Info: Epoch 6\n",
      "└ @ Main /home/somrita/.julia/packages/Flux/qXNjB/src/optimise/train.jl:105\n",
      "┌ Info: Epoch 7\n",
      "└ @ Main /home/somrita/.julia/packages/Flux/qXNjB/src/optimise/train.jl:105\n",
      "┌ Info: Epoch 8\n",
      "└ @ Main /home/somrita/.julia/packages/Flux/qXNjB/src/optimise/train.jl:105\n",
      "┌ Info: Epoch 9\n",
      "└ @ Main /home/somrita/.julia/packages/Flux/qXNjB/src/optimise/train.jl:105\n",
      "┌ Info: Epoch 10\n",
      "└ @ Main /home/somrita/.julia/packages/Flux/qXNjB/src/optimise/train.jl:105\n",
      "┌ Info: Epoch 1\n",
      "└ @ Main /home/somrita/.julia/packages/Flux/qXNjB/src/optimise/train.jl:105\n",
      "┌ Info: Epoch 2\n",
      "└ @ Main /home/somrita/.julia/packages/Flux/qXNjB/src/optimise/train.jl:105\n",
      "┌ Info: Epoch 3\n",
      "└ @ Main /home/somrita/.julia/packages/Flux/qXNjB/src/optimise/train.jl:105\n",
      "┌ Info: Epoch 4\n",
      "└ @ Main /home/somrita/.julia/packages/Flux/qXNjB/src/optimise/train.jl:105\n",
      "┌ Info: Epoch 5\n",
      "└ @ Main /home/somrita/.julia/packages/Flux/qXNjB/src/optimise/train.jl:105\n",
      "┌ Info: Epoch 6\n",
      "└ @ Main /home/somrita/.julia/packages/Flux/qXNjB/src/optimise/train.jl:105\n",
      "┌ Info: Epoch 7\n",
      "└ @ Main /home/somrita/.julia/packages/Flux/qXNjB/src/optimise/train.jl:105\n"
     ]
    },
    {
     "name": "stdout",
     "output_type": "stream",
     "text": [
      "returning 1.2366885254586075\n",
      "samples: 5 of 20\n"
     ]
    },
    {
     "name": "stderr",
     "output_type": "stream",
     "text": [
      "┌ Info: Epoch 8\n",
      "└ @ Main /home/somrita/.julia/packages/Flux/qXNjB/src/optimise/train.jl:105\n",
      "┌ Info: Epoch 9\n",
      "└ @ Main /home/somrita/.julia/packages/Flux/qXNjB/src/optimise/train.jl:105\n",
      "┌ Info: Epoch 10\n",
      "└ @ Main /home/somrita/.julia/packages/Flux/qXNjB/src/optimise/train.jl:105\n",
      "┌ Info: Epoch 1\n",
      "└ @ Main /home/somrita/.julia/packages/Flux/qXNjB/src/optimise/train.jl:105\n",
      "┌ Info: Epoch 2\n",
      "└ @ Main /home/somrita/.julia/packages/Flux/qXNjB/src/optimise/train.jl:105\n",
      "┌ Info: Epoch 3\n",
      "└ @ Main /home/somrita/.julia/packages/Flux/qXNjB/src/optimise/train.jl:105\n",
      "┌ Info: Epoch 4\n",
      "└ @ Main /home/somrita/.julia/packages/Flux/qXNjB/src/optimise/train.jl:105\n",
      "┌ Info: Epoch 5\n",
      "└ @ Main /home/somrita/.julia/packages/Flux/qXNjB/src/optimise/train.jl:105\n",
      "┌ Info: Epoch 6\n",
      "└ @ Main /home/somrita/.julia/packages/Flux/qXNjB/src/optimise/train.jl:105\n",
      "┌ Info: Epoch 7\n",
      "└ @ Main /home/somrita/.julia/packages/Flux/qXNjB/src/optimise/train.jl:105\n",
      "┌ Info: Epoch 8\n",
      "└ @ Main /home/somrita/.julia/packages/Flux/qXNjB/src/optimise/train.jl:105\n",
      "┌ Info: Epoch 9\n",
      "└ @ Main /home/somrita/.julia/packages/Flux/qXNjB/src/optimise/train.jl:105\n"
     ]
    },
    {
     "name": "stdout",
     "output_type": "stream",
     "text": [
      "returning 0.9388641615134686\n",
      "samples: 6 of 20\n"
     ]
    },
    {
     "name": "stderr",
     "output_type": "stream",
     "text": [
      "┌ Info: Epoch 10\n",
      "└ @ Main /home/somrita/.julia/packages/Flux/qXNjB/src/optimise/train.jl:105\n",
      "┌ Info: Epoch 1\n",
      "└ @ Main /home/somrita/.julia/packages/Flux/qXNjB/src/optimise/train.jl:105\n",
      "┌ Info: Epoch 2\n",
      "└ @ Main /home/somrita/.julia/packages/Flux/qXNjB/src/optimise/train.jl:105\n",
      "┌ Info: Epoch 3\n",
      "└ @ Main /home/somrita/.julia/packages/Flux/qXNjB/src/optimise/train.jl:105\n",
      "┌ Info: Epoch 4\n",
      "└ @ Main /home/somrita/.julia/packages/Flux/qXNjB/src/optimise/train.jl:105\n",
      "┌ Info: Epoch 5\n",
      "└ @ Main /home/somrita/.julia/packages/Flux/qXNjB/src/optimise/train.jl:105\n",
      "┌ Info: Epoch 6\n",
      "└ @ Main /home/somrita/.julia/packages/Flux/qXNjB/src/optimise/train.jl:105\n",
      "┌ Info: Epoch 7\n",
      "└ @ Main /home/somrita/.julia/packages/Flux/qXNjB/src/optimise/train.jl:105\n",
      "┌ Info: Epoch 8\n",
      "└ @ Main /home/somrita/.julia/packages/Flux/qXNjB/src/optimise/train.jl:105\n",
      "┌ Info: Epoch 9\n",
      "└ @ Main /home/somrita/.julia/packages/Flux/qXNjB/src/optimise/train.jl:105\n",
      "┌ Info: Epoch 10\n",
      "└ @ Main /home/somrita/.julia/packages/Flux/qXNjB/src/optimise/train.jl:105\n"
     ]
    },
    {
     "name": "stdout",
     "output_type": "stream",
     "text": [
      "returning 0.9299486640106145\n",
      "samples: 7 of 20\n"
     ]
    },
    {
     "name": "stderr",
     "output_type": "stream",
     "text": [
      "┌ Info: Epoch 1\n",
      "└ @ Main /home/somrita/.julia/packages/Flux/qXNjB/src/optimise/train.jl:105\n",
      "┌ Info: Epoch 2\n",
      "└ @ Main /home/somrita/.julia/packages/Flux/qXNjB/src/optimise/train.jl:105\n",
      "┌ Info: Epoch 3\n",
      "└ @ Main /home/somrita/.julia/packages/Flux/qXNjB/src/optimise/train.jl:105\n",
      "┌ Info: Epoch 4\n",
      "└ @ Main /home/somrita/.julia/packages/Flux/qXNjB/src/optimise/train.jl:105\n",
      "┌ Info: Epoch 5\n",
      "└ @ Main /home/somrita/.julia/packages/Flux/qXNjB/src/optimise/train.jl:105\n",
      "┌ Info: Epoch 6\n",
      "└ @ Main /home/somrita/.julia/packages/Flux/qXNjB/src/optimise/train.jl:105\n",
      "┌ Info: Epoch 7\n",
      "└ @ Main /home/somrita/.julia/packages/Flux/qXNjB/src/optimise/train.jl:105\n",
      "┌ Info: Epoch 8\n",
      "└ @ Main /home/somrita/.julia/packages/Flux/qXNjB/src/optimise/train.jl:105\n",
      "┌ Info: Epoch 9\n",
      "└ @ Main /home/somrita/.julia/packages/Flux/qXNjB/src/optimise/train.jl:105\n"
     ]
    },
    {
     "name": "stdout",
     "output_type": "stream",
     "text": [
      "returning 1.365037650211633\n",
      "samples: 8 of 20\n"
     ]
    },
    {
     "name": "stderr",
     "output_type": "stream",
     "text": [
      "┌ Info: Epoch 10\n",
      "└ @ Main /home/somrita/.julia/packages/Flux/qXNjB/src/optimise/train.jl:105\n",
      "┌ Info: Epoch 1\n",
      "└ @ Main /home/somrita/.julia/packages/Flux/qXNjB/src/optimise/train.jl:105\n",
      "┌ Info: Epoch 2\n",
      "└ @ Main /home/somrita/.julia/packages/Flux/qXNjB/src/optimise/train.jl:105\n",
      "┌ Info: Epoch 3\n",
      "└ @ Main /home/somrita/.julia/packages/Flux/qXNjB/src/optimise/train.jl:105\n",
      "┌ Info: Epoch 4\n",
      "└ @ Main /home/somrita/.julia/packages/Flux/qXNjB/src/optimise/train.jl:105\n",
      "┌ Info: Epoch 5\n",
      "└ @ Main /home/somrita/.julia/packages/Flux/qXNjB/src/optimise/train.jl:105\n",
      "┌ Info: Epoch 6\n",
      "└ @ Main /home/somrita/.julia/packages/Flux/qXNjB/src/optimise/train.jl:105\n",
      "┌ Info: Epoch 7\n",
      "└ @ Main /home/somrita/.julia/packages/Flux/qXNjB/src/optimise/train.jl:105\n",
      "┌ Info: Epoch 8\n",
      "└ @ Main /home/somrita/.julia/packages/Flux/qXNjB/src/optimise/train.jl:105\n",
      "┌ Info: Epoch 9\n",
      "└ @ Main /home/somrita/.julia/packages/Flux/qXNjB/src/optimise/train.jl:105\n",
      "┌ Info: Epoch 10\n",
      "└ @ Main /home/somrita/.julia/packages/Flux/qXNjB/src/optimise/train.jl:105\n"
     ]
    },
    {
     "name": "stdout",
     "output_type": "stream",
     "text": [
      "returning 1.1543090988328184\n",
      "samples: 9 of 20\n"
     ]
    },
    {
     "name": "stderr",
     "output_type": "stream",
     "text": [
      "┌ Info: Epoch 1\n",
      "└ @ Main /home/somrita/.julia/packages/Flux/qXNjB/src/optimise/train.jl:105\n",
      "┌ Info: Epoch 2\n",
      "└ @ Main /home/somrita/.julia/packages/Flux/qXNjB/src/optimise/train.jl:105\n",
      "┌ Info: Epoch 3\n",
      "└ @ Main /home/somrita/.julia/packages/Flux/qXNjB/src/optimise/train.jl:105\n",
      "┌ Info: Epoch 4\n",
      "└ @ Main /home/somrita/.julia/packages/Flux/qXNjB/src/optimise/train.jl:105\n",
      "┌ Info: Epoch 5\n",
      "└ @ Main /home/somrita/.julia/packages/Flux/qXNjB/src/optimise/train.jl:105\n",
      "┌ Info: Epoch 6\n",
      "└ @ Main /home/somrita/.julia/packages/Flux/qXNjB/src/optimise/train.jl:105\n",
      "┌ Info: Epoch 7\n",
      "└ @ Main /home/somrita/.julia/packages/Flux/qXNjB/src/optimise/train.jl:105\n",
      "┌ Info: Epoch 8\n",
      "└ @ Main /home/somrita/.julia/packages/Flux/qXNjB/src/optimise/train.jl:105\n",
      "┌ Info: Epoch 9\n",
      "└ @ Main /home/somrita/.julia/packages/Flux/qXNjB/src/optimise/train.jl:105\n"
     ]
    },
    {
     "name": "stdout",
     "output_type": "stream",
     "text": [
      "returning 0.9367980757138976\n"
     ]
    },
    {
     "name": "stderr",
     "output_type": "stream",
     "text": [
      "┌ Info: Epoch 10\n",
      "└ @ Main /home/somrita/.julia/packages/Flux/qXNjB/src/optimise/train.jl:105\n"
     ]
    },
    {
     "name": "stdout",
     "output_type": "stream",
     "text": [
      "samples: 10 of 20\n"
     ]
    },
    {
     "name": "stderr",
     "output_type": "stream",
     "text": [
      "┌ Info: Epoch 1\n",
      "└ @ Main /home/somrita/.julia/packages/Flux/qXNjB/src/optimise/train.jl:105\n",
      "┌ Info: Epoch 2\n",
      "└ @ Main /home/somrita/.julia/packages/Flux/qXNjB/src/optimise/train.jl:105\n",
      "┌ Info: Epoch 3\n",
      "└ @ Main /home/somrita/.julia/packages/Flux/qXNjB/src/optimise/train.jl:105\n",
      "┌ Info: Epoch 4\n",
      "└ @ Main /home/somrita/.julia/packages/Flux/qXNjB/src/optimise/train.jl:105\n",
      "┌ Info: Epoch 5\n",
      "└ @ Main /home/somrita/.julia/packages/Flux/qXNjB/src/optimise/train.jl:105\n",
      "┌ Info: Epoch 6\n",
      "└ @ Main /home/somrita/.julia/packages/Flux/qXNjB/src/optimise/train.jl:105\n",
      "┌ Info: Epoch 7\n",
      "└ @ Main /home/somrita/.julia/packages/Flux/qXNjB/src/optimise/train.jl:105\n",
      "┌ Info: Epoch 8\n",
      "└ @ Main /home/somrita/.julia/packages/Flux/qXNjB/src/optimise/train.jl:105\n",
      "┌ Info: Epoch 9\n",
      "└ @ Main /home/somrita/.julia/packages/Flux/qXNjB/src/optimise/train.jl:105\n"
     ]
    },
    {
     "name": "stdout",
     "output_type": "stream",
     "text": [
      "returning 1.6495454543958477\n"
     ]
    },
    {
     "name": "stderr",
     "output_type": "stream",
     "text": [
      "┌ Info: Epoch 10\n",
      "└ @ Main /home/somrita/.julia/packages/Flux/qXNjB/src/optimise/train.jl:105\n"
     ]
    },
    {
     "name": "stdout",
     "output_type": "stream",
     "text": [
      "samples: 11 of 20\n"
     ]
    },
    {
     "name": "stderr",
     "output_type": "stream",
     "text": [
      "┌ Info: Epoch 1\n",
      "└ @ Main /home/somrita/.julia/packages/Flux/qXNjB/src/optimise/train.jl:105\n"
     ]
    },
    {
     "name": "stdout",
     "output_type": "stream",
     "text": [
      "returning 1.359921582001161\n",
      "samples: 12 of 20\n"
     ]
    },
    {
     "name": "stderr",
     "output_type": "stream",
     "text": [
      "┌ Info: Epoch 2\n",
      "└ @ Main /home/somrita/.julia/packages/Flux/qXNjB/src/optimise/train.jl:105\n",
      "┌ Info: Epoch 3\n",
      "└ @ Main /home/somrita/.julia/packages/Flux/qXNjB/src/optimise/train.jl:105\n",
      "┌ Info: Epoch 4\n",
      "└ @ Main /home/somrita/.julia/packages/Flux/qXNjB/src/optimise/train.jl:105\n",
      "┌ Info: Epoch 5\n",
      "└ @ Main /home/somrita/.julia/packages/Flux/qXNjB/src/optimise/train.jl:105\n",
      "┌ Info: Epoch 6\n",
      "└ @ Main /home/somrita/.julia/packages/Flux/qXNjB/src/optimise/train.jl:105\n",
      "┌ Info: Epoch 7\n",
      "└ @ Main /home/somrita/.julia/packages/Flux/qXNjB/src/optimise/train.jl:105\n",
      "┌ Info: Epoch 8\n",
      "└ @ Main /home/somrita/.julia/packages/Flux/qXNjB/src/optimise/train.jl:105\n",
      "┌ Info: Epoch 9\n",
      "└ @ Main /home/somrita/.julia/packages/Flux/qXNjB/src/optimise/train.jl:105\n",
      "┌ Info: Epoch 10\n",
      "└ @ Main /home/somrita/.julia/packages/Flux/qXNjB/src/optimise/train.jl:105\n",
      "┌ Info: Epoch 1\n",
      "└ @ Main /home/somrita/.julia/packages/Flux/qXNjB/src/optimise/train.jl:105\n",
      "┌ Info: Epoch 2\n",
      "└ @ Main /home/somrita/.julia/packages/Flux/qXNjB/src/optimise/train.jl:105\n",
      "┌ Info: Epoch 3\n",
      "└ @ Main /home/somrita/.julia/packages/Flux/qXNjB/src/optimise/train.jl:105\n",
      "┌ Info: Epoch 4\n",
      "└ @ Main /home/somrita/.julia/packages/Flux/qXNjB/src/optimise/train.jl:105\n",
      "┌ Info: Epoch 5\n",
      "└ @ Main /home/somrita/.julia/packages/Flux/qXNjB/src/optimise/train.jl:105\n",
      "┌ Info: Epoch 6\n",
      "└ @ Main /home/somrita/.julia/packages/Flux/qXNjB/src/optimise/train.jl:105\n",
      "┌ Info: Epoch 7\n",
      "└ @ Main /home/somrita/.julia/packages/Flux/qXNjB/src/optimise/train.jl:105\n"
     ]
    },
    {
     "name": "stdout",
     "output_type": "stream",
     "text": [
      "returning 1.6048500528014187\n",
      "samples: 13 of 20\n"
     ]
    },
    {
     "name": "stderr",
     "output_type": "stream",
     "text": [
      "┌ Info: Epoch 8\n",
      "└ @ Main /home/somrita/.julia/packages/Flux/qXNjB/src/optimise/train.jl:105\n",
      "┌ Info: Epoch 9\n",
      "└ @ Main /home/somrita/.julia/packages/Flux/qXNjB/src/optimise/train.jl:105\n",
      "┌ Info: Epoch 10\n",
      "└ @ Main /home/somrita/.julia/packages/Flux/qXNjB/src/optimise/train.jl:105\n",
      "┌ Info: Epoch 1\n",
      "└ @ Main /home/somrita/.julia/packages/Flux/qXNjB/src/optimise/train.jl:105\n",
      "┌ Info: Epoch 2\n",
      "└ @ Main /home/somrita/.julia/packages/Flux/qXNjB/src/optimise/train.jl:105\n",
      "┌ Info: Epoch 3\n",
      "└ @ Main /home/somrita/.julia/packages/Flux/qXNjB/src/optimise/train.jl:105\n",
      "┌ Info: Epoch 4\n",
      "└ @ Main /home/somrita/.julia/packages/Flux/qXNjB/src/optimise/train.jl:105\n",
      "┌ Info: Epoch 5\n",
      "└ @ Main /home/somrita/.julia/packages/Flux/qXNjB/src/optimise/train.jl:105\n"
     ]
    },
    {
     "name": "stdout",
     "output_type": "stream",
     "text": [
      "returning 1.1068713133314971\n",
      "samples: 14 of 20\n"
     ]
    },
    {
     "name": "stderr",
     "output_type": "stream",
     "text": [
      "┌ Info: Epoch 6\n",
      "└ @ Main /home/somrita/.julia/packages/Flux/qXNjB/src/optimise/train.jl:105\n",
      "┌ Info: Epoch 7\n",
      "└ @ Main /home/somrita/.julia/packages/Flux/qXNjB/src/optimise/train.jl:105\n",
      "┌ Info: Epoch 8\n",
      "└ @ Main /home/somrita/.julia/packages/Flux/qXNjB/src/optimise/train.jl:105\n",
      "┌ Info: Epoch 9\n",
      "└ @ Main /home/somrita/.julia/packages/Flux/qXNjB/src/optimise/train.jl:105\n",
      "┌ Info: Epoch 10\n",
      "└ @ Main /home/somrita/.julia/packages/Flux/qXNjB/src/optimise/train.jl:105\n",
      "┌ Info: Epoch 1\n",
      "└ @ Main /home/somrita/.julia/packages/Flux/qXNjB/src/optimise/train.jl:105\n"
     ]
    },
    {
     "name": "stdout",
     "output_type": "stream",
     "text": [
      "returning 0.9363965529858992\n"
     ]
    },
    {
     "name": "stderr",
     "output_type": "stream",
     "text": [
      "┌ Info: Epoch 2\n",
      "└ @ Main /home/somrita/.julia/packages/Flux/qXNjB/src/optimise/train.jl:105\n",
      "┌ Info: Epoch 3\n",
      "└ @ Main /home/somrita/.julia/packages/Flux/qXNjB/src/optimise/train.jl:105\n",
      "┌ Info: Epoch 4\n",
      "└ @ Main /home/somrita/.julia/packages/Flux/qXNjB/src/optimise/train.jl:105\n",
      "┌ Info: Epoch 5\n",
      "└ @ Main /home/somrita/.julia/packages/Flux/qXNjB/src/optimise/train.jl:105\n",
      "┌ Info: Epoch 6\n",
      "└ @ Main /home/somrita/.julia/packages/Flux/qXNjB/src/optimise/train.jl:105\n",
      "┌ Info: Epoch 7\n",
      "└ @ Main /home/somrita/.julia/packages/Flux/qXNjB/src/optimise/train.jl:105\n",
      "┌ Info: Epoch 8\n",
      "└ @ Main /home/somrita/.julia/packages/Flux/qXNjB/src/optimise/train.jl:105\n",
      "┌ Info: Epoch 9\n",
      "└ @ Main /home/somrita/.julia/packages/Flux/qXNjB/src/optimise/train.jl:105\n",
      "┌ Info: Epoch 10\n",
      "└ @ Main /home/somrita/.julia/packages/Flux/qXNjB/src/optimise/train.jl:105\n"
     ]
    },
    {
     "name": "stdout",
     "output_type": "stream",
     "text": [
      "samples: 15 of 20\n",
      "returning 1.6715425435864881\n",
      "samples: 16 of 20\n"
     ]
    },
    {
     "name": "stderr",
     "output_type": "stream",
     "text": [
      "┌ Info: Epoch 1\n",
      "└ @ Main /home/somrita/.julia/packages/Flux/qXNjB/src/optimise/train.jl:105\n",
      "┌ Info: Epoch 2\n",
      "└ @ Main /home/somrita/.julia/packages/Flux/qXNjB/src/optimise/train.jl:105\n",
      "┌ Info: Epoch 3\n",
      "└ @ Main /home/somrita/.julia/packages/Flux/qXNjB/src/optimise/train.jl:105\n",
      "┌ Info: Epoch 4\n",
      "└ @ Main /home/somrita/.julia/packages/Flux/qXNjB/src/optimise/train.jl:105\n",
      "┌ Info: Epoch 5\n",
      "└ @ Main /home/somrita/.julia/packages/Flux/qXNjB/src/optimise/train.jl:105\n",
      "┌ Info: Epoch 6\n",
      "└ @ Main /home/somrita/.julia/packages/Flux/qXNjB/src/optimise/train.jl:105\n",
      "┌ Info: Epoch 7\n",
      "└ @ Main /home/somrita/.julia/packages/Flux/qXNjB/src/optimise/train.jl:105\n",
      "┌ Info: Epoch 8\n",
      "└ @ Main /home/somrita/.julia/packages/Flux/qXNjB/src/optimise/train.jl:105\n",
      "┌ Info: Epoch 9\n",
      "└ @ Main /home/somrita/.julia/packages/Flux/qXNjB/src/optimise/train.jl:105\n",
      "┌ Info: Epoch 10\n",
      "└ @ Main /home/somrita/.julia/packages/Flux/qXNjB/src/optimise/train.jl:105\n",
      "┌ Info: Epoch 1\n",
      "└ @ Main /home/somrita/.julia/packages/Flux/qXNjB/src/optimise/train.jl:105\n",
      "┌ Info: Epoch 2\n",
      "└ @ Main /home/somrita/.julia/packages/Flux/qXNjB/src/optimise/train.jl:105\n",
      "┌ Info: Epoch 3\n",
      "└ @ Main /home/somrita/.julia/packages/Flux/qXNjB/src/optimise/train.jl:105\n",
      "┌ Info: Epoch 4\n",
      "└ @ Main /home/somrita/.julia/packages/Flux/qXNjB/src/optimise/train.jl:105\n",
      "┌ Info: Epoch 5\n",
      "└ @ Main /home/somrita/.julia/packages/Flux/qXNjB/src/optimise/train.jl:105\n",
      "┌ Info: Epoch 6\n",
      "└ @ Main /home/somrita/.julia/packages/Flux/qXNjB/src/optimise/train.jl:105\n",
      "┌ Info: Epoch 7\n",
      "└ @ Main /home/somrita/.julia/packages/Flux/qXNjB/src/optimise/train.jl:105\n",
      "┌ Info: Epoch 8\n",
      "└ @ Main /home/somrita/.julia/packages/Flux/qXNjB/src/optimise/train.jl:105\n"
     ]
    },
    {
     "name": "stdout",
     "output_type": "stream",
     "text": [
      "returning 3.808657299730742\n",
      "samples: 17 of 20\n"
     ]
    },
    {
     "name": "stderr",
     "output_type": "stream",
     "text": [
      "┌ Info: Epoch 9\n",
      "└ @ Main /home/somrita/.julia/packages/Flux/qXNjB/src/optimise/train.jl:105\n",
      "┌ Info: Epoch 10\n",
      "└ @ Main /home/somrita/.julia/packages/Flux/qXNjB/src/optimise/train.jl:105\n",
      "┌ Info: Epoch 1\n",
      "└ @ Main /home/somrita/.julia/packages/Flux/qXNjB/src/optimise/train.jl:105\n",
      "┌ Info: Epoch 2\n",
      "└ @ Main /home/somrita/.julia/packages/Flux/qXNjB/src/optimise/train.jl:105\n",
      "┌ Info: Epoch 3\n",
      "└ @ Main /home/somrita/.julia/packages/Flux/qXNjB/src/optimise/train.jl:105\n",
      "┌ Info: Epoch 4\n",
      "└ @ Main /home/somrita/.julia/packages/Flux/qXNjB/src/optimise/train.jl:105\n",
      "┌ Info: Epoch 5\n",
      "└ @ Main /home/somrita/.julia/packages/Flux/qXNjB/src/optimise/train.jl:105\n",
      "┌ Info: Epoch 6\n",
      "└ @ Main /home/somrita/.julia/packages/Flux/qXNjB/src/optimise/train.jl:105\n",
      "┌ Info: Epoch 7\n",
      "└ @ Main /home/somrita/.julia/packages/Flux/qXNjB/src/optimise/train.jl:105\n",
      "┌ Info: Epoch 8\n",
      "└ @ Main /home/somrita/.julia/packages/Flux/qXNjB/src/optimise/train.jl:105\n",
      "┌ Info: Epoch 9\n",
      "└ @ Main /home/somrita/.julia/packages/Flux/qXNjB/src/optimise/train.jl:105\n",
      "┌ Info: Epoch 10\n",
      "└ @ Main /home/somrita/.julia/packages/Flux/qXNjB/src/optimise/train.jl:105\n"
     ]
    },
    {
     "name": "stdout",
     "output_type": "stream",
     "text": [
      "returning 1.0126340349799374\n",
      "samples: 18 of 20\n",
      "returning 2.6069583255835966\n",
      "samples: 19 of 20\n"
     ]
    },
    {
     "name": "stderr",
     "output_type": "stream",
     "text": [
      "┌ Info: Epoch 1\n",
      "└ @ Main /home/somrita/.julia/packages/Flux/qXNjB/src/optimise/train.jl:105\n",
      "┌ Info: Epoch 2\n",
      "└ @ Main /home/somrita/.julia/packages/Flux/qXNjB/src/optimise/train.jl:105\n",
      "┌ Info: Epoch 3\n",
      "└ @ Main /home/somrita/.julia/packages/Flux/qXNjB/src/optimise/train.jl:105\n",
      "┌ Info: Epoch 4\n",
      "└ @ Main /home/somrita/.julia/packages/Flux/qXNjB/src/optimise/train.jl:105\n",
      "┌ Info: Epoch 5\n",
      "└ @ Main /home/somrita/.julia/packages/Flux/qXNjB/src/optimise/train.jl:105\n",
      "┌ Info: Epoch 6\n",
      "└ @ Main /home/somrita/.julia/packages/Flux/qXNjB/src/optimise/train.jl:105\n",
      "┌ Info: Epoch 7\n",
      "└ @ Main /home/somrita/.julia/packages/Flux/qXNjB/src/optimise/train.jl:105\n",
      "┌ Info: Epoch 8\n",
      "└ @ Main /home/somrita/.julia/packages/Flux/qXNjB/src/optimise/train.jl:105\n",
      "┌ Info: Epoch 9\n",
      "└ @ Main /home/somrita/.julia/packages/Flux/qXNjB/src/optimise/train.jl:105\n",
      "┌ Info: Epoch 10\n",
      "└ @ Main /home/somrita/.julia/packages/Flux/qXNjB/src/optimise/train.jl:105\n",
      "┌ Info: Epoch 1\n",
      "└ @ Main /home/somrita/.julia/packages/Flux/qXNjB/src/optimise/train.jl:105\n",
      "┌ Info: Epoch 2\n",
      "└ @ Main /home/somrita/.julia/packages/Flux/qXNjB/src/optimise/train.jl:105\n",
      "┌ Info: Epoch 3\n",
      "└ @ Main /home/somrita/.julia/packages/Flux/qXNjB/src/optimise/train.jl:105\n"
     ]
    },
    {
     "name": "stdout",
     "output_type": "stream",
     "text": [
      "returning 2.0808111558915634\n",
      "samples: 20 of 20\n"
     ]
    },
    {
     "name": "stderr",
     "output_type": "stream",
     "text": [
      "┌ Info: Epoch 4\n",
      "└ @ Main /home/somrita/.julia/packages/Flux/qXNjB/src/optimise/train.jl:105\n",
      "┌ Info: Epoch 5\n",
      "└ @ Main /home/somrita/.julia/packages/Flux/qXNjB/src/optimise/train.jl:105\n",
      "┌ Info: Epoch 6\n",
      "└ @ Main /home/somrita/.julia/packages/Flux/qXNjB/src/optimise/train.jl:105\n",
      "┌ Info: Epoch 7\n",
      "└ @ Main /home/somrita/.julia/packages/Flux/qXNjB/src/optimise/train.jl:105\n",
      "┌ Info: Epoch 8\n",
      "└ @ Main /home/somrita/.julia/packages/Flux/qXNjB/src/optimise/train.jl:105\n",
      "┌ Info: Epoch 9\n",
      "└ @ Main /home/somrita/.julia/packages/Flux/qXNjB/src/optimise/train.jl:105\n",
      "┌ Info: Epoch 10\n",
      "└ @ Main /home/somrita/.julia/packages/Flux/qXNjB/src/optimise/train.jl:105\n",
      "┌ Info: Epoch 1\n",
      "└ @ Main /home/somrita/.julia/packages/Flux/qXNjB/src/optimise/train.jl:105\n",
      "┌ Info: Epoch 2\n",
      "└ @ Main /home/somrita/.julia/packages/Flux/qXNjB/src/optimise/train.jl:105\n",
      "┌ Info: Epoch 3\n",
      "└ @ Main /home/somrita/.julia/packages/Flux/qXNjB/src/optimise/train.jl:105\n",
      "┌ Info: Epoch 4\n",
      "└ @ Main /home/somrita/.julia/packages/Flux/qXNjB/src/optimise/train.jl:105\n",
      "┌ Info: Epoch 5\n",
      "└ @ Main /home/somrita/.julia/packages/Flux/qXNjB/src/optimise/train.jl:105\n",
      "┌ Info: Epoch 6\n",
      "└ @ Main /home/somrita/.julia/packages/Flux/qXNjB/src/optimise/train.jl:105\n",
      "┌ Info: Epoch 7\n",
      "└ @ Main /home/somrita/.julia/packages/Flux/qXNjB/src/optimise/train.jl:105\n",
      "┌ Info: Epoch 8\n",
      "└ @ Main /home/somrita/.julia/packages/Flux/qXNjB/src/optimise/train.jl:105\n"
     ]
    },
    {
     "name": "stdout",
     "output_type": "stream",
     "text": [
      "returning 1.6574460520244916\n"
     ]
    },
    {
     "name": "stderr",
     "output_type": "stream",
     "text": [
      "┌ Info: Epoch 9\n",
      "└ @ Main /home/somrita/.julia/packages/Flux/qXNjB/src/optimise/train.jl:105\n",
      "┌ Info: Epoch 10\n",
      "└ @ Main /home/somrita/.julia/packages/Flux/qXNjB/src/optimise/train.jl:105\n"
     ]
    },
    {
     "data": {
      "text/plain": [
       "ExprOptResult(4{12{17}14{16}14{16}13{16}}, 0.8842768498238303, :(Chain(Dense(input_size, 64, tanh), Dense(64, 64, relu), Dense(64, 64, relu), Dense(64, output_size, relu))), nothing)"
      ]
     },
     "execution_count": 123,
     "metadata": {},
     "output_type": "execute_result"
    }
   ],
   "source": [
    "using Random\n",
    "Random.seed!(9)\n",
    "p = MonteCarlo(20, 4)\n",
    "\n",
    "models_tested = []\n",
    "model_final_losses = []\n",
    "model_all_losses = []\n",
    "\n",
    "results_mc = optimize(p, grammar, :model, loss, verbose = true)\n"
   ]
  },
  {
   "cell_type": "code",
   "execution_count": 126,
   "metadata": {},
   "outputs": [
    {
     "data": {
      "image/png": "[encoded data removed]"
     },
     "metadata": {},
     "output_type": "display_data"
    }
   ],
   "source": [
    "gr(fmt=:png)\n",
    "plot()\n",
    "for i = 15:17\n",
    "#     if i==9\n",
    "#         continue\n",
    "#     end\n",
    "    this_model_losses = model_all_losses[i]\n",
    "    this_model = models_tested[i]\n",
    "    num_layers = length(this_model.layers)\n",
    "    num_neurons = size(this_model.layers[1].W, 1)\n",
    "    typelayer = num_layers ==3 ? \"RNN\" : \"Dense\"\n",
    "    act_list=[]\n",
    "    if typelayer == \"RNN\"\n",
    "        push!(act_list, \"tanh\")\n",
    "    else\n",
    "        for j = 1:num_layers\n",
    "            act = this_model.layers[j].σ\n",
    "            if act == NNlib.relu\n",
    "                push!(act_list,\"relu\")\n",
    "            else\n",
    "                push!(act_list,\"tanh\")\n",
    "            end\n",
    "        end\n",
    "    end\n",
    "    str_act_list = string.(act_list)\n",
    "    p = plotLossOnSameFigure!(this_model_losses, \"model- $num_layers layers, $num_neurons neurons, $typelayer, $str_act_list\")\n",
    "#     colorNum = findColorNum(num_layers, num_neurons)\n",
    "#     p = plotLossOnSameFigure!(this_model_losses, \"model- $num_layers layers with $num_neurons neurons\", colorNum)\n",
    "end\n",
    "display(p)"
   ]
  },
  {
   "cell_type": "markdown",
   "metadata": {},
   "source": [
    "# Pretty printing purposes"
   ]
  },
  {
   "cell_type": "code",
   "execution_count": null,
   "metadata": {},
   "outputs": [],
   "source": [
    "@grammar begin\n",
    "model =  Chain(in_layer1, layer1, layer1, out_layer1) \n",
    "    | Chain(in_layer2, layer2, layer2, out_layer2) \n",
    "    | Chain(in_layer3, layer3, layer3, out_layer3) \n",
    "    | Chain(in_layer1, RNNlayer, out_layer1) \n",
    "    | Chain(in_layer1, out_layer1) \n",
    "    | Chain(in_layer2, out_layer2) \n",
    "    | Chain(in_layer3, out_layer3) \n",
    "in_layer1  = Dense(input_size, 256, activation)\n",
    "out_layer1 = Dense(256, output_size, activation)\n",
    "layer1     = Dense(256,256, activation)\n",
    "in_layer2  = Dense(input_size, 512, activation)\n",
    "out_layer2 = Dense(512, output_size, activation)\n",
    "layer2     = Dense(512,512, activation)\n",
    "in_layer3  = Dense(input_size, 64, activation)\n",
    "out_layer3 = Dense(64, output_size, activation)\n",
    "layer3     = Dense(64,64, activation)\n",
    "RNNlayer   = RNN(256,256, activation)\n",
    "activation = relu | tanh\n",
    "end"
   ]
  },
  {
   "cell_type": "code",
   "execution_count": null,
   "metadata": {},
   "outputs": [],
   "source": [
    "const grammar = \n",
    "\n",
    "\n",
    "\n",
    "const S = SymbolTable(grammar)"
   ]
  },
  {
   "cell_type": "markdown",
   "metadata": {},
   "source": [
    "# Try with the real training data and model"
   ]
  },
  {
   "cell_type": "code",
   "execution_count": 51,
   "metadata": {},
   "outputs": [
    {
     "data": {
      "text/plain": [
       "train_model (generic function with 1 method)"
      ]
     },
     "execution_count": 51,
     "metadata": {},
     "output_type": "execute_result"
    }
   ],
   "source": [
    "function train_model(model, X_train, Y_train; verbose = false)\n",
    "    loss(x, y) = begin \n",
    "        Flux.reset!(model)\n",
    "        Flux.mse(model(x), y)        \n",
    "    end\n",
    "    data = repeated((X_train, Y_train), 1)\n",
    "    opt = Flux.Optimise.ADAM()\n",
    "    lossVals = [loss(X_train,Y_train)]\n",
    "    evalcb = () -> begin curLoss = loss(X_train,Y_train)\n",
    "        push!(lossVals, curLoss)\n",
    "        verbose && @show(curLoss) end\n",
    "#     evalcb2 = () -> BSON.@save \"model-flux-trial.bson\" model\n",
    "    verbose && @show loss(X_train,Y_train)\n",
    "    @epochs 10 Flux.train!(loss, params(model), data, opt, cb = [throttle(evalcb, 30)])\n",
    "#     @epochs 10 Flux.train!(loss, params(model), data, opt, cb = [throttle(evalcb, 30), throttle(evalcb2, 60)])\n",
    "    verbose && @show lossVals\n",
    "    verbose && plotLoss(lossVals)\n",
    "    return lossVals\n",
    "end"
   ]
  },
  {
   "cell_type": "code",
   "execution_count": 52,
   "metadata": {},
   "outputs": [
    {
     "data": {
      "text/plain": [
       "loss (generic function with 1 method)"
      ]
     },
     "execution_count": 52,
     "metadata": {},
     "output_type": "execute_result"
    }
   ],
   "source": [
    "function loss(tree::RuleNode, grammar::Grammar)\n",
    "    ex = get_executable(tree, grammar)\n",
    "    model = []\n",
    "    model = Core.eval(S,ex)\n",
    "    push!(models_tested, model)\n",
    "    loss_vals = train_model(model, X_train[1,:], Y_train[1,:], verbose = false)\n",
    "\n",
    "    Y_NN = model(X_test[1,:])\n",
    "    Y_NN = [Tracker.data(ynn) for ynn in Y_NN]\n",
    "    los = norm(Y_NN - Y_test[1,:])\n",
    "    push!(model_final_losses, los)\n",
    "    push!(model_all_losses, loss_vals)\n",
    "    println(\"returning $los\")\n",
    "    Flux.reset!(model)\n",
    "    Flux.truncate!(model)\n",
    "    return los\n",
    "end"
   ]
  },
  {
   "cell_type": "code",
   "execution_count": 53,
   "metadata": {},
   "outputs": [
    {
     "data": {
      "text/plain": [
       "findColorNum (generic function with 1 method)"
      ]
     },
     "execution_count": 53,
     "metadata": {},
     "output_type": "execute_result"
    }
   ],
   "source": [
    "function findColorNum(num_layers, num_neurons)\n",
    "    if num_layers ==4 \n",
    "        if num_neurons == 256\n",
    "            return 1\n",
    "        else\n",
    "            return 2\n",
    "        end\n",
    "    elseif num_layers ==5\n",
    "        if num_neurons == 256\n",
    "            return 3\n",
    "        else\n",
    "            return 4\n",
    "        end\n",
    "    end\n",
    "end"
   ]
  },
  {
   "cell_type": "code",
   "execution_count": 54,
   "metadata": {},
   "outputs": [
    {
     "data": {
      "text/plain": [
       "findAverageFinalLoss (generic function with 1 method)"
      ]
     },
     "execution_count": 54,
     "metadata": {},
     "output_type": "execute_result"
    }
   ],
   "source": [
    "function findAverageFinalLoss(data)\n",
    "    avg = 0.0\n",
    "    for i = 1:length(data)\n",
    "        last_loss = data[i][end]\n",
    "        avg = avg + last_loss\n",
    "\n",
    "    end\n",
    "    avg = avg/length(data)\n",
    "    return avg\n",
    "end"
   ]
  },
  {
   "cell_type": "code",
   "execution_count": 55,
   "metadata": {},
   "outputs": [
    {
     "name": "stdout",
     "output_type": "stream",
     "text": [
      "size(train_input_collected) = (1560, 188)\n",
      "size(train_output_collected) = (1560, 186)\n",
      "size(X_train) = (1200, 188)\n",
      "size(X_test) = (361, 188)\n",
      "size(Y_train) = (1200, 6)\n",
      "size(Y_test) = (361, 6)\n"
     ]
    },
    {
     "data": {
      "text/plain": [
       "(361, 6)"
      ]
     },
     "execution_count": 55,
     "metadata": {},
     "output_type": "execute_result"
    }
   ],
   "source": [
    "input_size = 188\n",
    "output_size = 6\n",
    "JLD2.@load \"NoObstacleFirst3IterEndsInOKtf80ZeroFinVelWithDuals2.jld2\" train_input_collected train_output_collected\n",
    "@show size(train_input_collected)\n",
    "@show size(train_output_collected)\n",
    "\n",
    "X_train = train_input_collected[1:1200,:]\n",
    "X_test = train_input_collected[1200:end,:]\n",
    "\n",
    "Y_train = train_output_collected[1:1200, 181:186]\n",
    "Y_test = train_output_collected[1200:end, 181:186]\n",
    "\n",
    "@show size(X_train)\n",
    "@show size(X_test)\n",
    "@show size(Y_train)\n",
    "@show size(Y_test)"
   ]
  },
  {
   "cell_type": "code",
   "execution_count": 59,
   "metadata": {},
   "outputs": [
    {
     "name": "stderr",
     "output_type": "stream",
     "text": [
      "WARNING: redefining constant grammar\n",
      "WARNING: redefining constant S\n"
     ]
    },
    {
     "data": {
      "text/plain": [
       "Dict{Symbol,Any} with 7 entries:\n",
       "  :output_size => 6\n",
       "  :RNN         => RNN\n",
       "  :relu        => relu\n",
       "  :Chain       => Chain\n",
       "  :Dense       => Dense\n",
       "  :input_size  => 188\n",
       "  :tanh        => tanh"
      ]
     },
     "execution_count": 59,
     "metadata": {},
     "output_type": "execute_result"
    }
   ],
   "source": [
    "const grammar = @grammar begin\n",
    "# model = Chain(in_layer1, layer1, layer1, out_layer1) \n",
    "\n",
    "model = Chain(in_layer1, RNNlayer, out_layer1) | Chain(in_layer1, layer1, layer1, out_layer1) | Chain(in_layer1, layer1, layer1, layer1, out_layer1) | Chain(in_layer2, layer2, layer2, out_layer2) | Chain(in_layer2, layer2, layer2, layer2, out_layer2)\n",
    "\n",
    "# model = Chain(in_layer1, layer1, layer1, out_layer1) | Chain(in_layer1, layer1, layer1, layer1, out_layer1) | Chain(in_layer2, layer2, layer2, out_layer2) | Chain(in_layer2, layer2, layer2, layer2, out_layer2)\n",
    "in_layer1 = Dense(input_size, 256, activation)\n",
    "out_layer1 = Dense(256, output_size, activation)\n",
    "layer1 = Dense(256,256, activation)\n",
    "in_layer2 = Dense(input_size, 512, activation)\n",
    "out_layer2 = Dense(512, output_size, activation)\n",
    "layer2 = Dense(512,512, activation)\n",
    "RNNlayer = RNN(256,256, activation)\n",
    "activation = relu | tanh\n",
    "end\n",
    "\n",
    "const S = SymbolTable(grammar)"
   ]
  },
  {
   "cell_type": "code",
   "execution_count": 60,
   "metadata": {
    "scrolled": true
   },
   "outputs": [
    {
     "name": "stdout",
     "output_type": "stream",
     "text": [
      "samples: 1 of 10\n"
     ]
    },
    {
     "name": "stderr",
     "output_type": "stream",
     "text": [
      "┌ Info: Epoch 1\n",
      "└ @ Main /home/somrita/.julia/packages/Flux/qXNjB/src/optimise/train.jl:105\n",
      "┌ Info: Epoch 2\n",
      "└ @ Main /home/somrita/.julia/packages/Flux/qXNjB/src/optimise/train.jl:105\n",
      "┌ Info: Epoch 3\n",
      "└ @ Main /home/somrita/.julia/packages/Flux/qXNjB/src/optimise/train.jl:105\n",
      "┌ Info: Epoch 4\n",
      "└ @ Main /home/somrita/.julia/packages/Flux/qXNjB/src/optimise/train.jl:105\n",
      "┌ Info: Epoch 5\n",
      "└ @ Main /home/somrita/.julia/packages/Flux/qXNjB/src/optimise/train.jl:105\n",
      "┌ Info: Epoch 6\n",
      "└ @ Main /home/somrita/.julia/packages/Flux/qXNjB/src/optimise/train.jl:105\n",
      "┌ Info: Epoch 7\n",
      "└ @ Main /home/somrita/.julia/packages/Flux/qXNjB/src/optimise/train.jl:105\n",
      "┌ Info: Epoch 8\n",
      "└ @ Main /home/somrita/.julia/packages/Flux/qXNjB/src/optimise/train.jl:105\n",
      "┌ Info: Epoch 9\n",
      "└ @ Main /home/somrita/.julia/packages/Flux/qXNjB/src/optimise/train.jl:105\n"
     ]
    },
    {
     "name": "stdout",
     "output_type": "stream",
     "text": [
      "returning 2.0008287601336696\n",
      "samples: 2 of 10\n"
     ]
    },
    {
     "name": "stderr",
     "output_type": "stream",
     "text": [
      "┌ Info: Epoch 10\n",
      "└ @ Main /home/somrita/.julia/packages/Flux/qXNjB/src/optimise/train.jl:105\n",
      "┌ Info: Epoch 1\n",
      "└ @ Main /home/somrita/.julia/packages/Flux/qXNjB/src/optimise/train.jl:105\n",
      "┌ Info: Epoch 2\n",
      "└ @ Main /home/somrita/.julia/packages/Flux/qXNjB/src/optimise/train.jl:105\n",
      "┌ Info: Epoch 3\n",
      "└ @ Main /home/somrita/.julia/packages/Flux/qXNjB/src/optimise/train.jl:105\n",
      "┌ Info: Epoch 4\n",
      "└ @ Main /home/somrita/.julia/packages/Flux/qXNjB/src/optimise/train.jl:105\n",
      "┌ Info: Epoch 5\n",
      "└ @ Main /home/somrita/.julia/packages/Flux/qXNjB/src/optimise/train.jl:105\n",
      "┌ Info: Epoch 6\n",
      "└ @ Main /home/somrita/.julia/packages/Flux/qXNjB/src/optimise/train.jl:105\n",
      "┌ Info: Epoch 7\n",
      "└ @ Main /home/somrita/.julia/packages/Flux/qXNjB/src/optimise/train.jl:105\n",
      "┌ Info: Epoch 8\n",
      "└ @ Main /home/somrita/.julia/packages/Flux/qXNjB/src/optimise/train.jl:105\n",
      "┌ Info: Epoch 9\n",
      "└ @ Main /home/somrita/.julia/packages/Flux/qXNjB/src/optimise/train.jl:105\n",
      "┌ Info: Epoch 10\n",
      "└ @ Main /home/somrita/.julia/packages/Flux/qXNjB/src/optimise/train.jl:105\n"
     ]
    },
    {
     "name": "stdout",
     "output_type": "stream",
     "text": [
      "returning 2.272608916832416\n",
      "samples: 3 of 10\n"
     ]
    },
    {
     "name": "stderr",
     "output_type": "stream",
     "text": [
      "┌ Info: Epoch 1\n",
      "└ @ Main /home/somrita/.julia/packages/Flux/qXNjB/src/optimise/train.jl:105\n",
      "┌ Info: Epoch 2\n",
      "└ @ Main /home/somrita/.julia/packages/Flux/qXNjB/src/optimise/train.jl:105\n",
      "┌ Info: Epoch 3\n",
      "└ @ Main /home/somrita/.julia/packages/Flux/qXNjB/src/optimise/train.jl:105\n",
      "┌ Info: Epoch 4\n",
      "└ @ Main /home/somrita/.julia/packages/Flux/qXNjB/src/optimise/train.jl:105\n",
      "┌ Info: Epoch 5\n",
      "└ @ Main /home/somrita/.julia/packages/Flux/qXNjB/src/optimise/train.jl:105\n",
      "┌ Info: Epoch 6\n",
      "└ @ Main /home/somrita/.julia/packages/Flux/qXNjB/src/optimise/train.jl:105\n",
      "┌ Info: Epoch 7\n",
      "└ @ Main /home/somrita/.julia/packages/Flux/qXNjB/src/optimise/train.jl:105\n",
      "┌ Info: Epoch 8\n",
      "└ @ Main /home/somrita/.julia/packages/Flux/qXNjB/src/optimise/train.jl:105\n",
      "┌ Info: Epoch 9\n",
      "└ @ Main /home/somrita/.julia/packages/Flux/qXNjB/src/optimise/train.jl:105\n",
      "┌ Info: Epoch 10\n",
      "└ @ Main /home/somrita/.julia/packages/Flux/qXNjB/src/optimise/train.jl:105\n"
     ]
    },
    {
     "name": "stdout",
     "output_type": "stream",
     "text": [
      "returning 1.529149062001534\n",
      "samples: 4 of 10\n"
     ]
    },
    {
     "name": "stderr",
     "output_type": "stream",
     "text": [
      "┌ Info: Epoch 1\n",
      "└ @ Main /home/somrita/.julia/packages/Flux/qXNjB/src/optimise/train.jl:105\n",
      "┌ Info: Epoch 2\n",
      "└ @ Main /home/somrita/.julia/packages/Flux/qXNjB/src/optimise/train.jl:105\n",
      "┌ Info: Epoch 3\n",
      "└ @ Main /home/somrita/.julia/packages/Flux/qXNjB/src/optimise/train.jl:105\n",
      "┌ Info: Epoch 4\n",
      "└ @ Main /home/somrita/.julia/packages/Flux/qXNjB/src/optimise/train.jl:105\n",
      "┌ Info: Epoch 5\n",
      "└ @ Main /home/somrita/.julia/packages/Flux/qXNjB/src/optimise/train.jl:105\n",
      "┌ Info: Epoch 6\n",
      "└ @ Main /home/somrita/.julia/packages/Flux/qXNjB/src/optimise/train.jl:105\n",
      "┌ Info: Epoch 7\n",
      "└ @ Main /home/somrita/.julia/packages/Flux/qXNjB/src/optimise/train.jl:105\n"
     ]
    },
    {
     "name": "stdout",
     "output_type": "stream",
     "text": [
      "returning 1.9443414010282862\n"
     ]
    },
    {
     "name": "stderr",
     "output_type": "stream",
     "text": [
      "┌ Info: Epoch 8\n",
      "└ @ Main /home/somrita/.julia/packages/Flux/qXNjB/src/optimise/train.jl:105\n",
      "┌ Info: Epoch 9\n",
      "└ @ Main /home/somrita/.julia/packages/Flux/qXNjB/src/optimise/train.jl:105\n",
      "┌ Info: Epoch 10\n",
      "└ @ Main /home/somrita/.julia/packages/Flux/qXNjB/src/optimise/train.jl:105\n"
     ]
    },
    {
     "name": "stdout",
     "output_type": "stream",
     "text": [
      "samples: 5 of 10\n"
     ]
    },
    {
     "name": "stderr",
     "output_type": "stream",
     "text": [
      "┌ Info: Epoch 1\n",
      "└ @ Main /home/somrita/.julia/packages/Flux/qXNjB/src/optimise/train.jl:105\n",
      "┌ Info: Epoch 2\n",
      "└ @ Main /home/somrita/.julia/packages/Flux/qXNjB/src/optimise/train.jl:105\n",
      "┌ Info: Epoch 3\n",
      "└ @ Main /home/somrita/.julia/packages/Flux/qXNjB/src/optimise/train.jl:105\n",
      "┌ Info: Epoch 4\n",
      "└ @ Main /home/somrita/.julia/packages/Flux/qXNjB/src/optimise/train.jl:105\n",
      "┌ Info: Epoch 5\n",
      "└ @ Main /home/somrita/.julia/packages/Flux/qXNjB/src/optimise/train.jl:105\n",
      "┌ Info: Epoch 6\n",
      "└ @ Main /home/somrita/.julia/packages/Flux/qXNjB/src/optimise/train.jl:105\n",
      "┌ Info: Epoch 7\n",
      "└ @ Main /home/somrita/.julia/packages/Flux/qXNjB/src/optimise/train.jl:105\n",
      "┌ Info: Epoch 8\n",
      "└ @ Main /home/somrita/.julia/packages/Flux/qXNjB/src/optimise/train.jl:105\n",
      "┌ Info: Epoch 9\n",
      "└ @ Main /home/somrita/.julia/packages/Flux/qXNjB/src/optimise/train.jl:105\n",
      "┌ Info: Epoch 10\n",
      "└ @ Main /home/somrita/.julia/packages/Flux/qXNjB/src/optimise/train.jl:105\n"
     ]
    },
    {
     "name": "stdout",
     "output_type": "stream",
     "text": [
      "returning 1.5037518044183946\n",
      "samples: 6 of 10\n"
     ]
    },
    {
     "name": "stderr",
     "output_type": "stream",
     "text": [
      "┌ Info: Epoch 1\n",
      "└ @ Main /home/somrita/.julia/packages/Flux/qXNjB/src/optimise/train.jl:105\n",
      "┌ Info: Epoch 2\n",
      "└ @ Main /home/somrita/.julia/packages/Flux/qXNjB/src/optimise/train.jl:105\n",
      "┌ Info: Epoch 3\n",
      "└ @ Main /home/somrita/.julia/packages/Flux/qXNjB/src/optimise/train.jl:105\n",
      "┌ Info: Epoch 4\n",
      "└ @ Main /home/somrita/.julia/packages/Flux/qXNjB/src/optimise/train.jl:105\n",
      "┌ Info: Epoch 5\n",
      "└ @ Main /home/somrita/.julia/packages/Flux/qXNjB/src/optimise/train.jl:105\n",
      "┌ Info: Epoch 6\n",
      "└ @ Main /home/somrita/.julia/packages/Flux/qXNjB/src/optimise/train.jl:105\n",
      "┌ Info: Epoch 7\n",
      "└ @ Main /home/somrita/.julia/packages/Flux/qXNjB/src/optimise/train.jl:105\n",
      "┌ Info: Epoch 8\n",
      "└ @ Main /home/somrita/.julia/packages/Flux/qXNjB/src/optimise/train.jl:105\n",
      "┌ Info: Epoch 9\n",
      "└ @ Main /home/somrita/.julia/packages/Flux/qXNjB/src/optimise/train.jl:105\n"
     ]
    },
    {
     "name": "stdout",
     "output_type": "stream",
     "text": [
      "returning 1.2941992190383524\n",
      "samples: 7 of 10\n"
     ]
    },
    {
     "name": "stderr",
     "output_type": "stream",
     "text": [
      "┌ Info: Epoch 10\n",
      "└ @ Main /home/somrita/.julia/packages/Flux/qXNjB/src/optimise/train.jl:105\n",
      "┌ Info: Epoch 1\n",
      "└ @ Main /home/somrita/.julia/packages/Flux/qXNjB/src/optimise/train.jl:105\n",
      "┌ Info: Epoch 2\n",
      "└ @ Main /home/somrita/.julia/packages/Flux/qXNjB/src/optimise/train.jl:105\n",
      "┌ Info: Epoch 3\n",
      "└ @ Main /home/somrita/.julia/packages/Flux/qXNjB/src/optimise/train.jl:105\n",
      "┌ Info: Epoch 4\n",
      "└ @ Main /home/somrita/.julia/packages/Flux/qXNjB/src/optimise/train.jl:105\n",
      "┌ Info: Epoch 5\n",
      "└ @ Main /home/somrita/.julia/packages/Flux/qXNjB/src/optimise/train.jl:105\n",
      "┌ Info: Epoch 6\n",
      "└ @ Main /home/somrita/.julia/packages/Flux/qXNjB/src/optimise/train.jl:105\n",
      "┌ Info: Epoch 7\n",
      "└ @ Main /home/somrita/.julia/packages/Flux/qXNjB/src/optimise/train.jl:105\n",
      "┌ Info: Epoch 8\n",
      "└ @ Main /home/somrita/.julia/packages/Flux/qXNjB/src/optimise/train.jl:105\n",
      "┌ Info: Epoch 9\n",
      "└ @ Main /home/somrita/.julia/packages/Flux/qXNjB/src/optimise/train.jl:105\n",
      "┌ Info: Epoch 10\n",
      "└ @ Main /home/somrita/.julia/packages/Flux/qXNjB/src/optimise/train.jl:105\n"
     ]
    },
    {
     "name": "stdout",
     "output_type": "stream",
     "text": [
      "returning 2.467461389430692\n",
      "samples: 8 of 10\n"
     ]
    },
    {
     "name": "stderr",
     "output_type": "stream",
     "text": [
      "┌ Info: Epoch 1\n",
      "└ @ Main /home/somrita/.julia/packages/Flux/qXNjB/src/optimise/train.jl:105\n",
      "┌ Info: Epoch 2\n",
      "└ @ Main /home/somrita/.julia/packages/Flux/qXNjB/src/optimise/train.jl:105\n",
      "┌ Info: Epoch 3\n",
      "└ @ Main /home/somrita/.julia/packages/Flux/qXNjB/src/optimise/train.jl:105\n",
      "┌ Info: Epoch 4\n",
      "└ @ Main /home/somrita/.julia/packages/Flux/qXNjB/src/optimise/train.jl:105\n",
      "┌ Info: Epoch 5\n",
      "└ @ Main /home/somrita/.julia/packages/Flux/qXNjB/src/optimise/train.jl:105\n",
      "┌ Info: Epoch 6\n",
      "└ @ Main /home/somrita/.julia/packages/Flux/qXNjB/src/optimise/train.jl:105\n",
      "┌ Info: Epoch 7\n",
      "└ @ Main /home/somrita/.julia/packages/Flux/qXNjB/src/optimise/train.jl:105\n",
      "┌ Info: Epoch 8\n",
      "└ @ Main /home/somrita/.julia/packages/Flux/qXNjB/src/optimise/train.jl:105\n",
      "┌ Info: Epoch 9\n",
      "└ @ Main /home/somrita/.julia/packages/Flux/qXNjB/src/optimise/train.jl:105\n",
      "┌ Info: Epoch 10\n",
      "└ @ Main /home/somrita/.julia/packages/Flux/qXNjB/src/optimise/train.jl:105\n"
     ]
    },
    {
     "name": "stdout",
     "output_type": "stream",
     "text": [
      "returning 1.1845286897917582\n",
      "samples: 9 of 10\n"
     ]
    },
    {
     "name": "stderr",
     "output_type": "stream",
     "text": [
      "┌ Info: Epoch 1\n",
      "└ @ Main /home/somrita/.julia/packages/Flux/qXNjB/src/optimise/train.jl:105\n",
      "┌ Info: Epoch 2\n",
      "└ @ Main /home/somrita/.julia/packages/Flux/qXNjB/src/optimise/train.jl:105\n",
      "┌ Info: Epoch 3\n",
      "└ @ Main /home/somrita/.julia/packages/Flux/qXNjB/src/optimise/train.jl:105\n",
      "┌ Info: Epoch 4\n",
      "└ @ Main /home/somrita/.julia/packages/Flux/qXNjB/src/optimise/train.jl:105\n",
      "┌ Info: Epoch 5\n",
      "└ @ Main /home/somrita/.julia/packages/Flux/qXNjB/src/optimise/train.jl:105\n",
      "┌ Info: Epoch 6\n",
      "└ @ Main /home/somrita/.julia/packages/Flux/qXNjB/src/optimise/train.jl:105\n",
      "┌ Info: Epoch 7\n",
      "└ @ Main /home/somrita/.julia/packages/Flux/qXNjB/src/optimise/train.jl:105\n",
      "┌ Info: Epoch 8\n",
      "└ @ Main /home/somrita/.julia/packages/Flux/qXNjB/src/optimise/train.jl:105\n",
      "┌ Info: Epoch 9\n",
      "└ @ Main /home/somrita/.julia/packages/Flux/qXNjB/src/optimise/train.jl:105\n",
      "┌ Info: Epoch 10\n",
      "└ @ Main /home/somrita/.julia/packages/Flux/qXNjB/src/optimise/train.jl:105\n"
     ]
    },
    {
     "name": "stdout",
     "output_type": "stream",
     "text": [
      "returning 1.4737856083650458\n",
      "samples: 10 of 10\n"
     ]
    },
    {
     "name": "stderr",
     "output_type": "stream",
     "text": [
      "┌ Info: Epoch 1\n",
      "└ @ Main /home/somrita/.julia/packages/Flux/qXNjB/src/optimise/train.jl:105\n",
      "┌ Info: Epoch 2\n",
      "└ @ Main /home/somrita/.julia/packages/Flux/qXNjB/src/optimise/train.jl:105\n",
      "┌ Info: Epoch 3\n",
      "└ @ Main /home/somrita/.julia/packages/Flux/qXNjB/src/optimise/train.jl:105\n",
      "┌ Info: Epoch 4\n",
      "└ @ Main /home/somrita/.julia/packages/Flux/qXNjB/src/optimise/train.jl:105\n",
      "┌ Info: Epoch 5\n",
      "└ @ Main /home/somrita/.julia/packages/Flux/qXNjB/src/optimise/train.jl:105\n",
      "┌ Info: Epoch 6\n",
      "└ @ Main /home/somrita/.julia/packages/Flux/qXNjB/src/optimise/train.jl:105\n",
      "┌ Info: Epoch 7\n",
      "└ @ Main /home/somrita/.julia/packages/Flux/qXNjB/src/optimise/train.jl:105\n",
      "┌ Info: Epoch 8\n",
      "└ @ Main /home/somrita/.julia/packages/Flux/qXNjB/src/optimise/train.jl:105\n",
      "┌ Info: Epoch 9\n",
      "└ @ Main /home/somrita/.julia/packages/Flux/qXNjB/src/optimise/train.jl:105\n",
      "┌ Info: Epoch 10\n",
      "└ @ Main /home/somrita/.julia/packages/Flux/qXNjB/src/optimise/train.jl:105\n"
     ]
    },
    {
     "name": "stdout",
     "output_type": "stream",
     "text": [
      "returning 1.5237877597404483\n"
     ]
    },
    {
     "data": {
      "text/plain": [
       "ExprOptResult(4{9{14}11{14}11{14}10{13}}, 1.1845286897917582, :(Chain(Dense(input_size, 512, tanh), Dense(512, 512, tanh), Dense(512, 512, tanh), Dense(512, output_size, relu))), nothing)"
      ]
     },
     "execution_count": 60,
     "metadata": {},
     "output_type": "execute_result"
    }
   ],
   "source": [
    "using Random\n",
    "Random.seed!(9)\n",
    "p = MonteCarlo(10, 4)\n",
    "\n",
    "models_tested = []\n",
    "model_final_losses = []\n",
    "model_all_losses = []\n",
    "\n",
    "results_mc = optimize(p, grammar, :model, loss, verbose = true)\n"
   ]
  },
  {
   "cell_type": "code",
   "execution_count": 95,
   "metadata": {},
   "outputs": [
    {
     "data": {
      "image/png": "[encoded data removed]"
     },
     "metadata": {},
     "output_type": "display_data"
    }
   ],
   "source": [
    "gr(fmt=:png)\n",
    "plot()\n",
    "for i = 1:10\n",
    "    if i==2 || i==8\n",
    "        continue\n",
    "    end\n",
    "    this_model_losses = model_all_losses[i]\n",
    "    this_model = models_tested[i]\n",
    "    num_layers = length(this_model.layers)\n",
    "    num_neurons = size(this_model.layers[1].W, 1)\n",
    "    typelayer = num_layers ==3 ? \"RNN\" : \"Dense\"\n",
    "    act_list=[]\n",
    "    if typelayer == \"RNN\"\n",
    "        push!(act_list, \"tanh\")\n",
    "    else\n",
    "        for j = 1:num_layers\n",
    "            act = this_model.layers[j].σ\n",
    "            if act == NNlib.relu\n",
    "                push!(act_list,\"relu\")\n",
    "            else\n",
    "                push!(act_list,\"tanh\")\n",
    "            end\n",
    "        end\n",
    "    end\n",
    "    str_act_list = string.(act_list)\n",
    "    p = plotLossOnSameFigure!(this_model_losses, \"model- $num_layers layers, $num_neurons neurons, $typelayer, $str_act_list\")\n",
    "#     colorNum = findColorNum(num_layers, num_neurons)\n",
    "#     p = plotLossOnSameFigure!(this_model_losses, \"model- $num_layers layers with $num_neurons neurons\", colorNum)\n",
    "end\n",
    "display(p)"
   ]
  },
  {
   "cell_type": "code",
   "execution_count": 96,
   "metadata": {},
   "outputs": [
    {
     "data": {
      "text/plain": [
       "(:(Chain(Dense(input_size, 512, tanh), Dense(512, 512, tanh), Dense(512, 512, tanh), Dense(512, output_size, relu))), 1.1845286897917582)"
      ]
     },
     "execution_count": 96,
     "metadata": {},
     "output_type": "execute_result"
    }
   ],
   "source": [
    "(results_mc.expr, results_mc.loss)\n"
   ]
  },
  {
   "cell_type": "code",
   "execution_count": 69,
   "metadata": {},
   "outputs": [
    {
     "data": {
      "text/plain": [
       "nothing"
      ]
     },
     "metadata": {},
     "output_type": "display_data"
    }
   ],
   "source": [
    "gr(fmt=:png)\n",
    "plot()\n",
    "p = plotModelLosses!(models_tested, model_all_losses)\n",
    "display(p)\n"
   ]
  },
  {
   "cell_type": "code",
   "execution_count": 58,
   "metadata": {},
   "outputs": [
    {
     "data": {
      "text/plain": [
       "0.20251968156582753 (tracked)"
      ]
     },
     "execution_count": 58,
     "metadata": {},
     "output_type": "execute_result"
    }
   ],
   "source": [
    "findAverageFinalLoss(model_all_losses)"
   ]
  },
  {
   "cell_type": "code",
   "execution_count": 44,
   "metadata": {
    "scrolled": true
   },
   "outputs": [
    {
     "data": {
      "text/plain": [
       "(:(Chain(Dense(input_size, 256, relu), RNN(256, 256, relu), Dense(256, output_size, relu))), 1.2200877368952747)"
      ]
     },
     "execution_count": 44,
     "metadata": {},
     "output_type": "execute_result"
    }
   ],
   "source": [
    "RNN_layer_256_models_tested = models_tested\n",
    "RNN_layer_256_model_final_losses = model_final_losses\n",
    "RNN_layer_256_model_all_losses = model_all_losses\n",
    "# average_final_loss = mean()\n",
    "(results_mc.expr, results_mc.loss)\n",
    "# @show length(four_layer_256_model_all_losses)\n",
    "# @show models_tested\n",
    "# @show model_final_losses\n",
    "# @show model_all_losses"
   ]
  },
  {
   "cell_type": "code",
   "execution_count": 45,
   "metadata": {},
   "outputs": [
    {
     "data": {
      "text/plain": [
       "0.15696713198803022 (tracked)"
      ]
     },
     "execution_count": 45,
     "metadata": {},
     "output_type": "execute_result"
    }
   ],
   "source": [
    "data = RNN_layer_256_model_all_losses\n",
    "avg_RNN_layer_256_model = findAverageFinalLoss(data)"
   ]
  },
  {
   "cell_type": "code",
   "execution_count": 90,
   "metadata": {},
   "outputs": [
    {
     "name": "stdout",
     "output_type": "stream",
     "text": [
      "length(model_all_losses[1]) = 11\n"
     ]
    },
    {
     "data": {
      "text/plain": [
       "11"
      ]
     },
     "execution_count": 90,
     "metadata": {},
     "output_type": "execute_result"
    }
   ],
   "source": [
    "@show length(model_all_losses[1])"
   ]
  },
  {
   "cell_type": "code",
   "execution_count": 91,
   "metadata": {},
   "outputs": [
    {
     "name": "stdout",
     "output_type": "stream",
     "text": [
      "this_model = Chain(Dense(188, 512, NNlib.relu), Dense(512, 512, NNlib.relu), Dense(512, 512, NNlib.relu), Dense(512, 512, NNlib.relu), Dense(512, 6, NNlib.relu))\n",
      "num_layers = 5\n",
      "num_neurons = 512\n",
      "this_model = Chain(Dense(188, 512, NNlib.relu), Dense(512, 512, NNlib.relu), Dense(512, 512, NNlib.relu), Dense(512, 512, NNlib.relu), Dense(512, 6, NNlib.relu))\n",
      "num_layers = 5\n",
      "num_neurons = 512\n",
      "this_model = Chain(Dense(188, 256, NNlib.relu), Dense(256, 256, NNlib.relu), Dense(256, 256, NNlib.relu), Dense(256, 6, NNlib.relu))\n",
      "num_layers = 4\n",
      "num_neurons = 256\n",
      "this_model = Chain(Dense(188, 256, NNlib.relu), Dense(256, 256, NNlib.relu), Dense(256, 256, NNlib.relu), Dense(256, 256, NNlib.relu), Dense(256, 6, NNlib.relu))\n",
      "num_layers = 5\n",
      "num_neurons = 256\n",
      "this_model = Chain(Dense(188, 256, NNlib.relu), Dense(256, 256, NNlib.relu), Dense(256, 256, NNlib.relu), Dense(256, 256, NNlib.relu), Dense(256, 6, NNlib.relu))\n",
      "num_layers = 5\n",
      "num_neurons = 256\n"
     ]
    }
   ],
   "source": [
    "for i = 1:length(model_all_losses)\n",
    "    this_model_losses = model_all_losses[i]\n",
    "    this_model = models_tested[i]\n",
    "    num_layers = length(this_model.layers)\n",
    "    num_neurons = size(this_model.layers[1].W, 1)\n",
    "    @show this_model\n",
    "    @show num_layers\n",
    "    @show num_neurons\n",
    "#     p = plotLossOnSameFigure!(this_model_losses, \"model_$i\")\n",
    "end"
   ]
  },
  {
   "cell_type": "code",
   "execution_count": 66,
   "metadata": {},
   "outputs": [
    {
     "data": {
      "text/plain": [
       "plotModelLosses! (generic function with 1 method)"
      ]
     },
     "execution_count": 66,
     "metadata": {},
     "output_type": "execute_result"
    }
   ],
   "source": [
    "function plotModelLosses!(models_tested, model_all_losses)\n",
    "    for i = 1:length(model_all_losses)\n",
    "        this_model_losses = model_all_losses[i]\n",
    "        this_model = models_tested[i]\n",
    "        num_layers = length(this_model.layers)\n",
    "        num_neurons = size(this_model.layers[1].W, 1)\n",
    "    #     p = plotLossOnSameFigure!(this_model_losses, \"model- $num_layers layers with $num_neurons neurons\")\n",
    "        colorNum = findColorNum(num_layers, num_neurons)\n",
    "        p = plotLossOnSameFigure!(this_model_losses, \"model- $num_layers layers with $num_neurons neurons\", colorNum)\n",
    "    end\n",
    "    return p\n",
    "end"
   ]
  },
  {
   "cell_type": "code",
   "execution_count": 93,
   "metadata": {},
   "outputs": [
    {
     "data": {
      "image/png": "[encoded data removed]"
     },
     "metadata": {},
     "output_type": "display_data"
    }
   ],
   "source": [
    "gr(fmt=:png)\n",
    "plot()\n",
    "for i = 1:length(model_all_losses)\n",
    "    this_model_losses = model_all_losses[i]\n",
    "    this_model = models_tested[i]\n",
    "    num_layers = length(this_model.layers)\n",
    "    num_neurons = size(this_model.layers[1].W, 1)\n",
    "#     p = plotLossOnSameFigure!(this_model_losses, \"model- $num_layers layers with $num_neurons neurons\")\n",
    "    colorNum = findColorNum(num_layers, num_neurons)\n",
    "    p = plotLossOnSameFigure!(this_model_losses, \"model- $num_layers layers with $num_neurons neurons\", colorNum)\n",
    "end\n",
    "display(p)"
   ]
  },
  {
   "cell_type": "markdown",
   "metadata": {},
   "source": [
    "# Example of how to use Flux"
   ]
  },
  {
   "cell_type": "code",
   "execution_count": 25,
   "metadata": {},
   "outputs": [
    {
     "data": {
      "text/plain": [
       "train_model (generic function with 1 method)"
      ]
     },
     "execution_count": 25,
     "metadata": {},
     "output_type": "execute_result"
    }
   ],
   "source": [
    "function train_model(model, X_train, Y_train; verbose = false)\n",
    "    loss(x, y) = Flux.mse(model(x), y)\n",
    "    data = repeated((X_train, Y_train), 10)\n",
    "    opt = Flux.Optimise.ADAM()\n",
    "    lossVals = [loss(X_train,Y_train)]\n",
    "    evalcb = () -> begin curLoss = loss(X_train,Y_train)\n",
    "        push!(lossVals, curLoss)\n",
    "        verbose && @show(curLoss) end\n",
    "    evalcb2 = () -> BSON.@save \"model-flux-trial.bson\" model\n",
    "    verbose && @show loss(X_train,Y_train)\n",
    "    @epochs 10 Flux.train!(loss, params(model), data, opt, cb = [throttle(evalcb, 30), throttle(evalcb2, 60)])\n",
    "    verbose && @show lossVals\n",
    "    verbose && plotLoss(lossVals)\n",
    "    return lossVals\n",
    "end"
   ]
  },
  {
   "cell_type": "code",
   "execution_count": 26,
   "metadata": {},
   "outputs": [
    {
     "data": {
      "text/plain": [
       "Chain(Dense(3, 128, NNlib.relu), Dense(128, 1, NNlib.relu))"
      ]
     },
     "execution_count": 26,
     "metadata": {},
     "output_type": "execute_result"
    }
   ],
   "source": [
    "input_size = 3\n",
    "output_size = 1\n",
    "X_train = [zeros(input_size,10) ones(input_size,10) 2*ones(input_size,10) 3*ones(input_size,10) zeros(input_size,10)]\n",
    "Y_train = [zeros(output_size,10) ones(output_size,10) ones(output_size,10) ones(output_size,10) zeros(output_size,10)]\n",
    "model = Chain(Dense(input_size,128, relu), Dense(128,output_size, relu)) \n"
   ]
  },
  {
   "cell_type": "code",
   "execution_count": 24,
   "metadata": {},
   "outputs": [
    {
     "name": "stderr",
     "output_type": "stream",
     "text": [
      "┌ Info: Epoch 1\n",
      "└ @ Main /home/somrita/.julia/packages/Flux/qXNjB/src/optimise/train.jl:105\n",
      "┌ Info: Epoch 2\n",
      "└ @ Main /home/somrita/.julia/packages/Flux/qXNjB/src/optimise/train.jl:105\n",
      "┌ Info: Epoch 3\n",
      "└ @ Main /home/somrita/.julia/packages/Flux/qXNjB/src/optimise/train.jl:105\n",
      "┌ Info: Epoch 4\n",
      "└ @ Main /home/somrita/.julia/packages/Flux/qXNjB/src/optimise/train.jl:105\n",
      "┌ Info: Epoch 5\n",
      "└ @ Main /home/somrita/.julia/packages/Flux/qXNjB/src/optimise/train.jl:105\n",
      "┌ Info: Epoch 6\n",
      "└ @ Main /home/somrita/.julia/packages/Flux/qXNjB/src/optimise/train.jl:105\n",
      "┌ Info: Epoch 7\n",
      "└ @ Main /home/somrita/.julia/packages/Flux/qXNjB/src/optimise/train.jl:105\n",
      "┌ Info: Epoch 8\n",
      "└ @ Main /home/somrita/.julia/packages/Flux/qXNjB/src/optimise/train.jl:105\n",
      "┌ Info: Epoch 9\n",
      "└ @ Main /home/somrita/.julia/packages/Flux/qXNjB/src/optimise/train.jl:105\n",
      "┌ Info: Epoch 10\n",
      "└ @ Main /home/somrita/.julia/packages/Flux/qXNjB/src/optimise/train.jl:105\n"
     ]
    },
    {
     "data": {
      "text/plain": [
       "11-element Array{Tracker.TrackedReal{Float64},1}:\n",
       " 0.1010516373091754 \n",
       " 0.08940615105724167\n",
       " 0.08370742327295927\n",
       " 0.08293620163619472\n",
       " 0.08452701673931094\n",
       " 0.08556390417860624\n",
       " 0.08490720399302261\n",
       " 0.0829203202384882 \n",
       " 0.08042257133895689\n",
       " 0.07805512617701264\n",
       " 0.07630893619236821"
      ]
     },
     "execution_count": 24,
     "metadata": {},
     "output_type": "execute_result"
    }
   ],
   "source": [
    "train_model(model, X_train, Y_train)"
   ]
  },
  {
   "cell_type": "code",
   "execution_count": 27,
   "metadata": {
    "scrolled": true
   },
   "outputs": [
    {
     "name": "stdout",
     "output_type": "stream",
     "text": [
      "loss(X_train, Y_train) = 0.6 (tracked)\n",
      "curLoss = 0.6 (tracked)\n"
     ]
    },
    {
     "name": "stderr",
     "output_type": "stream",
     "text": [
      "┌ Info: Epoch 1\n",
      "└ @ Main /home/somrita/.julia/packages/Flux/qXNjB/src/optimise/train.jl:105\n",
      "┌ Info: Epoch 2\n",
      "└ @ Main /home/somrita/.julia/packages/Flux/qXNjB/src/optimise/train.jl:105\n"
     ]
    },
    {
     "name": "stdout",
     "output_type": "stream",
     "text": [
      "curLoss = 0.6 (tracked)\n",
      "curLoss = 0.6 (tracked)\n",
      "curLoss = 0.6 (tracked)\n",
      "curLoss = 0.6 (tracked)\n",
      "curLoss = 0.6 (tracked)\n",
      "curLoss = 0.6 (tracked)\n",
      "curLoss = 0.6 (tracked)\n"
     ]
    },
    {
     "name": "stderr",
     "output_type": "stream",
     "text": [
      "┌ Info: Epoch 3\n",
      "└ @ Main /home/somrita/.julia/packages/Flux/qXNjB/src/optimise/train.jl:105\n",
      "┌ Info: Epoch 4\n",
      "└ @ Main /home/somrita/.julia/packages/Flux/qXNjB/src/optimise/train.jl:105\n",
      "┌ Info: Epoch 5\n",
      "└ @ Main /home/somrita/.julia/packages/Flux/qXNjB/src/optimise/train.jl:105\n",
      "┌ Info: Epoch 6\n",
      "└ @ Main /home/somrita/.julia/packages/Flux/qXNjB/src/optimise/train.jl:105\n",
      "┌ Info: Epoch 7\n",
      "└ @ Main /home/somrita/.julia/packages/Flux/qXNjB/src/optimise/train.jl:105\n",
      "┌ Info: Epoch 8\n",
      "└ @ Main /home/somrita/.julia/packages/Flux/qXNjB/src/optimise/train.jl:105\n"
     ]
    },
    {
     "name": "stdout",
     "output_type": "stream",
     "text": [
      "curLoss = 0.6 (tracked)\n",
      "curLoss = 0.6 (tracked)\n"
     ]
    },
    {
     "name": "stderr",
     "output_type": "stream",
     "text": [
      "┌ Info: Epoch 9\n",
      "└ @ Main /home/somrita/.julia/packages/Flux/qXNjB/src/optimise/train.jl:105\n",
      "┌ Info: Epoch 10\n",
      "└ @ Main /home/somrita/.julia/packages/Flux/qXNjB/src/optimise/train.jl:105\n"
     ]
    },
    {
     "name": "stdout",
     "output_type": "stream",
     "text": [
      "lossVals = Tracker.TrackedReal{Float64}[0.6, 0.6, 0.6, 0.6, 0.6, 0.6, 0.6, 0.6, 0.6, 0.6, 0.6]\n"
     ]
    },
    {
     "data": {
      "text/plain": [
       "11-element Array{Tracker.TrackedReal{Float64},1}:\n",
       " 0.6\n",
       " 0.6\n",
       " 0.6\n",
       " 0.6\n",
       " 0.6\n",
       " 0.6\n",
       " 0.6\n",
       " 0.6\n",
       " 0.6\n",
       " 0.6\n",
       " 0.6"
      ]
     },
     "execution_count": 27,
     "metadata": {},
     "output_type": "execute_result"
    }
   ],
   "source": [
    "train_model(model, X_train, Y_train, verbose = true)"
   ]
  },
  {
   "cell_type": "code",
   "execution_count": 91,
   "metadata": {
    "scrolled": true
   },
   "outputs": [
    {
     "name": "stdout",
     "output_type": "stream",
     "text": [
      "model(ones(input_size, 1)) = Float32[1.00201] (tracked)\n",
      "model(3 * ones(input_size, 1)) = Float32[0.996905] (tracked)\n",
      "model(5 * ones(input_size, 1)) = Float32[0.986082] (tracked)\n",
      "model(zeros(input_size, 1)) = Float32[0.0] (tracked)\n"
     ]
    },
    {
     "data": {
      "text/plain": [
       "Tracked 1×1 Array{Float32,2}:\n",
       " 0.0f0"
      ]
     },
     "execution_count": 91,
     "metadata": {},
     "output_type": "execute_result"
    }
   ],
   "source": [
    "@show model(ones(input_size,1))\n",
    "@show model(3*ones(input_size,1))\n",
    "@show model(5*ones(input_size,1))\n",
    "@show model(zeros(input_size,1))"
   ]
  },
  {
   "cell_type": "markdown",
   "metadata": {},
   "source": [
    "# Example of ExprOptimization"
   ]
  },
  {
   "cell_type": "code",
   "execution_count": 177,
   "metadata": {
    "scrolled": true
   },
   "outputs": [
    {
     "name": "stderr",
     "output_type": "stream",
     "text": [
      "WARNING: redefining constant grammar\n"
     ]
    },
    {
     "data": {
      "text/plain": [
       "1: Real = x\n",
       "2: Real = Real * Real\n",
       "3: Real = Real + Real\n",
       "4: Real = Real - Real\n",
       "5: Real = 1\n",
       "6: Real = 2\n",
       "7: Real = 3\n",
       "8: Real = 4\n",
       "9: Real = 5\n"
      ]
     },
     "execution_count": 177,
     "metadata": {},
     "output_type": "execute_result"
    }
   ],
   "source": [
    "const grammar = @grammar begin\n",
    "    Real = x\n",
    "    Real = Real * Real\n",
    "    Real = Real + Real\n",
    "    Real = Real - Real\n",
    "    Real = |(1:5)\n",
    "end"
   ]
  },
  {
   "cell_type": "code",
   "execution_count": 178,
   "metadata": {
    "scrolled": true
   },
   "outputs": [
    {
     "name": "stderr",
     "output_type": "stream",
     "text": [
      "WARNING: redefining constant S\n"
     ]
    },
    {
     "data": {
      "text/plain": [
       "Dict{Symbol,Any} with 5 entries:\n",
       "  :+    => +\n",
       "  :Real => Real\n",
       "  :-    => -\n",
       "  :*    => *\n",
       "  :x    => [1, 2, 3, 2]"
      ]
     },
     "execution_count": 178,
     "metadata": {},
     "output_type": "execute_result"
    }
   ],
   "source": [
    "const S = SymbolTable(grammar)\n"
   ]
  },
  {
   "cell_type": "code",
   "execution_count": 179,
   "metadata": {},
   "outputs": [
    {
     "data": {
      "text/plain": [
       "loss (generic function with 2 methods)"
      ]
     },
     "execution_count": 179,
     "metadata": {},
     "output_type": "execute_result"
    }
   ],
   "source": [
    "ground_truth(x) = x*x + 2x + 1\n",
    "function loss(tree::RuleNode, grammar::Grammar)\n",
    "    ex = get_executable(tree, grammar)\n",
    "    los = 0.0\n",
    "    for x = -5.0:1.0:5.0\n",
    "        S[:x] = x\n",
    "        los += abs2(Core.eval(S,ex) - ground_truth(x))\n",
    "    end\n",
    "    los\n",
    "end"
   ]
  },
  {
   "cell_type": "markdown",
   "metadata": {},
   "source": [
    "## MonteCarlo Arguments:\n",
    "- num_samples::Int: number of samples\n",
    "- max_depth::Int: maximum depth of derivation tree"
   ]
  },
  {
   "cell_type": "code",
   "execution_count": 180,
   "metadata": {},
   "outputs": [
    {
     "data": {
      "text/plain": [
       "(:((x + 3) * x), 121.0)"
      ]
     },
     "execution_count": 180,
     "metadata": {},
     "output_type": "execute_result"
    }
   ],
   "source": [
    "using Random\n",
    "Random.seed!(10)\n",
    "p = MonteCarlo(20000, 6)\n",
    "results_mc = optimize(p, grammar, :Real, loss)\n",
    "(results_mc.expr, results_mc.loss)"
   ]
  },
  {
   "cell_type": "code",
   "execution_count": 182,
   "metadata": {},
   "outputs": [
    {
     "data": {
      "text/plain": [
       "TreeView.LabelledTree({5, 4} directed simple Int64 graph, Any[:*, :+, :x, 3, :x])"
      ]
     },
     "execution_count": 182,
     "metadata": {},
     "output_type": "execute_result"
    }
   ],
   "source": [
    "display(results_mc.tree, grammar)\n"
   ]
  },
  {
   "cell_type": "markdown",
   "metadata": {},
   "source": [
    "## GeneticProgram Arguments\n",
    "- pop_size::Int: population size\n",
    "- iterations::Int: number of iterations\n",
    "- max_depth::Int: maximum depth of derivation tree\n",
    "- p_reproduction::Float64: probability of reproduction operator\n",
    "- p_crossover::Float64: probability of crossover operator\n",
    "- p_mutation::Float64: probability of mutation operator\n",
    "- init_method::InitializationMethod: initialization method\n",
    "- select_method::SelectionMethod: selection method"
   ]
  },
  {
   "cell_type": "code",
   "execution_count": 184,
   "metadata": {},
   "outputs": [
    {
     "data": {
      "text/plain": [
       "(:((x * 2 + (x * x - 3)) + 4), 0.0)"
      ]
     },
     "execution_count": 184,
     "metadata": {},
     "output_type": "execute_result"
    }
   ],
   "source": [
    "Random.seed!(1)\n",
    "p = GeneticProgram(1000,20,6,0.3,0.3,0.4)\n",
    "results_gp = optimize(p, grammar, :Real, loss)\n",
    "(results_gp.expr, results_gp.loss)"
   ]
  },
  {
   "cell_type": "code",
   "execution_count": 186,
   "metadata": {},
   "outputs": [
    {
     "name": "stdout",
     "output_type": "stream",
     "text": [
      "results_gp = ExprOptResult(3{3{2{1,6}4{2{1,1}7}}8}, 0.0, :((x * 2 + (x * x - 3)) + 4), nothing)\n"
     ]
    },
    {
     "data": {
      "text/plain": [
       "ExprOptResult(3{3{2{1,6}4{2{1,1}7}}8}, 0.0, :((x * 2 + (x * x - 3)) + 4), nothing)"
      ]
     },
     "execution_count": 186,
     "metadata": {},
     "output_type": "execute_result"
    }
   ],
   "source": [
    "@show results_gp"
   ]
  },
  {
   "cell_type": "markdown",
   "metadata": {},
   "source": [
    "# True grammar"
   ]
  },
  {
   "cell_type": "code",
   "execution_count": 4,
   "metadata": {},
   "outputs": [
    {
     "data": {
      "text/plain": [
       "1×6 Array{Float64,2}:\n",
       " 0.0  0.0  1.0  1.0  1.0  1.0"
      ]
     },
     "execution_count": 4,
     "metadata": {},
     "output_type": "execute_result"
    }
   ],
   "source": [
    "input_size = 1\n",
    "output_size = 1\n",
    "X_train = [zeros(input_size,10) ones(input_size,10) 2*ones(input_size,10) 3*ones(input_size,10) zeros(input_size,10)]\n",
    "Y_train = [zeros(output_size,10) ones(output_size,10) ones(output_size,10) ones(output_size,10) zeros(output_size,10)]\n",
    "\n",
    "X_test = [zeros(input_size,2) 2*ones(input_size,2) 3*ones(input_size,2)]\n",
    "Y_test = [zeros(input_size,2) ones(input_size,2) ones(input_size,2)]\n"
   ]
  },
  {
   "cell_type": "code",
   "execution_count": 5,
   "metadata": {},
   "outputs": [
    {
     "data": {
      "text/plain": [
       "1: model = Chain(in_layer, layer, layer, out_layer)\n",
       "2: model = Chain(in_layer, layer, layer, layer, out_layer)\n",
       "3: in_layer = Dense(input_size, 256, activation)\n",
       "4: out_layer = Dense(256, output_size, activation)\n",
       "5: layer = Dense(256, 256, activation)\n",
       "6: activation = relu\n"
      ]
     },
     "execution_count": 5,
     "metadata": {},
     "output_type": "execute_result"
    }
   ],
   "source": [
    "const grammar = @grammar begin\n",
    "model = Chain(in_layer, layer, layer, out_layer) | Chain(in_layer, layer, layer, layer, out_layer)\n",
    "in_layer = Dense(input_size, 256, activation)\n",
    "out_layer = Dense(256, output_size, activation)\n",
    "layer = Dense(256,256, activation)\n",
    "activation = relu\n",
    "end"
   ]
  },
  {
   "cell_type": "code",
   "execution_count": 6,
   "metadata": {
    "scrolled": true
   },
   "outputs": [
    {
     "data": {
      "text/plain": [
       "Dict{Symbol,Any} with 5 entries:\n",
       "  :output_size => 1\n",
       "  :relu        => relu\n",
       "  :Chain       => Chain\n",
       "  :Dense       => Dense\n",
       "  :input_size  => 1"
      ]
     },
     "execution_count": 6,
     "metadata": {},
     "output_type": "execute_result"
    }
   ],
   "source": [
    "const S = SymbolTable(grammar)\n"
   ]
  },
  {
   "cell_type": "code",
   "execution_count": 7,
   "metadata": {},
   "outputs": [
    {
     "ename": "UndefVarError",
     "evalue": "UndefVarError: p not defined",
     "output_type": "error",
     "traceback": [
      "UndefVarError: p not defined",
      "",
      "Stacktrace:",
      " [1] top-level scope at In[7]:5"
     ]
    }
   ],
   "source": [
    "# dmap = mindepth_map(grammar)\n",
    "# best_tree, best_loss = RuleNode(0), Inf\n",
    "\n",
    "# typ = :model\n",
    "\n",
    "# tree = rand(RuleNode, grammar, typ, dmap, p.max_depth)\n",
    "# ex = get_executable(tree, grammar)\n",
    "# model = Core.eval(S,ex)\n"
   ]
  },
  {
   "cell_type": "code",
   "execution_count": 17,
   "metadata": {},
   "outputs": [
    {
     "data": {
      "text/plain": [
       "loss (generic function with 1 method)"
      ]
     },
     "execution_count": 17,
     "metadata": {},
     "output_type": "execute_result"
    }
   ],
   "source": [
    "function loss(tree::RuleNode, grammar::Grammar)\n",
    "    ex = get_executable(tree, grammar)\n",
    "    model = []\n",
    "    model = Core.eval(S,ex)\n",
    "    println(model)\n",
    "    push!(models_tested, model)\n",
    "    train_model(model, X_train, Y_train, verbose = false)\n",
    "\n",
    "    Y_NN = model(X_test)\n",
    "    println(\"input $X_test\")\n",
    "    Y_NN = [Tracker.data(ynn) for ynn in Y_NN]\n",
    "    println(\"output $Y_NN\")\n",
    "    println(\"expected output $Y_test\")\n",
    "    los = norm(Y_NN - Y_test)\n",
    "    push!(model_losses, los)\n",
    "    println(\"returning $los\")\n",
    "    return los\n",
    "end"
   ]
  },
  {
   "cell_type": "code",
   "execution_count": 18,
   "metadata": {},
   "outputs": [
    {
     "name": "stdout",
     "output_type": "stream",
     "text": [
      "samples: 1 of 2\n",
      "Chain(Dense(1, 256, NNlib.relu), Dense(256, 256, NNlib.relu), Dense(256, 256, NNlib.relu), Dense(256, 256, NNlib.relu), Dense(256, 1, NNlib.relu))\n"
     ]
    },
    {
     "name": "stderr",
     "output_type": "stream",
     "text": [
      "┌ Info: Epoch 1\n",
      "└ @ Main /home/somrita/.julia/packages/Flux/qXNjB/src/optimise/train.jl:105\n",
      "┌ Info: Epoch 2\n",
      "└ @ Main /home/somrita/.julia/packages/Flux/qXNjB/src/optimise/train.jl:105\n",
      "┌ Info: Epoch 3\n",
      "└ @ Main /home/somrita/.julia/packages/Flux/qXNjB/src/optimise/train.jl:105\n",
      "┌ Info: Epoch 4\n",
      "└ @ Main /home/somrita/.julia/packages/Flux/qXNjB/src/optimise/train.jl:105\n",
      "┌ Info: Epoch 5\n",
      "└ @ Main /home/somrita/.julia/packages/Flux/qXNjB/src/optimise/train.jl:105\n",
      "┌ Info: Epoch 6\n",
      "└ @ Main /home/somrita/.julia/packages/Flux/qXNjB/src/optimise/train.jl:105\n",
      "┌ Info: Epoch 7\n",
      "└ @ Main /home/somrita/.julia/packages/Flux/qXNjB/src/optimise/train.jl:105\n",
      "┌ Info: Epoch 8\n",
      "└ @ Main /home/somrita/.julia/packages/Flux/qXNjB/src/optimise/train.jl:105\n",
      "┌ Info: Epoch 9\n",
      "└ @ Main /home/somrita/.julia/packages/Flux/qXNjB/src/optimise/train.jl:105\n",
      "┌ Info: Epoch 10\n",
      "└ @ Main /home/somrita/.julia/packages/Flux/qXNjB/src/optimise/train.jl:105\n"
     ]
    },
    {
     "name": "stdout",
     "output_type": "stream",
     "text": [
      "input [0.0 0.0 2.0 2.0 3.0 3.0]\n",
      "output Float32[0.0 0.0 1.01624 1.01624 0.992336 0.992336]\n",
      "expected output [0.0 0.0 1.0 1.0 1.0 1.0]\n",
      "returning 0.025393422498184843\n",
      "samples: 2 of 2\n",
      "Chain(Dense(1, 256, NNlib.relu), Dense(256, 256, NNlib.relu), Dense(256, 256, NNlib.relu), Dense(256, 1, NNlib.relu))\n"
     ]
    },
    {
     "name": "stderr",
     "output_type": "stream",
     "text": [
      "┌ Info: Epoch 1\n",
      "└ @ Main /home/somrita/.julia/packages/Flux/qXNjB/src/optimise/train.jl:105\n",
      "┌ Info: Epoch 2\n",
      "└ @ Main /home/somrita/.julia/packages/Flux/qXNjB/src/optimise/train.jl:105\n",
      "┌ Info: Epoch 3\n",
      "└ @ Main /home/somrita/.julia/packages/Flux/qXNjB/src/optimise/train.jl:105\n",
      "┌ Info: Epoch 4\n",
      "└ @ Main /home/somrita/.julia/packages/Flux/qXNjB/src/optimise/train.jl:105\n",
      "┌ Info: Epoch 5\n",
      "└ @ Main /home/somrita/.julia/packages/Flux/qXNjB/src/optimise/train.jl:105\n",
      "┌ Info: Epoch 6\n",
      "└ @ Main /home/somrita/.julia/packages/Flux/qXNjB/src/optimise/train.jl:105\n",
      "┌ Info: Epoch 7\n",
      "└ @ Main /home/somrita/.julia/packages/Flux/qXNjB/src/optimise/train.jl:105\n",
      "┌ Info: Epoch 8\n",
      "└ @ Main /home/somrita/.julia/packages/Flux/qXNjB/src/optimise/train.jl:105\n",
      "┌ Info: Epoch 9\n",
      "└ @ Main /home/somrita/.julia/packages/Flux/qXNjB/src/optimise/train.jl:105\n",
      "┌ Info: Epoch 10\n",
      "└ @ Main /home/somrita/.julia/packages/Flux/qXNjB/src/optimise/train.jl:105\n"
     ]
    },
    {
     "name": "stdout",
     "output_type": "stream",
     "text": [
      "input [0.0 0.0 2.0 2.0 3.0 3.0]\n",
      "output Float32[0.0 0.0 0.0 0.0 0.0 0.0]\n",
      "expected output [0.0 0.0 1.0 1.0 1.0 1.0]\n",
      "returning 2.0\n"
     ]
    },
    {
     "data": {
      "text/plain": [
       "ExprOptResult(2{3{6}5{6}5{6}5{6}4{6}}, 0.025393422498184843, :(Chain(Dense(input_size, 256, relu), Dense(256, 256, relu), Dense(256, 256, relu), Dense(256, 256, relu), Dense(256, output_size, relu))), nothing)"
      ]
     },
     "execution_count": 18,
     "metadata": {},
     "output_type": "execute_result"
    }
   ],
   "source": [
    "using Random\n",
    "Random.seed!(10)\n",
    "p = MonteCarlo(2, 2)\n",
    "\n",
    "models_tested = []\n",
    "model_losses = []\n",
    "\n",
    "results_mc = optimize(p, grammar, :model, loss, verbose = true)\n"
   ]
  },
  {
   "cell_type": "code",
   "execution_count": 19,
   "metadata": {
    "scrolled": true
   },
   "outputs": [
    {
     "data": {
      "text/plain": [
       "(:(Chain(Dense(input_size, 256, relu), Dense(256, 256, relu), Dense(256, 256, relu), Dense(256, 256, relu), Dense(256, output_size, relu))), 0.025393422498184843)"
      ]
     },
     "execution_count": 19,
     "metadata": {},
     "output_type": "execute_result"
    }
   ],
   "source": [
    "(results_mc.expr, results_mc.loss)"
   ]
  },
  {
   "cell_type": "code",
   "execution_count": 20,
   "metadata": {},
   "outputs": [
    {
     "name": "stdout",
     "output_type": "stream",
     "text": [
      "models_tested = Any[Chain(Dense(1, 256, relu), Dense(256, 256, relu), Dense(256, 256, relu), Dense(256, 256, relu), Dense(256, 1, relu)), Chain(Dense(1, 256, relu), Dense(256, 256, relu), Dense(256, 256, relu), Dense(256, 1, relu))]\n",
      "model_losses = Any[0.0253934, 2.0]\n"
     ]
    },
    {
     "data": {
      "text/plain": [
       "2-element Array{Any,1}:\n",
       " 0.025393422498184843\n",
       " 2.0                 "
      ]
     },
     "execution_count": 20,
     "metadata": {},
     "output_type": "execute_result"
    }
   ],
   "source": [
    "@show models_tested\n",
    "@show model_losses"
   ]
  },
  {
   "cell_type": "code",
   "execution_count": 21,
   "metadata": {},
   "outputs": [
    {
     "data": {
      "text/plain": [
       "(1, 6)"
      ]
     },
     "execution_count": 21,
     "metadata": {},
     "output_type": "execute_result"
    }
   ],
   "source": [
    "size(X_test)"
   ]
  },
  {
   "cell_type": "code",
   "execution_count": 34,
   "metadata": {},
   "outputs": [
    {
     "name": "stdout",
     "output_type": "stream",
     "text": [
      "returning 3\n"
     ]
    }
   ],
   "source": [
    "ark = 3\n",
    "println(\"returning $ark\")"
   ]
  },
  {
   "cell_type": "markdown",
   "metadata": {},
   "source": [
    "# Scrap"
   ]
  },
  {
   "cell_type": "code",
   "execution_count": null,
   "metadata": {},
   "outputs": [],
   "source": [
    "# dmap = mindepth_map(grammar)\n",
    "# best_tree, best_loss = RuleNode(0), Inf\n",
    "\n",
    "# typ = :model\n",
    "\n",
    "# tree = rand(RuleNode, grammar, typ, dmap, p.max_depth)\n",
    "# ex = get_executable(tree, grammar)\n",
    "#     los = 0.0\n",
    "# x = 1.0\n",
    "# S[:x] = x\n",
    "# model = Core.eval(S,ex)\n",
    "\n",
    "# X_train = [zeros(input_size,10) ones(input_size,10) 2*ones(input_size,10) 3*ones(input_size,10) zeros(input_size,10)]\n",
    "# Y_train = [zeros(output_size,10) ones(output_size,10) ones(output_size,10) ones(output_size,10) zeros(output_size,10)]\n",
    "\n",
    "# train_model(model, X_train, Y_train, verbose = false)\n",
    "\n",
    "# los = loss(tree, grammar)"
   ]
  },
  {
   "cell_type": "code",
   "execution_count": 30,
   "metadata": {},
   "outputs": [
    {
     "data": {
      "text/plain": [
       "1: model = Chain(layer, layer, layer, layer, relu)\n",
       "2: model = Chain(layer, layer, layer, layer, layer, relu)\n",
       "3: layer = Dense(n, activation)\n",
       "4: n = 128\n",
       "5: n = 256\n",
       "6: n = 512\n",
       "7: n = 1024\n",
       "8: activation = relu\n"
      ]
     },
     "execution_count": 30,
     "metadata": {},
     "output_type": "execute_result"
    }
   ],
   "source": [
    "@grammar begin\n",
    "model = Chain(layer, layer, layer, layer, relu) | Chain(layer, layer, layer, layer, layer, relu)\n",
    "layer = Dense(n, activation)\n",
    "n = 128|256|512|1024\n",
    "activation = relu\n",
    "end"
   ]
  },
  {
   "cell_type": "code",
   "execution_count": 1,
   "metadata": {},
   "outputs": [
    {
     "ename": "LoadError",
     "evalue": "syntax: invalid identifier name \"...\"",
     "output_type": "error",
     "traceback": [
      "syntax: invalid identifier name \"...\"",
      ""
     ]
    }
   ],
   "source": [
    "@grammar begin\n",
    "model = Chain(layer, layer, relu) | Chain(layer, layer, layer, relu)\n",
    "layer = Dense(n, activation) | OtherLayerType(...)\n",
    "n = |(50:50:500)\n",
    "activation = relu | tanh\n",
    "end"
   ]
  },
  {
   "cell_type": "code",
   "execution_count": null,
   "metadata": {},
   "outputs": [],
   "source": [
    "model2 = Chain(\n",
    "  Dense(10, 5, σ),\n",
    "  Dense(5, 2),\n",
    "  softmax)"
   ]
  },
  {
   "cell_type": "code",
   "execution_count": 19,
   "metadata": {},
   "outputs": [
    {
     "ename": "UndefVarError",
     "evalue": "UndefVarError: MNIST not defined",
     "output_type": "error",
     "traceback": [
      "UndefVarError: MNIST not defined",
      "",
      "Stacktrace:",
      " [1] top-level scope at In[19]:1"
     ]
    }
   ],
   "source": [
    "imgs = MNIST.images()\n",
    "# Stack images into one large batch\n",
    "X = hcat(float.(reshape.(imgs, :))...) |> gpu"
   ]
  },
  {
   "cell_type": "code",
   "execution_count": null,
   "metadata": {},
   "outputs": [],
   "source": [
    "function loss(tree::RuleNode, grammar::Grammar)\n",
    "    ex = get_executable(tree, grammar)\n",
    "    model = []\n",
    "    model = Core.eval(S,ex)\n",
    "    push!(models_tested, model)\n",
    "    loss_vals = train_model(model, X_train[1,:], Y_train[1,:], verbose = false)\n",
    "\n",
    "    Y_NN = model(X_test[1,:])\n",
    "    Y_NN = [Tracker.data(ynn) for ynn in Y_NN]\n",
    "    los = norm(Y_NN - Y_test[1,:])\n",
    "    push!(model_final_losses, los)\n",
    "    push!(model_all_losses, loss_vals)\n",
    "    final_loss = Tracker.data(loss_vals[end])\n",
    "    @show final_loss\n",
    "    println(\"returning $final_loss\")\n",
    "    return loss_vals[end]\n",
    "end"
   ]
  },
  {
   "cell_type": "code",
   "execution_count": null,
   "metadata": {},
   "outputs": [],
   "source": [
    "# Classify MNIST digits with a simple multi-layer-perceptron\n",
    "\n",
    "imgs = MNIST.images()\n",
    "# Stack images into one large batch\n",
    "X = hcat(float.(reshape.(imgs, :))...) |> gpu\n",
    "\n",
    "labels = MNIST.labels()\n",
    "# One-hot-encode the labels\n",
    "Y = onehotbatch(labels, 0:9) |> gpu\n",
    "\n",
    "m = Chain(\n",
    "  Dense(28^2, 32, relu),\n",
    "  Dense(32, 10),\n",
    "  softmax) |> gpu\n",
    "\n",
    "loss(x, y) = crossentropy(m(x), y)\n",
    "\n",
    "accuracy(x, y) = mean(onecold(m(x)) .== onecold(y))\n",
    "\n",
    "dataset = repeated((X, Y), 200)\n",
    "evalcb = () -> @show(loss(X, Y))\n",
    "opt = ADAM()\n",
    "\n",
    "Flux.train!(loss, params(m), dataset, opt, cb = throttle(evalcb, 10))\n",
    "\n",
    "accuracy(X, Y)\n",
    "\n",
    "# Test set accuracy\n",
    "tX = hcat(float.(reshape.(MNIST.images(:test), :))...) |> gpu\n",
    "tY = onehotbatch(MNIST.labels(:test), 0:9) |> gpu\n",
    "\n",
    "accuracy(tX, tY)\n"
   ]
  }
 ],
 "metadata": {
  "kernelspec": {
   "display_name": "Julia 1.0.3",
   "language": "julia",
   "name": "julia-1.0"
  },
  "language_info": {
   "file_extension": ".jl",
   "mimetype": "application/julia",
   "name": "julia",
   "version": "1.0.3"
  }
 },
 "nbformat": 4,
 "nbformat_minor": 2
}
