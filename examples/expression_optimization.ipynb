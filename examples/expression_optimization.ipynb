{
 "cells": [
  {
   "cell_type": "code",
   "execution_count": 140,
   "metadata": {},
   "outputs": [],
   "source": [
    "using Flux\n",
    "using Flux: @epochs, throttle\n",
    "using ExprOptimization\n",
    "using Base.Iterators: repeated\n",
    "using BSON: @save\n",
    "using BSON: @load\n",
    "using Plots"
   ]
  },
  {
   "cell_type": "code",
   "execution_count": 168,
   "metadata": {},
   "outputs": [
    {
     "data": {
      "text/plain": [
       "plotLoss (generic function with 1 method)"
      ]
     },
     "execution_count": 168,
     "metadata": {},
     "output_type": "execute_result"
    }
   ],
   "source": [
    "function plotLoss(lossVals)\n",
    "    floatLossVals = [Tracker.data(lv) for lv in lossVals]\n",
    "    gr(fmt=:png)\n",
    "    plot()\n",
    "    plot!(floatLossVals,\n",
    "        xlabel = \"time\",\n",
    "        ylabel = \"loss\",\n",
    "        label = \"loss\",\n",
    "        title = \"loss evolution\")\n",
    "end"
   ]
  },
  {
   "cell_type": "code",
   "execution_count": 163,
   "metadata": {},
   "outputs": [
    {
     "data": {
      "text/plain": [
       "#179 (generic function with 1 method)"
      ]
     },
     "execution_count": 163,
     "metadata": {},
     "output_type": "execute_result"
    }
   ],
   "source": [
    "# learn simple function that is 0 if x=0 and 1 if x>0\n",
    "input_size = 3\n",
    "output_size = 1\n",
    "X = [zeros(input_size,10) ones(input_size,10) 2*ones(input_size,10) 3*ones(input_size,10) zeros(input_size,10)]\n",
    "Y = [zeros(output_size,10) ones(output_size,10) ones(output_size,10) ones(output_size,10) zeros(output_size,10)]\n",
    "model = Chain(Dense(input_size,128, relu), Dense(128,output_size, relu)) \n",
    "loss(x, y) = Flux.mse(model(x), y)\n",
    "# data = [(X,Y)]\n",
    "data = repeated((X, Y), 1000)\n",
    "opt = Flux.Optimise.ADAM()\n",
    "lossVals = [loss(X,Y)]\n",
    "evalcb = () -> begin curLoss = loss(X,Y)\n",
    "    push!(lossVals, curLoss)\n",
    "    @show(curLoss) end\n",
    "evalcb2 = () -> @save \"model-flux.bson\" model\n",
    "\n",
    "# evalcb = @show(loss(X, Y))\n",
    "# throttle(30) do\n",
    "#   # Show loss\n",
    "#     @show \"hi there\"\n",
    "# #   @save \"model-checkpoint.bson\" model\n",
    "# end"
   ]
  },
  {
   "cell_type": "code",
   "execution_count": 164,
   "metadata": {},
   "outputs": [
    {
     "name": "stdout",
     "output_type": "stream",
     "text": [
      "loss(X, Y) = 0.5915178126861305 (tracked)\n"
     ]
    },
    {
     "data": {
      "text/plain": [
       "0.5915178126861305 (tracked)"
      ]
     },
     "execution_count": 164,
     "metadata": {},
     "output_type": "execute_result"
    }
   ],
   "source": [
    "@show loss(X,Y)"
   ]
  },
  {
   "cell_type": "code",
   "execution_count": 165,
   "metadata": {},
   "outputs": [
    {
     "name": "stdout",
     "output_type": "stream",
     "text": [
      "curLoss = 0.5084311997205263 (tracked)\n"
     ]
    },
    {
     "name": "stderr",
     "output_type": "stream",
     "text": [
      "┌ Info: Epoch 1\n",
      "└ @ Main /home/somrita/.julia/packages/Flux/qXNjB/src/optimise/train.jl:105\n"
     ]
    },
    {
     "name": "stdout",
     "output_type": "stream",
     "text": [
      "curLoss = 2.9132252166164105e-14 (tracked)\n"
     ]
    },
    {
     "name": "stderr",
     "output_type": "stream",
     "text": [
      "┌ Info: Epoch 2\n",
      "└ @ Main /home/somrita/.julia/packages/Flux/qXNjB/src/optimise/train.jl:105\n"
     ]
    },
    {
     "name": "stdout",
     "output_type": "stream",
     "text": [
      "curLoss = 8.526512829121202e-15 (tracked)\n"
     ]
    },
    {
     "name": "stderr",
     "output_type": "stream",
     "text": [
      "┌ Info: Epoch 3\n",
      "└ @ Main /home/somrita/.julia/packages/Flux/qXNjB/src/optimise/train.jl:105\n"
     ]
    },
    {
     "name": "stdout",
     "output_type": "stream",
     "text": [
      "curLoss = 1.4210854715202005e-15 (tracked)\n"
     ]
    },
    {
     "name": "stderr",
     "output_type": "stream",
     "text": [
      "┌ Info: Epoch 4\n",
      "└ @ Main /home/somrita/.julia/packages/Flux/qXNjB/src/optimise/train.jl:105\n"
     ]
    },
    {
     "name": "stdout",
     "output_type": "stream",
     "text": [
      "curLoss = 0.0 (tracked)\n"
     ]
    },
    {
     "name": "stderr",
     "output_type": "stream",
     "text": [
      "┌ Info: Epoch 5\n",
      "└ @ Main /home/somrita/.julia/packages/Flux/qXNjB/src/optimise/train.jl:105\n"
     ]
    },
    {
     "name": "stdout",
     "output_type": "stream",
     "text": [
      "curLoss = 0.0 (tracked)\n"
     ]
    },
    {
     "name": "stderr",
     "output_type": "stream",
     "text": [
      "┌ Info: Epoch 6\n",
      "└ @ Main /home/somrita/.julia/packages/Flux/qXNjB/src/optimise/train.jl:105\n"
     ]
    },
    {
     "name": "stdout",
     "output_type": "stream",
     "text": [
      "curLoss = 0.0 (tracked)\n"
     ]
    },
    {
     "name": "stderr",
     "output_type": "stream",
     "text": [
      "┌ Info: Epoch 7\n",
      "└ @ Main /home/somrita/.julia/packages/Flux/qXNjB/src/optimise/train.jl:105\n"
     ]
    },
    {
     "name": "stdout",
     "output_type": "stream",
     "text": [
      "curLoss = 0.0 (tracked)\n"
     ]
    },
    {
     "name": "stderr",
     "output_type": "stream",
     "text": [
      "┌ Info: Epoch 8\n",
      "└ @ Main /home/somrita/.julia/packages/Flux/qXNjB/src/optimise/train.jl:105\n"
     ]
    },
    {
     "name": "stdout",
     "output_type": "stream",
     "text": [
      "curLoss = 0.0 (tracked)\n"
     ]
    },
    {
     "name": "stderr",
     "output_type": "stream",
     "text": [
      "┌ Info: Epoch 9\n",
      "└ @ Main /home/somrita/.julia/packages/Flux/qXNjB/src/optimise/train.jl:105\n"
     ]
    },
    {
     "name": "stdout",
     "output_type": "stream",
     "text": [
      "curLoss = 0.0 (tracked)\n"
     ]
    },
    {
     "name": "stderr",
     "output_type": "stream",
     "text": [
      "┌ Info: Epoch 10\n",
      "└ @ Main /home/somrita/.julia/packages/Flux/qXNjB/src/optimise/train.jl:105\n"
     ]
    }
   ],
   "source": [
    "# @epochs 2 Flux.train!(loss, params(model), data, opt, cb = throttle(evalcb, 30))\n",
    "@epochs 10 Flux.train!(loss, params(model), data, opt, cb = [throttle(evalcb, 30), throttle(evalcb2, 60)])"
   ]
  },
  {
   "cell_type": "code",
   "execution_count": 169,
   "metadata": {},
   "outputs": [
    {
     "name": "stdout",
     "output_type": "stream",
     "text": [
      "lossVals = Tracker.TrackedReal{Float64}[0.591518, 0.508431, 2.91323e-14, 8.52651e-15, 1.42109e-15, 0.0, 0.0, 0.0, 0.0, 0.0, 0.0]\n"
     ]
    },
    {
     "data": {
      "image/png": "[encoded data removed]"
     },
     "execution_count": 169,
     "metadata": {},
     "output_type": "execute_result"
    }
   ],
   "source": [
    "@show lossVals\n",
    "plotLoss(lossVals)"
   ]
  },
  {
   "cell_type": "code",
   "execution_count": 118,
   "metadata": {
    "scrolled": true
   },
   "outputs": [
    {
     "name": "stdout",
     "output_type": "stream",
     "text": [
      "model(ones(3, 1)) = Float32[1.0] (tracked)\n",
      "model(3 * ones(3, 1)) = Float32[1.0] (tracked)\n",
      "model(5 * ones(3, 1)) = Float32[1.02699] (tracked)\n",
      "model(zeros(3, 1)) = Float32[0.0] (tracked)\n"
     ]
    },
    {
     "data": {
      "text/plain": [
       "Tracked 1×1 Array{Float32,2}:\n",
       " 0.0f0"
      ]
     },
     "execution_count": 118,
     "metadata": {},
     "output_type": "execute_result"
    }
   ],
   "source": [
    "@show model(ones(3,1))\n",
    "@show model(3*ones(3,1))\n",
    "@show model(5*ones(3,1))\n",
    "@show model(zeros(3,1))"
   ]
  },
  {
   "cell_type": "code",
   "execution_count": 30,
   "metadata": {},
   "outputs": [
    {
     "data": {
      "text/plain": [
       "1: model = Chain(layer, layer, layer, layer, relu)\n",
       "2: model = Chain(layer, layer, layer, layer, layer, relu)\n",
       "3: layer = Dense(n, activation)\n",
       "4: n = 128\n",
       "5: n = 256\n",
       "6: n = 512\n",
       "7: n = 1024\n",
       "8: activation = relu\n"
      ]
     },
     "execution_count": 30,
     "metadata": {},
     "output_type": "execute_result"
    }
   ],
   "source": [
    "@grammar begin\n",
    "model = Chain(layer, layer, layer, layer, relu) | Chain(layer, layer, layer, layer, layer, relu)\n",
    "layer = Dense(n, activation)\n",
    "n = 128|256|512|1024\n",
    "activation = relu\n",
    "end"
   ]
  },
  {
   "cell_type": "code",
   "execution_count": 1,
   "metadata": {},
   "outputs": [
    {
     "ename": "LoadError",
     "evalue": "syntax: invalid identifier name \"...\"",
     "output_type": "error",
     "traceback": [
      "syntax: invalid identifier name \"...\"",
      ""
     ]
    }
   ],
   "source": [
    "@grammar begin\n",
    "model = Chain(layer, layer, relu) | Chain(layer, layer, layer, relu)\n",
    "layer = Dense(n, activation) | OtherLayerType(...)\n",
    "n = |(50:50:500)\n",
    "activation = relu | tanh\n",
    "end"
   ]
  },
  {
   "cell_type": "code",
   "execution_count": null,
   "metadata": {},
   "outputs": [],
   "source": [
    "model2 = Chain(\n",
    "  Dense(10, 5, σ),\n",
    "  Dense(5, 2),\n",
    "  softmax)"
   ]
  },
  {
   "cell_type": "code",
   "execution_count": 19,
   "metadata": {},
   "outputs": [
    {
     "ename": "UndefVarError",
     "evalue": "UndefVarError: MNIST not defined",
     "output_type": "error",
     "traceback": [
      "UndefVarError: MNIST not defined",
      "",
      "Stacktrace:",
      " [1] top-level scope at In[19]:1"
     ]
    }
   ],
   "source": [
    "imgs = MNIST.images()\n",
    "# Stack images into one large batch\n",
    "X = hcat(float.(reshape.(imgs, :))...) |> gpu"
   ]
  },
  {
   "cell_type": "code",
   "execution_count": null,
   "metadata": {},
   "outputs": [],
   "source": [
    "# Classify MNIST digits with a simple multi-layer-perceptron\n",
    "\n",
    "imgs = MNIST.images()\n",
    "# Stack images into one large batch\n",
    "X = hcat(float.(reshape.(imgs, :))...) |> gpu\n",
    "\n",
    "labels = MNIST.labels()\n",
    "# One-hot-encode the labels\n",
    "Y = onehotbatch(labels, 0:9) |> gpu\n",
    "\n",
    "m = Chain(\n",
    "  Dense(28^2, 32, relu),\n",
    "  Dense(32, 10),\n",
    "  softmax) |> gpu\n",
    "\n",
    "loss(x, y) = crossentropy(m(x), y)\n",
    "\n",
    "accuracy(x, y) = mean(onecold(m(x)) .== onecold(y))\n",
    "\n",
    "dataset = repeated((X, Y), 200)\n",
    "evalcb = () -> @show(loss(X, Y))\n",
    "opt = ADAM()\n",
    "\n",
    "Flux.train!(loss, params(m), dataset, opt, cb = throttle(evalcb, 10))\n",
    "\n",
    "accuracy(X, Y)\n",
    "\n",
    "# Test set accuracy\n",
    "tX = hcat(float.(reshape.(MNIST.images(:test), :))...) |> gpu\n",
    "tY = onehotbatch(MNIST.labels(:test), 0:9) |> gpu\n",
    "\n",
    "accuracy(tX, tY)\n"
   ]
  }
 ],
 "metadata": {
  "kernelspec": {
   "display_name": "Julia 1.0.3",
   "language": "julia",
   "name": "julia-1.0"
  },
  "language_info": {
   "file_extension": ".jl",
   "mimetype": "application/julia",
   "name": "julia",
   "version": "1.0.3"
  }
 },
 "nbformat": 4,
 "nbformat_minor": 2
}
