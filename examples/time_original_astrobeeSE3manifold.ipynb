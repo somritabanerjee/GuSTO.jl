{
 "cells": [
  {
   "cell_type": "code",
   "execution_count": 1,
   "metadata": {},
   "outputs": [
    {
     "name": "stderr",
     "output_type": "stream",
     "text": [
      "┌ Info: Precompiling BulletCollision [b3564421-7037-56b3-90f4-5b7f54e2ead3]\n",
      "└ @ Base loading.jl:1192\n"
     ]
    },
    {
     "data": {
      "text/html": [
       "    <script class='js-collapse-script'>\n",
       "        var curMatch =\n",
       "            window.location.href\n",
       "            .match(/(.*?)\\/notebooks\\/.*\\.ipynb/);\n",
       "\n",
       "        curMatch = curMatch ||\n",
       "            window.location.href\n",
       "            .match(/(.*?)\\/apps\\/.*\\.ipynb/);\n",
       "\n",
       "        if ( curMatch ) {\n",
       "            $('head').append('<base href=\"' + curMatch[1] + '/\">');\n",
       "        }\n",
       "    </script>\n"
      ],
      "text/plain": [
       "HTML{String}(\"    <script class='js-collapse-script'>\\n        var curMatch =\\n            window.location.href\\n            .match(/(.*?)\\\\/notebooks\\\\/.*\\\\.ipynb/);\\n\\n        curMatch = curMatch ||\\n            window.location.href\\n            .match(/(.*?)\\\\/apps\\\\/.*\\\\.ipynb/);\\n\\n        if ( curMatch ) {\\n            \\$('head').append('<base href=\\\"' + curMatch[1] + '/\\\">');\\n        }\\n    </script>\\n\")"
      ]
     },
     "metadata": {},
     "output_type": "display_data"
    },
    {
     "data": {
      "text/html": [
       "<script class='js-collapse-script' src='/assetserver/75259c676c4c94b02ca26a89265c53e5a244a54a-assets/webio/dist/bundle.js'></script>"
      ],
      "text/plain": [
       "HTML{String}(\"<script class='js-collapse-script' src='/assetserver/75259c676c4c94b02ca26a89265c53e5a244a54a-assets/webio/dist/bundle.js'></script>\")"
      ]
     },
     "metadata": {},
     "output_type": "display_data"
    },
    {
     "data": {
      "text/html": [
       "<script class='js-collapse-script' src='/assetserver/75259c676c4c94b02ca26a89265c53e5a244a54a-assets/providers/ijulia_setup.js'></script>"
      ],
      "text/plain": [
       "HTML{String}(\"<script class='js-collapse-script' src='/assetserver/75259c676c4c94b02ca26a89265c53e5a244a54a-assets/providers/ijulia_setup.js'></script>\")"
      ]
     },
     "metadata": {},
     "output_type": "display_data"
    },
    {
     "data": {
      "text/html": [
       "  <script class='js-collapse-script'>\n",
       "    $('.js-collapse-script').parent('.output_subarea').css('padding', '0');\n",
       "  </script>\n"
      ],
      "text/plain": [
       "HTML{String}(\"  <script class='js-collapse-script'>\\n    \\$('.js-collapse-script').parent('.output_subarea').css('padding', '0');\\n  </script>\\n\")"
      ]
     },
     "metadata": {},
     "output_type": "display_data"
    },
    {
     "data": {
      "text/plain": [
       "Forest"
      ]
     },
     "execution_count": 1,
     "metadata": {},
     "output_type": "execute_result"
    }
   ],
   "source": [
    "# using GuSTO\"\n",
    "using JLD2, FileIO\n",
    "using BenchmarkTools\n",
    "include(\"../src/GuSTO.jl\")"
   ]
  },
  {
   "cell_type": "code",
   "execution_count": 2,
   "metadata": {},
   "outputs": [
    {
     "data": {
      "text/plain": [
       "setUpEnvironmentSphereObstacles (generic function with 1 method)"
      ]
     },
     "execution_count": 2,
     "metadata": {},
     "output_type": "execute_result"
    }
   ],
   "source": [
    "function setUpEnvironmentSphereObstacles()\n",
    "    env = ISSCorner();\n",
    "    add_obstacles!(env)\n",
    "    return env\n",
    "end"
   ]
  },
  {
   "cell_type": "code",
   "execution_count": 7,
   "metadata": {},
   "outputs": [
    {
     "data": {
      "text/plain": [
       "setUpProblemAllParams (generic function with 1 method)"
      ]
     },
     "execution_count": 7,
     "metadata": {},
     "output_type": "execute_result"
    }
   ],
   "source": [
    "function setUpProblemAllParams(N, r_init, r_goal, q_init, q_goal, robot, model, env, tf_guess)\n",
    "    goal_set = GoalSet()\n",
    "    addGoals!(goal_set, r_init, r_goal, q_init, q_goal, tf_guess)\n",
    "    x_init = [r_init; zeros(3); q_init; zeros(3)]\n",
    "    PD = ProblemDefinition(robot, model, env, x_init, goal_set);\n",
    "    TOP = TrajectoryOptimizationProblem(PD, N, tf_guess, fixed_final_time=true)\n",
    "    TOSgusto = TrajectoryOptimizationSolution(TOP)\n",
    "    return TOP, TOSgusto\n",
    "end"
   ]
  },
  {
   "cell_type": "code",
   "execution_count": 8,
   "metadata": {},
   "outputs": [
    {
     "data": {
      "text/plain": [
       "addGoals! (generic function with 1 method)"
      ]
     },
     "execution_count": 8,
     "metadata": {},
     "output_type": "execute_result"
    }
   ],
   "source": [
    "function addGoals!(goal_set, r_init, r_goal, q_init, q_goal, tf_guess)\n",
    "    q_goal = q_goal/norm(q_goal)\n",
    "    x_init = [r_init; zeros(3); q_init; zeros(3)]\n",
    "    v_goal = zeros(3)\n",
    "    ω_goal = zeros(3)\n",
    "\n",
    "    x_goal = [r_goal; v_goal; q_goal; ω_goal]\n",
    "    # add_goal!(goal_set, Goal(PointGoal(x_goal), tf_guess, model))\n",
    "\n",
    "    ε = 1e-4\n",
    "    add_goal!(goal_set, Goal(PointGoal(r_goal), tf_guess, 1:3))\n",
    "    add_goal!(goal_set, Goal(PointGoal(v_goal), tf_guess, 4:6))\n",
    "    add_goal!(goal_set, Goal(BoxGoal(q_goal.-ε, q_goal.+ε), tf_guess, 7:10))\n",
    "    # add_goal!(goal_set, Goal(PointGoal(q_goal), tf_guess, 7:10))\n",
    "    add_goal!(goal_set, Goal(PointGoal(ω_goal), tf_guess, 11:13))\n",
    "end"
   ]
  },
  {
   "cell_type": "code",
   "execution_count": 9,
   "metadata": {},
   "outputs": [
    {
     "data": {
      "text/plain": [
       "createTrainingInputAndOutput (generic function with 2 methods)"
      ]
     },
     "execution_count": 9,
     "metadata": {},
     "output_type": "execute_result"
    }
   ],
   "source": [
    "function createTrainingInputAndOutput(traj_X_vec, traj_U_vec, ω_vec, Δ_vec, dual_vec = nothing)\n",
    "    X_row = hcat((map(a -> a[:], traj_X_vec))...)'\n",
    "    U_row = hcat((map(a -> a[:], traj_U_vec))...)'\n",
    "    if dual_vec != nothing\n",
    "        dual_row = hcat((map(a -> a[:], dual_vec))...)'\n",
    "    end\n",
    "#     @show(size(ω_vec))\n",
    "#     @show(size(X_row))\n",
    "    if dual_vec == nothing\n",
    "        train_input = hcat(X_row, U_row, ω_vec, Δ_vec)[1:end-1,:]\n",
    "    else\n",
    "        train_input = hcat(X_row, U_row, ω_vec, Δ_vec, dual_row)[1:end-1,:]\n",
    "    end\n",
    "\n",
    "    diff_X = traj_X_vec[2:end]-traj_X_vec[1:end-1]\n",
    "    diff_U = traj_U_vec[2:end]-traj_U_vec[1:end-1]\n",
    "    diff_X_row = hcat((map(a -> a[:], diff_X))...)'\n",
    "    diff_U_row = hcat((map(a -> a[:], diff_U))...)'\n",
    "\n",
    "    if dual_vec == nothing\n",
    "        train_output = hcat(diff_X_row, diff_U_row)\n",
    "    else\n",
    "        train_output = hcat(diff_X_row, diff_U_row, dual_row[2:end, :])\n",
    "    end\n",
    "    \n",
    "    if size(train_input,1) != size(train_output,1)\n",
    "        println(\"ERROR: train input and output have different # of rows\")\n",
    "    end\n",
    "    if size(train_input,2) - 2 != size(train_output,2)\n",
    "        println(\"ERROR: each row of train input should 2 elements more than output\")\n",
    "    end\n",
    "    \n",
    "    return train_input, train_output\n",
    "    \n",
    "end"
   ]
  },
  {
   "cell_type": "markdown",
   "metadata": {},
   "source": [
    "# Time one iteration of GuSTO"
   ]
  },
  {
   "cell_type": "code",
   "execution_count": 36,
   "metadata": {
    "scrolled": true
   },
   "outputs": [
    {
     "name": "stdout",
     "output_type": "stream",
     "text": [
      "Setup time 0.023373507\n",
      "Setup time 0.565055577\n",
      "Time reported 0.53153665\n"
     ]
    }
   ],
   "source": [
    "time_start = time_ns()\n",
    "\n",
    "env = setUpEnvironmentSphereObstacles()\n",
    "N = 50\n",
    "robot = Astrobee3D()\n",
    "model = AstrobeeSE3Manifold()\n",
    "tf_guess = 10.\n",
    "\n",
    "# Pick the init and goal positions\n",
    "# Small corner maneuver\n",
    "r_init = [11.2; -0.8; 5.6]\n",
    "r_goal = [10.9; 3.0; 5.0]\n",
    "q_init = [1.; 0.; 0.; 0.]\n",
    "# q_goal = [1.; 0.; 0.; 0.]\n",
    "q_goal = [1.; 0.5; 0.5; 0.5]\n",
    "# q_goal = [1.; 0.2; 0.3; 0.4]\n",
    "\n",
    "\n",
    "max_iter = 10\n",
    "\n",
    "TOP, TOSgusto = setUpProblemAllParams(N, r_init, r_goal, q_init, q_goal, robot, model, env, tf_guess)\n",
    "traj_init = init_traj_straightline(TOP)\n",
    "\n",
    "traj_X_vec = [traj_init.X] \n",
    "traj_U_vec = [traj_init.U]\n",
    "traj_X_vec_first_only = [traj_init.X]\n",
    "traj_U_vec_first_only = [traj_init.U]\n",
    "dual_vec = [zeros(13)]\n",
    "\n",
    "gusto_setup_time = (time_ns() - time_start)/10^9\n",
    "println(\"Setup time $gusto_setup_time\")\n",
    "\n",
    "# Solve one step at a time with IPOPT\n",
    "time_start = time_ns()\n",
    "solve_SCP!(TOSgusto, TOP, solve_gusto_jump!, traj_init, \"Ipopt\", max_iter=1, print_level=0);\n",
    "gusto_solve_time = (time_ns() - time_start)/10^9\n",
    "println(\"Setup time $gusto_solve_time\")\n",
    "\n",
    "repTime = TOSgusto.SCPS.total_time\n",
    "println(\"Time reported $repTime\")\n",
    "\n"
   ]
  },
  {
   "cell_type": "code",
   "execution_count": 33,
   "metadata": {
    "scrolled": true
   },
   "outputs": [
    {
     "name": "stdout",
     "output_type": "stream",
     "text": [
      "(TOSgusto.SCPS).converged = false\n",
      "(TOSgusto.SCPS).iterations = 1\n",
      "(TOSgusto.SCPS).total_time = 0.531262319\n",
      "(TOSgusto.SCPS).accept_solution = Bool[true, true]\n",
      "(TOSgusto.SCPS).solver_status = Union{TerminationStatusCode, Symbol}[:NA, LOCALLY_SOLVED]\n",
      "(TOSgusto.SCPS).scp_status = Symbol[:NA, :ViolatesConstraints]\n",
      "(TOSgusto.SCPS).convergence_measure = [0.0, 0.0701819]\n",
      "(((TOSgusto.SCPS).param).alg).ω_vec = [1.0, 5.0]\n",
      "(((TOSgusto.SCPS).param).alg).Δ_vec = [1000.0, 1000.0]\n",
      "(TOSgusto.SCPS).J_true = Any[0.0, 62.3081]\n",
      "(TOSgusto.SCPS).dual = [-1.90918, 111.071, -22.2502, -31.7574, 725.764, -136.02, -0.000309332, 0.000486269, 0.000486269, 0.000486269, 0.00121421, 0.00121421, 0.00121421]\n"
     ]
    }
   ],
   "source": [
    "@show TOSgusto.SCPS.converged\n",
    "@show TOSgusto.SCPS.iterations\n",
    "@show TOSgusto.SCPS.total_time\n",
    "@show TOSgusto.SCPS.accept_solution\n",
    "@show TOSgusto.SCPS.solver_status\n",
    "@show TOSgusto.SCPS.scp_status\n",
    "@show TOSgusto.SCPS.convergence_measure\n",
    "@show TOSgusto.SCPS.param.alg.ω_vec\n",
    "@show TOSgusto.SCPS.param.alg.Δ_vec\n",
    "@show TOSgusto.SCPS.J_true\n",
    "@show TOSgusto.SCPS.dual\n",
    ";"
   ]
  },
  {
   "cell_type": "markdown",
   "metadata": {},
   "source": [
    "# Time all iterations of GuSTO"
   ]
  },
  {
   "cell_type": "code",
   "execution_count": 38,
   "metadata": {
    "scrolled": true
   },
   "outputs": [
    {
     "name": "stdout",
     "output_type": "stream",
     "text": [
      "Setup time 0.019180671\n",
      "Solve time 4.723032807\n",
      "Time reported 4.704860932\n"
     ]
    }
   ],
   "source": [
    "time_start = time_ns()\n",
    "\n",
    "env = setUpEnvironmentSphereObstacles()\n",
    "N = 50\n",
    "robot = Astrobee3D()\n",
    "model = AstrobeeSE3Manifold()\n",
    "tf_guess = 10.\n",
    "\n",
    "# Pick the init and goal positions\n",
    "# Small corner maneuver\n",
    "r_init = [11.2; -0.8; 5.6]\n",
    "r_goal = [10.9; 3.0; 5.0]\n",
    "q_init = [1.; 0.; 0.; 0.]\n",
    "# q_goal = [1.; 0.; 0.; 0.]\n",
    "q_goal = [1.; 0.5; 0.5; 0.5]\n",
    "# q_goal = [1.; 0.2; 0.3; 0.4]\n",
    "\n",
    "\n",
    "max_iter = 10\n",
    "\n",
    "TOP, TOSgusto = setUpProblemAllParams(N, r_init, r_goal, q_init, q_goal, robot, model, env, tf_guess)\n",
    "traj_init = init_traj_straightline(TOP)\n",
    "\n",
    "traj_X_vec = [traj_init.X] \n",
    "traj_U_vec = [traj_init.U]\n",
    "traj_X_vec_first_only = [traj_init.X]\n",
    "traj_U_vec_first_only = [traj_init.U]\n",
    "dual_vec = [zeros(13)]\n",
    "\n",
    "gusto_setup_time = (time_ns() - time_start)/10^9\n",
    "println(\"Setup time $gusto_setup_time\")\n",
    "\n",
    "# Solve one step at a time with IPOPT\n",
    "time_start = time_ns()\n",
    "solve_SCP!(TOSgusto, TOP, solve_gusto_jump!, traj_init, \"Ipopt\", max_iter=100, print_level=0);\n",
    "gusto_solve_time = (time_ns() - time_start)/10^9\n",
    "println(\"Solve time $gusto_solve_time\")\n",
    "\n",
    "repTime = TOSgusto.SCPS.total_time\n",
    "println(\"Time reported $repTime\")\n",
    "\n"
   ]
  },
  {
   "cell_type": "code",
   "execution_count": 27,
   "metadata": {},
   "outputs": [
    {
     "name": "stdout",
     "output_type": "stream",
     "text": [
      "(TOSgusto.SCPS).converged = true\n",
      "(TOSgusto.SCPS).iterations = 7\n",
      "(TOSgusto.SCPS).total_time = 5.047244804999999\n",
      "(TOSgusto.SCPS).accept_solution = Bool[true, true, true, true, true, true, true, true]\n",
      "(TOSgusto.SCPS).solver_status = Union{TerminationStatusCode, Symbol}[:NA, LOCALLY_SOLVED, LOCALLY_SOLVED, LOCALLY_SOLVED, LOCALLY_SOLVED, LOCALLY_SOLVED, LOCALLY_SOLVED, LOCALLY_SOLVED]\n",
      "(TOSgusto.SCPS).scp_status = Symbol[:NA, :ViolatesConstraints, :ViolatesConstraints, :ViolatesConstraints, :OK, :OK, :OK, :OK]\n",
      "(TOSgusto.SCPS).convergence_measure = [0.0, 0.0701819, 0.00396256, 0.00304667, 0.0110116, 0.000427625, 1.40355e-5, 5.83572e-7]\n",
      "(((TOSgusto.SCPS).param).alg).ω_vec = [1.0, 5.0, 25.0, 125.0, 125.0, 125.0, 125.0, 125.0]\n",
      "(((TOSgusto.SCPS).param).alg).Δ_vec = [1000.0, 1000.0, 1000.0, 1000.0, 1000.0, 1000.0, 1000.0, 1000.0]\n",
      "(TOSgusto.SCPS).J_true = Any[0.0, 62.3081, 63.0066, 64.4434, 99.1266, 98.8741, 98.8772, 98.8775]\n",
      "(TOSgusto.SCPS).dual = [-1.28541, 655.519, -133.94, -10.2244, 3295.78, -672.769, -0.000865094, 0.000464694, 0.000464694, 0.000464694, 0.00116166, 0.00116166, 0.00116166]\n"
     ]
    }
   ],
   "source": [
    "@show TOSgusto.SCPS.converged\n",
    "@show TOSgusto.SCPS.iterations\n",
    "@show TOSgusto.SCPS.total_time\n",
    "@show TOSgusto.SCPS.accept_solution\n",
    "@show TOSgusto.SCPS.solver_status\n",
    "@show TOSgusto.SCPS.scp_status\n",
    "@show TOSgusto.SCPS.convergence_measure\n",
    "@show TOSgusto.SCPS.param.alg.ω_vec\n",
    "@show TOSgusto.SCPS.param.alg.Δ_vec\n",
    "@show TOSgusto.SCPS.J_true\n",
    "@show TOSgusto.SCPS.dual\n",
    ";"
   ]
  },
  {
   "cell_type": "code",
   "execution_count": 28,
   "metadata": {},
   "outputs": [
    {
     "data": {
      "image/png": "[encoded data removed]"
     },
     "execution_count": 28,
     "metadata": {},
     "output_type": "execute_result"
    }
   ],
   "source": [
    "using Plots\n",
    "gr(fmt=:png)\n",
    "plot()\n",
    "for i = 7:10\n",
    "    plot!([collect(1:N)],[TOSgusto.SCPS.traj.X[i,:]],\n",
    "        xlabel = \"q\",\n",
    "        ylabel = \"y\",\n",
    "        legend = :none)\n",
    "end\n",
    "plot!()"
   ]
  },
  {
   "cell_type": "code",
   "execution_count": 29,
   "metadata": {},
   "outputs": [
    {
     "data": {
      "image/png": "[encoded data removed]"
     },
     "execution_count": 29,
     "metadata": {},
     "output_type": "execute_result"
    }
   ],
   "source": [
    "gr(fmt=:png)\n",
    "plot()\n",
    "plot!([collect(1:N)],[TOSgusto.SCPS.traj.X[4,:]],\n",
    "    xlabel = \"q\",\n",
    "    ylabel = \"y\",\n",
    "    legend = :none)"
   ]
  },
  {
   "cell_type": "code",
   "execution_count": 30,
   "metadata": {},
   "outputs": [
    {
     "data": {
      "image/png": "[encoded data removed]"
     },
     "execution_count": 30,
     "metadata": {},
     "output_type": "execute_result"
    }
   ],
   "source": [
    "gr(fmt=:png)\n",
    "plot()\n",
    "plot!([collect(1:N)],[TOSgusto.SCPS.traj.X[1,:]],\n",
    "    xlabel = \"q\",\n",
    "    ylabel = \"y\",\n",
    "    legend = :none)"
   ]
  },
  {
   "cell_type": "code",
   "execution_count": 31,
   "metadata": {},
   "outputs": [
    {
     "ename": "UndefVarError",
     "evalue": "UndefVarError: x_goal not defined",
     "output_type": "error",
     "traceback": [
      "UndefVarError: x_goal not defined",
      "",
      "Stacktrace:",
      " [1] top-level scope at ./In[31]:9"
     ]
    }
   ],
   "source": [
    "using AstrobeeRobot\n",
    "\n",
    "# Animate Astrobee trajectory\n",
    "vis = Visualizer()\n",
    "delete!(vis)\n",
    "\n",
    "vis[:goal]\n",
    "for (idx,obs) in enumerate(env.keepout_zones)\n",
    "    setobject!(vis[:goal][:goal], \n",
    "        Object(HyperSphere(Point3f0(x_goal[1:3]), 0.1f0),\n",
    "            MeshBasicMaterial(color=RGBA(0,1.0,0.,0.3))))\n",
    "end\n",
    "\n",
    "vis[:workspace]\n",
    "for (idx,ws) in enumerate(env.keepin_zones)\n",
    "    if idx in (5,8)\n",
    "        setobject!(vis[:workspace][Symbol(string(\"ws\",idx))],\n",
    "            Object(ws, MeshBasicMaterial(color=RGBA(0.95,0.93,0.26,0.3), depthWrite=false)))\n",
    "    else\n",
    "        setobject!(vis[:workspace][Symbol(string(\"ws\",idx))],\n",
    "            Object(ws, MeshBasicMaterial(color=RGBA(0.95,0.93,0.26,0.3))))\n",
    "    end\n",
    "end\n",
    "\n",
    "vis[:obstacle]\n",
    "for (idx,ws) in enumerate(env.obstacle_set)\n",
    "    setobject!(vis[:workspace][Symbol(string(\"ws\",idx+length(env.keepin_zones)))],\n",
    "        Object(ws,MeshBasicMaterial(color=RGBA(0.95,0.26,0.26,0.3))))\n",
    "end\n",
    "\n",
    "ab = Astrobee()\n",
    "mvis = MechanismVisualizer(\n",
    "    ab.mechanism,\n",
    "    URDFVisuals(AstrobeeRobot.urdfpath(), package_path=[dirname(dirname(AstrobeeRobot.urdfpath()))]),\n",
    "    vis);\n",
    "\n",
    "speed_factor = 3\n",
    "\n",
    "Qs = Vector{Vector{Float64}}()\n",
    "for k in 1:speed_factor:N\n",
    "#     q = [quat_inv(TOS_SCP.SCPS.traj.X[7:10,k]); TOS_SCP.SCPS.traj.X[1:3,k]]\n",
    "    q = [quat_inv(TOSgusto.SCPS.traj.X[7:10,k]); TOSgusto.SCPS.traj.X[1:3,k]]\n",
    "    push!(Qs,q)\n",
    "end\n",
    "\n",
    "trans = Translation(14., -1., 7.)\n",
    "rot = LinearMap(RotZ(-0.6)) ∘ LinearMap(RotY(-0.2))\n",
    "settransform!(vis[\"/Cameras/default\"], trans ∘ rot)\n",
    "setprop!(vis[\"/Cameras/default/rotated/<object>\"], \"zoom\", 1.9)\n",
    "setprop!(vis[\"/Cameras/default/rotated/<object>\"], \"near\", 0.05)\n",
    "\n",
    "sleep(3)\n",
    "setanimation!(mvis,1:length(Qs),Qs)\n",
    "\n",
    "plot_in_cell = false\n",
    "plot_in_cell ? IJuliaCell(vis) : open(vis)"
   ]
  },
  {
   "cell_type": "code",
   "execution_count": null,
   "metadata": {},
   "outputs": [],
   "source": []
  },
  {
   "cell_type": "code",
   "execution_count": null,
   "metadata": {},
   "outputs": [],
   "source": []
  },
  {
   "cell_type": "code",
   "execution_count": null,
   "metadata": {},
   "outputs": [],
   "source": []
  },
  {
   "cell_type": "code",
   "execution_count": null,
   "metadata": {},
   "outputs": [],
   "source": []
  }
 ],
 "metadata": {
  "kernelspec": {
   "display_name": "Julia 1.0.3",
   "language": "julia",
   "name": "julia-1.0"
  },
  "language_info": {
   "file_extension": ".jl",
   "mimetype": "application/julia",
   "name": "julia",
   "version": "1.0.3"
  }
 },
 "nbformat": 4,
 "nbformat_minor": 2
}
