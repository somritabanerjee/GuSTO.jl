{
 "cells": [
  {
   "cell_type": "code",
   "execution_count": 8,
   "metadata": {},
   "outputs": [
    {
     "data": {
      "text/plain": [
       "Forest"
      ]
     },
     "execution_count": 8,
     "metadata": {},
     "output_type": "execute_result"
    }
   ],
   "source": [
    "# using GuSTO\"\n",
    "using JLD2, FileIO\n",
    "using BenchmarkTools\n",
    "include(\"../src/GuSTO.jl\")"
   ]
  },
  {
   "cell_type": "code",
   "execution_count": 9,
   "metadata": {},
   "outputs": [
    {
     "data": {
      "text/plain": [
       "setUpEnvironmentSphereObstacles (generic function with 1 method)"
      ]
     },
     "execution_count": 9,
     "metadata": {},
     "output_type": "execute_result"
    }
   ],
   "source": [
    "function setUpEnvironmentSphereObstacles()\n",
    "    env = ISSCorner();\n",
    "    add_obstacles!(env)\n",
    "    return env\n",
    "end"
   ]
  },
  {
   "cell_type": "code",
   "execution_count": 10,
   "metadata": {},
   "outputs": [
    {
     "data": {
      "text/plain": [
       "setUpProblemAllParams (generic function with 1 method)"
      ]
     },
     "execution_count": 10,
     "metadata": {},
     "output_type": "execute_result"
    }
   ],
   "source": [
    "function setUpProblemAllParams(N, r_init, r_goal, q_init, q_goal, robot, model, env, tf_guess)\n",
    "    goal_set = GoalSet()\n",
    "    addGoals!(goal_set, r_init, r_goal, q_init, q_goal, tf_guess)\n",
    "    x_init = [r_init; zeros(3); q_init; zeros(3)]\n",
    "    PD = ProblemDefinition(robot, model, env, x_init, goal_set);\n",
    "    TOP = TrajectoryOptimizationProblem(PD, N, tf_guess, fixed_final_time=true)\n",
    "    TOSgusto = TrajectoryOptimizationSolution(TOP)\n",
    "    return TOP, TOSgusto\n",
    "end"
   ]
  },
  {
   "cell_type": "code",
   "execution_count": 11,
   "metadata": {},
   "outputs": [
    {
     "data": {
      "text/plain": [
       "addGoals! (generic function with 1 method)"
      ]
     },
     "execution_count": 11,
     "metadata": {},
     "output_type": "execute_result"
    }
   ],
   "source": [
    "function addGoals!(goal_set, r_init, r_goal, q_init, q_goal, tf_guess)\n",
    "    q_goal = q_goal/norm(q_goal)\n",
    "    x_init = [r_init; zeros(3); q_init; zeros(3)]\n",
    "    v_goal = zeros(3)\n",
    "    ω_goal = zeros(3)\n",
    "\n",
    "    x_goal = [r_goal; v_goal; q_goal; ω_goal]\n",
    "    # add_goal!(goal_set, Goal(PointGoal(x_goal), tf_guess, model))\n",
    "\n",
    "    ε = 1e-4\n",
    "    add_goal!(goal_set, Goal(PointGoal(r_goal), tf_guess, 1:3))\n",
    "    add_goal!(goal_set, Goal(PointGoal(v_goal), tf_guess, 4:6))\n",
    "    add_goal!(goal_set, Goal(BoxGoal(q_goal.-ε, q_goal.+ε), tf_guess, 7:10))\n",
    "    # add_goal!(goal_set, Goal(PointGoal(q_goal), tf_guess, 7:10))\n",
    "    add_goal!(goal_set, Goal(PointGoal(ω_goal), tf_guess, 11:13))\n",
    "end"
   ]
  },
  {
   "cell_type": "code",
   "execution_count": 175,
   "metadata": {},
   "outputs": [
    {
     "data": {
      "text/plain": [
       "createTrainingInputAndOutput (generic function with 2 methods)"
      ]
     },
     "execution_count": 175,
     "metadata": {},
     "output_type": "execute_result"
    }
   ],
   "source": [
    "function createTrainingInputAndOutput(traj_X_vec, traj_U_vec, ω_vec, Δ_vec, dual_vec = nothing)\n",
    "    X_row = hcat((map(a -> a[:], traj_X_vec))...)'\n",
    "    U_row = hcat((map(a -> a[:], traj_U_vec))...)'\n",
    "    if dual_vec != nothing\n",
    "        dual_row = hcat((map(a -> a[:], dual_vec))...)'\n",
    "    end\n",
    "#     @show(size(ω_vec))\n",
    "#     @show(size(X_row))\n",
    "    if dual_vec == nothing\n",
    "        train_input = hcat(X_row, U_row, ω_vec, Δ_vec)[1:end-1,:]\n",
    "    else\n",
    "        train_input = hcat(X_row, U_row, ω_vec, Δ_vec, dual_row)[1:end-1,:]\n",
    "    end\n",
    "\n",
    "    diff_X = traj_X_vec[2:end]-traj_X_vec[1:end-1]\n",
    "    diff_U = traj_U_vec[2:end]-traj_U_vec[1:end-1]\n",
    "    diff_X_row = hcat((map(a -> a[:], diff_X))...)'\n",
    "    diff_U_row = hcat((map(a -> a[:], diff_U))...)'\n",
    "\n",
    "    if dual_vec == nothing\n",
    "        train_output = hcat(diff_X_row, diff_U_row)\n",
    "    else\n",
    "        train_output = hcat(diff_X_row, diff_U_row, dual_row[2:end, :])\n",
    "    end\n",
    "    \n",
    "    if size(train_input,1) != size(train_output,1)\n",
    "        println(\"ERROR: train input and output have different # of rows\")\n",
    "    end\n",
    "    if size(train_input,2) - 2 != size(train_output,2)\n",
    "        println(\"ERROR: each row of train input should 2 elements more than output\")\n",
    "    end\n",
    "    \n",
    "    return train_input, train_output\n",
    "    \n",
    "end"
   ]
  },
  {
   "cell_type": "code",
   "execution_count": 176,
   "metadata": {},
   "outputs": [
    {
     "data": {
      "text/plain": [
       "checkIfInISS (generic function with 1 method)"
      ]
     },
     "execution_count": 176,
     "metadata": {},
     "output_type": "execute_result"
    }
   ],
   "source": [
    "function checkIfInISS(r, env)\n",
    "    # Must be INSIDE any keep in\n",
    "    # Must be OUTSIDE all keep out - ignoring this one for now\n",
    "    # Must be OUTSIDE all obstacles\n",
    "    inside_keepin = false\n",
    "    for z in env.keepin_zones\n",
    "        maxVals = z.origin + z.widths\n",
    "        minVals = z.origin - z.widths\n",
    "        if (all(r.<maxVals) && all(r.>minVals))\n",
    "            inside_keepin = true\n",
    "            break # Inside ANY is pass\n",
    "        end\n",
    "    end\n",
    "    if !inside_keepin\n",
    "        return false\n",
    "    end\n",
    "    \n",
    "#     inside_keepout = false\n",
    "#     for z in env.keepout_zones\n",
    "#         maxVals = z.origin + z.widths\n",
    "#         minVals = z.origin - z.widths\n",
    "#         if (all(r.<maxVals) && all(r.>minVals))\n",
    "#             inside_keepout = true\n",
    "#             break # If inside ANY then we fail\n",
    "#         end\n",
    "#     end\n",
    "#     if inside_keepout\n",
    "#         println(\"Is inside some keep out zones\")\n",
    "#         return false\n",
    "#     end\n",
    "    \n",
    "    for o in env.obstacle_set\n",
    "        dist_from_center = norm(r - o.center)\n",
    "        if dist_from_center < o.r\n",
    "            return false\n",
    "        end\n",
    "    end\n",
    "    \n",
    "    return true\n",
    "end"
   ]
  },
  {
   "cell_type": "markdown",
   "metadata": {},
   "source": [
    "# Time one iteration of GuSTO"
   ]
  },
  {
   "cell_type": "code",
   "execution_count": 40,
   "metadata": {
    "scrolled": true
   },
   "outputs": [
    {
     "name": "stdout",
     "output_type": "stream",
     "text": [
      "Setup time 0.011667612\n",
      "Solve time 0.324160752\n",
      "Time reported 0.309949297\n"
     ]
    }
   ],
   "source": [
    "time_start = time_ns()\n",
    "\n",
    "env = setUpEnvironmentSphereObstacles()\n",
    "N = 50\n",
    "robot = Astrobee3D()\n",
    "model = AstrobeeSE3Manifold()\n",
    "tf_guess = 10.\n",
    "\n",
    "# Pick the init and goal positions\n",
    "# Small corner maneuver\n",
    "r_init = [11.2; -0.8; 5.6]\n",
    "r_goal = [10.9; 3.0; 5.0]\n",
    "q_init = [1.; 0.; 0.; 0.]\n",
    "q_goal = [0.; 1.; 0.; 0.]\n",
    "v_goal = zeros(3)\n",
    "ω_goal = zeros(3)\n",
    "x_goal = [r_goal; v_goal; q_goal; ω_goal]\n",
    "\n",
    "max_iter = 10\n",
    "\n",
    "TOP, TOSgusto = setUpProblemAllParams(N, r_init, r_goal, q_init, q_goal, robot, model, env, tf_guess)\n",
    "traj_init = init_traj_straightline(TOP)\n",
    "\n",
    "traj_X_vec = [traj_init.X] \n",
    "traj_U_vec = [traj_init.U]\n",
    "traj_X_vec_first_only = [traj_init.X]\n",
    "traj_U_vec_first_only = [traj_init.U]\n",
    "dual_vec = [zeros(13)]\n",
    "\n",
    "gusto_setup_time = (time_ns() - time_start)/10^9\n",
    "println(\"Setup time $gusto_setup_time\")\n",
    "\n",
    "# Solve one step at a time with IPOPT\n",
    "time_start = time_ns()\n",
    "solve_SCP!(TOSgusto, TOP, solve_gusto_jump!, traj_init, \"Ipopt\", max_iter=1, print_level=0);\n",
    "gusto_solve_time = (time_ns() - time_start)/10^9\n",
    "println(\"Solve time $gusto_solve_time\")\n",
    "\n",
    "repTime = TOSgusto.SCPS.total_time\n",
    "println(\"Time reported $repTime\")\n",
    "\n"
   ]
  },
  {
   "cell_type": "code",
   "execution_count": 41,
   "metadata": {
    "scrolled": true
   },
   "outputs": [
    {
     "name": "stdout",
     "output_type": "stream",
     "text": [
      "(TOSgusto.SCPS).converged = false\n",
      "(TOSgusto.SCPS).iterations = 1\n",
      "(TOSgusto.SCPS).total_time = 0.309949297\n",
      "(TOSgusto.SCPS).accept_solution = Bool[true, true]\n",
      "(TOSgusto.SCPS).solver_status = Union{TerminationStatusCode, Symbol}[:NA, LOCALLY_SOLVED]\n",
      "(TOSgusto.SCPS).scp_status = Symbol[:NA, :ViolatesConstraints]\n",
      "(TOSgusto.SCPS).convergence_measure = [0.0, 0.0853259]\n",
      "(((TOSgusto.SCPS).param).alg).ω_vec = [1.0, 5.0]\n",
      "(((TOSgusto.SCPS).param).alg).Δ_vec = [1000.0, 1000.0]\n",
      "(TOSgusto.SCPS).J_true = Any[0.0, 62.31]\n",
      "(TOSgusto.SCPS).dual = [-1.90918, 111.071, -22.2502, -31.7574, 725.764, -136.02, -0.0022551, 0.00225565, -8.55444e-25, -7.53051e-24, 0.00563868, 4.84658e-24, -1.32658e-23]\n"
     ]
    }
   ],
   "source": [
    "@show TOSgusto.SCPS.converged\n",
    "@show TOSgusto.SCPS.iterations\n",
    "@show TOSgusto.SCPS.total_time\n",
    "@show TOSgusto.SCPS.accept_solution\n",
    "@show TOSgusto.SCPS.solver_status\n",
    "@show TOSgusto.SCPS.scp_status\n",
    "@show TOSgusto.SCPS.convergence_measure\n",
    "@show TOSgusto.SCPS.param.alg.ω_vec\n",
    "@show TOSgusto.SCPS.param.alg.Δ_vec\n",
    "@show TOSgusto.SCPS.J_true\n",
    "@show TOSgusto.SCPS.dual\n",
    ";"
   ]
  },
  {
   "cell_type": "markdown",
   "metadata": {},
   "source": [
    "# Time all iterations of GuSTO"
   ]
  },
  {
   "cell_type": "code",
   "execution_count": 108,
   "metadata": {
    "scrolled": true
   },
   "outputs": [
    {
     "name": "stdout",
     "output_type": "stream",
     "text": [
      "Setup time 0.011525934\n",
      "Solve time 7.379851983\n",
      "Time reported 7.367700549\n"
     ]
    }
   ],
   "source": [
    "time_start = time_ns()\n",
    "\n",
    "env = setUpEnvironmentSphereObstacles()\n",
    "N = 100\n",
    "robot = Astrobee3D()\n",
    "model = AstrobeeSE3Manifold()\n",
    "tf_guess = 100.\n",
    "\n",
    "# Pick the init and goal positions\n",
    "# Small corner maneuver\n",
    "r_init = [11.2; -0.8; 5.6] # small corner\n",
    "r_init = [9.2; -0.1; 5.6] # This works. Keep y at -0.1 and vary x from ?? up to 11.2\n",
    "r_init = [8.5; -0.1; 5.6] # z is too high! Doesn't work\n",
    "r_init = [8.5; -0.1; 4.6]\n",
    "r_goal = [10.9; 3.0; 5.0]\n",
    "q_init = [1.; 0.; 0.; 0.]\n",
    "q_goal = [0.; 1.; 0.; 0.]\n",
    "v_goal = zeros(3)\n",
    "ω_goal = zeros(3)\n",
    "x_goal = [r_goal; v_goal; q_goal; ω_goal]\n",
    "\n",
    "TOP, TOSgusto = setUpProblemAllParams(N, r_init, r_goal, q_init, q_goal, robot, model, env, tf_guess)\n",
    "traj_init = init_traj_straightline(TOP)\n",
    "\n",
    "traj_X_vec = [traj_init.X] \n",
    "traj_U_vec = [traj_init.U]\n",
    "traj_X_vec_first_only = [traj_init.X]\n",
    "traj_U_vec_first_only = [traj_init.U]\n",
    "dual_vec = [zeros(13)]\n",
    "\n",
    "gusto_setup_time = (time_ns() - time_start)/10^9\n",
    "println(\"Setup time $gusto_setup_time\")\n",
    "\n",
    "# Solve one step at a time with IPOPT\n",
    "time_start = time_ns()\n",
    "solve_SCP!(TOSgusto, TOP, solve_gusto_jump!, traj_init, \"Ipopt\", max_iter=10, print_level=0);\n",
    "gusto_solve_time = (time_ns() - time_start)/10^9\n",
    "println(\"Solve time $gusto_solve_time\")\n",
    "\n",
    "repTime = TOSgusto.SCPS.total_time\n",
    "println(\"Time reported $repTime\")\n",
    "\n"
   ]
  },
  {
   "cell_type": "code",
   "execution_count": 186,
   "metadata": {},
   "outputs": [
    {
     "name": "stdout",
     "output_type": "stream",
     "text": [
      "40321\n"
     ]
    }
   ],
   "source": [
    "count = 0\n",
    "for x in range(env.worldAABBmin[1], stop= env.worldAABBmax[1], length = 100)\n",
    "    for y in range(env.worldAABBmin[2], stop= env.worldAABBmax[2], length = 100)\n",
    "        for z in range(env.worldAABBmin[3], stop= env.worldAABBmax[3], length = 100)\n",
    "            r = [x, y, z]\n",
    "            if checkIfInISS(r, env)\n",
    "                count = count +1\n",
    "            end\n",
    "        end\n",
    "    end\n",
    "end\n",
    "println(\"$count\")"
   ]
  },
  {
   "cell_type": "code",
   "execution_count": 188,
   "metadata": {},
   "outputs": [
    {
     "name": "stdout",
     "output_type": "stream",
     "text": [
      "1\n",
      "2\n",
      "3\n",
      "4\n"
     ]
    },
    {
     "name": "stderr",
     "output_type": "stream",
     "text": [
      "Error handling websocket connection:\n",
      "\u001b[91mWebSockets.WebSocketClosedError(\"ws|server respond to OPCODE_CLOSE 1001:Going Away\")\u001b[39mError handling websocket connection:\n",
      "\u001b[91mWebSockets.WebSocketClosedError(\"ws|server respond to OPCODE_CLOSE 1001:Going Away\")\u001b[39mError handling websocket connection:\n",
      "\u001b[91mWebSockets.WebSocketClosedError(\"ws|server respond to OPCODE_CLOSE 1001:Going Away\")\u001b[39mError handling websocket connection:\n",
      "\u001b[91mWebSockets.WebSocketClosedError(\"ws|server respond to OPCODE_CLOSE 1001:Going Away\")\u001b[39mError handling websocket connection:\n",
      "\u001b[91mWebSockets.WebSocketClosedError(\"ws|server respond to OPCODE_CLOSE 1001:Going Away\")\u001b[39mError handling websocket connection:\n",
      "\u001b[91mWebSockets.WebSocketClosedError(\"ws|server respond to OPCODE_CLOSE 1001:Going Away\")\u001b[39m"
     ]
    }
   ],
   "source": [
    "for i in 1:4\n",
    "    println(\"$i\")\n",
    "end"
   ]
  },
  {
   "cell_type": "code",
   "execution_count": 151,
   "metadata": {
    "scrolled": true
   },
   "outputs": [
    {
     "name": "stdout",
     "output_type": "stream",
     "text": [
      "env.worldAABBmin = [-7.40737, -12.7575, -6.38499]\n",
      "env.worldAABBmax = [22.0844, 17.3351, 16.0576]\n"
     ]
    },
    {
     "data": {
      "text/plain": [
       "0.4f0"
      ]
     },
     "execution_count": 151,
     "metadata": {},
     "output_type": "execute_result"
    }
   ],
   "source": [
    "typeof(env.keepin_zones[1])\n",
    "h = env.keepin_zones[1]\n",
    "h.origin\n",
    "h.widths\n",
    "@show env.worldAABBmin\n",
    "@show env.worldAABBmax\n",
    "env.keepout_zones\n",
    "env.obstacle_set\n",
    "o = env.obstacle_set[1]\n",
    "o.center\n",
    "o.r"
   ]
  },
  {
   "cell_type": "code",
   "execution_count": 152,
   "metadata": {},
   "outputs": [
    {
     "data": {
      "text/plain": [
       "3.963584236521283"
      ]
     },
     "execution_count": 152,
     "metadata": {},
     "output_type": "execute_result"
    }
   ],
   "source": [
    "a = [1.3, 2.3, 3.4]\n",
    "typeof(a)\n",
    "b = [1.3, 2.1, 3.1]\n",
    "b.<a\n",
    "all(b.<a)\n",
    "norm(b)"
   ]
  },
  {
   "cell_type": "code",
   "execution_count": 174,
   "metadata": {},
   "outputs": [
    {
     "data": {
      "text/plain": [
       "true"
      ]
     },
     "execution_count": 174,
     "metadata": {},
     "output_type": "execute_result"
    }
   ],
   "source": [
    "r = [11.2; -0.8; 5.6]\n",
    "r = [9.2; -0.1; 5.6]\n",
    "r = [-9.5; -0.1; 5.6]\n",
    "r = [8.5; -0.1; 4.6]\n",
    "# r = [21.0, -10.0, -5.0]\n",
    "checkIfInISS(r, env)"
   ]
  },
  {
   "cell_type": "code",
   "execution_count": 167,
   "metadata": {},
   "outputs": [
    {
     "data": {
      "text/plain": [
       "checkIfInISS (generic function with 1 method)"
      ]
     },
     "execution_count": 167,
     "metadata": {},
     "output_type": "execute_result"
    }
   ],
   "source": []
  },
  {
   "cell_type": "code",
   "execution_count": 110,
   "metadata": {},
   "outputs": [
    {
     "name": "stdout",
     "output_type": "stream",
     "text": [
      "(TOSgusto.SCPS).converged = true\n",
      "(TOSgusto.SCPS).iterations = 10\n",
      "(TOSgusto.SCPS).total_time = 7.367700549\n",
      "(TOSgusto.SCPS).accept_solution = Bool[true, true, true, true, true, true, true, true, true, true, true]\n",
      "(TOSgusto.SCPS).solver_status = Union{TerminationStatusCode, Symbol}[:NA, LOCALLY_SOLVED, LOCALLY_SOLVED, LOCALLY_SOLVED, LOCALLY_SOLVED, LOCALLY_SOLVED, LOCALLY_SOLVED, LOCALLY_SOLVED, LOCALLY_SOLVED, LOCALLY_SOLVED, LOCALLY_SOLVED]\n",
      "(TOSgusto.SCPS).scp_status = Symbol[:NA, :OK, :OK, :OK, :OK, :OK, :OK, :OK, :OK, :OK, :OK]\n",
      "(TOSgusto.SCPS).convergence_measure = [0.0, 0.0862169, 0.0316535, 0.0069407, 0.00460227, 0.00413383, 0.00133496, 0.00297484, 0.000578852, 3.6661e-5, 3.07603e-6]\n",
      "(((TOSgusto.SCPS).param).alg).ω_vec = [1.0, 1.0, 1.0, 1.0, 1.0, 1.0, 1.0, 1.0, 1.0, 1.0, 1.0]\n",
      "(((TOSgusto.SCPS).param).alg).Δ_vec = [1000.0, 1000.0, 1000.0, 1000.0, 1000.0, 1000.0, 1000.0, 1000.0, 1000.0, 1000.0, 1000.0]\n",
      "(TOSgusto.SCPS).J_true = Any[0.0, 0.0527407, 0.0179525, 0.017594, 0.017239, 0.0170903, 0.0170072, 0.0169793, 0.0169355, 0.0169352, 0.0169352]\n",
      "(TOSgusto.SCPS).dual = [0.00914058, -0.00103287, -8.63145e-5, 0.303489, 0.0621193, 0.00967917, 2.73096e-7, 1.66166e-6, -2.18558e-28, 2.00112e-30, 4.2741e-5, -2.08228e-27, 6.42432e-28]\n"
     ]
    }
   ],
   "source": [
    "@show TOSgusto.SCPS.converged\n",
    "@show TOSgusto.SCPS.iterations\n",
    "@show TOSgusto.SCPS.total_time\n",
    "@show TOSgusto.SCPS.accept_solution\n",
    "@show TOSgusto.SCPS.solver_status\n",
    "@show TOSgusto.SCPS.scp_status\n",
    "@show TOSgusto.SCPS.convergence_measure\n",
    "@show TOSgusto.SCPS.param.alg.ω_vec\n",
    "@show TOSgusto.SCPS.param.alg.Δ_vec\n",
    "@show TOSgusto.SCPS.J_true\n",
    "@show TOSgusto.SCPS.dual\n",
    ";"
   ]
  },
  {
   "cell_type": "code",
   "execution_count": 111,
   "metadata": {},
   "outputs": [
    {
     "data": {
      "image/png": "[encoded data removed]"
     },
     "execution_count": 111,
     "metadata": {},
     "output_type": "execute_result"
    }
   ],
   "source": [
    "using Plots\n",
    "gr(fmt=:png)\n",
    "plot()\n",
    "for i = 7:10\n",
    "    plot!([collect(1:N)],[TOSgusto.SCPS.traj.X[i,:]],\n",
    "        xlabel = \"q\",\n",
    "        ylabel = \"y\",\n",
    "        legend = :none)\n",
    "end\n",
    "plot!()"
   ]
  },
  {
   "cell_type": "code",
   "execution_count": 112,
   "metadata": {},
   "outputs": [
    {
     "data": {
      "image/png": "[encoded data removed]"
     },
     "execution_count": 112,
     "metadata": {},
     "output_type": "execute_result"
    }
   ],
   "source": [
    "gr(fmt=:png)\n",
    "plot()\n",
    "plot!([collect(1:N)],[TOSgusto.SCPS.traj.X[4,:]],\n",
    "    xlabel = \"q\",\n",
    "    ylabel = \"y\",\n",
    "    legend = :none)"
   ]
  },
  {
   "cell_type": "code",
   "execution_count": 113,
   "metadata": {},
   "outputs": [
    {
     "data": {
      "image/png": "[encoded data removed]"
     },
     "execution_count": 113,
     "metadata": {},
     "output_type": "execute_result"
    }
   ],
   "source": [
    "gr(fmt=:png)\n",
    "plot()\n",
    "plot!([collect(1:N)],[TOSgusto.SCPS.traj.X[1,:]],\n",
    "    xlabel = \"q\",\n",
    "    ylabel = \"y\",\n",
    "    legend = :none)"
   ]
  },
  {
   "cell_type": "code",
   "execution_count": 114,
   "metadata": {},
   "outputs": [
    {
     "name": "stdout",
     "output_type": "stream",
     "text": [
      "instantiated a floating joint\n"
     ]
    },
    {
     "name": "stderr",
     "output_type": "stream",
     "text": [
      "┌ Info: Serving MeshCat visualizer at http://127.0.0.1:8705\n",
      "└ @ MeshCat /home/freeflyerhub/.julia/packages/MeshCat/WlA0B/src/servers.jl:24\n"
     ]
    },
    {
     "data": {
      "text/plain": [
       "Process(`\u001b[4mxdg-open\u001b[24m \u001b[4mhttp://127.0.0.1:8705\u001b[24m`, ProcessExited(0))"
      ]
     },
     "execution_count": 114,
     "metadata": {},
     "output_type": "execute_result"
    }
   ],
   "source": [
    "using AstrobeeRobot\n",
    "\n",
    "# Animate Astrobee trajectory\n",
    "vis = Visualizer()\n",
    "delete!(vis)\n",
    "\n",
    "vis[:goal]\n",
    "for (idx,obs) in enumerate(env.keepout_zones)\n",
    "    setobject!(vis[:goal][:goal], \n",
    "        Object(HyperSphere(Point3f0(x_goal[1:3]), 0.1f0),\n",
    "            MeshBasicMaterial(color=RGBA(0,1.0,0.,0.3))))\n",
    "end\n",
    "\n",
    "vis[:workspace]\n",
    "for (idx,ws) in enumerate(env.keepin_zones)\n",
    "    if idx in (5,8)\n",
    "        setobject!(vis[:workspace][Symbol(string(\"ws\",idx))],\n",
    "            Object(ws, MeshBasicMaterial(color=RGBA(0.95,0.93,0.26,0.3), depthWrite=false)))\n",
    "    else\n",
    "        setobject!(vis[:workspace][Symbol(string(\"ws\",idx))],\n",
    "            Object(ws, MeshBasicMaterial(color=RGBA(0.95,0.93,0.26,0.3))))\n",
    "    end\n",
    "end\n",
    "\n",
    "vis[:obstacle]\n",
    "for (idx,ws) in enumerate(env.obstacle_set)\n",
    "    setobject!(vis[:workspace][Symbol(string(\"ws\",idx+length(env.keepin_zones)))],\n",
    "        Object(ws,MeshBasicMaterial(color=RGBA(0.95,0.26,0.26,0.3))))\n",
    "end\n",
    "\n",
    "ab = Astrobee()\n",
    "mvis = MechanismVisualizer(\n",
    "    ab.mechanism,\n",
    "    URDFVisuals(AstrobeeRobot.urdfpath(), package_path=[dirname(dirname(AstrobeeRobot.urdfpath()))]),\n",
    "    vis);\n",
    "\n",
    "speed_factor = 3\n",
    "\n",
    "Qs = Vector{Vector{Float64}}()\n",
    "for k in 1:speed_factor:N\n",
    "#     q = [quat_inv(TOS_SCP.SCPS.traj.X[7:10,k]); TOS_SCP.SCPS.traj.X[1:3,k]]\n",
    "    q = [quat_inv(TOSgusto.SCPS.traj.X[7:10,k]); TOSgusto.SCPS.traj.X[1:3,k]]\n",
    "    push!(Qs,q)\n",
    "end\n",
    "\n",
    "trans = Translation(14., -1., 7.)\n",
    "rot = LinearMap(RotZ(-0.6)) ∘ LinearMap(RotY(-0.2))\n",
    "settransform!(vis[\"/Cameras/default\"], trans ∘ rot)\n",
    "setprop!(vis[\"/Cameras/default/rotated/<object>\"], \"zoom\", 1.9)\n",
    "setprop!(vis[\"/Cameras/default/rotated/<object>\"], \"near\", 0.05)\n",
    "\n",
    "sleep(3)\n",
    "setanimation!(mvis,1:length(Qs),Qs)\n",
    "\n",
    "plot_in_cell = false\n",
    "plot_in_cell ? IJuliaCell(vis) : open(vis)"
   ]
  },
  {
   "cell_type": "code",
   "execution_count": null,
   "metadata": {},
   "outputs": [],
   "source": []
  },
  {
   "cell_type": "code",
   "execution_count": null,
   "metadata": {},
   "outputs": [],
   "source": []
  },
  {
   "cell_type": "code",
   "execution_count": null,
   "metadata": {},
   "outputs": [],
   "source": []
  },
  {
   "cell_type": "code",
   "execution_count": null,
   "metadata": {},
   "outputs": [],
   "source": []
  }
 ],
 "metadata": {
  "kernelspec": {
   "display_name": "Julia 1.0.3",
   "language": "julia",
   "name": "julia-1.0"
  },
  "language_info": {
   "file_extension": ".jl",
   "mimetype": "application/julia",
   "name": "julia",
   "version": "1.0.3"
  }
 },
 "nbformat": 4,
 "nbformat_minor": 2
}
