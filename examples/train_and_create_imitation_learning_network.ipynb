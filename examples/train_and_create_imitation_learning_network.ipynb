{
 "cells": [
  {
   "cell_type": "code",
   "execution_count": 1,
   "metadata": {},
   "outputs": [
    {
     "name": "stderr",
     "output_type": "stream",
     "text": [
      "Using TensorFlow backend.\n"
     ]
    }
   ],
   "source": [
    "# organize imports\n",
    "from keras.models import Sequential\n",
    "from keras.layers import Dense\n",
    "from sklearn.model_selection import train_test_split\n",
    "import numpy as np\n",
    "import h5py\n",
    "import os\n",
    "import matplotlib.pyplot as plt\n",
    "\n"
   ]
  },
  {
   "cell_type": "code",
   "execution_count": 2,
   "metadata": {},
   "outputs": [],
   "source": [
    "# seed for reproducing same results\n",
    "seed = 9\n",
    "np.random.seed(seed)\n",
    "\n"
   ]
  },
  {
   "cell_type": "markdown",
   "metadata": {},
   "source": [
    "# Load data and create test and training inputs and outputs"
   ]
  },
  {
   "cell_type": "code",
   "execution_count": 31,
   "metadata": {},
   "outputs": [],
   "source": [
    "# filenames must be a list\n",
    "def loadData(filenames, testRatio = 0.25):\n",
    "    # load simple dataset\n",
    "    for i, filename in enumerate(filenames):\n",
    "        PATH_FILE_TRAINING3 = os.getcwd()+\"/\"+filename\n",
    "        f = h5py.File(PATH_FILE_TRAINING3, \"r\")\n",
    "        # split into input and output variables\n",
    "        if i==0:\n",
    "            X       = f[\"train_input_collected\"].value;     \n",
    "            X      = X.transpose();\n",
    "            Y        = f[\"train_output_collected\"].value;      \n",
    "            Y       = Y.transpose();\n",
    "        else:\n",
    "            X1       = f[\"train_input_collected\"].value;     \n",
    "            X1      = X1.transpose();\n",
    "            Y1        = f[\"train_output_collected\"].value;      \n",
    "            Y1       = Y1.transpose();\n",
    "            X = np.vstack((X,X1))\n",
    "            Y = np.vstack((Y,Y1))   \n",
    "    \n",
    "    # split the data into training (75%) and testing (25%)\n",
    "    (X_train, X_test, Y_train, Y_test) = train_test_split(X, Y, test_size=testRatio, random_state=seed)\n",
    "\n",
    "    # Examine shape of data\n",
    "    print(np.shape(X))\n",
    "    print(np.shape(Y))\n",
    "    print(np.shape(X_train))\n",
    "    print(np.shape(X_test))\n",
    "    print(np.shape(Y_train))\n",
    "    print(np.shape(Y_test))\n",
    "    return X_train, X_test, Y_train, Y_test\n",
    "\n"
   ]
  },
  {
   "cell_type": "markdown",
   "metadata": {},
   "source": [
    "# Simple no obstacle dataset - small batch"
   ]
  },
  {
   "cell_type": "code",
   "execution_count": 25,
   "metadata": {},
   "outputs": [
    {
     "name": "stdout",
     "output_type": "stream",
     "text": [
      "(1671, 182)\n",
      "(1671, 180)\n",
      "(1253, 182)\n",
      "(418, 182)\n",
      "(1253, 180)\n",
      "(418, 180)\n"
     ]
    }
   ],
   "source": [
    "(X_train, X_test, Y_train, Y_test) = loadData([\"thirdBatch.jld2\"], testRatio = 0.25)"
   ]
  },
  {
   "cell_type": "code",
   "execution_count": 26,
   "metadata": {},
   "outputs": [
    {
     "name": "stdout",
     "output_type": "stream",
     "text": [
      "WARNING:tensorflow:From /usr/local/lib/python3.5/dist-packages/tensorflow/python/framework/op_def_library.py:263: colocate_with (from tensorflow.python.framework.ops) is deprecated and will be removed in a future version.\n",
      "Instructions for updating:\n",
      "Colocations handled automatically by placer.\n"
     ]
    }
   ],
   "source": [
    "# create the model\n",
    "model = Sequential()\n",
    "model.add(Dense(256, input_dim=182, kernel_initializer='uniform', activation='relu'))\n",
    "# model.add(Dense(256, init='uniform', activation='relu'))\n",
    "model.add(Dense(128, kernel_initializer='uniform', activation='relu'))\n",
    "model.add(Dense(64, kernel_initializer='uniform', activation='relu'))\n",
    "model.add(Dense(128, kernel_initializer='uniform', activation='relu'))\n",
    "model.add(Dense(256, kernel_initializer='uniform', activation='relu'))\n",
    "model.add(Dense(180, kernel_initializer='uniform', activation='relu'))\n",
    "\n",
    "# compile the model\n",
    "model.compile(loss='mean_squared_error', optimizer='adam', metrics=['mean_squared_error'])\n",
    "# model.compile(loss='mean_squared_error', optimizer='adam', metrics=['mean_squared_error'])\n",
    "\n"
   ]
  },
  {
   "cell_type": "code",
   "execution_count": 27,
   "metadata": {},
   "outputs": [
    {
     "name": "stdout",
     "output_type": "stream",
     "text": [
      "WARNING:tensorflow:From /usr/local/lib/python3.5/dist-packages/tensorflow/python/ops/math_ops.py:3066: to_int32 (from tensorflow.python.ops.math_ops) is deprecated and will be removed in a future version.\n",
      "Instructions for updating:\n",
      "Use tf.cast instead.\n",
      "Train on 1253 samples, validate on 418 samples\n",
      "Epoch 1/100\n",
      "1253/1253 [==============================] - 3s 2ms/step - loss: 0.0036 - mean_squared_error: 0.0036 - val_loss: 0.0031 - val_mean_squared_error: 0.0031\n",
      "Epoch 2/100\n",
      "1253/1253 [==============================] - 1s 911us/step - loss: 0.0039 - mean_squared_error: 0.0039 - val_loss: 0.0039 - val_mean_squared_error: 0.0039\n",
      "Epoch 3/100\n",
      "1253/1253 [==============================] - 1s 926us/step - loss: 0.0034 - mean_squared_error: 0.0034 - val_loss: 0.0030 - val_mean_squared_error: 0.0030\n",
      "Epoch 4/100\n",
      "1253/1253 [==============================] - 1s 920us/step - loss: 0.0032 - mean_squared_error: 0.0032 - val_loss: 0.0029 - val_mean_squared_error: 0.0029\n",
      "Epoch 5/100\n",
      "1253/1253 [==============================] - 1s 1ms/step - loss: 0.0032 - mean_squared_error: 0.0032 - val_loss: 0.0031 - val_mean_squared_error: 0.0031\n",
      "Epoch 6/100\n",
      "1253/1253 [==============================] - 1s 958us/step - loss: 0.0032 - mean_squared_error: 0.0032 - val_loss: 0.0029 - val_mean_squared_error: 0.0029\n",
      "Epoch 7/100\n",
      "1253/1253 [==============================] - 1s 936us/step - loss: 0.0031 - mean_squared_error: 0.0031 - val_loss: 0.0029 - val_mean_squared_error: 0.0029\n",
      "Epoch 8/100\n",
      "1253/1253 [==============================] - 1s 908us/step - loss: 0.0031 - mean_squared_error: 0.0031 - val_loss: 0.0029 - val_mean_squared_error: 0.0029\n",
      "Epoch 9/100\n",
      "1253/1253 [==============================] - 1s 957us/step - loss: 0.0031 - mean_squared_error: 0.0031 - val_loss: 0.0029 - val_mean_squared_error: 0.0029\n",
      "Epoch 10/100\n",
      "1253/1253 [==============================] - 1s 959us/step - loss: 0.0031 - mean_squared_error: 0.0031 - val_loss: 0.0031 - val_mean_squared_error: 0.0031\n",
      "Epoch 11/100\n",
      "1253/1253 [==============================] - 1s 1ms/step - loss: 0.0031 - mean_squared_error: 0.0031 - val_loss: 0.0029 - val_mean_squared_error: 0.0029\n",
      "Epoch 12/100\n",
      "1253/1253 [==============================] - 1s 1ms/step - loss: 0.0031 - mean_squared_error: 0.0031 - val_loss: 0.0029 - val_mean_squared_error: 0.0029\n",
      "Epoch 13/100\n",
      "1253/1253 [==============================] - 1s 1ms/step - loss: 0.0031 - mean_squared_error: 0.0031 - val_loss: 0.0029 - val_mean_squared_error: 0.0029\n",
      "Epoch 14/100\n",
      "1253/1253 [==============================] - 1s 1ms/step - loss: 0.0031 - mean_squared_error: 0.0031 - val_loss: 0.0029 - val_mean_squared_error: 0.0029\n",
      "Epoch 15/100\n",
      "1253/1253 [==============================] - 1s 1ms/step - loss: 0.0031 - mean_squared_error: 0.0031 - val_loss: 0.0029 - val_mean_squared_error: 0.0029\n",
      "Epoch 16/100\n",
      "1253/1253 [==============================] - 1s 1ms/step - loss: 0.0031 - mean_squared_error: 0.0031 - val_loss: 0.0029 - val_mean_squared_error: 0.0029\n",
      "Epoch 17/100\n",
      "1253/1253 [==============================] - 1s 962us/step - loss: 0.0031 - mean_squared_error: 0.0031 - val_loss: 0.0029 - val_mean_squared_error: 0.0029\n",
      "Epoch 18/100\n",
      "1253/1253 [==============================] - 1s 1ms/step - loss: 0.0031 - mean_squared_error: 0.0031 - val_loss: 0.0030 - val_mean_squared_error: 0.0030\n",
      "Epoch 19/100\n",
      "1253/1253 [==============================] - 1s 1ms/step - loss: 0.0031 - mean_squared_error: 0.0031 - val_loss: 0.0030 - val_mean_squared_error: 0.0030\n",
      "Epoch 20/100\n",
      "1253/1253 [==============================] - 1s 628us/step - loss: 0.0031 - mean_squared_error: 0.0031 - val_loss: 0.0029 - val_mean_squared_error: 0.0029\n",
      "Epoch 21/100\n",
      "1253/1253 [==============================] - 1s 607us/step - loss: 0.0031 - mean_squared_error: 0.0031 - val_loss: 0.0029 - val_mean_squared_error: 0.0029\n",
      "Epoch 22/100\n",
      "1253/1253 [==============================] - 1s 791us/step - loss: 0.0031 - mean_squared_error: 0.0031 - val_loss: 0.0029 - val_mean_squared_error: 0.0029\n",
      "Epoch 23/100\n",
      "1253/1253 [==============================] - 1s 513us/step - loss: 0.0030 - mean_squared_error: 0.0030 - val_loss: 0.0029 - val_mean_squared_error: 0.0029\n",
      "Epoch 24/100\n",
      "1253/1253 [==============================] - 1s 511us/step - loss: 0.0031 - mean_squared_error: 0.0031 - val_loss: 0.0029 - val_mean_squared_error: 0.0029\n",
      "Epoch 25/100\n",
      "1253/1253 [==============================] - 1s 531us/step - loss: 0.0030 - mean_squared_error: 0.0030 - val_loss: 0.0029 - val_mean_squared_error: 0.0029\n",
      "Epoch 26/100\n",
      "1253/1253 [==============================] - 1s 516us/step - loss: 0.0030 - mean_squared_error: 0.0030 - val_loss: 0.0029 - val_mean_squared_error: 0.0029\n",
      "Epoch 27/100\n",
      "1253/1253 [==============================] - 1s 511us/step - loss: 0.0031 - mean_squared_error: 0.0031 - val_loss: 0.0029 - val_mean_squared_error: 0.0029\n",
      "Epoch 28/100\n",
      "1253/1253 [==============================] - 1s 512us/step - loss: 0.0031 - mean_squared_error: 0.0031 - val_loss: 0.0029 - val_mean_squared_error: 0.0029\n",
      "Epoch 29/100\n",
      "1253/1253 [==============================] - 1s 507us/step - loss: 0.0031 - mean_squared_error: 0.0031 - val_loss: 0.0029 - val_mean_squared_error: 0.0029\n",
      "Epoch 30/100\n",
      "1253/1253 [==============================] - 1s 553us/step - loss: 0.0031 - mean_squared_error: 0.0031 - val_loss: 0.0029 - val_mean_squared_error: 0.0029\n",
      "Epoch 31/100\n",
      "1253/1253 [==============================] - 1s 516us/step - loss: 0.0030 - mean_squared_error: 0.0030 - val_loss: 0.0029 - val_mean_squared_error: 0.0029\n",
      "Epoch 32/100\n",
      "1253/1253 [==============================] - 1s 514us/step - loss: 0.0031 - mean_squared_error: 0.0031 - val_loss: 0.0029 - val_mean_squared_error: 0.0029\n",
      "Epoch 33/100\n",
      "1253/1253 [==============================] - 1s 519us/step - loss: 0.0030 - mean_squared_error: 0.0030 - val_loss: 0.0029 - val_mean_squared_error: 0.0029\n",
      "Epoch 34/100\n",
      "1253/1253 [==============================] - 1s 513us/step - loss: 0.0030 - mean_squared_error: 0.0030 - val_loss: 0.0029 - val_mean_squared_error: 0.0029\n",
      "Epoch 35/100\n",
      "1253/1253 [==============================] - 1s 514us/step - loss: 0.0031 - mean_squared_error: 0.0031 - val_loss: 0.0029 - val_mean_squared_error: 0.0029\n",
      "Epoch 36/100\n",
      "1253/1253 [==============================] - 1s 508us/step - loss: 0.0031 - mean_squared_error: 0.0031 - val_loss: 0.0030 - val_mean_squared_error: 0.0030\n",
      "Epoch 37/100\n",
      "1253/1253 [==============================] - 1s 510us/step - loss: 0.0031 - mean_squared_error: 0.0031 - val_loss: 0.0029 - val_mean_squared_error: 0.0029\n",
      "Epoch 38/100\n",
      "1253/1253 [==============================] - 1s 527us/step - loss: 0.0031 - mean_squared_error: 0.0031 - val_loss: 0.0029 - val_mean_squared_error: 0.0029\n",
      "Epoch 39/100\n",
      "1253/1253 [==============================] - 1s 513us/step - loss: 0.0030 - mean_squared_error: 0.0030 - val_loss: 0.0029 - val_mean_squared_error: 0.0029\n",
      "Epoch 40/100\n",
      "1253/1253 [==============================] - 1s 510us/step - loss: 0.0030 - mean_squared_error: 0.0030 - val_loss: 0.0029 - val_mean_squared_error: 0.0029\n",
      "Epoch 41/100\n",
      "1253/1253 [==============================] - 1s 519us/step - loss: 0.0030 - mean_squared_error: 0.0030 - val_loss: 0.0029 - val_mean_squared_error: 0.0029\n",
      "Epoch 42/100\n",
      "1253/1253 [==============================] - 1s 513us/step - loss: 0.0030 - mean_squared_error: 0.0030 - val_loss: 0.0029 - val_mean_squared_error: 0.0029\n",
      "Epoch 43/100\n",
      "1253/1253 [==============================] - 1s 532us/step - loss: 0.0030 - mean_squared_error: 0.0030 - val_loss: 0.0029 - val_mean_squared_error: 0.0029\n",
      "Epoch 44/100\n",
      "1253/1253 [==============================] - 1s 538us/step - loss: 0.0031 - mean_squared_error: 0.0031 - val_loss: 0.0029 - val_mean_squared_error: 0.0029\n",
      "Epoch 45/100\n",
      "1253/1253 [==============================] - 1s 515us/step - loss: 0.0031 - mean_squared_error: 0.0031 - val_loss: 0.0029 - val_mean_squared_error: 0.0029\n",
      "Epoch 46/100\n",
      "1253/1253 [==============================] - 1s 522us/step - loss: 0.0030 - mean_squared_error: 0.0030 - val_loss: 0.0029 - val_mean_squared_error: 0.0029\n",
      "Epoch 47/100\n",
      "1253/1253 [==============================] - 1s 525us/step - loss: 0.0030 - mean_squared_error: 0.0030 - val_loss: 0.0029 - val_mean_squared_error: 0.0029\n",
      "Epoch 48/100\n"
     ]
    },
    {
     "name": "stdout",
     "output_type": "stream",
     "text": [
      "1253/1253 [==============================] - 1s 517us/step - loss: 0.0033 - mean_squared_error: 0.0033 - val_loss: 0.0039 - val_mean_squared_error: 0.0039\n",
      "Epoch 49/100\n",
      "1253/1253 [==============================] - 1s 518us/step - loss: 0.0032 - mean_squared_error: 0.0032 - val_loss: 0.0029 - val_mean_squared_error: 0.0029\n",
      "Epoch 50/100\n",
      "1253/1253 [==============================] - 1s 529us/step - loss: 0.0030 - mean_squared_error: 0.0030 - val_loss: 0.0029 - val_mean_squared_error: 0.0029\n",
      "Epoch 51/100\n",
      "1253/1253 [==============================] - 1s 527us/step - loss: 0.0030 - mean_squared_error: 0.0030 - val_loss: 0.0029 - val_mean_squared_error: 0.0029\n",
      "Epoch 52/100\n",
      "1253/1253 [==============================] - 1s 553us/step - loss: 0.0030 - mean_squared_error: 0.0030 - val_loss: 0.0029 - val_mean_squared_error: 0.0029\n",
      "Epoch 53/100\n",
      "1253/1253 [==============================] - 1s 542us/step - loss: 0.0030 - mean_squared_error: 0.0030 - val_loss: 0.0029 - val_mean_squared_error: 0.0029\n",
      "Epoch 54/100\n",
      "1253/1253 [==============================] - 1s 561us/step - loss: 0.0030 - mean_squared_error: 0.0030 - val_loss: 0.0030 - val_mean_squared_error: 0.0030\n",
      "Epoch 55/100\n",
      "1253/1253 [==============================] - 1s 548us/step - loss: 0.0032 - mean_squared_error: 0.0032 - val_loss: 0.0030 - val_mean_squared_error: 0.0030\n",
      "Epoch 56/100\n",
      "1253/1253 [==============================] - 1s 637us/step - loss: 0.0031 - mean_squared_error: 0.0031 - val_loss: 0.0029 - val_mean_squared_error: 0.0029\n",
      "Epoch 57/100\n",
      "1253/1253 [==============================] - 1s 603us/step - loss: 0.0031 - mean_squared_error: 0.0031 - val_loss: 0.0029 - val_mean_squared_error: 0.0029\n",
      "Epoch 58/100\n",
      "1253/1253 [==============================] - 1s 600us/step - loss: 0.0030 - mean_squared_error: 0.0030 - val_loss: 0.0029 - val_mean_squared_error: 0.0029\n",
      "Epoch 59/100\n",
      "1253/1253 [==============================] - 1s 602us/step - loss: 0.0030 - mean_squared_error: 0.0030 - val_loss: 0.0029 - val_mean_squared_error: 0.0029\n",
      "Epoch 60/100\n",
      "1253/1253 [==============================] - 1s 599us/step - loss: 0.0030 - mean_squared_error: 0.0030 - val_loss: 0.0029 - val_mean_squared_error: 0.0029\n",
      "Epoch 61/100\n",
      "1253/1253 [==============================] - 1s 560us/step - loss: 0.0030 - mean_squared_error: 0.0030 - val_loss: 0.0029 - val_mean_squared_error: 0.0029\n",
      "Epoch 62/100\n",
      "1253/1253 [==============================] - 1s 547us/step - loss: 0.0030 - mean_squared_error: 0.0030 - val_loss: 0.0029 - val_mean_squared_error: 0.0029\n",
      "Epoch 63/100\n",
      "1253/1253 [==============================] - 1s 547us/step - loss: 0.0030 - mean_squared_error: 0.0030 - val_loss: 0.0029 - val_mean_squared_error: 0.0029\n",
      "Epoch 64/100\n",
      "1253/1253 [==============================] - 1s 563us/step - loss: 0.0030 - mean_squared_error: 0.0030 - val_loss: 0.0029 - val_mean_squared_error: 0.0029\n",
      "Epoch 65/100\n",
      "1253/1253 [==============================] - 1s 553us/step - loss: 0.0030 - mean_squared_error: 0.0030 - val_loss: 0.0029 - val_mean_squared_error: 0.0029\n",
      "Epoch 66/100\n",
      "1253/1253 [==============================] - 1s 545us/step - loss: 0.0030 - mean_squared_error: 0.0030 - val_loss: 0.0029 - val_mean_squared_error: 0.0029\n",
      "Epoch 67/100\n",
      "1253/1253 [==============================] - 1s 563us/step - loss: 0.0030 - mean_squared_error: 0.0030 - val_loss: 0.0029 - val_mean_squared_error: 0.0029\n",
      "Epoch 68/100\n",
      "1253/1253 [==============================] - 1s 571us/step - loss: 0.0030 - mean_squared_error: 0.0030 - val_loss: 0.0029 - val_mean_squared_error: 0.0029\n",
      "Epoch 69/100\n",
      "1253/1253 [==============================] - 1s 551us/step - loss: 0.0030 - mean_squared_error: 0.0030 - val_loss: 0.0029 - val_mean_squared_error: 0.0029\n",
      "Epoch 70/100\n",
      "1253/1253 [==============================] - 1s 583us/step - loss: 0.0030 - mean_squared_error: 0.0030 - val_loss: 0.0029 - val_mean_squared_error: 0.0029\n",
      "Epoch 71/100\n",
      "1253/1253 [==============================] - 1s 602us/step - loss: 0.0030 - mean_squared_error: 0.0030 - val_loss: 0.0029 - val_mean_squared_error: 0.0029\n",
      "Epoch 72/100\n",
      "1253/1253 [==============================] - 1s 583us/step - loss: 0.0030 - mean_squared_error: 0.0030 - val_loss: 0.0029 - val_mean_squared_error: 0.0029\n",
      "Epoch 73/100\n",
      "1253/1253 [==============================] - 1s 558us/step - loss: 0.0030 - mean_squared_error: 0.0030 - val_loss: 0.0029 - val_mean_squared_error: 0.0029\n",
      "Epoch 74/100\n",
      "1253/1253 [==============================] - 1s 574us/step - loss: 0.0030 - mean_squared_error: 0.0030 - val_loss: 0.0029 - val_mean_squared_error: 0.0029\n",
      "Epoch 75/100\n",
      "1253/1253 [==============================] - 1s 561us/step - loss: 0.0030 - mean_squared_error: 0.0030 - val_loss: 0.0029 - val_mean_squared_error: 0.0029\n",
      "Epoch 76/100\n",
      "1253/1253 [==============================] - 1s 562us/step - loss: 0.0030 - mean_squared_error: 0.0030 - val_loss: 0.0029 - val_mean_squared_error: 0.0029\n",
      "Epoch 77/100\n",
      "1253/1253 [==============================] - 1s 587us/step - loss: 0.0030 - mean_squared_error: 0.0030 - val_loss: 0.0029 - val_mean_squared_error: 0.0029\n",
      "Epoch 78/100\n",
      "1253/1253 [==============================] - 1s 574us/step - loss: 0.0030 - mean_squared_error: 0.0030 - val_loss: 0.0029 - val_mean_squared_error: 0.0029\n",
      "Epoch 79/100\n",
      "1253/1253 [==============================] - 1s 568us/step - loss: 0.0030 - mean_squared_error: 0.0030 - val_loss: 0.0029 - val_mean_squared_error: 0.0029\n",
      "Epoch 80/100\n",
      "1253/1253 [==============================] - 1s 569us/step - loss: 0.0030 - mean_squared_error: 0.0030 - val_loss: 0.0029 - val_mean_squared_error: 0.0029\n",
      "Epoch 81/100\n",
      "1253/1253 [==============================] - 1s 585us/step - loss: 0.0030 - mean_squared_error: 0.0030 - val_loss: 0.0029 - val_mean_squared_error: 0.0029\n",
      "Epoch 82/100\n",
      "1253/1253 [==============================] - 1s 568us/step - loss: 0.0030 - mean_squared_error: 0.0030 - val_loss: 0.0029 - val_mean_squared_error: 0.0029\n",
      "Epoch 83/100\n",
      "1253/1253 [==============================] - 1s 576us/step - loss: 0.0030 - mean_squared_error: 0.0030 - val_loss: 0.0030 - val_mean_squared_error: 0.0030\n",
      "Epoch 84/100\n",
      "1253/1253 [==============================] - 1s 572us/step - loss: 0.0030 - mean_squared_error: 0.0030 - val_loss: 0.0029 - val_mean_squared_error: 0.0029\n",
      "Epoch 85/100\n",
      "1253/1253 [==============================] - 1s 575us/step - loss: 0.0030 - mean_squared_error: 0.0030 - val_loss: 0.0029 - val_mean_squared_error: 0.0029\n",
      "Epoch 86/100\n",
      "1253/1253 [==============================] - 1s 581us/step - loss: 0.0030 - mean_squared_error: 0.0030 - val_loss: 0.0029 - val_mean_squared_error: 0.0029\n",
      "Epoch 87/100\n",
      "1253/1253 [==============================] - 1s 582us/step - loss: 0.0030 - mean_squared_error: 0.0030 - val_loss: 0.0029 - val_mean_squared_error: 0.0029\n",
      "Epoch 88/100\n",
      "1253/1253 [==============================] - 1s 609us/step - loss: 0.0030 - mean_squared_error: 0.0030 - val_loss: 0.0029 - val_mean_squared_error: 0.0029\n",
      "Epoch 89/100\n",
      "1253/1253 [==============================] - 1s 609us/step - loss: 0.0030 - mean_squared_error: 0.0030 - val_loss: 0.0029 - val_mean_squared_error: 0.0029\n",
      "Epoch 90/100\n",
      "1253/1253 [==============================] - 1s 621us/step - loss: 0.0031 - mean_squared_error: 0.0031 - val_loss: 0.0029 - val_mean_squared_error: 0.0029\n",
      "Epoch 91/100\n",
      "1253/1253 [==============================] - 1s 596us/step - loss: 0.0030 - mean_squared_error: 0.0030 - val_loss: 0.0029 - val_mean_squared_error: 0.0029\n",
      "Epoch 92/100\n",
      "1253/1253 [==============================] - 1s 609us/step - loss: 0.0030 - mean_squared_error: 0.0030 - val_loss: 0.0029 - val_mean_squared_error: 0.0029\n",
      "Epoch 93/100\n",
      "1253/1253 [==============================] - 1s 632us/step - loss: 0.0030 - mean_squared_error: 0.0030 - val_loss: 0.0029 - val_mean_squared_error: 0.0029\n",
      "Epoch 94/100\n",
      "1253/1253 [==============================] - 1s 591us/step - loss: 0.0030 - mean_squared_error: 0.0030 - val_loss: 0.0029 - val_mean_squared_error: 0.0029\n",
      "Epoch 95/100\n",
      "1253/1253 [==============================] - 1s 593us/step - loss: 0.0030 - mean_squared_error: 0.0030 - val_loss: 0.0029 - val_mean_squared_error: 0.0029\n",
      "Epoch 96/100\n",
      "1253/1253 [==============================] - 1s 563us/step - loss: 0.0030 - mean_squared_error: 0.0030 - val_loss: 0.0029 - val_mean_squared_error: 0.0029\n"
     ]
    },
    {
     "name": "stdout",
     "output_type": "stream",
     "text": [
      "Epoch 97/100\n",
      "1253/1253 [==============================] - 1s 608us/step - loss: 0.0030 - mean_squared_error: 0.0030 - val_loss: 0.0029 - val_mean_squared_error: 0.0029\n",
      "Epoch 98/100\n",
      "1253/1253 [==============================] - 1s 642us/step - loss: 0.0030 - mean_squared_error: 0.0030 - val_loss: 0.0029 - val_mean_squared_error: 0.0029\n",
      "Epoch 99/100\n",
      "1253/1253 [==============================] - 1s 596us/step - loss: 0.0030 - mean_squared_error: 0.0030 - val_loss: 0.0029 - val_mean_squared_error: 0.0029\n",
      "Epoch 100/100\n",
      "1253/1253 [==============================] - 1s 655us/step - loss: 0.0030 - mean_squared_error: 0.0030 - val_loss: 0.0029 - val_mean_squared_error: 0.0029\n",
      "418/418 [==============================] - 0s 38us/step\n"
     ]
    }
   ],
   "source": [
    "# fit the model\n",
    "histSimple = model.fit(X_train, Y_train, validation_data=(X_test, Y_test), epochs=100, batch_size=5, verbose=1)\n",
    "\n",
    "# evaluate the model\n",
    "scores = model.evaluate(X_test, Y_test)"
   ]
  },
  {
   "cell_type": "code",
   "execution_count": 32,
   "metadata": {},
   "outputs": [
    {
     "data": {
      "text/plain": [
       "dict_keys(['mean_squared_error', 'val_mean_squared_error', 'val_loss', 'loss'])"
      ]
     },
     "execution_count": 32,
     "metadata": {},
     "output_type": "execute_result"
    }
   ],
   "source": [
    "histSimple.history.keys()"
   ]
  },
  {
   "cell_type": "code",
   "execution_count": 33,
   "metadata": {},
   "outputs": [
    {
     "data": {
      "image/png": "[encoded data removed]",
      "text/plain": [
       "<Figure size 432x288 with 1 Axes>"
      ]
     },
     "metadata": {
      "needs_background": "light"
     },
     "output_type": "display_data"
    }
   ],
   "source": [
    "# summarize history for loss\n",
    "plt.plot(histSimple.history['loss'])\n",
    "plt.plot(histSimple.history['val_loss'])\n",
    "plt.title('model loss')\n",
    "plt.ylabel('loss')\n",
    "plt.xlabel('epoch')\n",
    "plt.legend(['train', 'test'], loc='upper left')\n",
    "plt.show()"
   ]
  },
  {
   "cell_type": "code",
   "execution_count": 34,
   "metadata": {},
   "outputs": [
    {
     "data": {
      "image/png": "[encoded data removed]",
      "text/plain": [
       "<Figure size 432x288 with 1 Axes>"
      ]
     },
     "metadata": {
      "needs_background": "light"
     },
     "output_type": "display_data"
    }
   ],
   "source": [
    "# summarize history for loss\n",
    "plt.plot(histSimple.history['mean_squared_error'])\n",
    "plt.plot(histSimple.history['val_mean_squared_error'])\n",
    "plt.title('model MSE')\n",
    "plt.ylabel('MSE')\n",
    "plt.xlabel('epoch')\n",
    "plt.legend(['train', 'test'], loc='upper left')\n",
    "plt.show()"
   ]
  },
  {
   "cell_type": "markdown",
   "metadata": {},
   "source": [
    "# No obstacle dataset - medium batch NoObstacleFirst3Iter"
   ]
  },
  {
   "cell_type": "code",
   "execution_count": 35,
   "metadata": {},
   "outputs": [
    {
     "name": "stdout",
     "output_type": "stream",
     "text": [
      "(1026, 182)\n",
      "(1026, 180)\n",
      "(769, 182)\n",
      "(257, 182)\n",
      "(769, 180)\n",
      "(257, 180)\n"
     ]
    }
   ],
   "source": [
    "(X_train, X_test, Y_train, Y_test) = loadData([\"NoObstacleFirst3Iter.jld2\"], testRatio = 0.25)"
   ]
  },
  {
   "cell_type": "code",
   "execution_count": 36,
   "metadata": {},
   "outputs": [],
   "source": [
    "# create the model\n",
    "model = Sequential()\n",
    "model.add(Dense(256, input_dim=182, kernel_initializer='uniform', activation='relu'))\n",
    "# model.add(Dense(256, init='uniform', activation='relu'))\n",
    "model.add(Dense(128, kernel_initializer='uniform', activation='relu'))\n",
    "model.add(Dense(64, kernel_initializer='uniform', activation='relu'))\n",
    "model.add(Dense(128, kernel_initializer='uniform', activation='relu'))\n",
    "model.add(Dense(256, kernel_initializer='uniform', activation='relu'))\n",
    "model.add(Dense(180, kernel_initializer='uniform', activation='relu'))\n",
    "\n",
    "# compile the model\n",
    "model.compile(loss='mean_squared_error', optimizer='adam', metrics=['mean_squared_error'])\n",
    "# model.compile(loss='mean_squared_error', optimizer='adam', metrics=['mean_squared_error'])\n",
    "\n"
   ]
  },
  {
   "cell_type": "code",
   "execution_count": 37,
   "metadata": {},
   "outputs": [
    {
     "name": "stdout",
     "output_type": "stream",
     "text": [
      "Train on 769 samples, validate on 257 samples\n",
      "Epoch 1/100\n",
      "769/769 [==============================] - 1s 1ms/step - loss: 0.0039 - mean_squared_error: 0.0039 - val_loss: 0.0041 - val_mean_squared_error: 0.0041\n",
      "Epoch 2/100\n",
      "769/769 [==============================] - 1s 967us/step - loss: 0.0037 - mean_squared_error: 0.0037 - val_loss: 0.0039 - val_mean_squared_error: 0.0039\n",
      "Epoch 3/100\n",
      "769/769 [==============================] - 1s 1ms/step - loss: 0.0037 - mean_squared_error: 0.0037 - val_loss: 0.0039 - val_mean_squared_error: 0.0039\n",
      "Epoch 4/100\n",
      "769/769 [==============================] - 1s 1ms/step - loss: 0.0036 - mean_squared_error: 0.0036 - val_loss: 0.0038 - val_mean_squared_error: 0.0038\n",
      "Epoch 5/100\n",
      "769/769 [==============================] - 1s 1ms/step - loss: 0.0036 - mean_squared_error: 0.0036 - val_loss: 0.0038 - val_mean_squared_error: 0.0038\n",
      "Epoch 6/100\n",
      "769/769 [==============================] - 1s 997us/step - loss: 0.0036 - mean_squared_error: 0.0036 - val_loss: 0.0038 - val_mean_squared_error: 0.0038\n",
      "Epoch 7/100\n",
      "769/769 [==============================] - 1s 1ms/step - loss: 0.0036 - mean_squared_error: 0.0036 - val_loss: 0.0038 - val_mean_squared_error: 0.0038\n",
      "Epoch 8/100\n",
      "769/769 [==============================] - 1s 1ms/step - loss: 0.0036 - mean_squared_error: 0.0036 - val_loss: 0.0039 - val_mean_squared_error: 0.0039\n",
      "Epoch 9/100\n",
      "769/769 [==============================] - 1s 1ms/step - loss: 0.0036 - mean_squared_error: 0.0036 - val_loss: 0.0038 - val_mean_squared_error: 0.0038\n",
      "Epoch 10/100\n",
      "769/769 [==============================] - 1s 1ms/step - loss: 0.0036 - mean_squared_error: 0.0036 - val_loss: 0.0040 - val_mean_squared_error: 0.0040\n",
      "Epoch 11/100\n",
      "769/769 [==============================] - 1s 1ms/step - loss: 0.0036 - mean_squared_error: 0.0036 - val_loss: 0.0038 - val_mean_squared_error: 0.0038\n",
      "Epoch 12/100\n",
      "769/769 [==============================] - 1s 1ms/step - loss: 0.0036 - mean_squared_error: 0.0036 - val_loss: 0.0038 - val_mean_squared_error: 0.0038\n",
      "Epoch 13/100\n",
      "769/769 [==============================] - 1s 1ms/step - loss: 0.0036 - mean_squared_error: 0.0036 - val_loss: 0.0038 - val_mean_squared_error: 0.0038\n",
      "Epoch 14/100\n",
      "769/769 [==============================] - 1s 1ms/step - loss: 0.0036 - mean_squared_error: 0.0036 - val_loss: 0.0038 - val_mean_squared_error: 0.0038\n",
      "Epoch 15/100\n",
      "769/769 [==============================] - 1s 1ms/step - loss: 0.0035 - mean_squared_error: 0.0035 - val_loss: 0.0037 - val_mean_squared_error: 0.0037\n",
      "Epoch 16/100\n",
      "769/769 [==============================] - 1s 995us/step - loss: 0.0035 - mean_squared_error: 0.0035 - val_loss: 0.0038 - val_mean_squared_error: 0.0038\n",
      "Epoch 17/100\n",
      "769/769 [==============================] - 1s 1ms/step - loss: 0.0035 - mean_squared_error: 0.0035 - val_loss: 0.0038 - val_mean_squared_error: 0.0038\n",
      "Epoch 18/100\n",
      "769/769 [==============================] - 1s 1ms/step - loss: 0.0035 - mean_squared_error: 0.0035 - val_loss: 0.0037 - val_mean_squared_error: 0.0037\n",
      "Epoch 19/100\n",
      "769/769 [==============================] - 1s 1ms/step - loss: 0.0035 - mean_squared_error: 0.0035 - val_loss: 0.0037 - val_mean_squared_error: 0.0037\n",
      "Epoch 20/100\n",
      "769/769 [==============================] - 1s 1ms/step - loss: 0.0035 - mean_squared_error: 0.0035 - val_loss: 0.0037 - val_mean_squared_error: 0.0037\n",
      "Epoch 21/100\n",
      "769/769 [==============================] - 1s 1ms/step - loss: 0.0035 - mean_squared_error: 0.0035 - val_loss: 0.0037 - val_mean_squared_error: 0.0037\n",
      "Epoch 22/100\n",
      "769/769 [==============================] - 1s 1ms/step - loss: 0.0035 - mean_squared_error: 0.0035 - val_loss: 0.0037 - val_mean_squared_error: 0.0037\n",
      "Epoch 23/100\n",
      "769/769 [==============================] - 1s 1ms/step - loss: 0.0035 - mean_squared_error: 0.0035 - val_loss: 0.0037 - val_mean_squared_error: 0.0037\n",
      "Epoch 24/100\n",
      "769/769 [==============================] - 1s 997us/step - loss: 0.0035 - mean_squared_error: 0.0035 - val_loss: 0.0037 - val_mean_squared_error: 0.0037\n",
      "Epoch 25/100\n",
      "769/769 [==============================] - 1s 1ms/step - loss: 0.0035 - mean_squared_error: 0.0035 - val_loss: 0.0037 - val_mean_squared_error: 0.0037\n",
      "Epoch 26/100\n",
      "769/769 [==============================] - 1s 1ms/step - loss: 0.0035 - mean_squared_error: 0.0035 - val_loss: 0.0037 - val_mean_squared_error: 0.0037\n",
      "Epoch 27/100\n",
      "769/769 [==============================] - 1s 1ms/step - loss: 0.0035 - mean_squared_error: 0.0035 - val_loss: 0.0037 - val_mean_squared_error: 0.0037\n",
      "Epoch 28/100\n",
      "769/769 [==============================] - 1s 1ms/step - loss: 0.0035 - mean_squared_error: 0.0035 - val_loss: 0.0037 - val_mean_squared_error: 0.0037\n",
      "Epoch 29/100\n",
      "769/769 [==============================] - 1s 1ms/step - loss: 0.0035 - mean_squared_error: 0.0035 - val_loss: 0.0036 - val_mean_squared_error: 0.0036\n",
      "Epoch 30/100\n",
      "769/769 [==============================] - 1s 1ms/step - loss: 0.0034 - mean_squared_error: 0.0034 - val_loss: 0.0036 - val_mean_squared_error: 0.0036\n",
      "Epoch 31/100\n",
      "769/769 [==============================] - 1s 1ms/step - loss: 0.0034 - mean_squared_error: 0.0034 - val_loss: 0.0036 - val_mean_squared_error: 0.0036\n",
      "Epoch 32/100\n",
      "769/769 [==============================] - 1s 1ms/step - loss: 0.0034 - mean_squared_error: 0.0034 - val_loss: 0.0036 - val_mean_squared_error: 0.0036\n",
      "Epoch 33/100\n",
      "769/769 [==============================] - 1s 1ms/step - loss: 0.0034 - mean_squared_error: 0.0034 - val_loss: 0.0036 - val_mean_squared_error: 0.0036\n",
      "Epoch 34/100\n",
      "769/769 [==============================] - 1s 1ms/step - loss: 0.0034 - mean_squared_error: 0.0034 - val_loss: 0.0036 - val_mean_squared_error: 0.0036\n",
      "Epoch 35/100\n",
      "769/769 [==============================] - 1s 1ms/step - loss: 0.0034 - mean_squared_error: 0.0034 - val_loss: 0.0036 - val_mean_squared_error: 0.0036\n",
      "Epoch 36/100\n",
      "769/769 [==============================] - 1s 972us/step - loss: 0.0033 - mean_squared_error: 0.0033 - val_loss: 0.0034 - val_mean_squared_error: 0.0034\n",
      "Epoch 37/100\n",
      "769/769 [==============================] - 1s 1ms/step - loss: 0.0032 - mean_squared_error: 0.0032 - val_loss: 0.0034 - val_mean_squared_error: 0.0034\n",
      "Epoch 38/100\n",
      "769/769 [==============================] - 1s 908us/step - loss: 0.0032 - mean_squared_error: 0.0032 - val_loss: 0.0034 - val_mean_squared_error: 0.0034\n",
      "Epoch 39/100\n",
      "769/769 [==============================] - 1s 930us/step - loss: 0.0031 - mean_squared_error: 0.0031 - val_loss: 0.0033 - val_mean_squared_error: 0.0033\n",
      "Epoch 40/100\n",
      "769/769 [==============================] - 1s 1ms/step - loss: 0.0031 - mean_squared_error: 0.0031 - val_loss: 0.0033 - val_mean_squared_error: 0.0033\n",
      "Epoch 41/100\n",
      "769/769 [==============================] - 1s 1ms/step - loss: 0.0031 - mean_squared_error: 0.0031 - val_loss: 0.0033 - val_mean_squared_error: 0.0033\n",
      "Epoch 42/100\n",
      "769/769 [==============================] - 1s 1ms/step - loss: 0.0038 - mean_squared_error: 0.0038 - val_loss: 0.0043 - val_mean_squared_error: 0.0043\n",
      "Epoch 43/100\n",
      "769/769 [==============================] - 1s 1ms/step - loss: 0.0041 - mean_squared_error: 0.0041 - val_loss: 0.0043 - val_mean_squared_error: 0.0043\n",
      "Epoch 44/100\n",
      "769/769 [==============================] - 1s 1ms/step - loss: 0.0041 - mean_squared_error: 0.0041 - val_loss: 0.0043 - val_mean_squared_error: 0.0043\n",
      "Epoch 45/100\n",
      "769/769 [==============================] - 1s 1ms/step - loss: 0.0041 - mean_squared_error: 0.0041 - val_loss: 0.0043 - val_mean_squared_error: 0.0043\n",
      "Epoch 46/100\n",
      "769/769 [==============================] - 1s 1ms/step - loss: 0.0041 - mean_squared_error: 0.0041 - val_loss: 0.0043 - val_mean_squared_error: 0.0043\n",
      "Epoch 47/100\n",
      "769/769 [==============================] - 1s 1ms/step - loss: 0.0041 - mean_squared_error: 0.0041 - val_loss: 0.0043 - val_mean_squared_error: 0.0043\n",
      "Epoch 48/100\n",
      "769/769 [==============================] - 1s 1ms/step - loss: 0.0041 - mean_squared_error: 0.0041 - val_loss: 0.0043 - val_mean_squared_error: 0.0043\n",
      "Epoch 49/100\n",
      "769/769 [==============================] - 1s 1ms/step - loss: 0.0041 - mean_squared_error: 0.0041 - val_loss: 0.0043 - val_mean_squared_error: 0.0043\n",
      "Epoch 50/100\n"
     ]
    },
    {
     "name": "stdout",
     "output_type": "stream",
     "text": [
      "769/769 [==============================] - 1s 1ms/step - loss: 0.0041 - mean_squared_error: 0.0041 - val_loss: 0.0043 - val_mean_squared_error: 0.0043\n",
      "Epoch 51/100\n",
      "769/769 [==============================] - 1s 1ms/step - loss: 0.0041 - mean_squared_error: 0.0041 - val_loss: 0.0043 - val_mean_squared_error: 0.0043\n",
      "Epoch 52/100\n",
      "769/769 [==============================] - 1s 991us/step - loss: 0.0041 - mean_squared_error: 0.0041 - val_loss: 0.0043 - val_mean_squared_error: 0.0043\n",
      "Epoch 53/100\n",
      "769/769 [==============================] - 1s 948us/step - loss: 0.0041 - mean_squared_error: 0.0041 - val_loss: 0.0043 - val_mean_squared_error: 0.0043\n",
      "Epoch 54/100\n",
      "769/769 [==============================] - 1s 944us/step - loss: 0.0041 - mean_squared_error: 0.0041 - val_loss: 0.0043 - val_mean_squared_error: 0.0043\n",
      "Epoch 55/100\n",
      "769/769 [==============================] - 1s 985us/step - loss: 0.0041 - mean_squared_error: 0.0041 - val_loss: 0.0043 - val_mean_squared_error: 0.0043\n",
      "Epoch 56/100\n",
      "769/769 [==============================] - 1s 994us/step - loss: 0.0041 - mean_squared_error: 0.0041 - val_loss: 0.0043 - val_mean_squared_error: 0.0043\n",
      "Epoch 57/100\n",
      "769/769 [==============================] - 1s 994us/step - loss: 0.0041 - mean_squared_error: 0.0041 - val_loss: 0.0043 - val_mean_squared_error: 0.0043\n",
      "Epoch 58/100\n",
      "769/769 [==============================] - 1s 972us/step - loss: 0.0041 - mean_squared_error: 0.0041 - val_loss: 0.0043 - val_mean_squared_error: 0.0043\n",
      "Epoch 59/100\n",
      "769/769 [==============================] - 1s 994us/step - loss: 0.0041 - mean_squared_error: 0.0041 - val_loss: 0.0043 - val_mean_squared_error: 0.0043\n",
      "Epoch 60/100\n",
      "769/769 [==============================] - 1s 1ms/step - loss: 0.0041 - mean_squared_error: 0.0041 - val_loss: 0.0043 - val_mean_squared_error: 0.0043\n",
      "Epoch 61/100\n",
      "769/769 [==============================] - 1s 935us/step - loss: 0.0041 - mean_squared_error: 0.0041 - val_loss: 0.0043 - val_mean_squared_error: 0.0043\n",
      "Epoch 62/100\n",
      "769/769 [==============================] - 1s 979us/step - loss: 0.0041 - mean_squared_error: 0.0041 - val_loss: 0.0043 - val_mean_squared_error: 0.0043\n",
      "Epoch 63/100\n",
      "769/769 [==============================] - 1s 981us/step - loss: 0.0041 - mean_squared_error: 0.0041 - val_loss: 0.0043 - val_mean_squared_error: 0.0043\n",
      "Epoch 64/100\n",
      "769/769 [==============================] - 1s 1ms/step - loss: 0.0041 - mean_squared_error: 0.0041 - val_loss: 0.0043 - val_mean_squared_error: 0.0043\n",
      "Epoch 65/100\n",
      "769/769 [==============================] - 1s 1ms/step - loss: 0.0041 - mean_squared_error: 0.0041 - val_loss: 0.0043 - val_mean_squared_error: 0.0043\n",
      "Epoch 66/100\n",
      "769/769 [==============================] - 1s 1ms/step - loss: 0.0041 - mean_squared_error: 0.0041 - val_loss: 0.0043 - val_mean_squared_error: 0.0043\n",
      "Epoch 67/100\n",
      "769/769 [==============================] - 1s 1ms/step - loss: 0.0041 - mean_squared_error: 0.0041 - val_loss: 0.0043 - val_mean_squared_error: 0.0043\n",
      "Epoch 68/100\n",
      "769/769 [==============================] - 1s 1ms/step - loss: 0.0041 - mean_squared_error: 0.0041 - val_loss: 0.0043 - val_mean_squared_error: 0.0043\n",
      "Epoch 69/100\n",
      "769/769 [==============================] - 1s 1ms/step - loss: 0.0041 - mean_squared_error: 0.0041 - val_loss: 0.0043 - val_mean_squared_error: 0.0043\n",
      "Epoch 70/100\n",
      "769/769 [==============================] - 1s 1ms/step - loss: 0.0041 - mean_squared_error: 0.0041 - val_loss: 0.0043 - val_mean_squared_error: 0.0043\n",
      "Epoch 71/100\n",
      "769/769 [==============================] - 1s 1ms/step - loss: 0.0041 - mean_squared_error: 0.0041 - val_loss: 0.0043 - val_mean_squared_error: 0.0043\n",
      "Epoch 72/100\n",
      "769/769 [==============================] - 1s 1ms/step - loss: 0.0041 - mean_squared_error: 0.0041 - val_loss: 0.0043 - val_mean_squared_error: 0.0043\n",
      "Epoch 73/100\n",
      "769/769 [==============================] - 1s 1ms/step - loss: 0.0041 - mean_squared_error: 0.0041 - val_loss: 0.0043 - val_mean_squared_error: 0.0043\n",
      "Epoch 74/100\n",
      "769/769 [==============================] - 1s 1ms/step - loss: 0.0041 - mean_squared_error: 0.0041 - val_loss: 0.0043 - val_mean_squared_error: 0.0043\n",
      "Epoch 75/100\n",
      "769/769 [==============================] - 1s 1ms/step - loss: 0.0041 - mean_squared_error: 0.0041 - val_loss: 0.0043 - val_mean_squared_error: 0.0043\n",
      "Epoch 76/100\n",
      "769/769 [==============================] - 1s 1ms/step - loss: 0.0041 - mean_squared_error: 0.0041 - val_loss: 0.0043 - val_mean_squared_error: 0.0043\n",
      "Epoch 77/100\n",
      "769/769 [==============================] - 1s 1ms/step - loss: 0.0041 - mean_squared_error: 0.0041 - val_loss: 0.0043 - val_mean_squared_error: 0.0043\n",
      "Epoch 78/100\n",
      "769/769 [==============================] - 1s 1ms/step - loss: 0.0041 - mean_squared_error: 0.0041 - val_loss: 0.0043 - val_mean_squared_error: 0.0043\n",
      "Epoch 79/100\n",
      "769/769 [==============================] - 1s 1ms/step - loss: 0.0041 - mean_squared_error: 0.0041 - val_loss: 0.0043 - val_mean_squared_error: 0.0043\n",
      "Epoch 80/100\n",
      "769/769 [==============================] - 1s 1ms/step - loss: 0.0041 - mean_squared_error: 0.0041 - val_loss: 0.0043 - val_mean_squared_error: 0.0043\n",
      "Epoch 81/100\n",
      "769/769 [==============================] - 1s 1ms/step - loss: 0.0041 - mean_squared_error: 0.0041 - val_loss: 0.0043 - val_mean_squared_error: 0.0043\n",
      "Epoch 82/100\n",
      "769/769 [==============================] - 1s 1ms/step - loss: 0.0041 - mean_squared_error: 0.0041 - val_loss: 0.0043 - val_mean_squared_error: 0.0043\n",
      "Epoch 83/100\n",
      "769/769 [==============================] - 1s 1ms/step - loss: 0.0041 - mean_squared_error: 0.0041 - val_loss: 0.0043 - val_mean_squared_error: 0.0043\n",
      "Epoch 84/100\n",
      "769/769 [==============================] - 1s 1ms/step - loss: 0.0041 - mean_squared_error: 0.0041 - val_loss: 0.0043 - val_mean_squared_error: 0.0043\n",
      "Epoch 85/100\n",
      "769/769 [==============================] - 1s 1ms/step - loss: 0.0041 - mean_squared_error: 0.0041 - val_loss: 0.0043 - val_mean_squared_error: 0.0043\n",
      "Epoch 86/100\n",
      "769/769 [==============================] - 1s 1ms/step - loss: 0.0041 - mean_squared_error: 0.0041 - val_loss: 0.0043 - val_mean_squared_error: 0.0043\n",
      "Epoch 87/100\n",
      "769/769 [==============================] - 1s 1ms/step - loss: 0.0041 - mean_squared_error: 0.0041 - val_loss: 0.0043 - val_mean_squared_error: 0.0043\n",
      "Epoch 88/100\n",
      "769/769 [==============================] - 1s 1ms/step - loss: 0.0041 - mean_squared_error: 0.0041 - val_loss: 0.0043 - val_mean_squared_error: 0.0043\n",
      "Epoch 89/100\n",
      "769/769 [==============================] - 1s 1ms/step - loss: 0.0041 - mean_squared_error: 0.0041 - val_loss: 0.0043 - val_mean_squared_error: 0.0043\n",
      "Epoch 90/100\n",
      "769/769 [==============================] - 1s 1ms/step - loss: 0.0041 - mean_squared_error: 0.0041 - val_loss: 0.0043 - val_mean_squared_error: 0.0043\n",
      "Epoch 91/100\n",
      "769/769 [==============================] - 1s 1ms/step - loss: 0.0041 - mean_squared_error: 0.0041 - val_loss: 0.0043 - val_mean_squared_error: 0.0043\n",
      "Epoch 92/100\n",
      "769/769 [==============================] - 1s 1ms/step - loss: 0.0041 - mean_squared_error: 0.0041 - val_loss: 0.0043 - val_mean_squared_error: 0.0043\n",
      "Epoch 93/100\n",
      "769/769 [==============================] - 1s 1ms/step - loss: 0.0041 - mean_squared_error: 0.0041 - val_loss: 0.0043 - val_mean_squared_error: 0.0043\n",
      "Epoch 94/100\n",
      "769/769 [==============================] - 1s 1ms/step - loss: 0.0041 - mean_squared_error: 0.0041 - val_loss: 0.0043 - val_mean_squared_error: 0.0043\n",
      "Epoch 95/100\n",
      "769/769 [==============================] - 1s 1ms/step - loss: 0.0041 - mean_squared_error: 0.0041 - val_loss: 0.0043 - val_mean_squared_error: 0.0043\n",
      "Epoch 96/100\n",
      "769/769 [==============================] - 1s 1ms/step - loss: 0.0041 - mean_squared_error: 0.0041 - val_loss: 0.0043 - val_mean_squared_error: 0.0043\n",
      "Epoch 97/100\n",
      "769/769 [==============================] - 1s 1ms/step - loss: 0.0041 - mean_squared_error: 0.0041 - val_loss: 0.0043 - val_mean_squared_error: 0.0043\n",
      "Epoch 98/100\n",
      "769/769 [==============================] - 1s 1ms/step - loss: 0.0041 - mean_squared_error: 0.0041 - val_loss: 0.0043 - val_mean_squared_error: 0.0043\n",
      "Epoch 99/100\n",
      "769/769 [==============================] - 1s 1ms/step - loss: 0.0041 - mean_squared_error: 0.0041 - val_loss: 0.0043 - val_mean_squared_error: 0.0043\n"
     ]
    },
    {
     "name": "stdout",
     "output_type": "stream",
     "text": [
      "Epoch 100/100\n",
      "769/769 [==============================] - 1s 1ms/step - loss: 0.0041 - mean_squared_error: 0.0041 - val_loss: 0.0043 - val_mean_squared_error: 0.0043\n",
      "257/257 [==============================] - 0s 68us/step\n"
     ]
    }
   ],
   "source": [
    "# fit the model\n",
    "histSimple = model.fit(X_train, Y_train, validation_data=(X_test, Y_test), epochs=100, batch_size=5, verbose=1)\n",
    "\n",
    "# evaluate the model\n",
    "scores = model.evaluate(X_test, Y_test)"
   ]
  },
  {
   "cell_type": "code",
   "execution_count": 38,
   "metadata": {},
   "outputs": [
    {
     "data": {
      "text/plain": [
       "dict_keys(['mean_squared_error', 'val_mean_squared_error', 'val_loss', 'loss'])"
      ]
     },
     "execution_count": 38,
     "metadata": {},
     "output_type": "execute_result"
    }
   ],
   "source": [
    "histSimple.history.keys()"
   ]
  },
  {
   "cell_type": "code",
   "execution_count": 39,
   "metadata": {},
   "outputs": [
    {
     "data": {
      "image/png": "[encoded data removed]",
      "text/plain": [
       "<Figure size 432x288 with 1 Axes>"
      ]
     },
     "metadata": {
      "needs_background": "light"
     },
     "output_type": "display_data"
    }
   ],
   "source": [
    "# summarize history for loss\n",
    "plt.plot(histSimple.history['loss'])\n",
    "plt.plot(histSimple.history['val_loss'])\n",
    "plt.title('model loss')\n",
    "plt.ylabel('loss')\n",
    "plt.xlabel('epoch')\n",
    "plt.legend(['train', 'test'], loc='upper left')\n",
    "plt.show()"
   ]
  },
  {
   "cell_type": "markdown",
   "metadata": {},
   "source": [
    "# Single obstacle dataset - medium batch SingleObstacleFirst5Iter"
   ]
  },
  {
   "cell_type": "code",
   "execution_count": 40,
   "metadata": {},
   "outputs": [
    {
     "name": "stdout",
     "output_type": "stream",
     "text": [
      "(3982, 182)\n",
      "(3982, 180)\n",
      "(2986, 182)\n",
      "(996, 182)\n",
      "(2986, 180)\n",
      "(996, 180)\n"
     ]
    }
   ],
   "source": [
    "(X_train, X_test, Y_train, Y_test) = loadData([\"SingleObstacleFirst5Iter.jld2\"], testRatio = 0.25)"
   ]
  },
  {
   "cell_type": "code",
   "execution_count": 41,
   "metadata": {},
   "outputs": [],
   "source": [
    "# create the model\n",
    "model = Sequential()\n",
    "model.add(Dense(256, input_dim=182, kernel_initializer='uniform', activation='relu'))\n",
    "# model.add(Dense(256, init='uniform', activation='relu'))\n",
    "model.add(Dense(128, kernel_initializer='uniform', activation='relu'))\n",
    "model.add(Dense(64, kernel_initializer='uniform', activation='relu'))\n",
    "model.add(Dense(128, kernel_initializer='uniform', activation='relu'))\n",
    "model.add(Dense(256, kernel_initializer='uniform', activation='relu'))\n",
    "model.add(Dense(180, kernel_initializer='uniform', activation='relu'))\n",
    "\n",
    "# compile the model\n",
    "model.compile(loss='mean_squared_error', optimizer='adam', metrics=['mean_squared_error'])\n",
    "# model.compile(loss='mean_squared_error', optimizer='adam', metrics=['mean_squared_error'])\n",
    "\n"
   ]
  },
  {
   "cell_type": "code",
   "execution_count": 42,
   "metadata": {},
   "outputs": [
    {
     "name": "stdout",
     "output_type": "stream",
     "text": [
      "Train on 2986 samples, validate on 996 samples\n",
      "Epoch 1/100\n",
      "2986/2986 [==============================] - 3s 1ms/step - loss: 0.0026 - mean_squared_error: 0.0026 - val_loss: 0.0023 - val_mean_squared_error: 0.0023\n",
      "Epoch 2/100\n",
      "2986/2986 [==============================] - 3s 961us/step - loss: 0.0025 - mean_squared_error: 0.0025 - val_loss: 0.0023 - val_mean_squared_error: 0.0023\n",
      "Epoch 3/100\n",
      "2986/2986 [==============================] - 3s 986us/step - loss: 0.0024 - mean_squared_error: 0.0024 - val_loss: 0.0023 - val_mean_squared_error: 0.0023\n",
      "Epoch 4/100\n",
      "2986/2986 [==============================] - 3s 988us/step - loss: 0.0024 - mean_squared_error: 0.0024 - val_loss: 0.0022 - val_mean_squared_error: 0.0022\n",
      "Epoch 5/100\n",
      "2986/2986 [==============================] - 3s 1ms/step - loss: 0.0024 - mean_squared_error: 0.0024 - val_loss: 0.0022 - val_mean_squared_error: 0.0022\n",
      "Epoch 6/100\n",
      "2986/2986 [==============================] - 3s 1ms/step - loss: 0.0024 - mean_squared_error: 0.0024 - val_loss: 0.0022 - val_mean_squared_error: 0.0022\n",
      "Epoch 7/100\n",
      "2986/2986 [==============================] - 3s 996us/step - loss: 0.0024 - mean_squared_error: 0.0024 - val_loss: 0.0022 - val_mean_squared_error: 0.0022\n",
      "Epoch 8/100\n",
      "2986/2986 [==============================] - 3s 1ms/step - loss: 0.0024 - mean_squared_error: 0.0024 - val_loss: 0.0022 - val_mean_squared_error: 0.0022\n",
      "Epoch 9/100\n",
      "2986/2986 [==============================] - 4s 1ms/step - loss: 0.0024 - mean_squared_error: 0.0024 - val_loss: 0.0021 - val_mean_squared_error: 0.0021\n",
      "Epoch 10/100\n",
      "2986/2986 [==============================] - 3s 917us/step - loss: 0.0024 - mean_squared_error: 0.0024 - val_loss: 0.0019 - val_mean_squared_error: 0.0019\n",
      "Epoch 11/100\n",
      "2986/2986 [==============================] - 2s 803us/step - loss: 0.0021 - mean_squared_error: 0.0021 - val_loss: 0.0019 - val_mean_squared_error: 0.0019\n",
      "Epoch 12/100\n",
      "2986/2986 [==============================] - 3s 1ms/step - loss: 0.0020 - mean_squared_error: 0.0020 - val_loss: 0.0018 - val_mean_squared_error: 0.0018\n",
      "Epoch 13/100\n",
      "2986/2986 [==============================] - 3s 1ms/step - loss: 0.0020 - mean_squared_error: 0.0020 - val_loss: 0.0018 - val_mean_squared_error: 0.0018\n",
      "Epoch 14/100\n",
      "2986/2986 [==============================] - 2s 555us/step - loss: 0.0020 - mean_squared_error: 0.0020 - val_loss: 0.0019 - val_mean_squared_error: 0.0019\n",
      "Epoch 15/100\n",
      "2986/2986 [==============================] - 2s 541us/step - loss: 0.0020 - mean_squared_error: 0.0020 - val_loss: 0.0020 - val_mean_squared_error: 0.0020\n",
      "Epoch 16/100\n",
      "2986/2986 [==============================] - 2s 563us/step - loss: 0.0020 - mean_squared_error: 0.0020 - val_loss: 0.0021 - val_mean_squared_error: 0.0021\n",
      "Epoch 17/100\n",
      "2986/2986 [==============================] - 2s 540us/step - loss: 0.0020 - mean_squared_error: 0.0020 - val_loss: 0.0018 - val_mean_squared_error: 0.0018\n",
      "Epoch 18/100\n",
      "2986/2986 [==============================] - 2s 572us/step - loss: 0.0019 - mean_squared_error: 0.0019 - val_loss: 0.0017 - val_mean_squared_error: 0.0017\n",
      "Epoch 19/100\n",
      "2986/2986 [==============================] - 2s 565us/step - loss: 0.0019 - mean_squared_error: 0.0019 - val_loss: 0.0017 - val_mean_squared_error: 0.0017\n",
      "Epoch 20/100\n",
      "2986/2986 [==============================] - 2s 560us/step - loss: 0.0019 - mean_squared_error: 0.0019 - val_loss: 0.0017 - val_mean_squared_error: 0.0017\n",
      "Epoch 21/100\n",
      "2986/2986 [==============================] - 2s 570us/step - loss: 0.0019 - mean_squared_error: 0.0019 - val_loss: 0.0017 - val_mean_squared_error: 0.0017\n",
      "Epoch 22/100\n",
      "2986/2986 [==============================] - 2s 563us/step - loss: 0.0033 - mean_squared_error: 0.0033 - val_loss: 0.0017 - val_mean_squared_error: 0.0017\n",
      "Epoch 23/100\n",
      "2986/2986 [==============================] - 2s 564us/step - loss: 0.0019 - mean_squared_error: 0.0019 - val_loss: 0.0018 - val_mean_squared_error: 0.0018\n",
      "Epoch 24/100\n",
      "2986/2986 [==============================] - 2s 560us/step - loss: 0.0019 - mean_squared_error: 0.0019 - val_loss: 0.0018 - val_mean_squared_error: 0.0018\n",
      "Epoch 25/100\n",
      "2986/2986 [==============================] - 2s 566us/step - loss: 0.0019 - mean_squared_error: 0.0019 - val_loss: 0.0017 - val_mean_squared_error: 0.0017\n",
      "Epoch 26/100\n",
      "2986/2986 [==============================] - 2s 572us/step - loss: 0.0019 - mean_squared_error: 0.0019 - val_loss: 0.0017 - val_mean_squared_error: 0.0017\n",
      "Epoch 27/100\n",
      "2986/2986 [==============================] - 2s 573us/step - loss: 0.0019 - mean_squared_error: 0.0019 - val_loss: 0.0019 - val_mean_squared_error: 0.0019\n",
      "Epoch 28/100\n",
      "2986/2986 [==============================] - 2s 579us/step - loss: 0.0019 - mean_squared_error: 0.0019 - val_loss: 0.0017 - val_mean_squared_error: 0.0017\n",
      "Epoch 29/100\n",
      "2986/2986 [==============================] - 2s 592us/step - loss: 0.0019 - mean_squared_error: 0.0019 - val_loss: 0.0018 - val_mean_squared_error: 0.0018\n",
      "Epoch 30/100\n",
      "2986/2986 [==============================] - 2s 605us/step - loss: 0.0019 - mean_squared_error: 0.0019 - val_loss: 0.0017 - val_mean_squared_error: 0.0017\n",
      "Epoch 31/100\n",
      "2986/2986 [==============================] - 2s 613us/step - loss: 0.0019 - mean_squared_error: 0.0019 - val_loss: 0.0017 - val_mean_squared_error: 0.0017\n",
      "Epoch 32/100\n",
      "2986/2986 [==============================] - 2s 616us/step - loss: 0.0019 - mean_squared_error: 0.0019 - val_loss: 0.0017 - val_mean_squared_error: 0.0017\n",
      "Epoch 33/100\n",
      "2986/2986 [==============================] - 2s 641us/step - loss: 0.0027 - mean_squared_error: 0.0027 - val_loss: 0.0018 - val_mean_squared_error: 0.0018\n",
      "Epoch 34/100\n",
      "2986/2986 [==============================] - 2s 640us/step - loss: 0.0019 - mean_squared_error: 0.0019 - val_loss: 0.0017 - val_mean_squared_error: 0.0017\n",
      "Epoch 35/100\n",
      "2986/2986 [==============================] - 2s 836us/step - loss: 0.0019 - mean_squared_error: 0.0019 - val_loss: 0.0017 - val_mean_squared_error: 0.0017\n",
      "Epoch 36/100\n",
      "2986/2986 [==============================] - 4s 1ms/step - loss: 0.0019 - mean_squared_error: 0.0019 - val_loss: 0.0017 - val_mean_squared_error: 0.0017\n",
      "Epoch 37/100\n",
      "2986/2986 [==============================] - 5s 2ms/step - loss: 0.0044 - mean_squared_error: 0.0044 - val_loss: 0.0017 - val_mean_squared_error: 0.0017\n",
      "Epoch 38/100\n",
      "2986/2986 [==============================] - 4s 1ms/step - loss: 0.0019 - mean_squared_error: 0.0019 - val_loss: 0.0018 - val_mean_squared_error: 0.0018\n",
      "Epoch 39/100\n",
      "2986/2986 [==============================] - 3s 1ms/step - loss: 0.0019 - mean_squared_error: 0.0019 - val_loss: 0.0018 - val_mean_squared_error: 0.0018\n",
      "Epoch 40/100\n",
      "2986/2986 [==============================] - 2s 739us/step - loss: 0.0019 - mean_squared_error: 0.0019 - val_loss: 0.0017 - val_mean_squared_error: 0.0017\n",
      "Epoch 41/100\n",
      "2986/2986 [==============================] - 4s 1ms/step - loss: 0.0019 - mean_squared_error: 0.0019 - val_loss: 0.0019 - val_mean_squared_error: 0.0019\n",
      "Epoch 42/100\n",
      "2986/2986 [==============================] - 2s 618us/step - loss: 0.0019 - mean_squared_error: 0.0019 - val_loss: 0.0018 - val_mean_squared_error: 0.0018\n",
      "Epoch 43/100\n",
      "2986/2986 [==============================] - 2s 666us/step - loss: 0.0019 - mean_squared_error: 0.0019 - val_loss: 0.0018 - val_mean_squared_error: 0.0018\n",
      "Epoch 44/100\n",
      "2986/2986 [==============================] - 2s 681us/step - loss: 0.0019 - mean_squared_error: 0.0019 - val_loss: 0.0017 - val_mean_squared_error: 0.0017\n",
      "Epoch 45/100\n",
      "2986/2986 [==============================] - 2s 694us/step - loss: 0.0019 - mean_squared_error: 0.0019 - val_loss: 0.0018 - val_mean_squared_error: 0.0018\n",
      "Epoch 46/100\n",
      "2986/2986 [==============================] - 2s 746us/step - loss: 0.0019 - mean_squared_error: 0.0019 - val_loss: 0.0018 - val_mean_squared_error: 0.0018\n",
      "Epoch 47/100\n",
      "2986/2986 [==============================] - 2s 750us/step - loss: 0.0019 - mean_squared_error: 0.0019 - val_loss: 0.0017 - val_mean_squared_error: 0.0017\n",
      "Epoch 48/100\n",
      "2986/2986 [==============================] - 2s 776us/step - loss: 0.0019 - mean_squared_error: 0.0019 - val_loss: 0.0018 - val_mean_squared_error: 0.0018\n",
      "Epoch 49/100\n",
      "2986/2986 [==============================] - 2s 676us/step - loss: 0.0019 - mean_squared_error: 0.0019 - val_loss: 0.0018 - val_mean_squared_error: 0.0018\n"
     ]
    },
    {
     "name": "stdout",
     "output_type": "stream",
     "text": [
      "Epoch 50/100\n",
      "2986/2986 [==============================] - 2s 815us/step - loss: 0.0019 - mean_squared_error: 0.0019 - val_loss: 0.0017 - val_mean_squared_error: 0.0017\n",
      "Epoch 51/100\n",
      "2986/2986 [==============================] - 2s 654us/step - loss: 0.0019 - mean_squared_error: 0.0019 - val_loss: 0.0019 - val_mean_squared_error: 0.0019\n",
      "Epoch 52/100\n",
      "2986/2986 [==============================] - 2s 754us/step - loss: 0.0019 - mean_squared_error: 0.0019 - val_loss: 0.0017 - val_mean_squared_error: 0.0017\n",
      "Epoch 53/100\n",
      "2986/2986 [==============================] - 2s 709us/step - loss: 0.0019 - mean_squared_error: 0.0019 - val_loss: 0.0017 - val_mean_squared_error: 0.0017\n",
      "Epoch 54/100\n",
      "2986/2986 [==============================] - 2s 719us/step - loss: 0.0018 - mean_squared_error: 0.0018 - val_loss: 0.0017 - val_mean_squared_error: 0.0017\n",
      "Epoch 55/100\n",
      "2986/2986 [==============================] - 4s 1ms/step - loss: 0.0019 - mean_squared_error: 0.0019 - val_loss: 0.0017 - val_mean_squared_error: 0.0017\n",
      "Epoch 56/100\n",
      "2986/2986 [==============================] - 5s 2ms/step - loss: 0.0019 - mean_squared_error: 0.0019 - val_loss: 0.0020 - val_mean_squared_error: 0.0020\n",
      "Epoch 57/100\n",
      "2986/2986 [==============================] - 4s 1ms/step - loss: 0.0018 - mean_squared_error: 0.0018 - val_loss: 0.0017 - val_mean_squared_error: 0.0017\n",
      "Epoch 58/100\n",
      "2986/2986 [==============================] - 4s 1ms/step - loss: 0.0018 - mean_squared_error: 0.0018 - val_loss: 0.0017 - val_mean_squared_error: 0.0017\n",
      "Epoch 59/100\n",
      "2986/2986 [==============================] - 4s 1ms/step - loss: 0.0019 - mean_squared_error: 0.0019 - val_loss: 0.0017 - val_mean_squared_error: 0.0017\n",
      "Epoch 60/100\n",
      "2986/2986 [==============================] - 4s 1ms/step - loss: 0.0018 - mean_squared_error: 0.0018 - val_loss: 0.0017 - val_mean_squared_error: 0.0017\n",
      "Epoch 61/100\n",
      "2986/2986 [==============================] - 3s 1ms/step - loss: 0.0019 - mean_squared_error: 0.0019 - val_loss: 0.0017 - val_mean_squared_error: 0.0017\n",
      "Epoch 62/100\n",
      "2986/2986 [==============================] - 4s 1ms/step - loss: 0.0019 - mean_squared_error: 0.0019 - val_loss: 0.0018 - val_mean_squared_error: 0.0018\n",
      "Epoch 63/100\n",
      "2986/2986 [==============================] - 4s 1ms/step - loss: 0.0019 - mean_squared_error: 0.0019 - val_loss: 0.0018 - val_mean_squared_error: 0.0018\n",
      "Epoch 64/100\n",
      "2986/2986 [==============================] - 4s 1ms/step - loss: 0.0018 - mean_squared_error: 0.0018 - val_loss: 0.0017 - val_mean_squared_error: 0.0017\n",
      "Epoch 65/100\n",
      "2986/2986 [==============================] - 4s 1ms/step - loss: 0.0019 - mean_squared_error: 0.0019 - val_loss: 0.0017 - val_mean_squared_error: 0.0017\n",
      "Epoch 66/100\n",
      "2986/2986 [==============================] - 4s 1ms/step - loss: 0.0019 - mean_squared_error: 0.0019 - val_loss: 0.0017 - val_mean_squared_error: 0.0017\n",
      "Epoch 67/100\n",
      "2986/2986 [==============================] - 4s 1ms/step - loss: 0.0018 - mean_squared_error: 0.0018 - val_loss: 0.0017 - val_mean_squared_error: 0.0017\n",
      "Epoch 68/100\n",
      "2986/2986 [==============================] - 4s 1ms/step - loss: 0.0018 - mean_squared_error: 0.0018 - val_loss: 0.0017 - val_mean_squared_error: 0.0017\n",
      "Epoch 69/100\n",
      "2986/2986 [==============================] - 3s 1ms/step - loss: 0.0019 - mean_squared_error: 0.0019 - val_loss: 0.0017 - val_mean_squared_error: 0.0017\n",
      "Epoch 70/100\n",
      "2986/2986 [==============================] - 3s 858us/step - loss: 0.0018 - mean_squared_error: 0.0018 - val_loss: 0.0017 - val_mean_squared_error: 0.0017\n",
      "Epoch 71/100\n",
      "2986/2986 [==============================] - 2s 725us/step - loss: 0.0019 - mean_squared_error: 0.0019 - val_loss: 0.0017 - val_mean_squared_error: 0.0017\n",
      "Epoch 72/100\n",
      "2986/2986 [==============================] - 2s 825us/step - loss: 0.0019 - mean_squared_error: 0.0019 - val_loss: 0.0020 - val_mean_squared_error: 0.0020\n",
      "Epoch 73/100\n",
      "2986/2986 [==============================] - 2s 686us/step - loss: 0.0019 - mean_squared_error: 0.0019 - val_loss: 0.0017 - val_mean_squared_error: 0.0017\n",
      "Epoch 74/100\n",
      "2986/2986 [==============================] - 2s 637us/step - loss: 0.0019 - mean_squared_error: 0.0019 - val_loss: 0.0017 - val_mean_squared_error: 0.0017\n",
      "Epoch 75/100\n",
      "2986/2986 [==============================] - 2s 655us/step - loss: 0.0019 - mean_squared_error: 0.0019 - val_loss: 0.0017 - val_mean_squared_error: 0.0017\n",
      "Epoch 76/100\n",
      "2986/2986 [==============================] - 2s 622us/step - loss: 0.0018 - mean_squared_error: 0.0018 - val_loss: 0.0017 - val_mean_squared_error: 0.0017\n",
      "Epoch 77/100\n",
      "2986/2986 [==============================] - 2s 640us/step - loss: 0.0019 - mean_squared_error: 0.0019 - val_loss: 0.0017 - val_mean_squared_error: 0.0017\n",
      "Epoch 78/100\n",
      "2986/2986 [==============================] - 3s 839us/step - loss: 0.0018 - mean_squared_error: 0.0018 - val_loss: 0.0017 - val_mean_squared_error: 0.0017\n",
      "Epoch 79/100\n",
      "2986/2986 [==============================] - 2s 739us/step - loss: 0.0020 - mean_squared_error: 0.0020 - val_loss: 0.0017 - val_mean_squared_error: 0.0017\n",
      "Epoch 80/100\n",
      "2986/2986 [==============================] - 2s 701us/step - loss: 0.1182 - mean_squared_error: 0.1182 - val_loss: 0.0019 - val_mean_squared_error: 0.0019\n",
      "Epoch 81/100\n",
      "2986/2986 [==============================] - 2s 729us/step - loss: 0.0019 - mean_squared_error: 0.0019 - val_loss: 0.0017 - val_mean_squared_error: 0.0017\n",
      "Epoch 82/100\n",
      "2986/2986 [==============================] - 2s 661us/step - loss: 0.0018 - mean_squared_error: 0.0018 - val_loss: 0.0017 - val_mean_squared_error: 0.0017\n",
      "Epoch 83/100\n",
      "2986/2986 [==============================] - 2s 673us/step - loss: 0.0018 - mean_squared_error: 0.0018 - val_loss: 0.0017 - val_mean_squared_error: 0.0017\n",
      "Epoch 84/100\n",
      "2986/2986 [==============================] - 3s 839us/step - loss: 0.0018 - mean_squared_error: 0.0018 - val_loss: 0.0017 - val_mean_squared_error: 0.0017\n",
      "Epoch 85/100\n",
      "2986/2986 [==============================] - 3s 850us/step - loss: 0.0018 - mean_squared_error: 0.0018 - val_loss: 0.0017 - val_mean_squared_error: 0.0017\n",
      "Epoch 86/100\n",
      "2986/2986 [==============================] - 2s 711us/step - loss: 0.0019 - mean_squared_error: 0.0019 - val_loss: 0.0017 - val_mean_squared_error: 0.0017\n",
      "Epoch 87/100\n",
      "2986/2986 [==============================] - 2s 699us/step - loss: 0.0018 - mean_squared_error: 0.0018 - val_loss: 0.0018 - val_mean_squared_error: 0.0018\n",
      "Epoch 88/100\n",
      "2986/2986 [==============================] - 2s 663us/step - loss: 0.0018 - mean_squared_error: 0.0018 - val_loss: 0.0017 - val_mean_squared_error: 0.0017\n",
      "Epoch 89/100\n",
      "2986/2986 [==============================] - 2s 680us/step - loss: 0.0018 - mean_squared_error: 0.0018 - val_loss: 0.0017 - val_mean_squared_error: 0.0017\n",
      "Epoch 90/100\n",
      "2986/2986 [==============================] - 2s 797us/step - loss: 0.0018 - mean_squared_error: 0.0018 - val_loss: 0.0017 - val_mean_squared_error: 0.0017\n",
      "Epoch 91/100\n",
      "2986/2986 [==============================] - 3s 1ms/step - loss: 0.0018 - mean_squared_error: 0.0018 - val_loss: 0.0017 - val_mean_squared_error: 0.0017\n",
      "Epoch 92/100\n",
      "2986/2986 [==============================] - 4s 1ms/step - loss: 0.0018 - mean_squared_error: 0.0018 - val_loss: 0.0017 - val_mean_squared_error: 0.0017\n",
      "Epoch 93/100\n",
      "2986/2986 [==============================] - 4s 1ms/step - loss: 0.0018 - mean_squared_error: 0.0018 - val_loss: 0.0017 - val_mean_squared_error: 0.0017\n",
      "Epoch 94/100\n",
      "2986/2986 [==============================] - 4s 1ms/step - loss: 0.0018 - mean_squared_error: 0.0018 - val_loss: 0.0017 - val_mean_squared_error: 0.0017\n",
      "Epoch 95/100\n",
      "2986/2986 [==============================] - 4s 1ms/step - loss: 0.0018 - mean_squared_error: 0.0018 - val_loss: 0.0017 - val_mean_squared_error: 0.0017\n",
      "Epoch 96/100\n",
      "2986/2986 [==============================] - 5s 2ms/step - loss: 0.0018 - mean_squared_error: 0.0018 - val_loss: 0.0017 - val_mean_squared_error: 0.0017\n",
      "Epoch 97/100\n",
      "2986/2986 [==============================] - 4s 1ms/step - loss: 0.0019 - mean_squared_error: 0.0019 - val_loss: 0.0017 - val_mean_squared_error: 0.0017\n",
      "Epoch 98/100\n",
      "2986/2986 [==============================] - 4s 1ms/step - loss: 0.0018 - mean_squared_error: 0.0018 - val_loss: 0.0017 - val_mean_squared_error: 0.0017\n",
      "Epoch 99/100\n"
     ]
    },
    {
     "name": "stdout",
     "output_type": "stream",
     "text": [
      "2986/2986 [==============================] - 4s 1ms/step - loss: 0.0018 - mean_squared_error: 0.0018 - val_loss: 0.0020 - val_mean_squared_error: 0.0020\n",
      "Epoch 100/100\n",
      "2986/2986 [==============================] - 4s 1ms/step - loss: 0.0018 - mean_squared_error: 0.0018 - val_loss: 0.0017 - val_mean_squared_error: 0.0017\n",
      "996/996 [==============================] - 0s 46us/step\n"
     ]
    }
   ],
   "source": [
    "# fit the model\n",
    "histSimple = model.fit(X_train, Y_train, validation_data=(X_test, Y_test), epochs=100, batch_size=5, verbose=1)\n",
    "\n",
    "# evaluate the model\n",
    "scores = model.evaluate(X_test, Y_test)"
   ]
  },
  {
   "cell_type": "code",
   "execution_count": 43,
   "metadata": {},
   "outputs": [
    {
     "data": {
      "text/plain": [
       "dict_keys(['mean_squared_error', 'val_mean_squared_error', 'val_loss', 'loss'])"
      ]
     },
     "execution_count": 43,
     "metadata": {},
     "output_type": "execute_result"
    }
   ],
   "source": [
    "histSimple.history.keys()"
   ]
  },
  {
   "cell_type": "code",
   "execution_count": 44,
   "metadata": {},
   "outputs": [
    {
     "data": {
      "image/png": "[encoded data removed]",
      "text/plain": [
       "<Figure size 432x288 with 1 Axes>"
      ]
     },
     "metadata": {
      "needs_background": "light"
     },
     "output_type": "display_data"
    }
   ],
   "source": [
    "# summarize history for loss\n",
    "plt.plot(histSimple.history['loss'])\n",
    "plt.plot(histSimple.history['val_loss'])\n",
    "plt.title('model loss')\n",
    "plt.ylabel('loss')\n",
    "plt.xlabel('epoch')\n",
    "plt.legend(['train', 'test'], loc='upper left')\n",
    "plt.show()"
   ]
  },
  {
   "cell_type": "code",
   "execution_count": 45,
   "metadata": {},
   "outputs": [],
   "source": [
    "# save model to hdf5 file\n",
    "model.save('SingleObstacleFirst5IterModel.h5') "
   ]
  },
  {
   "cell_type": "markdown",
   "metadata": {},
   "source": [
    "# Training on first and second batch"
   ]
  },
  {
   "cell_type": "code",
   "execution_count": 23,
   "metadata": {},
   "outputs": [
    {
     "name": "stdout",
     "output_type": "stream",
     "text": [
      "(5021, 182)\n",
      "(5021, 180)\n",
      "(3765, 182)\n",
      "(1256, 182)\n",
      "(3765, 180)\n",
      "(1256, 180)\n"
     ]
    }
   ],
   "source": [
    "(X_train, X_test, Y_train, Y_test) = loadData([\"firstBatch.jld2\", \"secondBatch.jld2\"])"
   ]
  },
  {
   "cell_type": "code",
   "execution_count": 3,
   "metadata": {},
   "outputs": [],
   "source": [
    "# load dataset\n",
    "PATH_FILE_TRAINING1 = os.getcwd()+\"/firstBatch.jld2\"\n",
    "PATH_FILE_TRAINING2 = os.getcwd()+\"/secondBatch.jld2\"\n",
    "\n",
    "f1 = h5py.File(PATH_FILE_TRAINING1, \"r\")\n",
    "f2 = h5py.File(PATH_FILE_TRAINING2, \"r\")\n"
   ]
  },
  {
   "cell_type": "code",
   "execution_count": 4,
   "metadata": {},
   "outputs": [
    {
     "name": "stderr",
     "output_type": "stream",
     "text": [
      "/usr/local/lib/python3.5/dist-packages/h5py/_hl/dataset.py:313: H5pyDeprecationWarning: dataset.value has been deprecated. Use dataset[()] instead.\n",
      "  \"Use dataset[()] instead.\", H5pyDeprecationWarning)\n"
     ]
    },
    {
     "name": "stdout",
     "output_type": "stream",
     "text": [
      "(5021, 182)\n",
      "(5021, 180)\n",
      "(3765, 182)\n",
      "(1256, 182)\n",
      "(3765, 180)\n",
      "(1256, 180)\n"
     ]
    }
   ],
   "source": [
    "# split into input and output variables\n",
    "X1       = f1[\"train_input_collected\"].value;     \n",
    "X1      = X1.transpose();\n",
    "Y1        = f1[\"train_output_collected\"].value;      \n",
    "Y1       = Y1.transpose();\n",
    "X2       = f2[\"train_input_collected\"].value;     \n",
    "X2      = X2.transpose();\n",
    "Y2        = f2[\"train_output_collected\"].value;      \n",
    "Y2       = Y2.transpose();\n",
    "X = np.vstack((X1,X2))\n",
    "Y = np.vstack((Y1,Y2))\n",
    "\n",
    "# split the data into training (75%) and testing (25%)\n",
    "(X_train, X_test, Y_train, Y_test) = train_test_split(X, Y, test_size=0.25, random_state=seed)\n",
    "\n",
    "# Examine shape of data\n",
    "print(np.shape(X))\n",
    "print(np.shape(Y))\n",
    "print(np.shape(X_train))\n",
    "print(np.shape(X_test))\n",
    "print(np.shape(Y_train))\n",
    "print(np.shape(Y_test))\n"
   ]
  },
  {
   "cell_type": "code",
   "execution_count": 5,
   "metadata": {},
   "outputs": [
    {
     "name": "stdout",
     "output_type": "stream",
     "text": [
      "WARNING:tensorflow:From /usr/local/lib/python3.5/dist-packages/tensorflow/python/framework/op_def_library.py:263: colocate_with (from tensorflow.python.framework.ops) is deprecated and will be removed in a future version.\n",
      "Instructions for updating:\n",
      "Colocations handled automatically by placer.\n"
     ]
    }
   ],
   "source": [
    "# create the model\n",
    "model = Sequential()\n",
    "model.add(Dense(256, input_dim=182, kernel_initializer='uniform', activation='relu'))\n",
    "# model.add(Dense(256, init='uniform', activation='relu'))\n",
    "model.add(Dense(128, kernel_initializer='uniform', activation='relu'))\n",
    "model.add(Dense(64, kernel_initializer='uniform', activation='relu'))\n",
    "model.add(Dense(128, kernel_initializer='uniform', activation='relu'))\n",
    "model.add(Dense(256, kernel_initializer='uniform', activation='relu'))\n",
    "model.add(Dense(180, kernel_initializer='uniform', activation='relu'))\n",
    "\n",
    "# compile the model\n",
    "model.compile(loss='mean_squared_error', optimizer='adam', metrics=['mean_squared_error'])\n",
    "# model.compile(loss='mean_squared_error', optimizer='adam', metrics=['mean_squared_error'])\n",
    "\n"
   ]
  },
  {
   "cell_type": "code",
   "execution_count": 10,
   "metadata": {},
   "outputs": [
    {
     "name": "stdout",
     "output_type": "stream",
     "text": [
      "Train on 3765 samples, validate on 1256 samples\n",
      "Epoch 1/10\n",
      "3765/3765 [==============================] - 6s 2ms/step - loss: 0.0021 - mean_squared_error: 0.0021 - val_loss: 0.0023 - val_mean_squared_error: 0.0023\n",
      "Epoch 2/10\n",
      "3765/3765 [==============================] - 6s 2ms/step - loss: 0.0021 - mean_squared_error: 0.0021 - val_loss: 0.0023 - val_mean_squared_error: 0.0023\n",
      "Epoch 3/10\n",
      "3765/3765 [==============================] - 5s 1ms/step - loss: 0.0021 - mean_squared_error: 0.0021 - val_loss: 0.0023 - val_mean_squared_error: 0.0023\n",
      "Epoch 4/10\n",
      "3765/3765 [==============================] - 4s 1ms/step - loss: 0.0021 - mean_squared_error: 0.0021 - val_loss: 0.0023 - val_mean_squared_error: 0.0023\n",
      "Epoch 5/10\n",
      "3765/3765 [==============================] - 4s 1ms/step - loss: 0.0021 - mean_squared_error: 0.0021 - val_loss: 0.0023 - val_mean_squared_error: 0.0023\n",
      "Epoch 6/10\n",
      "3765/3765 [==============================] - 4s 1ms/step - loss: 0.0021 - mean_squared_error: 0.0021 - val_loss: 0.0023 - val_mean_squared_error: 0.0023\n",
      "Epoch 7/10\n",
      "3765/3765 [==============================] - 4s 1ms/step - loss: 0.0021 - mean_squared_error: 0.0021 - val_loss: 0.0023 - val_mean_squared_error: 0.0023\n",
      "Epoch 8/10\n",
      "3765/3765 [==============================] - 5s 1ms/step - loss: 0.0021 - mean_squared_error: 0.0021 - val_loss: 0.0023 - val_mean_squared_error: 0.0023\n",
      "Epoch 9/10\n",
      "3765/3765 [==============================] - 5s 1ms/step - loss: 0.0021 - mean_squared_error: 0.0021 - val_loss: 0.0023 - val_mean_squared_error: 0.0023\n",
      "Epoch 10/10\n",
      "3765/3765 [==============================] - 5s 1ms/step - loss: 0.0021 - mean_squared_error: 0.0021 - val_loss: 0.0023 - val_mean_squared_error: 0.0023\n",
      "1256/1256 [==============================] - 0s 89us/step\n",
      "Accuracy: 0.23%\n"
     ]
    }
   ],
   "source": [
    "# fit the model\n",
    "hist = model.fit(X_train, Y_train, validation_data=(X_test, Y_test), epochs=10, batch_size=5, verbose=1)\n",
    "\n",
    "# evaluate the model\n",
    "scores = model.evaluate(X_test, Y_test)\n",
    "print(\"Accuracy: %.2f%%\" % (scores[1]*100))"
   ]
  },
  {
   "cell_type": "code",
   "execution_count": 13,
   "metadata": {},
   "outputs": [
    {
     "data": {
      "text/plain": [
       "dict_keys(['val_loss', 'loss', 'mean_squared_error', 'val_mean_squared_error'])"
      ]
     },
     "execution_count": 13,
     "metadata": {},
     "output_type": "execute_result"
    }
   ],
   "source": [
    "hist.history.keys()"
   ]
  },
  {
   "cell_type": "code",
   "execution_count": 17,
   "metadata": {},
   "outputs": [
    {
     "data": {
      "image/png": "[encoded data removed]",
      "text/plain": [
       "<Figure size 432x288 with 1 Axes>"
      ]
     },
     "metadata": {
      "needs_background": "light"
     },
     "output_type": "display_data"
    }
   ],
   "source": [
    "# summarize history for loss\n",
    "plt.plot(hist.history['loss'])\n",
    "plt.plot(hist.history['val_loss'])\n",
    "plt.title('model loss')\n",
    "plt.ylabel('loss')\n",
    "plt.xlabel('epoch')\n",
    "plt.legend(['train', 'test'], loc='upper left')\n",
    "plt.show()"
   ]
  },
  {
   "cell_type": "code",
   "execution_count": 18,
   "metadata": {},
   "outputs": [
    {
     "data": {
      "image/png": "[encoded data removed]",
      "text/plain": [
       "<Figure size 432x288 with 1 Axes>"
      ]
     },
     "metadata": {
      "needs_background": "light"
     },
     "output_type": "display_data"
    }
   ],
   "source": [
    "# summarize history for loss\n",
    "plt.plot(hist.history['mean_squared_error'])\n",
    "plt.plot(hist.history['val_mean_squared_error'])\n",
    "plt.title('model MSE')\n",
    "plt.ylabel('MSE')\n",
    "plt.xlabel('epoch')\n",
    "plt.legend(['train', 'test'], loc='upper left')\n",
    "plt.show()"
   ]
  },
  {
   "cell_type": "code",
   "execution_count": 25,
   "metadata": {},
   "outputs": [
    {
     "data": {
      "text/plain": [
       "array([ 0.00000000e+00,  0.00000000e+00,  0.00000000e+00,  0.00000000e+00,\n",
       "        0.00000000e+00,  0.00000000e+00,  1.48919125e-01,  8.46208344e-02,\n",
       "        0.00000000e+00,  4.06297214e-02, -1.89046252e-03,  0.00000000e+00,\n",
       "        5.14810587e-01,  1.34864980e-01,  0.00000000e+00,  3.59615863e-02,\n",
       "       -1.26841304e-03,  0.00000000e+00,  7.58682711e-01,  1.70820415e-01,\n",
       "        0.00000000e+00,  1.21828892e-02,  6.57840457e-04,  0.00000000e+00,\n",
       "        8.09750363e-01,  1.99755131e-01,  0.00000000e+00, -5.93442122e-03,\n",
       "        2.66080827e-03,  0.00000000e+00,  7.27607089e-01,  2.22476637e-01,\n",
       "        0.00000000e+00, -1.83903447e-02,  4.74048846e-03,  0.00000000e+00,\n",
       "        5.71846436e-01,  2.39792435e-01,  0.00000000e+00, -2.51848812e-02,\n",
       "        6.89688148e-03,  0.00000000e+00,  4.02061952e-01,  2.52510033e-01,\n",
       "        0.00000000e+00, -2.63180303e-02,  9.12998854e-03,  0.00000000e+00,\n",
       "        2.70658408e-01,  2.58752617e-01,  0.00000000e+00, -2.31556607e-02,\n",
       "        1.09297866e-02,  0.00000000e+00,  2.01285423e-01,  2.49551601e-01,\n",
       "        0.00000000e+00, -1.97953820e-02,  1.14588625e-02,  0.00000000e+00,\n",
       "        1.77637770e-01,  2.14414661e-01,  0.00000000e+00, -1.97310054e-02,\n",
       "        1.12651189e-02,  0.00000000e+00,  1.67366677e-01,  1.53985537e-01,\n",
       "        0.00000000e+00, -2.25169934e-02,  1.19165054e-02,  0.00000000e+00,\n",
       "        1.50002064e-01,  8.08058958e-02,  0.00000000e+00, -2.63419322e-02,\n",
       "        1.41056786e-02,  0.00000000e+00,  1.17785533e-01,  1.10629639e-02,\n",
       "        0.00000000e+00, -3.06020158e-02,  1.78326380e-02,  0.00000000e+00,\n",
       "        6.61365945e-02, -3.90560303e-02,  0.00000000e+00, -3.52972474e-02,\n",
       "        2.30973847e-02,  0.00000000e+00, -9.52529144e-03, -5.33638481e-02,\n",
       "        0.00000000e+00, -4.04276338e-02,  2.98999194e-02,  0.00000000e+00,\n",
       "       -1.13780732e-01, -1.56732436e-02,  0.00000000e+00, -4.59931806e-02,\n",
       "        3.82402428e-02,  0.00000000e+00, -2.29765610e-01,  9.02030241e-02,\n",
       "        0.00000000e+00, -4.79193847e-02,  4.81183533e-02,  0.00000000e+00,\n",
       "       -2.54836864e-01,  1.85579173e-01,  0.00000000e+00, -3.39827501e-02,\n",
       "        4.15083781e-02,  0.00000000e+00,  0.00000000e+00,  0.00000000e+00,\n",
       "        0.00000000e+00,  0.00000000e+00,  0.00000000e+00,  0.00000000e+00,\n",
       "        1.05815875e-01, -9.16301508e-03,  0.00000000e+00,  3.16166236e-02,\n",
       "       -5.20260626e-03,  0.00000000e+00, -3.80863555e-02, -1.18126695e-03,\n",
       "        0.00000000e+00, -2.90938093e-02, -1.05941093e-03,  0.00000000e+00,\n",
       "       -2.01012625e-02, -9.37560912e-04,  0.00000000e+00, -1.11087154e-02,\n",
       "       -8.15711082e-04,  0.00000000e+00, -2.11616795e-03, -6.93859572e-04,\n",
       "        0.00000000e+00,  6.87637990e-03, -5.72005915e-04,  0.00000000e+00,\n",
       "        1.15298359e-02, -2.07039548e-03,  0.00000000e+00,  7.50509739e-03,\n",
       "       -4.60883642e-03,  0.00000000e+00,  1.05941418e-03, -4.36664827e-03,\n",
       "        0.00000000e+00, -1.54994097e-03, -1.92402691e-03,  0.00000000e+00,\n",
       "       -2.24112452e-03,  5.18592226e-04,  0.00000000e+00, -2.93230904e-03,\n",
       "        2.96121255e-03,  0.00000000e+00, -3.62350260e-03,  5.40383452e-03,\n",
       "        0.00000000e+00, -4.31470896e-03,  7.84645794e-03,  0.00000000e+00,\n",
       "       -5.00592033e-03,  1.02890814e-02,  0.00000000e+00,  7.24675523e-03,\n",
       "        1.27317002e-02,  0.00000000e+00,  4.53871455e-02, -4.20902693e-02,\n",
       "        0.00000000e+00,  7.09292552e-02, -9.81335464e-02,  0.00000000e+00])"
      ]
     },
     "execution_count": 25,
     "metadata": {},
     "output_type": "execute_result"
    }
   ],
   "source": [
    "Y_train[1]"
   ]
  },
  {
   "cell_type": "code",
   "execution_count": null,
   "metadata": {},
   "outputs": [],
   "source": []
  }
 ],
 "metadata": {
  "kernelspec": {
   "display_name": "Python 3",
   "language": "python",
   "name": "python3"
  },
  "language_info": {
   "codemirror_mode": {
    "name": "ipython",
    "version": 3
   },
   "file_extension": ".py",
   "mimetype": "text/x-python",
   "name": "python",
   "nbconvert_exporter": "python",
   "pygments_lexer": "ipython3",
   "version": "3.5.2"
  }
 },
 "nbformat": 4,
 "nbformat_minor": 2
}
