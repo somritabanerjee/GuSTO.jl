{
 "cells": [
  {
   "cell_type": "markdown",
   "metadata": {},
   "source": [
    "# Get all the imports necessary"
   ]
  },
  {
   "cell_type": "code",
   "execution_count": null,
   "metadata": {},
   "outputs": [],
   "source": [
    "# using GuSTO\n",
    "include(\"../src/GuSTO.jl\")\n",
    "using AstrobeeRobot\n",
    "using Plots\n",
    "using JLD2, FileIO"
   ]
  },
  {
   "cell_type": "markdown",
   "metadata": {},
   "source": [
    "# Only Freeflyer models to be used"
   ]
  },
  {
   "cell_type": "code",
   "execution_count": null,
   "metadata": {},
   "outputs": [],
   "source": [
    "robot = Freeflyer()\n",
    "model = FreeflyerSE2()"
   ]
  },
  {
   "cell_type": "markdown",
   "metadata": {},
   "source": [
    "# No obstacle environment"
   ]
  },
  {
   "cell_type": "code",
   "execution_count": null,
   "metadata": {},
   "outputs": [],
   "source": [
    "function setUpEnvironmentNoObstacle()\n",
    "    env = Table(:stanford);\n",
    "    return env\n",
    "end"
   ]
  },
  {
   "cell_type": "markdown",
   "metadata": {},
   "source": [
    "# Single obstacle environment"
   ]
  },
  {
   "cell_type": "code",
   "execution_count": null,
   "metadata": {},
   "outputs": [],
   "source": [
    "function setUpEnvironmentSingleObstacle()\n",
    "    env = Table(:stanford);\n",
    "    centers = Vector()\n",
    "    push!(centers, [1.500; 1.500; 0.0])\n",
    "\n",
    "    widths = [0.27; 0.27; 0.127]\n",
    "    inflation = 0.05*ones(3)\n",
    "\n",
    "    for idx in 1:length(centers)\n",
    "        push!(env.obstacle_set, HyperRectangle(Vec3f0(centers[idx]-0.5*widths-inflation+[0.;0.;0.5*widths[1]]), Vec3f0(widths+2*inflation)))\n",
    "    end\n",
    "    return env\n",
    "end"
   ]
  },
  {
   "cell_type": "markdown",
   "metadata": {},
   "source": [
    "# Multiple obstacle environment"
   ]
  },
  {
   "cell_type": "code",
   "execution_count": null,
   "metadata": {},
   "outputs": [],
   "source": [
    "function setUpEnvironment()\n",
    "    env = Table(:stanford);\n",
    "    centers = Vector()\n",
    "    push!(centers, [0.460; 0.315; 0.0])\n",
    "    push!(centers, [0.201; 1.085; 0.0])\n",
    "    push!(centers, [0.540; 2.020; 0.0])\n",
    "    push!(centers, [1.374; 0.196; 0.0])\n",
    "    push!(centers, [1.063; 1.354; 0.0])\n",
    "    push!(centers, [1.365; 2.322; 0.0])\n",
    "    push!(centers, [2.221; 0.548; 0.0])\n",
    "    push!(centers, [2.077; 1.443; 0.0])\n",
    "    push!(centers, [3.098; 1.186; 0.0])\n",
    "    push!(centers, [2.837; 2.064; 0.0])\n",
    "    # push!(centers, [1.500; 1.500; 0.0])\n",
    "\n",
    "    widths = [0.27; 0.27; 0.127]\n",
    "    inflation = 0.05*ones(3)\n",
    "\n",
    "    for idx in 1:length(centers)\n",
    "        push!(env.obstacle_set, HyperRectangle(Vec3f0(centers[idx]-0.5*widths-inflation+[0.;0.;0.5*widths[1]]), Vec3f0(widths+2*inflation)))\n",
    "    end\n",
    "    return env\n",
    "end"
   ]
  },
  {
   "cell_type": "markdown",
   "metadata": {},
   "source": [
    "# Create obstacle grid representation using centers, widths, and inflation\n",
    "TODO"
   ]
  },
  {
   "cell_type": "markdown",
   "metadata": {},
   "source": [
    "# Set up problem, initial goal and final goal"
   ]
  },
  {
   "cell_type": "code",
   "execution_count": null,
   "metadata": {},
   "outputs": [],
   "source": [
    "function setUpProblem(N, x_init, x_goal)\n",
    "    tf_guess = 200.\n",
    "    goal_set = GoalSet()\n",
    "    add_goal!(goal_set, Goal(PointGoal(x_goal), tf_guess, model))\n",
    "    PD = ProblemDefinition(robot, model, env, x_init, goal_set)\n",
    "    TOP = TrajectoryOptimizationProblem(PD, N, tf_guess, fixed_final_time=true)\n",
    "    TOSgusto = TrajectoryOptimizationSolution(TOP)\n",
    "    return TOP, TOSgusto\n",
    "end\n"
   ]
  },
  {
   "cell_type": "markdown",
   "metadata": {},
   "source": [
    "# Create GIF of XY trajectories"
   ]
  },
  {
   "cell_type": "code",
   "execution_count": null,
   "metadata": {},
   "outputs": [],
   "source": [
    "function plotXYTrajectories(X)\n",
    "    @gif for i=1:100\n",
    "        plotXYTrajectory(X)\n",
    "    end every 10\n",
    "end\n"
   ]
  },
  {
   "cell_type": "markdown",
   "metadata": {},
   "source": [
    "# Plot single XY trajectory"
   ]
  },
  {
   "cell_type": "code",
   "execution_count": null,
   "metadata": {},
   "outputs": [],
   "source": [
    "function plotXYTrajectory(X)\n",
    "    gr(fmt=:png)\n",
    "    plot()\n",
    "    plot!([X[1,:]],[X[2,:]],\n",
    "        xlabel = \"x\",\n",
    "        ylabel = \"y\",\n",
    "        legend = :none)\n",
    "    plot!()\n",
    "end"
   ]
  },
  {
   "cell_type": "markdown",
   "metadata": {},
   "source": [
    "# Plot velocity along a trajectory"
   ]
  },
  {
   "cell_type": "code",
   "execution_count": null,
   "metadata": {},
   "outputs": [],
   "source": [
    "function plotVelocity(X, N)\n",
    "    gr(fmt=:png)\n",
    "    plot()\n",
    "    plot!([collect(1:N)],[sqrt.(X[4,:].^2 + X[5,:].^2)],\n",
    "        xlabel = \"t\",\n",
    "        ylabel = \"v\",\n",
    "        legend = :none)\n",
    "    plot!()\n",
    "end"
   ]
  },
  {
   "cell_type": "markdown",
   "metadata": {},
   "source": [
    "# Code for animating free-flyer trajectories"
   ]
  },
  {
   "cell_type": "code",
   "execution_count": null,
   "metadata": {},
   "outputs": [],
   "source": [
    "function visualizeTraj(env, TOSgusto)\n",
    "    vis = Visualizer()\n",
    "    delete!(vis)\n",
    "\n",
    "    vis[:goal]\n",
    "    setobject!(vis[:goal][:goal], \n",
    "        Object(HyperSphere(Point3(x_goal[1:2]..., robot.r), 0.1),\n",
    "            MeshBasicMaterial(color=RGBA(0,1.0,0.,0.3))))\n",
    "\n",
    "    vis[:table]\n",
    "    table_dim = env.worldAABBmax-env.worldAABBmin\n",
    "    setobject!(vis[:table][:table], \n",
    "            Object(HyperRectangle(env.worldAABBmin..., table_dim...),\n",
    "                MeshBasicMaterial(color=RGBA(0,1.0,0.,0.3))))\n",
    "\n",
    "    vis[:obstacles]\n",
    "    for (idx,obs) in enumerate(env.obstacle_set)\n",
    "        setobject!(vis[:obstacles][Symbol(string(\"obs\",idx))], \n",
    "            Object(obs,MeshBasicMaterial(color=RGBA(1.0,0.,0.,0.3))))\n",
    "    end\n",
    "\n",
    "    vis[:robot]\n",
    "\n",
    "    setobject!(vis[:robot][:base],\n",
    "        Object(Cylinder(Point3f0(0,0,0.),Point3f0(0.,0.,0.5),Float32(robot.r)),MeshBasicMaterial(color=RGBA(0,0.,1.,0.7))))\n",
    "\n",
    "    up = [0;0;1.]\n",
    "    q0 = vec2quat(up,x_init[3])\n",
    "    Qs = Vector{Vector{Float64}}()\n",
    "\n",
    "    speed_factor = 10\n",
    "\n",
    "    for k in 1:speed_factor:N\n",
    "        q = [quat_inv(quat_multiply(mrp2quat([0.; 0.; tan(TOSgusto.SCPS.traj.X[3,k]/4)]), q0)); [TOSgusto.SCPS.traj.X[1:2,k]; robot.r]]\n",
    "        push!(Qs,q)\n",
    "    end\n",
    "\n",
    "    anim = MeshCat.Animation()\n",
    "    for k in 1:N\n",
    "        atframe(anim, vis, 5*k) do frame\n",
    "            settransform!(frame[:robot], Translation(TOSgusto.traj.X[1,k], \n",
    "                TOSgusto.traj.X[2,k], TOSgusto.traj.X[3,k]))\n",
    "        end\n",
    "    end\n",
    "    setanimation!(vis, anim)\n",
    "\n",
    "    # plot_in_cell = true\n",
    "    plot_in_cell = false\n",
    "    plot_in_cell ? IJuliaCell(vis) : open(vis)\n",
    "end"
   ]
  },
  {
   "cell_type": "markdown",
   "metadata": {},
   "source": [
    "# Create Training data from X,U trajectories and trust region values"
   ]
  },
  {
   "cell_type": "code",
   "execution_count": null,
   "metadata": {},
   "outputs": [],
   "source": [
    "function createTrainingInputAndOutput(traj_X_vec, traj_U_vec, ω_vec, Δ_vec)\n",
    "    X_row = hcat((map(a -> a[:], traj_X_vec))...)'\n",
    "    U_row = hcat((map(a -> a[:], traj_U_vec))...)'\n",
    "\n",
    "    train_input = hcat(X_row, U_row, ω_vec, Δ_vec)[1:end-1,:]\n",
    "\n",
    "    diff_X = traj_X_vec[2:end]-traj_X_vec[1:end-1]\n",
    "    diff_U = traj_U_vec[2:end]-traj_U_vec[1:end-1]\n",
    "    diff_X_row = hcat((map(a -> a[:], diff_X))...)'\n",
    "    diff_U_row = hcat((map(a -> a[:], diff_U))...)'\n",
    "\n",
    "    train_output = hcat(diff_X_row, diff_U_row)\n",
    "    \n",
    "    if size(train_input,1) != size(train_output,1)\n",
    "        println(\"ERROR: train input and output have different # of rows\")\n",
    "    end\n",
    "    if size(train_input,2) - 2 != size(train_output,2)\n",
    "        println(\"ERROR: each row of train input should 2 elements more than output\")\n",
    "    end\n",
    "    \n",
    "    return train_input, train_output\n",
    "    \n",
    "end"
   ]
  },
  {
   "cell_type": "markdown",
   "metadata": {},
   "source": [
    "# Recover goal and start points from training data"
   ]
  },
  {
   "cell_type": "code",
   "execution_count": null,
   "metadata": {},
   "outputs": [],
   "source": [
    "function recoverProblemConditionsFromTrainInput(train_input) \n",
    "    recover_x_init_from_train = train_input[1,1:6]\n",
    "    @show recover_x_init_from_train\n",
    "    recover_x_goal_from_train = train_input[1,(6*N-5):(6*N + 1)]\n",
    "    @show recover_x_goal_from_train\n",
    "    # NOTE that size(train_input,2)-2 = x_dim * N\n",
    "end\n",
    "function recoverProblemConditionsFromTrajVec(traj_X_vec) \n",
    "    recover_x_init = traj_X_vec[1][:,1]\n",
    "    @show recover_x_init\n",
    "    recover_x_goal = traj_X_vec[1][:,end]\n",
    "    @show recover_x_goal\n",
    "    # NOTE that size(traj_X_vec[1]) = (x_dim * N)\n",
    "end"
   ]
  },
  {
   "cell_type": "code",
   "execution_count": null,
   "metadata": {},
   "outputs": [],
   "source": [
    "# Generate training data\n",
    "# Keep environment constant and goal constant \n",
    "env = setUpEnvironment()\n",
    "N = 20\n",
    "x_goal = [3.; 0.5; 0; 0.05; -0.05; 0]\n",
    "num_problems = 1000\n",
    "numInEach = sqrt(num_problems)\n",
    "xMin = 0.2\n",
    "xMax = 2.5\n",
    "yMin = 0.8 \n",
    "yMax = 3.0\n",
    "xVals = collect(xMin:(xMax-xMin)/floor(numInEach-1):xMax)\n",
    "yVals = collect(yMin:(yMax-yMin)/floor(numInEach-1):yMax)\n",
    "# @show xVals\n",
    "# @show yVals\n",
    "\n",
    "max_iter = 30\n",
    "\n",
    "train_input_collected = Array{Float64}(undef,0,182)\n",
    "train_output_collected = Array{Float64}(undef,0,180)\n",
    "\n",
    "problemNumber = 1\n",
    "for xVal in xVals\n",
    "    for yVal in yVals\n",
    "        println(\"\")\n",
    "        @show problemNumber\n",
    "        x_init = [xVal; yVal; 0; 0; 0; 0] \n",
    "#         @show x_init\n",
    "        TOP, TOSgusto = setUpProblem(N, x_init, x_goal);\n",
    "        traj_init = init_traj_straightline(TOP)\n",
    "        traj_X_vec = [traj_init.X]\n",
    "        traj_U_vec = [traj_init.U]\n",
    "        # Solve one step at a time with IPOPT\n",
    "        solve_SCP!(TOSgusto, TOP, solve_gusto_jump!, traj_init, \"Ipopt\", max_iter=1, print_level=0);\n",
    "        push!(traj_X_vec, TOSgusto.SCPS.traj.X)\n",
    "        push!(traj_U_vec, TOSgusto.SCPS.traj.U)\n",
    "        iterCount = 1\n",
    "        \n",
    "        while !TOSgusto.SCPS.converged && iterCount <=max_iter && (TOSgusto.SCPS.solver_status[end] == MOI.LOCALLY_SOLVED)\n",
    "            solve_SCP!(TOSgusto, TOP, solve_gusto_jump!, TOSgusto.SCPS.traj, \"Ipopt\", max_iter=1, print_level=0);\n",
    "#             @show TOSgusto.SCPS.scp_status\n",
    "#             @show TOSgusto.SCPS.solver_status\n",
    "#             @show TOSgusto.SCPS.accept_solution\n",
    "#             @show TOSgusto.SCPS.param.alg.ω_vec\n",
    "            if TOSgusto.SCPS.solver_status[end] == MOI.LOCALLY_SOLVED\n",
    "                push!(traj_X_vec, TOSgusto.SCPS.traj.X)\n",
    "                push!(traj_U_vec, TOSgusto.SCPS.traj.U)\n",
    "                iterCount = iterCount + 1\n",
    "                @show iterCount\n",
    "            end\n",
    "        end\n",
    "        train_input, train_output = createTrainingInputAndOutput(traj_X_vec, traj_U_vec, TOSgusto.SCPS.param.alg.ω_vec, TOSgusto.SCPS.param.alg.Δ_vec)\n",
    "#         @show size(train_input)\n",
    "#         @show size(train_output)\n",
    "        train_input_collected = vcat(train_input_collected, train_input)\n",
    "        train_output_collected = vcat(train_output_collected, train_output)\n",
    "        problemNumber = problemNumber + 1\n",
    "        @save \"secondBatch.jld2\" train_input_collected train_output_collected\n",
    "    end\n",
    "end\n",
    "\n",
    "# @save \"firstBatch.jld2\" train_input_collected train_output_collected\n"
   ]
  },
  {
   "cell_type": "code",
   "execution_count": null,
   "metadata": {},
   "outputs": [],
   "source": [
    "# Generate training data\n",
    "# Keep environment constant and goal constant \n",
    "env = setUpEnvironment()\n",
    "N = 20\n",
    "x_goal = [3.; 0.5; 0; 0.05; -0.05; 0]\n",
    "num_problems = 100\n",
    "numInEach = sqrt(num_problems)\n",
    "xMin = 0.2\n",
    "xMax = 2.5\n",
    "yMin = 0.8 \n",
    "yMax = 3.0\n",
    "xVals = collect(xMin:(xMax-xMin)/floor(numInEach-1):xMax)\n",
    "yVals = collect(yMin:(yMax-yMin)/floor(numInEach-1):yMax)\n",
    "# @show xVals\n",
    "# @show yVals\n",
    "\n",
    "max_iter = 30\n",
    "\n",
    "train_input_collected = Array{Float64}(undef,0,182)\n",
    "train_output_collected = Array{Float64}(undef,0,180)\n",
    "\n",
    "problemNumber = 1\n",
    "for xVal in xVals\n",
    "    for yVal in yVals\n",
    "        println(\"\")\n",
    "        @show problemNumber\n",
    "        x_init = [xVal; yVal; 0; 0; 0; 0] \n",
    "        @show x_init\n",
    "        TOP, TOSgusto = setUpProblem(N, x_init, x_goal);\n",
    "        traj_init = init_traj_straightline(TOP)\n",
    "        traj_X_vec = [traj_init.X]\n",
    "        traj_U_vec = [traj_init.U]\n",
    "        # Solve one step at a time with IPOPT\n",
    "        solve_SCP!(TOSgusto, TOP, solve_gusto_jump!, traj_init, \"Ipopt\", max_iter=1, print_level=0);\n",
    "        push!(traj_X_vec, TOSgusto.SCPS.traj.X)\n",
    "        push!(traj_U_vec, TOSgusto.SCPS.traj.U)\n",
    "        iterCount = 1\n",
    "        \n",
    "        while !TOSgusto.SCPS.converged && iterCount <=max_iter && (TOSgusto.SCPS.solver_status[end] == MOI.LOCALLY_SOLVED)\n",
    "            solve_SCP!(TOSgusto, TOP, solve_gusto_jump!, TOSgusto.SCPS.traj, \"Ipopt\", max_iter=1, print_level=0);\n",
    "            @show TOSgusto.SCPS.scp_status\n",
    "            @show TOSgusto.SCPS.solver_status\n",
    "#             @show TOSgusto.SCPS.accept_solution\n",
    "#             @show TOSgusto.SCPS.param.alg.ω_vec\n",
    "            if TOSgusto.SCPS.solver_status[end] == MOI.LOCALLY_SOLVED\n",
    "                push!(traj_X_vec, TOSgusto.SCPS.traj.X)\n",
    "                push!(traj_U_vec, TOSgusto.SCPS.traj.U)\n",
    "                iterCount = iterCount + 1\n",
    "                @show iterCount\n",
    "            end\n",
    "        end\n",
    "        train_input, train_output = createTrainingInputAndOutput(traj_X_vec, traj_U_vec, TOSgusto.SCPS.param.alg.ω_vec, TOSgusto.SCPS.param.alg.Δ_vec)\n",
    "        @show size(train_input)\n",
    "        @show size(train_output)\n",
    "        train_input_collected = vcat(train_input_collected, train_input)\n",
    "        train_output_collected = vcat(train_output_collected, train_output)\n",
    "        problemNumber = problemNumber + 1\n",
    "        @save \"firstBatch.jld2\" train_input_collected train_output_collected\n",
    "    end\n",
    "end\n",
    "\n",
    "# @save \"firstBatch.jld2\" train_input_collected train_output_collected\n"
   ]
  },
  {
   "cell_type": "code",
   "execution_count": null,
   "metadata": {},
   "outputs": [],
   "source": [
    "# Violates constraints start point\n",
    "env = setUpEnvironment()\n",
    "N = 20\n",
    "x_init = [0.6; 2.4; 0; 0; 0; 0]\n",
    "x_goal = [3.; 0.5; 0; 0.05; -0.05; 0]\n",
    "TOP, TOSgusto = setUpProblem(N, x_init, x_goal);\n",
    "# Solve full solution with IPOPT\n",
    "full_SCPS = solve_SCP!(TOSgusto, TOP, solve_gusto_jump!, init_traj_straightline, \"Ipopt\", max_iter=100, print_level=0);\n"
   ]
  },
  {
   "cell_type": "code",
   "execution_count": null,
   "metadata": {},
   "outputs": [],
   "source": [
    "@show TOSgusto.SCPS.scp_status\n",
    "@show TOSgusto.SCPS.iterations\n",
    "@show TOSgusto.SCPS.converged\n",
    "@show TOSgusto.SCPS.param.alg.ω_vec\n",
    "@show TOSgusto.SCPS.param.alg.Δ_vec"
   ]
  },
  {
   "cell_type": "code",
   "execution_count": null,
   "metadata": {},
   "outputs": [],
   "source": [
    "# Violates constraints start point\n",
    "env = setUpEnvironment()\n",
    "N = 20\n",
    "x_init = [0.6; 2.4; 0; 0; 0; 0]\n",
    "x_goal = [3.; 0.5; 0; 0.05; -0.05; 0]\n",
    "TOP, TOSgusto = setUpProblem(N, x_init, x_goal);\n",
    "\n",
    "traj_init = init_traj_straightline(TOP)\n",
    "traj_X_vec = [traj_init.X]\n",
    "traj_U_vec = [traj_init.U]\n",
    "# Solve one step at a time with IPOPT\n",
    "solve_SCP!(TOSgusto, TOP, solve_gusto_jump!, traj_init, \"Ipopt\", max_iter=1, print_level=0);\n",
    "push!(traj_X_vec, TOSgusto.SCPS.traj.X)\n",
    "push!(traj_U_vec, TOSgusto.SCPS.traj.U)\n",
    "iterCount = 1\n",
    "\n",
    "while !TOSgusto.SCPS.converged && iterCount <=50\n",
    "    solve_SCP!(TOSgusto, TOP, solve_gusto_jump!, TOSgusto.SCPS.traj, \"Ipopt\", max_iter=1, print_level=0);\n",
    "    push!(traj_X_vec, TOSgusto.SCPS.traj.X)\n",
    "    push!(traj_U_vec, TOSgusto.SCPS.traj.U)\n",
    "    iterCount = iterCount + 1\n",
    "    @show iterCount \n",
    "#     @show TOSgusto.SCPS.param.alg.ω_vec\n",
    "#     @show TOSgusto.SCPS.param.alg.Δ_vec\n",
    "end\n",
    "println(\"Finished!\")\n",
    "@show TOSgusto.SCPS.scp_status\n",
    "@show TOSgusto.SCPS.iterations\n",
    "@show TOSgusto.SCPS.converged\n",
    "@show TOSgusto.SCPS.param.alg.ω_vec\n",
    "@show TOSgusto.SCPS.param.alg.Δ_vec\n",
    "@show size(traj_X_vec)\n",
    "\n"
   ]
  },
  {
   "cell_type": "code",
   "execution_count": null,
   "metadata": {},
   "outputs": [],
   "source": [
    "train_input, train_output = createTrainingInputAndOutput(traj_X_vec, traj_U_vec, TOSgusto.SCPS.param.alg.ω_vec, TOSgusto.SCPS.param.alg.Δ_vec)\n",
    "@show size(train_input)\n",
    "@show size(train_output)\n"
   ]
  },
  {
   "cell_type": "code",
   "execution_count": null,
   "metadata": {},
   "outputs": [],
   "source": [
    "traj_X_vec_3d=cat(traj_X_vec...,dims=3)\n",
    "@show size(traj_X_vec_3d)\n",
    "\n",
    "using JLD2, FileIO\n",
    "hello = \"world\"\n",
    "foo = :bar\n",
    "@save \"example.jld2\" hello foo"
   ]
  },
  {
   "cell_type": "code",
   "execution_count": null,
   "metadata": {},
   "outputs": [],
   "source": [
    "# OK start point\n",
    "env = setUpEnvironment()\n",
    "N = 20\n",
    "x_init = [0.2; 2.4; 0; 0; 0; 0]\n",
    "x_goal = [3.; 0.5; 0; 0.05; -0.05; 0]\n",
    "TOP, TOSgusto = setUpProblem(N, x_init, x_goal);\n",
    "# Solve full solution with IPOPT\n",
    "full_SCPS = solve_SCP!(TOSgusto, TOP, solve_gusto_jump!, init_traj_straightline, \"Ipopt\", max_iter=100, print_level=0);\n"
   ]
  },
  {
   "cell_type": "code",
   "execution_count": null,
   "metadata": {},
   "outputs": [],
   "source": [
    "@show TOSgusto.SCPS.scp_status\n",
    "@show TOSgusto.SCPS.iterations\n",
    "@show TOSgusto.SCPS.converged\n",
    "@show TOSgusto.SCPS.param.alg.ω_vec\n",
    "@show TOSgusto.SCPS.param.alg.Δ_vec"
   ]
  },
  {
   "cell_type": "code",
   "execution_count": null,
   "metadata": {},
   "outputs": [],
   "source": [
    "plotVelocity(TOSgusto.SCPS.traj.X, N)\n",
    "plotXYTrajectory(TOSgusto.SCPS.traj.X)"
   ]
  },
  {
   "cell_type": "code",
   "execution_count": null,
   "metadata": {},
   "outputs": [],
   "source": [
    "visualizeTraj(env, TOSgusto)"
   ]
  },
  {
   "cell_type": "code",
   "execution_count": null,
   "metadata": {},
   "outputs": [],
   "source": [
    "# Solve full solution with Gurobi\n",
    "env = setUpEnvironment()\n",
    "N = 20\n",
    "x_init = [0.4; 2.4; 0; 0; 0; 0]\n",
    "x_goal = [3.; 0.5; 0; 0.05; -0.05; 0]\n",
    "TOP, TOSgusto = setUpProblem(N, x_init, x_goal);\n",
    "full_SCPS = solve_SCP!(TOSgusto, TOP, solve_gusto_jump!, init_traj_straightline, \"Gurobi\", max_iter=100, OutputFlag=0);\n",
    "@show TOSgusto.SCPS.scp_status\n",
    "@show TOSgusto.SCPS.iterations\n",
    "@show TOSgusto.SCPS.accept_solution\n",
    "# visualizeTraj(env, TOSgusto)"
   ]
  },
  {
   "cell_type": "code",
   "execution_count": null,
   "metadata": {},
   "outputs": [],
   "source": [
    "# Create loop to run SCP one iteration at a time and store off TOSgusto.SCPS.traj as well as parameters\n",
    "first_SCPS = solve_SCP!(TOSgusto, TOP, solve_gusto_jump!, init_traj_straightline, \"Ipopt\", max_iter=1, print_level=0);\n",
    "@show TOSgusto.SCPS.scp_status\n",
    "@show TOSgusto.SCPS.param.alg.ω_vec\n",
    "@show TOSgusto.SCPS.param.alg.Δ_vec\n",
    "@show TOSgusto.SCPS.traj.X\n",
    "@show TOSgusto.SCPS.traj.U\n",
    "@show TOSgusto.SCPS.traj.Tf\n",
    "@show TOSgusto.SCPS.traj.dt\n",
    "@show TOSgusto.SCPS.iterations\n",
    "\n",
    "\n",
    "# @show TOSgusto.SCPS.converged\n",
    "# @show TOSgusto.SCPS.dual\n"
   ]
  },
  {
   "cell_type": "code",
   "execution_count": null,
   "metadata": {},
   "outputs": [],
   "source": [
    "second_SCPS = solve_SCP!(TOSgusto, TOP, solve_gusto_jump!, TOSgusto.SCPS.traj, \"Ipopt\", max_iter=1, print_level=0);\n",
    "@show TOSgusto.SCPS.scp_status\n",
    "@show TOSgusto.SCPS.param.alg.ω_vec\n",
    "@show TOSgusto.SCPS.param.alg.Δ_vec\n",
    "@show TOSgusto.SCPS.traj.X\n",
    "@show TOSgusto.SCPS.traj.U\n",
    "@show TOSgusto.SCPS.traj.Tf\n",
    "@show TOSgusto.SCPS.traj.dt\n",
    "@show TOSgusto.SCPS.iterations\n"
   ]
  },
  {
   "cell_type": "code",
   "execution_count": null,
   "metadata": {},
   "outputs": [],
   "source": [
    "for i in 1:20\n",
    "    next_SCPS = solve_SCP!(TOSgusto, TOP, solve_gusto_jump!, TOSgusto.SCPS.traj, \"Ipopt\", max_iter=1, print_level=0);\n",
    "    @show TOSgusto.SCPS.scp_status\n",
    "    @show TOSgusto.SCPS.param.alg.ω_vec\n",
    "    @show TOSgusto.SCPS.param.alg.Δ_vec\n",
    "    @show TOSgusto.SCPS.traj.X\n",
    "    @show TOSgusto.SCPS.traj.U\n",
    "    @show TOSgusto.SCPS.traj.Tf\n",
    "    @show TOSgusto.SCPS.traj.dt\n",
    "    @show TOSgusto.SCPS.iterations\n",
    "end"
   ]
  },
  {
   "cell_type": "code",
   "execution_count": null,
   "metadata": {},
   "outputs": [],
   "source": [
    "full_SCPS = solve_SCP!(TOSgusto, TOP, solve_gusto_jump!, TOSgusto.SCPS.traj, \"Ipopt\", max_iter=100, print_level=0);\n",
    "@show TOSgusto.SCPS.scp_status\n",
    "@show TOSgusto.SCPS.param.alg.ω_vec\n",
    "@show TOSgusto.SCPS.param.alg.Δ_vec\n",
    "@show TOSgusto.SCPS.traj.X\n",
    "@show TOSgusto.SCPS.traj.U\n",
    "@show TOSgusto.SCPS.traj.Tf\n",
    "@show TOSgusto.SCPS.traj.dt\n",
    "@show TOSgusto.SCPS.iterations"
   ]
  },
  {
   "cell_type": "code",
   "execution_count": null,
   "metadata": {
    "scrolled": false
   },
   "outputs": [],
   "source": [
    "include(\"../ok.jl\")"
   ]
  },
  {
   "cell_type": "code",
   "execution_count": null,
   "metadata": {},
   "outputs": [],
   "source": [
    "# @show TOSgusto.SCPS.param.alg.ω_vec\n",
    "function ok()\n",
    "    print(\"thiss2\")\n",
    "end\n",
    "ok()"
   ]
  },
  {
   "cell_type": "code",
   "execution_count": null,
   "metadata": {},
   "outputs": [],
   "source": [
    "SCPS = solve_SCP!(TOSgusto, TOP, solve_gusto_jump!, TOSgusto.SCPS.traj, \"Ipopt\", max_iter=1, print_level=0);\n",
    "@show TOSgusto.SCPS.dual\n",
    "@show TOSgusto.SCPS.traj\n",
    "@show TOSgusto.SCPS.param.alg.ω_vec\n",
    "@show TOSgusto.SCPS.param.alg.Δ_vec"
   ]
  },
  {
   "cell_type": "code",
   "execution_count": null,
   "metadata": {
    "scrolled": false
   },
   "outputs": [],
   "source": [
    "using Profile\n",
    "using ProfileView \n",
    "env = setUpEnvironment()\n",
    "N = 20\n",
    "x_init = [0.6; 2.4; 0; 0; 0; 0]\n",
    "x_goal = [3.; 0.5; 0; 0.05; -0.05; 0]\n",
    "TOP, TOSgusto = setUpProblem(N, x_init, x_goal);\n",
    "Profile.clear()\n",
    "@profile solve_SCP!(TOSgusto, TOP, solve_gusto_jump!, init_traj_straightline, \"Gurobi\", OutputFlag=0)\n",
    "ProfileView.view()"
   ]
  },
  {
   "cell_type": "code",
   "execution_count": null,
   "metadata": {},
   "outputs": [],
   "source": [
    "using Profile\n",
    "using ProfileView \n",
    "env = setUpEnvironment()\n",
    "N = 20\n",
    "x_init = [0.6; 2.4; 0; 0; 0; 0]\n",
    "x_goal = [3.; 0.5; 0; 0.05; -0.05; 0]\n",
    "TOP, TOSgusto = setUpProblem(N, x_init, x_goal);\n",
    "Profile.clear()\n",
    "@profile solve_SCP!(TOSgusto, TOP, solve_gusto_jump!, init_traj_straightline, \"Ipopt\", print_level=0)\n",
    "ProfileView.view()"
   ]
  },
  {
   "cell_type": "code",
   "execution_count": null,
   "metadata": {},
   "outputs": [],
   "source": [
    "SCPS = solve_SCP!(TOSgusto, TOP, solve_gusto_jump!, init_traj_straightline, \"Gurobi\", OutputFlag=0);\n",
    "# SCPS = solve_SCP!(TOSgusto, TOP, solve_gusto_jump!, init_traj_straightline, \"Ipopt\", print_level=0);\n"
   ]
  },
  {
   "cell_type": "code",
   "execution_count": null,
   "metadata": {},
   "outputs": [],
   "source": [
    "@show TOSgusto.SCPS.converged\n",
    "@show TOSgusto.SCPS.iterations\n",
    "@show TOSgusto.SCPS.total_time\n",
    "@show TOSgusto.SCPS.accept_solution\n",
    "@show TOSgusto.SCPS.solver_status\n",
    "@show TOSgusto.SCPS.scp_status\n",
    "@show TOSgusto.SCPS.convergence_measure\n",
    "@show TOSgusto.SCPS.param.alg.ω_vec\n",
    "@show TOSgusto.SCPS.param.alg.Δ_vec\n",
    "@show TOSgusto.SCPS.J_true\n",
    "@show TOSgusto.SCPS.dual\n",
    ";"
   ]
  },
  {
   "cell_type": "code",
   "execution_count": null,
   "metadata": {},
   "outputs": [],
   "source": []
  },
  {
   "cell_type": "code",
   "execution_count": null,
   "metadata": {},
   "outputs": [],
   "source": [
    "@show TOSgusto.SCPS.traj\n"
   ]
  },
  {
   "cell_type": "code",
   "execution_count": null,
   "metadata": {},
   "outputs": [],
   "source": [
    "typeof(TOSgusto.SCPS.traj)\n"
   ]
  },
  {
   "cell_type": "code",
   "execution_count": null,
   "metadata": {},
   "outputs": [],
   "source": [
    "# Old version of code\n",
    "# # Violates constraints start point\n",
    "# env = setUpEnvironment()\n",
    "# N = 20\n",
    "# x_init = [0.6; 2.4; 0; 0; 0; 0]\n",
    "# x_goal = [3.; 0.5; 0; 0.05; -0.05; 0]\n",
    "# TOP, TOSgusto = setUpProblem(N, x_init, x_goal);\n",
    "# if isdefined(TOSgusto, :SCPS)\n",
    "#     println(\"Before first, TOSgusto.SCPS defined\")\n",
    "# else\n",
    "#     println(\"Before first, TOSgusto.SCPS NOT defined\")\n",
    "# end\n",
    "# # Solve one step at a time with IPOPT\n",
    "# solve_SCP!(TOSgusto, TOP, solve_gusto_jump!, init_traj_straightline, \"Ipopt\", max_iter=1, print_level=0);\n",
    "# # @show typeof(TOSgusto.SCPS.SCPP.param.alg)\n",
    "# iterCount = 1\n",
    "# if isdefined(TOSgusto.SCPS.param, :alg)\n",
    "#     println(\"After first, TOSgusto.SCPS.param.alg defined\")\n",
    "# else\n",
    "#     println(\"After first, TOSgusto.SCPS.param.alg NOT defined\")\n",
    "# end\n",
    "# while !TOSgusto.SCPS.converged && iterCount <=15\n",
    "#     solve_SCP!(TOSgusto, TOP, solve_gusto_jump!, TOSgusto.SCPS.traj, \"Ipopt\", max_iter=1, print_level=0);\n",
    "#     iterCount = iterCount + 1\n",
    "#     @show iterCount \n",
    "#     @show TOSgusto.SCPS.param.alg.ω_vec\n",
    "#     @show TOSgusto.SCPS.param.alg.Δ_vec\n",
    "# end\n",
    "# println(\"Finished!\")\n",
    "# @show TOSgusto.SCPS.scp_status\n",
    "# @show TOSgusto.SCPS.iterations\n",
    "# @show TOSgusto.SCPS.converged\n",
    "# @show TOSgusto.SCPS.param.alg.ω_vec\n",
    "# @show TOSgusto.SCPS.param.alg.Δ_vec"
   ]
  }
 ],
 "metadata": {
  "kernelspec": {
   "display_name": "Julia 1.0.3",
   "language": "julia",
   "name": "julia-1.0"
  },
  "language_info": {
   "file_extension": ".jl",
   "mimetype": "application/julia",
   "name": "julia",
   "version": "1.0.3"
  }
 },
 "nbformat": 4,
 "nbformat_minor": 2
}
