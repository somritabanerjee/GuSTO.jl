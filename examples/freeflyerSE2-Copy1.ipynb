{
 "cells": [
  {
   "cell_type": "code",
   "execution_count": 52,
   "metadata": {},
   "outputs": [],
   "source": [
    "# using GuSTO\n",
    "include(\"../src/GuSTO.jl\")\n",
    "using AstrobeeRobot\n",
    "using Plots"
   ]
  },
  {
   "cell_type": "code",
   "execution_count": 53,
   "metadata": {},
   "outputs": [
    {
     "data": {
      "text/plain": [
       "FreeflyerSE2(6, 3, 0.05, Any[], Any[], Any[])"
      ]
     },
     "execution_count": 53,
     "metadata": {},
     "output_type": "execute_result"
    }
   ],
   "source": [
    "robot = Freeflyer()\n",
    "model = FreeflyerSE2()"
   ]
  },
  {
   "cell_type": "code",
   "execution_count": 54,
   "metadata": {},
   "outputs": [
    {
     "data": {
      "text/plain": [
       "setUpEnvironment (generic function with 1 method)"
      ]
     },
     "execution_count": 54,
     "metadata": {},
     "output_type": "execute_result"
    }
   ],
   "source": [
    "function setUpEnvironment()\n",
    "    env = Table(:stanford);\n",
    "    centers = Vector()\n",
    "    push!(centers, [0.460; 0.315; 0.0])\n",
    "    push!(centers, [0.201; 1.085; 0.0])\n",
    "    push!(centers, [0.540; 2.020; 0.0])\n",
    "    push!(centers, [1.374; 0.196; 0.0])\n",
    "    push!(centers, [1.063; 1.354; 0.0])\n",
    "    push!(centers, [1.365; 2.322; 0.0])\n",
    "    push!(centers, [2.221; 0.548; 0.0])\n",
    "    push!(centers, [2.077; 1.443; 0.0])\n",
    "    push!(centers, [3.098; 1.186; 0.0])\n",
    "    push!(centers, [2.837; 2.064; 0.0])\n",
    "    # push!(centers, [1.500; 1.500; 0.0])\n",
    "\n",
    "    widths = [0.27; 0.27; 0.127]\n",
    "    inflation = 0.05*ones(3)\n",
    "\n",
    "    for idx in 1:length(centers)\n",
    "        push!(env.obstacle_set, HyperRectangle(Vec3f0(centers[idx]-0.5*widths-inflation+[0.;0.;0.5*widths[1]]), Vec3f0(widths+2*inflation)))\n",
    "    end\n",
    "    return env\n",
    "end"
   ]
  },
  {
   "cell_type": "code",
   "execution_count": 55,
   "metadata": {},
   "outputs": [],
   "source": [
    "# Create obstacle grid representation using centers, widths, and inflation\n"
   ]
  },
  {
   "cell_type": "code",
   "execution_count": 56,
   "metadata": {},
   "outputs": [
    {
     "data": {
      "text/plain": [
       "setUpProblem (generic function with 1 method)"
      ]
     },
     "execution_count": 56,
     "metadata": {},
     "output_type": "execute_result"
    }
   ],
   "source": [
    "# Set up problem, initial goal and final goal\n",
    "function setUpProblem(N, x_init, x_goal)\n",
    "    tf_guess = 200.\n",
    "    goal_set = GoalSet()\n",
    "    add_goal!(goal_set, Goal(PointGoal(x_goal), tf_guess, model))\n",
    "    PD = ProblemDefinition(robot, model, env, x_init, goal_set)\n",
    "    TOP = TrajectoryOptimizationProblem(PD, N, tf_guess, fixed_final_time=true)\n",
    "    TOSgusto = TrajectoryOptimizationSolution(TOP)\n",
    "    return TOP, TOSgusto\n",
    "end\n"
   ]
  },
  {
   "cell_type": "code",
   "execution_count": 57,
   "metadata": {},
   "outputs": [
    {
     "data": {
      "text/plain": [
       "plotVelocity (generic function with 1 method)"
      ]
     },
     "execution_count": 57,
     "metadata": {},
     "output_type": "execute_result"
    }
   ],
   "source": [
    "function plotVelocity(TOSgusto, N)\n",
    "    gr(fmt=:png)\n",
    "    plot()\n",
    "    plot!([collect(1:N)],[sqrt.(TOSgusto.SCPS.traj.X[4,:].^2 + TOSgusto.SCPS.traj.X[5,:].^2)],\n",
    "        xlabel = \"t\",\n",
    "        ylabel = \"v\",\n",
    "        legend = :none)\n",
    "    plot!()\n",
    "end"
   ]
  },
  {
   "cell_type": "code",
   "execution_count": 58,
   "metadata": {},
   "outputs": [
    {
     "data": {
      "text/plain": [
       "visualizeTraj (generic function with 1 method)"
      ]
     },
     "execution_count": 58,
     "metadata": {},
     "output_type": "execute_result"
    }
   ],
   "source": [
    "#### Code for animating free-flyer trajectories\n",
    "function visualizeTraj(env, TOSgusto)\n",
    "    vis = Visualizer()\n",
    "    delete!(vis)\n",
    "\n",
    "    vis[:goal]\n",
    "    setobject!(vis[:goal][:goal], \n",
    "        Object(HyperSphere(Point3(x_goal[1:2]..., robot.r), 0.1),\n",
    "            MeshBasicMaterial(color=RGBA(0,1.0,0.,0.3))))\n",
    "\n",
    "    vis[:table]\n",
    "    table_dim = env.worldAABBmax-env.worldAABBmin\n",
    "    setobject!(vis[:table][:table], \n",
    "            Object(HyperRectangle(env.worldAABBmin..., table_dim...),\n",
    "                MeshBasicMaterial(color=RGBA(0,1.0,0.,0.3))))\n",
    "\n",
    "    vis[:obstacles]\n",
    "    for (idx,obs) in enumerate(env.obstacle_set)\n",
    "        setobject!(vis[:obstacles][Symbol(string(\"obs\",idx))], \n",
    "            Object(obs,MeshBasicMaterial(color=RGBA(1.0,0.,0.,0.3))))\n",
    "    end\n",
    "\n",
    "    vis[:robot]\n",
    "\n",
    "    setobject!(vis[:robot][:base],\n",
    "        Object(Cylinder(Point3f0(0,0,0.),Point3f0(0.,0.,0.5),Float32(robot.r)),MeshBasicMaterial(color=RGBA(0,0.,1.,0.7))))\n",
    "\n",
    "    up = [0;0;1.]\n",
    "    q0 = vec2quat(up,x_init[3])\n",
    "    Qs = Vector{Vector{Float64}}()\n",
    "\n",
    "    speed_factor = 10\n",
    "\n",
    "    for k in 1:speed_factor:N\n",
    "        q = [quat_inv(quat_multiply(mrp2quat([0.; 0.; tan(TOSgusto.SCPS.traj.X[3,k]/4)]), q0)); [TOSgusto.SCPS.traj.X[1:2,k]; robot.r]]\n",
    "        push!(Qs,q)\n",
    "    end\n",
    "\n",
    "    anim = MeshCat.Animation()\n",
    "    for k in 1:N\n",
    "        atframe(anim, vis, 5*k) do frame\n",
    "            settransform!(frame[:robot], Translation(TOSgusto.traj.X[1,k], \n",
    "                TOSgusto.traj.X[2,k], TOSgusto.traj.X[3,k]))\n",
    "        end\n",
    "    end\n",
    "    setanimation!(vis, anim)\n",
    "\n",
    "    # plot_in_cell = true\n",
    "    plot_in_cell = false\n",
    "    plot_in_cell ? IJuliaCell(vis) : open(vis)\n",
    "end"
   ]
  },
  {
   "cell_type": "code",
   "execution_count": 16,
   "metadata": {},
   "outputs": [],
   "source": [
    "# Violates constraints start point\n",
    "env = setUpEnvironment()\n",
    "N = 20\n",
    "x_init = [0.6; 2.4; 0; 0; 0; 0]\n",
    "x_goal = [3.; 0.5; 0; 0.05; -0.05; 0]\n",
    "TOP, TOSgusto = setUpProblem(N, x_init, x_goal);\n",
    "# Solve full solution with IPOPT\n",
    "full_SCPS = solve_SCP!(TOSgusto, TOP, solve_gusto_jump!, init_traj_straightline, \"Ipopt\", max_iter=100, print_level=0);\n"
   ]
  },
  {
   "cell_type": "code",
   "execution_count": 17,
   "metadata": {},
   "outputs": [
    {
     "name": "stdout",
     "output_type": "stream",
     "text": [
      "(TOSgusto.SCPS).scp_status = Symbol[:NA, :ViolatesConstraints, :ViolatesConstraints, :ViolatesConstraints, :ViolatesConstraints, :ViolatesConstraints, :ViolatesConstraints]\n",
      "(TOSgusto.SCPS).iterations = 6\n",
      "(TOSgusto.SCPS).converged = true\n",
      "(((TOSgusto.SCPS).param).alg).ω_vec = [2.0, 20.0, 200.0, 2000.0, 20000.0, 200000.0, 2.0e6]\n",
      "(((TOSgusto.SCPS).param).alg).Δ_vec = [4.0, 4.0, 4.0, 4.0, 4.0, 4.0, 4.0]\n"
     ]
    },
    {
     "data": {
      "text/plain": [
       "7-element Array{Float64,1}:\n",
       " 4.0\n",
       " 4.0\n",
       " 4.0\n",
       " 4.0\n",
       " 4.0\n",
       " 4.0\n",
       " 4.0"
      ]
     },
     "execution_count": 17,
     "metadata": {},
     "output_type": "execute_result"
    }
   ],
   "source": [
    "@show TOSgusto.SCPS.scp_status\n",
    "@show TOSgusto.SCPS.iterations\n",
    "@show TOSgusto.SCPS.converged\n",
    "@show TOSgusto.SCPS.param.alg.ω_vec\n",
    "@show TOSgusto.SCPS.param.alg.Δ_vec"
   ]
  },
  {
   "cell_type": "code",
   "execution_count": 59,
   "metadata": {},
   "outputs": [
    {
     "name": "stdout",
     "output_type": "stream",
     "text": [
      "Before first, TOSgusto.SCPS NOT defined\n",
      "param.alg NOT defined\n",
      "After first, TOSgusto.SCPS.param.alg defined\n",
      "Inside solve_SCP SCPP.param.alg defined\n",
      "Inside solve_SCP SCPS.param.alg defined\n",
      "param.alg defined\n",
      "iterCount = 2\n",
      "(((TOSgusto.SCPS).param).alg).ω_vec = [2.0, 20.0, 200.0]\n",
      "(((TOSgusto.SCPS).param).alg).Δ_vec = [4.0, 4.0, 4.0]\n",
      "Inside solve_SCP SCPP.param.alg defined\n",
      "Inside solve_SCP SCPS.param.alg defined\n",
      "param.alg defined\n",
      "iterCount = 3\n",
      "(((TOSgusto.SCPS).param).alg).ω_vec = [2.0, 20.0, 200.0, 2000.0]\n",
      "(((TOSgusto.SCPS).param).alg).Δ_vec = [4.0, 4.0, 4.0, 4.0]\n",
      "Inside solve_SCP SCPP.param.alg defined\n",
      "Inside solve_SCP SCPS.param.alg defined\n",
      "param.alg defined\n",
      "iterCount = 4\n",
      "(((TOSgusto.SCPS).param).alg).ω_vec = [2.0, 20.0, 200.0, 2000.0, 20000.0]\n",
      "(((TOSgusto.SCPS).param).alg).Δ_vec = [4.0, 4.0, 4.0, 4.0, 4.0]\n",
      "Inside solve_SCP SCPP.param.alg defined\n",
      "Inside solve_SCP SCPS.param.alg defined\n",
      "param.alg defined\n",
      "iterCount = 5\n",
      "(((TOSgusto.SCPS).param).alg).ω_vec = [2.0, 20.0, 200.0, 2000.0, 20000.0, 200000.0]\n",
      "(((TOSgusto.SCPS).param).alg).Δ_vec = [4.0, 4.0, 4.0, 4.0, 4.0, 4.0]\n",
      "Inside solve_SCP SCPP.param.alg defined\n",
      "Inside solve_SCP SCPS.param.alg defined\n",
      "param.alg defined\n",
      "iterCount = 6\n",
      "(((TOSgusto.SCPS).param).alg).ω_vec = [2.0, 20.0, 200.0, 2000.0, 20000.0, 200000.0, 2.0e6]\n",
      "(((TOSgusto.SCPS).param).alg).Δ_vec = [4.0, 4.0, 4.0, 4.0, 4.0, 4.0, 4.0]\n",
      "finished(TOSgusto.SCPS).scp_status = Symbol[:NA, :ViolatesConstraints, :ViolatesConstraints, :ViolatesConstraints, :ViolatesConstraints, :ViolatesConstraints, :ViolatesConstraints]\n",
      "(TOSgusto.SCPS).iterations = 6\n",
      "(TOSgusto.SCPS).converged = true\n",
      "(((TOSgusto.SCPS).param).alg).ω_vec = [2.0, 20.0, 200.0, 2000.0, 20000.0, 200000.0, 2.0e6]\n",
      "(((TOSgusto.SCPS).param).alg).Δ_vec = [4.0, 4.0, 4.0, 4.0, 4.0, 4.0, 4.0]\n"
     ]
    },
    {
     "data": {
      "text/plain": [
       "7-element Array{Float64,1}:\n",
       " 4.0\n",
       " 4.0\n",
       " 4.0\n",
       " 4.0\n",
       " 4.0\n",
       " 4.0\n",
       " 4.0"
      ]
     },
     "execution_count": 59,
     "metadata": {},
     "output_type": "execute_result"
    }
   ],
   "source": [
    "# Violates constraints start point\n",
    "env = setUpEnvironment()\n",
    "N = 20\n",
    "x_init = [0.6; 2.4; 0; 0; 0; 0]\n",
    "x_goal = [3.; 0.5; 0; 0.05; -0.05; 0]\n",
    "TOP, TOSgusto = setUpProblem(N, x_init, x_goal);\n",
    "if isdefined(TOSgusto, :SCPS)\n",
    "    println(\"Before first, TOSgusto.SCPS defined\")\n",
    "else\n",
    "    println(\"Before first, TOSgusto.SCPS NOT defined\")\n",
    "end\n",
    "# Solve one step at a time with IPOPT\n",
    "solve_SCP!(TOSgusto, TOP, solve_gusto_jump!, init_traj_straightline, \"Ipopt\", max_iter=1, print_level=0);\n",
    "# @show typeof(TOSgusto.SCPS.SCPP.param.alg)\n",
    "iterCount = 1\n",
    "if isdefined(TOSgusto.SCPS.param, :alg)\n",
    "    println(\"After first, TOSgusto.SCPS.param.alg defined\")\n",
    "else\n",
    "    println(\"After first, TOSgusto.SCPS.param.alg NOT defined\")\n",
    "end\n",
    "while !TOSgusto.SCPS.converged && iterCount <=15\n",
    "    solve_SCP!(TOSgusto, TOP, solve_gusto_jump!, TOSgusto.SCPS.traj, \"Ipopt\", max_iter=1, print_level=0);\n",
    "    iterCount = iterCount + 1\n",
    "    @show iterCount \n",
    "    @show TOSgusto.SCPS.param.alg.ω_vec\n",
    "    @show TOSgusto.SCPS.param.alg.Δ_vec\n",
    "end\n",
    "println(\"Finished!\")\n",
    "@show TOSgusto.SCPS.scp_status\n",
    "@show TOSgusto.SCPS.iterations\n",
    "@show TOSgusto.SCPS.converged\n",
    "@show TOSgusto.SCPS.param.alg.ω_vec\n",
    "@show TOSgusto.SCPS.param.alg.Δ_vec"
   ]
  },
  {
   "cell_type": "code",
   "execution_count": 18,
   "metadata": {},
   "outputs": [],
   "source": [
    "# OK start point\n",
    "env = setUpEnvironment()\n",
    "N = 20\n",
    "x_init = [0.2; 2.4; 0; 0; 0; 0]\n",
    "x_goal = [3.; 0.5; 0; 0.05; -0.05; 0]\n",
    "TOP, TOSgusto = setUpProblem(N, x_init, x_goal);\n",
    "# Solve full solution with IPOPT\n",
    "full_SCPS = solve_SCP!(TOSgusto, TOP, solve_gusto_jump!, init_traj_straightline, \"Ipopt\", max_iter=100, print_level=0);\n"
   ]
  },
  {
   "cell_type": "code",
   "execution_count": 19,
   "metadata": {},
   "outputs": [
    {
     "name": "stdout",
     "output_type": "stream",
     "text": [
      "(TOSgusto.SCPS).scp_status = Symbol[:NA, :OK, :OK, :OK, :OK, :OK, :OK, :OK, :OK]\n",
      "(TOSgusto.SCPS).iterations = 8\n",
      "(TOSgusto.SCPS).converged = true\n",
      "(((TOSgusto.SCPS).param).alg).ω_vec = [2.0, 2.0, 2.0, 2.0, 2.0, 2.0, 2.0, 2.0, 2.0]\n",
      "(((TOSgusto.SCPS).param).alg).Δ_vec = [4.0, 4.0, 4.0, 4.0, 4.0, 4.0, 4.0, 4.0, 4.0]\n"
     ]
    },
    {
     "data": {
      "text/plain": [
       "9-element Array{Float64,1}:\n",
       " 4.0\n",
       " 4.0\n",
       " 4.0\n",
       " 4.0\n",
       " 4.0\n",
       " 4.0\n",
       " 4.0\n",
       " 4.0\n",
       " 4.0"
      ]
     },
     "execution_count": 19,
     "metadata": {},
     "output_type": "execute_result"
    }
   ],
   "source": [
    "@show TOSgusto.SCPS.scp_status\n",
    "@show TOSgusto.SCPS.iterations\n",
    "@show TOSgusto.SCPS.converged\n",
    "@show TOSgusto.SCPS.param.alg.ω_vec\n",
    "@show TOSgusto.SCPS.param.alg.Δ_vec"
   ]
  },
  {
   "cell_type": "code",
   "execution_count": 64,
   "metadata": {},
   "outputs": [
    {
     "data": {
      "image/png": "[encoded data removed]"
     },
     "execution_count": 64,
     "metadata": {},
     "output_type": "execute_result"
    }
   ],
   "source": [
    "plotVelocity(TOSgusto, N)"
   ]
  },
  {
   "cell_type": "code",
   "execution_count": 65,
   "metadata": {},
   "outputs": [
    {
     "name": "stderr",
     "output_type": "stream",
     "text": [
      "┌ Info: Serving MeshCat visualizer at http://127.0.0.1:8701\n",
      "└ @ MeshCat /home/somrita/.julia/packages/MeshCat/WlA0B/src/servers.jl:24\n"
     ]
    },
    {
     "data": {
      "text/plain": [
       "Process(`\u001b[4mxdg-open\u001b[24m \u001b[4mhttp://127.0.0.1:8701\u001b[24m`, ProcessExited(0))"
      ]
     },
     "execution_count": 65,
     "metadata": {},
     "output_type": "execute_result"
    },
    {
     "name": "stderr",
     "output_type": "stream",
     "text": [
      "[15132:15144:0509/164725.644705:ERROR:browser_process_sub_thread.cc(217)] Waited 9 ms for network service\n"
     ]
    },
    {
     "name": "stdout",
     "output_type": "stream",
     "text": [
      "Opening in existing browser session.\n"
     ]
    }
   ],
   "source": [
    "visualizeTraj(env, TOSgusto)"
   ]
  },
  {
   "cell_type": "code",
   "execution_count": 70,
   "metadata": {},
   "outputs": [
    {
     "name": "stdout",
     "output_type": "stream",
     "text": [
      "Academic license - for non-commercial use only\n",
      "Academic license - for non-commercial use only\n",
      "Academic license - for non-commercial use only\n",
      "Academic license - for non-commercial use only\n",
      "Academic license - for non-commercial use only\n",
      "Academic license - for non-commercial use only\n",
      "Academic license - for non-commercial use only\n",
      "Academic license - for non-commercial use only\n",
      "Academic license - for non-commercial use only\n",
      "Academic license - for non-commercial use only\n",
      "Academic license - for non-commercial use only\n",
      "Academic license - for non-commercial use only\n",
      "(TOSgusto.SCPS).scp_status = Symbol[:NA, :ViolatesConstraints, :ViolatesConstraints, :ViolatesConstraints, :ViolatesConstraints, :ViolatesConstraints, :ViolatesConstraints]\n",
      "(TOSgusto.SCPS).iterations = 6\n",
      "(TOSgusto.SCPS).accept_solution = Bool[true, true, true, true, true, true, true]\n"
     ]
    },
    {
     "data": {
      "text/plain": [
       "7-element Array{Bool,1}:\n",
       " true\n",
       " true\n",
       " true\n",
       " true\n",
       " true\n",
       " true\n",
       " true"
      ]
     },
     "execution_count": 70,
     "metadata": {},
     "output_type": "execute_result"
    }
   ],
   "source": [
    "# Solve full solution with Gurobi\n",
    "env = setUpEnvironment()\n",
    "N = 20\n",
    "x_init = [0.4; 2.4; 0; 0; 0; 0]\n",
    "x_goal = [3.; 0.5; 0; 0.05; -0.05; 0]\n",
    "TOP, TOSgusto = setUpProblem(N, x_init, x_goal);\n",
    "full_SCPS = solve_SCP!(TOSgusto, TOP, solve_gusto_jump!, init_traj_straightline, \"Gurobi\", max_iter=100, OutputFlag=0);\n",
    "@show TOSgusto.SCPS.scp_status\n",
    "@show TOSgusto.SCPS.iterations\n",
    "@show TOSgusto.SCPS.accept_solution\n",
    "# visualizeTraj(env, TOSgusto)"
   ]
  },
  {
   "cell_type": "code",
   "execution_count": 13,
   "metadata": {},
   "outputs": [
    {
     "name": "stdout",
     "output_type": "stream",
     "text": [
      "(TOSgusto.SCPS).scp_status = Symbol[:NA, :ViolatesConstraints]\n",
      "(((TOSgusto.SCPS).param).alg).ω_vec = [2.0, 20.0]\n",
      "(((TOSgusto.SCPS).param).alg).Δ_vec = [4.0, 4.0]\n",
      "((TOSgusto.SCPS).traj).X = [0.2 0.35596 0.686916 0.93169 0.982068 0.941173 0.938362 1.02586 1.21312 1.46162 1.68531 1.84353 1.98258 2.14922 2.33303 2.49448 2.59091 2.61269 2.67234 3.0; 2.4 2.421 2.41076 2.28003 2.07583 1.91678 1.87579 1.93 1.93 1.71858 1.35014 1.04793 0.934157 0.938762 0.95229 0.938762 0.910583 0.89013 0.824005 0.5; 0.0 0.0 0.0 0.0 0.0 0.0 0.0 0.0 0.0 0.0 0.0 0.0 0.0 0.0 0.0 0.0 0.0 0.0 0.0 0.0; 0.0 0.0296324 0.0332493 0.0132577 -0.00368597 -0.004084 0.00354994 0.0130748 0.0225044 0.0247101 0.0177915 0.0122696 0.0141501 0.0175122 0.0174126 0.0132619 0.00506002 -0.000921716 0.0122553 0.05; 0.0 0.00398951 -0.00593426 -0.0189047 -0.0198931 -0.010326 0.00253762 0.00776191 -0.0077619 -0.0324079 -0.0375962 -0.0198228 -0.00179453 0.0026695 -9.92307e-5 -0.002471 -0.00288311 -0.00100284 -0.011561 -0.05; 0.0 0.0 0.0 0.0 0.0 0.0 0.0 0.0 0.0 0.0 0.0 0.0 0.0 0.0 0.0 0.0 0.0 0.0 0.0 0.0]\n",
      "((TOSgusto.SCPS).traj).U = [0.0608424 0.0332938 -0.0218035 -0.041706 -0.0121206 0.0108561 0.0133954 0.0168633 0.0130924 -0.00608508 -0.0158941 -0.00164787 0.00762178 0.00305913 -0.00337564 -0.00981041 -0.0162452 -0.00275761 0.0446183 0.0752892; 0.0167819 -0.00410807 -0.0274178 -0.0137868 0.010647 0.0197458 0.0211194 -0.00452288 -0.0447932 -0.0335022 0.0170199 0.0394426 0.0178296 -0.00364822 -0.00514749 -0.00238714 0.00107792 0.00489533 -0.0384364 -0.0836768; 0.0 0.0 0.0 0.0 0.0 0.0 0.0 0.0 0.0 0.0 0.0 0.0 0.0 0.0 0.0 0.0 0.0 0.0 0.0 0.0]\n",
      "((TOSgusto.SCPS).traj).Tf = 200.0\n",
      "((TOSgusto.SCPS).traj).dt = 10.526315789473685\n",
      "(TOSgusto.SCPS).iterations = 1\n"
     ]
    }
   ],
   "source": [
    "# Create loop to run SCP one iteration at a time and store off TOSgusto.SCPS.traj as well as parameters\n",
    "first_SCPS = solve_SCP!(TOSgusto, TOP, solve_gusto_jump!, init_traj_straightline, \"Ipopt\", max_iter=1, print_level=0);\n",
    "@show TOSgusto.SCPS.scp_status\n",
    "@show TOSgusto.SCPS.param.alg.ω_vec\n",
    "@show TOSgusto.SCPS.param.alg.Δ_vec\n",
    "@show TOSgusto.SCPS.traj.X\n",
    "@show TOSgusto.SCPS.traj.U\n",
    "@show TOSgusto.SCPS.traj.Tf\n",
    "@show TOSgusto.SCPS.traj.dt\n",
    "@show TOSgusto.SCPS.iterations\n",
    "\n",
    "\n",
    "# @show TOSgusto.SCPS.converged\n",
    "# @show TOSgusto.SCPS.dual\n"
   ]
  },
  {
   "cell_type": "code",
   "execution_count": 17,
   "metadata": {},
   "outputs": [
    {
     "name": "stdout",
     "output_type": "stream",
     "text": [
      "(TOSgusto.SCPS).scp_status = Symbol[:NA, :ViolatesConstraints]\n",
      "(((TOSgusto.SCPS).param).alg).ω_vec = [2.0, 20.0]\n",
      "(((TOSgusto.SCPS).param).alg).Δ_vec = [4.0, 4.0]\n",
      "((TOSgusto.SCPS).traj).X = [0.2 0.299676 0.536763 0.778069 0.928809 1.0019 1.0772 1.20638 1.38087 1.55698 1.68531 1.74225 1.74582 1.73889 1.76503 1.85327 2.01215 2.24022 2.55412 3.0; 2.4 2.42819 2.46389 2.41264 2.24251 2.02948 1.88249 1.86241 1.93 1.89076 1.57423 1.11621 0.804182 0.735748 0.818839 0.938762 1.0241 1.02808 0.883608 0.5; 0.0 0.0 0.0 0.0 0.0 0.0 0.0 0.0 0.0 0.0 0.0 0.0 0.0 0.0 0.0 0.0 0.0 0.0 0.0 0.0; 0.0 0.0189383 0.0261082 0.01974 0.00890054 0.00498663 0.00932009 0.015225 0.0179269 0.0155355 0.00884622 0.0019729 -0.00129537 -2.03984e-5 0.00498651 0.0117787 0.0184094 0.0249237 0.034717 0.05; 0.0 0.00535535 0.00142908 -0.0111678 -0.0211568 -0.0193175 -0.00861116 0.00479611 0.00804561 -0.0155009 -0.0446395 -0.0423847 -0.0169009 0.00389838 0.0118888 0.0108966 0.00531809 -0.00456337 -0.0228854 -0.05; 0.0 0.0 0.0 0.0 0.0 0.0 0.0 0.0 0.0 0.0 0.0 0.0 0.0 0.0 0.0 0.0 0.0 0.0 0.0 0.0]\n",
      "((TOSgusto.SCPS).traj).U = [0.0363127 0.0238507 -0.00107338 -0.0191571 -0.0152778 0.00284405 0.0109225 0.00783634 0.000746989 -0.00834397 -0.0129066 -0.00892855 -0.00145409 0.00550442 0.0104015 0.0111758 0.00988877 0.0108057 0.0203057 0.0282453; 0.0134207 0.00359213 -0.0160651 -0.0239528 -0.00778033 0.0136236 0.0203883 0.022204 -0.011881 -0.0629215 -0.0296462 0.0368094 0.0441477 0.0219274 0.00345675 -0.00660881 -0.0111131 -0.0202783 -0.0379273 -0.0482103; 0.0 0.0 0.0 0.0 0.0 0.0 0.0 0.0 0.0 0.0 0.0 0.0 0.0 0.0 0.0 0.0 0.0 0.0 0.0 0.0]\n",
      "((TOSgusto.SCPS).traj).Tf = 200.0\n",
      "((TOSgusto.SCPS).traj).dt = 10.526315789473685\n",
      "(TOSgusto.SCPS).iterations = 1\n"
     ]
    },
    {
     "data": {
      "text/plain": [
       "1"
      ]
     },
     "execution_count": 17,
     "metadata": {},
     "output_type": "execute_result"
    }
   ],
   "source": [
    "second_SCPS = solve_SCP!(TOSgusto, TOP, solve_gusto_jump!, TOSgusto.SCPS.traj, \"Ipopt\", max_iter=1, print_level=0);\n",
    "@show TOSgusto.SCPS.scp_status\n",
    "@show TOSgusto.SCPS.param.alg.ω_vec\n",
    "@show TOSgusto.SCPS.param.alg.Δ_vec\n",
    "@show TOSgusto.SCPS.traj.X\n",
    "@show TOSgusto.SCPS.traj.U\n",
    "@show TOSgusto.SCPS.traj.Tf\n",
    "@show TOSgusto.SCPS.traj.dt\n",
    "@show TOSgusto.SCPS.iterations\n"
   ]
  },
  {
   "cell_type": "code",
   "execution_count": 19,
   "metadata": {},
   "outputs": [
    {
     "name": "stdout",
     "output_type": "stream",
     "text": [
      "(TOSgusto.SCPS).scp_status = Symbol[:NA, :ViolatesConstraints]\n",
      "(((TOSgusto.SCPS).param).alg).ω_vec = [2.0, 20.0]\n",
      "(((TOSgusto.SCPS).param).alg).Δ_vec = [4.0, 4.0]\n",
      "((TOSgusto.SCPS).traj).X = [0.2 0.296399 0.529842 0.774272 0.928537 1.00033 1.07861 1.21684 1.39493 1.56503 1.68531 1.74216 1.75674 1.76243 1.78737 1.856 1.99115 2.21325 2.54264 3.0; 2.4 2.42448 2.45456 2.40478 2.24265 2.03515 1.88817 1.86585 1.93 1.89076 1.58036 1.11633 0.767169 0.646967 0.704168 0.846237 0.982345 1.02423 0.88695 0.5; 0.0 0.0 0.0 0.0 0.0 0.0 0.0 0.0 0.0 0.0 0.0 0.0 0.0 0.0 0.0 0.0 0.0 0.0 0.0 0.0; 0.0 0.0183159 0.0260383 0.0204034 0.00890702 0.00473418 0.0101389 0.0161254 0.0177103 0.0146085 0.00824542 0.00255531 0.000216286 0.000865055 0.00387362 0.00916574 0.0165128 0.025686 0.036898 0.05; 0.0 0.00465105 0.0010635 -0.01052 -0.0202856 -0.0191387 -0.00878826 0.00454664 0.00764277 -0.015098 -0.043879 -0.0442865 -0.0220537 -0.000784648 0.0116529 0.0153401 0.0105204 -0.0025626 -0.0235204 -0.05; 0.0 0.0 0.0 0.0 0.0 0.0 0.0 0.0 0.0 0.0 0.0 0.0 0.0 0.0 0.0 0.0 0.0 0.0 0.0 0.0]\n",
      "((TOSgusto.SCPS).traj).U = [0.0347019 0.023484 0.0010484 -0.0189493 -0.0175723 0.00431597 0.0128536 0.00616431 -0.00112918 -0.00872477 -0.0114894 -0.00658698 -0.000843645 0.00290466 0.00665294 0.0101591 0.0131809 0.0159607 0.0196576 0.0219647; 0.0117498 0.00302566 -0.0144226 -0.0223758 -0.00864783 0.0122913 0.02059 0.0217723 -0.0119366 -0.0603062 -0.0311254 0.029831 0.0407978 0.0267698 0.0127418 -0.00102833 -0.0142828 -0.0272794 -0.0392994 -0.044821; 0.0 0.0 0.0 0.0 0.0 0.0 0.0 0.0 0.0 0.0 0.0 0.0 0.0 0.0 0.0 0.0 0.0 0.0 0.0 0.0]\n",
      "((TOSgusto.SCPS).traj).Tf = 200.0\n",
      "((TOSgusto.SCPS).traj).dt = 10.526315789473685\n",
      "(TOSgusto.SCPS).iterations = 1\n",
      "(TOSgusto.SCPS).scp_status = Symbol[:NA, :ViolatesConstraints]\n",
      "(((TOSgusto.SCPS).param).alg).ω_vec = [2.0, 20.0]\n",
      "(((TOSgusto.SCPS).param).alg).Δ_vec = [4.0, 4.0]\n",
      "((TOSgusto.SCPS).traj).X = [0.2 0.29665 0.530588 0.775001 0.928184 0.998956 1.07799 1.21803 1.39676 1.566 1.68531 1.74216 1.75773 1.76483 1.79099 1.86013 1.99483 2.21561 2.5434 3.0; 2.4 2.42394 2.4534 2.4046 2.24476 2.03848 1.89046 1.86653 1.93 1.89076 1.58056 1.11633 0.765796 0.643267 0.698394 0.839887 0.977318 1.02156 0.88624 0.5; 0.0 0.0 0.0 0.0 0.0 0.0 0.0 0.0 0.0 0.0 0.0 0.0 0.0 0.0 0.0 0.0 0.0 0.0 0.0 0.0; 0.0 0.0183634 0.0260848 0.0203537 0.00875114 0.00469545 0.0103219 0.0162852 0.0176739 0.0144815 0.00818692 0.00261381 0.000345595 0.00100323 0.00396659 0.00917094 0.016422 0.0255255 0.0367545 0.05; 0.0 0.00454951 0.00104746 -0.0103203 -0.0200482 -0.0191459 -0.0089781 0.00443164 0.00762781 -0.015083 -0.0438553 -0.0443488 -0.0222523 -0.00102826 0.0115025 0.0153811 0.0107308 -0.00232504 -0.0233856 -0.05; 0.0 0.0 0.0 0.0 0.0 0.0 0.0 0.0 0.0 0.0 0.0 0.0 0.0 0.0 0.0 0.0 0.0 0.0 0.0 0.0]\n",
      "((TOSgusto.SCPS).traj).U = [0.0348031 0.0235339 0.000995459 -0.0192022 -0.0176566 0.00477252 0.0131016 0.00584251 -0.00143069 -0.00871097 -0.0112856 -0.00641902 -0.000786641 0.0028758 0.00653823 0.00999493 0.0130402 0.0158797 0.0197926 0.0222857; 0.0114895 0.00296341 -0.0140887 -0.0220244 -0.00887928 0.0117459 0.020555 0.022045 -0.0118914 -0.0602564 -0.0311474 0.0295797 0.0406164 0.0268081 0.0129997 -0.000678143 -0.0140949 -0.027381 -0.0395242 -0.0450243; 0.0 0.0 0.0 0.0 0.0 0.0 0.0 0.0 0.0 0.0 0.0 0.0 0.0 0.0 0.0 0.0 0.0 0.0 0.0 0.0]\n",
      "((TOSgusto.SCPS).traj).Tf = 200.0\n",
      "((TOSgusto.SCPS).traj).dt = 10.526315789473685\n",
      "(TOSgusto.SCPS).iterations = 1\n",
      "(TOSgusto.SCPS).scp_status = Symbol[:NA, :ViolatesConstraints]\n",
      "(((TOSgusto.SCPS).param).alg).ω_vec = [2.0, 20.0]\n",
      "(((TOSgusto.SCPS).param).alg).Δ_vec = [4.0, 4.0]\n",
      "((TOSgusto.SCPS).traj).X = [0.2 0.296624 0.530588 0.774982 0.927467 0.996788 1.07479 1.21507 1.39493 1.56536 1.68531 1.74216 1.7575 1.76448 1.79067 1.85993 1.99475 2.2156 2.54341 3.0; 2.4 2.42314 2.45179 2.4046 2.24794 2.04308 1.89376 1.86768 1.93 1.89076 1.58074 1.11633 0.765506 0.642831 0.697964 0.839562 0.977139 1.0215 0.886233 0.5; 0.0 0.0 0.0 0.0 0.0 0.0 0.0 0.0 0.0 0.0 0.0 0.0 0.0 0.0 0.0 0.0 0.0 0.0 0.0 0.0; 0.0 0.0183586 0.0260946 0.0203402 0.00863186 0.00453929 0.0102819 0.0163705 0.017803 0.0145792 0.0082107 0.00259004 0.000325197 0.00100101 0.00397523 0.00918348 0.0164326 0.0255296 0.036753 0.05; 0.0 0.0043971 0.00104666 -0.010013 -0.0197534 -0.0191688 -0.00920283 0.00424833 0.00759176 -0.015047 -0.043857 -0.0443814 -0.0222746 -0.00103369 0.0115091 0.0153945 0.0107451 -0.0023165 -0.0233842 -0.05; 0.0 0.0 0.0 0.0 0.0 0.0 0.0 0.0 0.0 0.0 0.0 0.0 0.0 0.0 0.0 0.0 0.0 0.0 0.0 0.0]\n",
      "((TOSgusto.SCPS).traj).U = [0.034785 0.0235365 0.00103937 -0.01932 -0.0178751 0.00487384 0.0133692 0.00597328 -0.00142268 -0.00881867 -0.0114127 -0.00644302 -0.00075194 0.00289886 0.00654964 0.00999593 0.0130332 0.015866 0.0197885 0.0222945; 0.0110864 0.00288229 -0.013526 -0.0216082 -0.00933517 0.0111924 0.0204673 0.0222643 -0.0116429 -0.0602759 -0.0312476 0.0295816 0.0406472 0.026831 0.0130148 -0.000671622 -0.0140985 -0.0273956 -0.0395324 -0.0450206; 0.0 0.0 0.0 0.0 0.0 0.0 0.0 0.0 0.0 0.0 0.0 0.0 0.0 0.0 0.0 0.0 0.0 0.0 0.0 0.0]\n",
      "((TOSgusto.SCPS).traj).Tf = 200.0\n",
      "((TOSgusto.SCPS).traj).dt = 10.526315789473685\n",
      "(TOSgusto.SCPS).iterations = 1\n",
      "(TOSgusto.SCPS).scp_status = Symbol[:NA, :ViolatesConstraints]\n",
      "(((TOSgusto.SCPS).param).alg).ω_vec = [2.0, 20.0]\n",
      "(((TOSgusto.SCPS).param).alg).Δ_vec = [4.0, 4.0]\n",
      "((TOSgusto.SCPS).traj).X = [0.2 0.296455 0.530189 0.77437 0.925781 0.992961 1.06945 1.21016 1.39188 1.56429 1.68531 1.74216 1.7571 1.76388 1.79012 1.85956 1.99459 2.21559 2.54342 3.0; 2.4 2.42181 2.44915 2.40476 2.25356 2.05122 1.89965 1.86977 1.93 1.89076 1.58107 1.11633 0.764974 0.642036 0.697189 0.838982 0.976824 1.0214 0.886221 0.5; 0.0 0.0 0.0 0.0 0.0 0.0 0.0 0.0 0.0 0.0 0.0 0.0 0.0 0.0 0.0 0.0 0.0 0.0 0.0 0.0; 0.0 0.0183265 0.0260829 0.0203115 0.00845664 0.00430747 0.0102248 0.0165106 0.0180164 0.0147423 0.00825071 0.00255004 0.000290249 0.000996353 0.00398919 0.00920483 0.0164515 0.0255373 0.0367507 0.05; 0.0 0.00414353 0.00105117 -0.00948504 -0.0192428 -0.0192021 -0.00959585 0.00391842 0.0075254 -0.0149806 -0.04386 -0.0444418 -0.0223154 -0.00104285 0.0115218 0.0154191 0.0107707 -0.00230153 -0.0233821 -0.05; 0.0 0.0 0.0 0.0 0.0 0.0 0.0 0.0 0.0 0.0 0.0 0.0 0.0 0.0 0.0 0.0 0.0 0.0 0.0 0.0]\n",
      "((TOSgusto.SCPS).traj).U = [0.0347064 0.0235133 0.00112702 -0.0194615 -0.0181989 0.00501786 0.0137805 0.00618805 -0.00140438 -0.00899683 -0.0116255 -0.00648436 -0.000694549 0.0029377 0.00656994 0.00999909 0.0130221 0.0158419 0.0197807 0.0223096; 0.0104127 0.00275041 -0.0125742 -0.0208972 -0.0101014 0.0102308 0.0202863 0.0226458 -0.0111872 -0.0603099 -0.0314343 0.0295861 0.0407051 0.0268735 0.0130418 -0.000660924 -0.0141059 -0.027422 -0.0395466 -0.0450132; 0.0 0.0 0.0 0.0 0.0 0.0 0.0 0.0 0.0 0.0 0.0 0.0 0.0 0.0 0.0 0.0 0.0 0.0 0.0 0.0]\n",
      "((TOSgusto.SCPS).traj).Tf = 200.0\n",
      "((TOSgusto.SCPS).traj).dt = 10.526315789473685\n",
      "(TOSgusto.SCPS).iterations = 1\n",
      "(TOSgusto.SCPS).scp_status = Symbol[:NA, :ViolatesConstraints]\n",
      "(((TOSgusto.SCPS).param).alg).ω_vec = [2.0, 20.0]\n",
      "(((TOSgusto.SCPS).param).alg).Δ_vec = [4.0, 4.0]\n",
      "((TOSgusto.SCPS).traj).X = [0.2 0.29624 0.529601 0.773493 0.924245 0.990202 1.06587 1.20695 1.38991 1.56361 1.68531 1.74216 1.75685 1.76348 1.78974 1.8593 1.99448 2.21557 2.54342 3.0; 2.4 2.4209 2.44737 2.40499 2.25765 2.05708 1.9039 1.87128 1.93 1.89076 1.58132 1.11633 0.764593 0.641472 0.696644 0.838582 0.97661 1.02133 0.886215 0.5; 0.0 0.0 0.0 0.0 0.0 0.0 0.0 0.0 0.0 0.0 0.0 0.0 0.0 0.0 0.0 0.0 0.0 0.0 0.0 0.0; 0.0 0.0182857 0.0260528 0.0202868 0.00835608 0.00417582 0.0102003 0.0166063 0.0181553 0.0148472 0.00827642 0.00252432 0.000267298 0.000992578 0.00399768 0.00921877 0.0164644 0.025543 0.0367494 0.05; 0.0 0.00397045 0.0010592 -0.0091121 -0.0188822 -0.0192255 -0.00987802 0.00367955 0.0074772 -0.0149324 -0.0438623 -0.0444854 -0.0223443 -0.00104871 0.0115315 0.0154367 0.0107886 -0.0022914 -0.0233809 -0.05; 0.0 0.0 0.0 0.0 0.0 0.0 0.0 0.0 0.0 0.0 0.0 0.0 0.0 0.0 0.0 0.0 0.0 0.0 0.0 0.0]\n",
      "((TOSgusto.SCPS).traj).U = [0.0346143 0.0234757 0.00119867 -0.019516 -0.0183855 0.00510566 0.0140328 0.00631789 -0.00139708 -0.0091122 -0.0117618 -0.00651149 -0.000658604 0.00296267 0.00658394 0.0100024 0.0130154 0.0158255 0.019775 0.0223195; 0.00995029 0.00266303 -0.0119115 -0.0204007 -0.0106368 0.00954609 0.020149 0.0229207 -0.0108563 -0.0603347 -0.0315697 0.0295902 0.0407477 0.0269041 0.0130606 -0.000654325 -0.0141119 -0.0274407 -0.0395563 -0.0450074; 0.0 0.0 0.0 0.0 0.0 0.0 0.0 0.0 0.0 0.0 0.0 0.0 0.0 0.0 0.0 0.0 0.0 0.0 0.0 0.0]\n",
      "((TOSgusto.SCPS).traj).Tf = 200.0\n",
      "((TOSgusto.SCPS).traj).dt = 10.526315789473685\n",
      "(TOSgusto.SCPS).iterations = 1\n"
     ]
    },
    {
     "name": "stdout",
     "output_type": "stream",
     "text": [
      "(TOSgusto.SCPS).scp_status = Symbol[:NA, :ViolatesConstraints]\n",
      "(((TOSgusto.SCPS).param).alg).ω_vec = [2.0, 20.0]\n",
      "(((TOSgusto.SCPS).param).alg).Δ_vec = [4.0, 4.0]\n",
      "((TOSgusto.SCPS).traj).X = [0.2 0.29624 0.529601 0.773493 0.924245 0.990202 1.06587 1.20695 1.38991 1.56361 1.68531 1.74216 1.75685 1.76348 1.78974 1.8593 1.99448 2.21557 2.54342 3.0; 2.4 2.4209 2.44737 2.40499 2.25765 2.05708 1.9039 1.87128 1.93 1.89076 1.58132 1.11633 0.764592 0.641471 0.696644 0.838582 0.97661 1.02133 0.886215 0.5; 0.0 0.0 0.0 0.0 0.0 0.0 0.0 0.0 0.0 0.0 0.0 0.0 0.0 0.0 0.0 0.0 0.0 0.0 0.0 0.0; 0.0 0.0182857 0.0260527 0.0202868 0.00835608 0.00417583 0.0102003 0.0166064 0.0181553 0.0148471 0.0082764 0.00252434 0.00026731 0.000992562 0.00399766 0.00921875 0.0164644 0.025543 0.0367494 0.05; 0.0 0.00397042 0.0010592 -0.00911204 -0.0188821 -0.0192255 -0.00987806 0.00367951 0.00747719 -0.0149324 -0.0438623 -0.0444854 -0.0223443 -0.00104871 0.0115315 0.0154367 0.0107886 -0.00229139 -0.0233808 -0.05; 0.0 0.0 0.0 0.0 0.0 0.0 0.0 0.0 0.0 0.0 0.0 0.0 0.0 0.0 0.0 0.0 0.0 0.0 0.0 0.0]\n",
      "((TOSgusto.SCPS).traj).U = [0.0346142 0.0234757 0.00119868 -0.019516 -0.0183855 0.0051057 0.0140329 0.00631785 -0.00139718 -0.00911222 -0.0117617 -0.00651147 -0.000658663 0.00296264 0.00658394 0.0100024 0.0130154 0.0158256 0.019775 0.0223194; 0.00995022 0.00266301 -0.0119114 -0.0204006 -0.0106369 0.00954597 0.020149 0.0229207 -0.0108562 -0.0603347 -0.0315697 0.0295902 0.0407477 0.0269041 0.0130606 -0.000654326 -0.0141118 -0.0274407 -0.0395563 -0.0450075; 0.0 0.0 0.0 0.0 0.0 0.0 0.0 0.0 0.0 0.0 0.0 0.0 0.0 0.0 0.0 0.0 0.0 0.0 0.0 0.0]\n",
      "((TOSgusto.SCPS).traj).Tf = 200.0\n",
      "((TOSgusto.SCPS).traj).dt = 10.526315789473685\n",
      "(TOSgusto.SCPS).iterations = 1\n",
      "(TOSgusto.SCPS).scp_status = Symbol[:NA, :ViolatesConstraints]\n",
      "(((TOSgusto.SCPS).param).alg).ω_vec = [2.0, 20.0]\n",
      "(((TOSgusto.SCPS).param).alg).Δ_vec = [4.0, 4.0]\n",
      "((TOSgusto.SCPS).traj).X = [0.2 0.29624 0.5296 0.773493 0.924245 0.990202 1.06587 1.20695 1.38991 1.56361 1.68531 1.74216 1.75685 1.76348 1.78974 1.8593 1.99448 2.21557 2.54342 3.0; 2.4 2.4209 2.44737 2.40499 2.25765 2.05708 1.9039 1.87128 1.93 1.89076 1.58132 1.11633 0.764592 0.641471 0.696644 0.838582 0.97661 1.02133 0.886215 0.5; 0.0 0.0 0.0 0.0 0.0 0.0 0.0 0.0 0.0 0.0 0.0 0.0 0.0 0.0 0.0 0.0 0.0 0.0 0.0 0.0; 0.0 0.0182857 0.0260527 0.0202868 0.0083561 0.00417585 0.0102003 0.0166063 0.0181553 0.0148471 0.0082764 0.00252435 0.000267314 0.000992561 0.00399765 0.00921875 0.0164644 0.025543 0.0367494 0.05; 0.0 0.00397043 0.00105919 -0.00911207 -0.0188821 -0.0192255 -0.00987805 0.00367954 0.00747722 -0.0149324 -0.0438623 -0.0444854 -0.0223443 -0.0010487 0.0115315 0.0154367 0.0107886 -0.0022914 -0.0233808 -0.05; 0.0 0.0 0.0 0.0 0.0 0.0 0.0 0.0 0.0 0.0 0.0 0.0 0.0 0.0 0.0 0.0 0.0 0.0 0.0 0.0]\n",
      "((TOSgusto.SCPS).traj).U = [0.0346142 0.0234757 0.00119869 -0.0195159 -0.0183855 0.00510569 0.0140328 0.00631784 -0.00139718 -0.0091122 -0.0117617 -0.00651147 -0.000658673 0.00296264 0.00658394 0.0100024 0.0130154 0.0158256 0.019775 0.0223194; 0.00995023 0.00266301 -0.0119114 -0.0204006 -0.0106369 0.00954602 0.020149 0.0229207 -0.0108563 -0.0603347 -0.0315697 0.0295902 0.0407477 0.0269042 0.0130606 -0.000654335 -0.0141119 -0.0274407 -0.0395563 -0.0450074; 0.0 0.0 0.0 0.0 0.0 0.0 0.0 0.0 0.0 0.0 0.0 0.0 0.0 0.0 0.0 0.0 0.0 0.0 0.0 0.0]\n",
      "((TOSgusto.SCPS).traj).Tf = 200.0\n",
      "((TOSgusto.SCPS).traj).dt = 10.526315789473685\n",
      "(TOSgusto.SCPS).iterations = 1\n",
      "(TOSgusto.SCPS).scp_status = Symbol[:NA, :ViolatesConstraints]\n",
      "(((TOSgusto.SCPS).param).alg).ω_vec = [2.0, 20.0]\n",
      "(((TOSgusto.SCPS).param).alg).Δ_vec = [4.0, 4.0]\n",
      "((TOSgusto.SCPS).traj).X = [0.2 0.29624 0.529601 0.773493 0.924245 0.990202 1.06587 1.20695 1.38991 1.56361 1.68531 1.74216 1.75685 1.76348 1.78974 1.8593 1.99448 2.21557 2.54342 3.0; 2.4 2.4209 2.44737 2.40499 2.25765 2.05708 1.9039 1.87128 1.93 1.89076 1.58132 1.11633 0.764593 0.641471 0.696644 0.838582 0.97661 1.02133 0.886215 0.5; 0.0 0.0 0.0 0.0 0.0 0.0 0.0 0.0 0.0 0.0 0.0 0.0 0.0 0.0 0.0 0.0 0.0 0.0 0.0 0.0; 0.0 0.0182857 0.0260527 0.0202868 0.00835608 0.00417583 0.0102003 0.0166064 0.0181553 0.0148471 0.00827641 0.00252435 0.000267315 0.000992562 0.00399765 0.00921875 0.0164644 0.025543 0.0367494 0.05; 0.0 0.00397042 0.00105919 -0.00911207 -0.0188821 -0.0192255 -0.00987805 0.00367952 0.00747721 -0.0149324 -0.0438623 -0.0444854 -0.0223443 -0.0010487 0.0115315 0.0154367 0.0107886 -0.00229141 -0.0233809 -0.05; 0.0 0.0 0.0 0.0 0.0 0.0 0.0 0.0 0.0 0.0 0.0 0.0 0.0 0.0 0.0 0.0 0.0 0.0 0.0 0.0]\n",
      "((TOSgusto.SCPS).traj).U = [0.0346142 0.0234757 0.00119867 -0.019516 -0.0183855 0.00510571 0.0140329 0.00631786 -0.00139717 -0.00911221 -0.0117617 -0.00651147 -0.000658673 0.00296264 0.00658394 0.0100024 0.0130154 0.0158255 0.019775 0.0223195; 0.00995023 0.00266301 -0.0119114 -0.0204006 -0.0106368 0.00954599 0.020149 0.0229207 -0.0108562 -0.0603347 -0.0315697 0.0295902 0.0407477 0.0269042 0.0130606 -0.000654341 -0.0141119 -0.0274407 -0.0395563 -0.0450074; 0.0 0.0 0.0 0.0 0.0 0.0 0.0 0.0 0.0 0.0 0.0 0.0 0.0 0.0 0.0 0.0 0.0 0.0 0.0 0.0]\n",
      "((TOSgusto.SCPS).traj).Tf = 200.0\n",
      "((TOSgusto.SCPS).traj).dt = 10.526315789473685\n",
      "(TOSgusto.SCPS).iterations = 1\n",
      "(TOSgusto.SCPS).scp_status = Symbol[:NA, :ViolatesConstraints]\n",
      "(((TOSgusto.SCPS).param).alg).ω_vec = [2.0, 20.0]\n",
      "(((TOSgusto.SCPS).param).alg).Δ_vec = [4.0, 4.0]\n",
      "((TOSgusto.SCPS).traj).X = [0.2 0.29624 0.529601 0.773493 0.924245 0.990203 1.06587 1.20695 1.38991 1.56361 1.68531 1.74216 1.75685 1.76348 1.78974 1.8593 1.99448 2.21557 2.54342 3.0; 2.4 2.4209 2.44737 2.40499 2.25765 2.05708 1.9039 1.87128 1.93 1.89076 1.58132 1.11633 0.764593 0.641472 0.696644 0.838582 0.97661 1.02133 0.886215 0.5; 0.0 0.0 0.0 0.0 0.0 0.0 0.0 0.0 0.0 0.0 0.0 0.0 0.0 0.0 0.0 0.0 0.0 0.0 0.0 0.0; 0.0 0.0182857 0.0260527 0.0202868 0.0083561 0.00417586 0.0102003 0.0166063 0.0181553 0.0148471 0.00827639 0.00252434 0.000267316 0.000992568 0.00399766 0.00921876 0.0164644 0.025543 0.0367494 0.05; 0.0 0.00397045 0.0010592 -0.0091121 -0.0188822 -0.0192255 -0.00987803 0.00367956 0.00747724 -0.0149324 -0.0438623 -0.0444854 -0.0223443 -0.0010487 0.0115315 0.0154367 0.0107886 -0.00229141 -0.0233809 -0.05; 0.0 0.0 0.0 0.0 0.0 0.0 0.0 0.0 0.0 0.0 0.0 0.0 0.0 0.0 0.0 0.0 0.0 0.0 0.0 0.0]\n",
      "((TOSgusto.SCPS).traj).U = [0.0346142 0.0234757 0.00119868 -0.0195159 -0.0183855 0.00510569 0.0140328 0.00631783 -0.00139718 -0.0091122 -0.0117617 -0.00651146 -0.000658663 0.00296264 0.00658394 0.0100024 0.0130154 0.0158255 0.019775 0.0223195; 0.00995029 0.00266303 -0.0119115 -0.0204007 -0.0106368 0.00954607 0.020149 0.0229207 -0.0108563 -0.0603347 -0.0315697 0.0295902 0.0407478 0.0269042 0.0130606 -0.000654342 -0.0141119 -0.0274407 -0.0395563 -0.0450074; 0.0 0.0 0.0 0.0 0.0 0.0 0.0 0.0 0.0 0.0 0.0 0.0 0.0 0.0 0.0 0.0 0.0 0.0 0.0 0.0]\n",
      "((TOSgusto.SCPS).traj).Tf = 200.0\n",
      "((TOSgusto.SCPS).traj).dt = 10.526315789473685\n",
      "(TOSgusto.SCPS).iterations = 1\n",
      "(TOSgusto.SCPS).scp_status = Symbol[:NA, :ViolatesConstraints]\n",
      "(((TOSgusto.SCPS).param).alg).ω_vec = [2.0, 20.0]\n",
      "(((TOSgusto.SCPS).param).alg).Δ_vec = [4.0, 4.0]\n",
      "((TOSgusto.SCPS).traj).X = [0.2 0.29624 0.529601 0.773493 0.924245 0.990202 1.06587 1.20695 1.38991 1.56361 1.68531 1.74216 1.75685 1.76348 1.78974 1.8593 1.99448 2.21557 2.54342 3.0; 2.4 2.4209 2.44737 2.40499 2.25765 2.05708 1.9039 1.87128 1.93 1.89076 1.58132 1.11633 0.764593 0.641471 0.696644 0.838582 0.97661 1.02133 0.886215 0.5; 0.0 0.0 0.0 0.0 0.0 0.0 0.0 0.0 0.0 0.0 0.0 0.0 0.0 0.0 0.0 0.0 0.0 0.0 0.0 0.0; 0.0 0.0182857 0.0260527 0.0202868 0.00835608 0.00417584 0.0102003 0.0166064 0.0181553 0.0148471 0.0082764 0.00252434 0.000267311 0.000992561 0.00399765 0.00921875 0.0164644 0.025543 0.0367494 0.05; 0.0 0.00397044 0.00105919 -0.00911209 -0.0188821 -0.0192255 -0.00987803 0.00367953 0.0074772 -0.0149324 -0.0438623 -0.0444854 -0.0223443 -0.0010487 0.0115315 0.0154367 0.0107886 -0.0022914 -0.0233809 -0.05; 0.0 0.0 0.0 0.0 0.0 0.0 0.0 0.0 0.0 0.0 0.0 0.0 0.0 0.0 0.0 0.0 0.0 0.0 0.0 0.0]\n",
      "((TOSgusto.SCPS).traj).U = [0.0346143 0.0234757 0.00119866 -0.019516 -0.0183855 0.00510571 0.0140328 0.00631785 -0.00139718 -0.00911221 -0.0117617 -0.00651147 -0.000658668 0.00296264 0.00658394 0.0100024 0.0130154 0.0158256 0.019775 0.0223194; 0.00995028 0.00266302 -0.0119115 -0.0204007 -0.0106368 0.00954603 0.0201489 0.0229207 -0.0108563 -0.0603347 -0.0315697 0.0295902 0.0407477 0.0269042 0.0130606 -0.000654336 -0.0141119 -0.0274407 -0.0395563 -0.0450074; 0.0 0.0 0.0 0.0 0.0 0.0 0.0 0.0 0.0 0.0 0.0 0.0 0.0 0.0 0.0 0.0 0.0 0.0 0.0 0.0]\n",
      "((TOSgusto.SCPS).traj).Tf = 200.0\n",
      "((TOSgusto.SCPS).traj).dt = 10.526315789473685\n",
      "(TOSgusto.SCPS).iterations = 1\n"
     ]
    },
    {
     "name": "stdout",
     "output_type": "stream",
     "text": [
      "(TOSgusto.SCPS).scp_status = Symbol[:NA, :ViolatesConstraints]\n",
      "(((TOSgusto.SCPS).param).alg).ω_vec = [2.0, 20.0]\n",
      "(((TOSgusto.SCPS).param).alg).Δ_vec = [4.0, 4.0]\n",
      "((TOSgusto.SCPS).traj).X = [0.2 0.29624 0.529601 0.773493 0.924245 0.990202 1.06587 1.20695 1.38991 1.56361 1.68531 1.74216 1.75685 1.76348 1.78974 1.8593 1.99448 2.21557 2.54342 3.0; 2.4 2.4209 2.44737 2.40499 2.25765 2.05708 1.9039 1.87128 1.93 1.89076 1.58132 1.11633 0.764592 0.641471 0.696644 0.838582 0.97661 1.02133 0.886215 0.5; 0.0 0.0 0.0 0.0 0.0 0.0 0.0 0.0 0.0 0.0 0.0 0.0 0.0 0.0 0.0 0.0 0.0 0.0 0.0 0.0; 0.0 0.0182857 0.0260527 0.0202868 0.00835605 0.0041758 0.0102003 0.0166064 0.0181553 0.0148472 0.00827641 0.00252434 0.000267309 0.000992561 0.00399766 0.00921876 0.0164644 0.025543 0.0367494 0.05; 0.0 0.0039704 0.00105919 -0.00911202 -0.0188821 -0.0192255 -0.00987809 0.00367949 0.0074772 -0.0149324 -0.0438623 -0.0444854 -0.0223443 -0.0010487 0.0115315 0.0154367 0.0107886 -0.0022914 -0.0233809 -0.05; 0.0 0.0 0.0 0.0 0.0 0.0 0.0 0.0 0.0 0.0 0.0 0.0 0.0 0.0 0.0 0.0 0.0 0.0 0.0 0.0]\n",
      "((TOSgusto.SCPS).traj).U = [0.0346142 0.0234757 0.00119867 -0.019516 -0.0183856 0.00510573 0.0140329 0.00631788 -0.00139717 -0.00911223 -0.0117617 -0.00651148 -0.000658664 0.00296265 0.00658394 0.0100024 0.0130154 0.0158255 0.019775 0.0223195; 0.00995017 0.002663 -0.0119113 -0.0204006 -0.0106369 0.0095459 0.0201489 0.0229208 -0.0108562 -0.0603347 -0.0315697 0.0295902 0.0407478 0.0269042 0.0130606 -0.000654339 -0.0141119 -0.0274407 -0.0395563 -0.0450074; 0.0 0.0 0.0 0.0 0.0 0.0 0.0 0.0 0.0 0.0 0.0 0.0 0.0 0.0 0.0 0.0 0.0 0.0 0.0 0.0]\n",
      "((TOSgusto.SCPS).traj).Tf = 200.0\n",
      "((TOSgusto.SCPS).traj).dt = 10.526315789473685\n",
      "(TOSgusto.SCPS).iterations = 1\n",
      "(TOSgusto.SCPS).scp_status = Symbol[:NA, :ViolatesConstraints]\n",
      "(((TOSgusto.SCPS).param).alg).ω_vec = [2.0, 20.0]\n",
      "(((TOSgusto.SCPS).param).alg).Δ_vec = [4.0, 4.0]\n",
      "((TOSgusto.SCPS).traj).X = [0.2 0.29624 0.529601 0.773493 0.924245 0.990202 1.06587 1.20695 1.38991 1.56361 1.68531 1.74216 1.75685 1.76348 1.78974 1.8593 1.99448 2.21557 2.54342 3.0; 2.4 2.4209 2.44737 2.40499 2.25765 2.05708 1.9039 1.87128 1.93 1.89076 1.58132 1.11633 0.764593 0.641472 0.696644 0.838582 0.97661 1.02133 0.886215 0.5; 0.0 0.0 0.0 0.0 0.0 0.0 0.0 0.0 0.0 0.0 0.0 0.0 0.0 0.0 0.0 0.0 0.0 0.0 0.0 0.0; 0.0 0.0182857 0.0260527 0.0202868 0.00835608 0.00417583 0.0102003 0.0166064 0.0181553 0.0148471 0.00827639 0.00252433 0.000267312 0.00099257 0.00399767 0.00921876 0.0164644 0.025543 0.0367494 0.05; 0.0 0.00397042 0.0010592 -0.00911206 -0.0188821 -0.0192255 -0.00987806 0.00367953 0.00747721 -0.0149324 -0.0438623 -0.0444854 -0.0223443 -0.0010487 0.0115315 0.0154367 0.0107886 -0.00229141 -0.0233809 -0.05; 0.0 0.0 0.0 0.0 0.0 0.0 0.0 0.0 0.0 0.0 0.0 0.0 0.0 0.0 0.0 0.0 0.0 0.0 0.0 0.0]\n",
      "((TOSgusto.SCPS).traj).U = [0.0346142 0.0234757 0.00119868 -0.019516 -0.0183855 0.00510571 0.0140329 0.00631786 -0.00139718 -0.00911223 -0.0117617 -0.00651146 -0.000658651 0.00296265 0.00658394 0.0100024 0.0130154 0.0158255 0.019775 0.0223195; 0.00995023 0.00266302 -0.0119114 -0.0204006 -0.0106369 0.009546 0.020149 0.0229207 -0.0108563 -0.0603347 -0.0315697 0.0295902 0.0407477 0.0269042 0.0130606 -0.000654339 -0.0141119 -0.0274407 -0.0395563 -0.0450074; 0.0 0.0 0.0 0.0 0.0 0.0 0.0 0.0 0.0 0.0 0.0 0.0 0.0 0.0 0.0 0.0 0.0 0.0 0.0 0.0]\n",
      "((TOSgusto.SCPS).traj).Tf = 200.0\n",
      "((TOSgusto.SCPS).traj).dt = 10.526315789473685\n",
      "(TOSgusto.SCPS).iterations = 1\n",
      "(TOSgusto.SCPS).scp_status = Symbol[:NA, :ViolatesConstraints]\n",
      "(((TOSgusto.SCPS).param).alg).ω_vec = [2.0, 20.0]\n",
      "(((TOSgusto.SCPS).param).alg).Δ_vec = [4.0, 4.0]\n",
      "((TOSgusto.SCPS).traj).X = [0.2 0.29624 0.529601 0.773493 0.924245 0.990202 1.06587 1.20695 1.38991 1.56361 1.68531 1.74216 1.75685 1.76348 1.78974 1.8593 1.99448 2.21557 2.54342 3.0; 2.4 2.4209 2.44737 2.40499 2.25765 2.05708 1.9039 1.87128 1.93 1.89076 1.58132 1.11633 0.764592 0.641471 0.696644 0.838582 0.97661 1.02133 0.886215 0.5; 0.0 0.0 0.0 0.0 0.0 0.0 0.0 0.0 0.0 0.0 0.0 0.0 0.0 0.0 0.0 0.0 0.0 0.0 0.0 0.0; 0.0 0.0182857 0.0260527 0.0202868 0.00835609 0.00417584 0.0102003 0.0166064 0.0181553 0.0148471 0.0082764 0.00252434 0.000267317 0.000992573 0.00399767 0.00921876 0.0164644 0.025543 0.0367494 0.05; 0.0 0.00397043 0.0010592 -0.00911207 -0.0188821 -0.0192255 -0.00987804 0.00367954 0.00747721 -0.0149324 -0.0438623 -0.0444854 -0.0223443 -0.00104869 0.0115315 0.0154367 0.0107886 -0.00229141 -0.0233809 -0.05; 0.0 0.0 0.0 0.0 0.0 0.0 0.0 0.0 0.0 0.0 0.0 0.0 0.0 0.0 0.0 0.0 0.0 0.0 0.0 0.0]\n",
      "((TOSgusto.SCPS).traj).U = [0.0346142 0.0234757 0.00119867 -0.019516 -0.0183855 0.0051057 0.0140329 0.00631785 -0.00139718 -0.00911222 -0.0117617 -0.00651146 -0.000658655 0.00296265 0.00658394 0.0100024 0.0130154 0.0158255 0.019775 0.0223195; 0.00995025 0.00266302 -0.0119114 -0.0204007 -0.0106369 0.00954603 0.020149 0.0229207 -0.0108563 -0.0603347 -0.0315697 0.0295902 0.0407477 0.0269042 0.0130606 -0.000654342 -0.0141119 -0.0274407 -0.0395563 -0.0450074; 0.0 0.0 0.0 0.0 0.0 0.0 0.0 0.0 0.0 0.0 0.0 0.0 0.0 0.0 0.0 0.0 0.0 0.0 0.0 0.0]\n",
      "((TOSgusto.SCPS).traj).Tf = 200.0\n",
      "((TOSgusto.SCPS).traj).dt = 10.526315789473685\n",
      "(TOSgusto.SCPS).iterations = 1\n",
      "(TOSgusto.SCPS).scp_status = Symbol[:NA, :ViolatesConstraints]\n",
      "(((TOSgusto.SCPS).param).alg).ω_vec = [2.0, 20.0]\n",
      "(((TOSgusto.SCPS).param).alg).Δ_vec = [4.0, 4.0]\n",
      "((TOSgusto.SCPS).traj).X = [0.2 0.29624 0.529601 0.773493 0.924245 0.990202 1.06587 1.20695 1.38991 1.56361 1.68531 1.74216 1.75685 1.76348 1.78974 1.8593 1.99448 2.21557 2.54342 3.0; 2.4 2.4209 2.44737 2.40499 2.25765 2.05708 1.9039 1.87128 1.93 1.89076 1.58132 1.11633 0.764592 0.641471 0.696644 0.838581 0.97661 1.02133 0.886215 0.5; 0.0 0.0 0.0 0.0 0.0 0.0 0.0 0.0 0.0 0.0 0.0 0.0 0.0 0.0 0.0 0.0 0.0 0.0 0.0 0.0; 0.0 0.0182857 0.0260527 0.0202868 0.00835606 0.00417581 0.0102003 0.0166064 0.0181553 0.0148471 0.00827641 0.00252434 0.000267303 0.000992552 0.00399765 0.00921875 0.0164644 0.025543 0.0367494 0.05; 0.0 0.00397042 0.00105919 -0.00911205 -0.0188821 -0.0192255 -0.00987807 0.00367949 0.00747719 -0.0149324 -0.0438623 -0.0444854 -0.0223443 -0.00104872 0.0115315 0.0154367 0.0107886 -0.00229138 -0.0233808 -0.05; 0.0 0.0 0.0 0.0 0.0 0.0 0.0 0.0 0.0 0.0 0.0 0.0 0.0 0.0 0.0 0.0 0.0 0.0 0.0 0.0]\n",
      "((TOSgusto.SCPS).traj).U = [0.0346143 0.0234757 0.00119867 -0.019516 -0.0183855 0.00510572 0.0140329 0.00631787 -0.00139717 -0.00911223 -0.0117617 -0.00651148 -0.00065867 0.00296264 0.00658394 0.0100025 0.0130154 0.0158256 0.019775 0.0223194; 0.00995022 0.00266301 -0.0119114 -0.0204006 -0.0106369 0.00954595 0.0201489 0.0229207 -0.0108562 -0.0603347 -0.0315697 0.0295902 0.0407477 0.0269041 0.0130606 -0.000654321 -0.0141118 -0.0274407 -0.0395563 -0.0450075; 0.0 0.0 0.0 0.0 0.0 0.0 0.0 0.0 0.0 0.0 0.0 0.0 0.0 0.0 0.0 0.0 0.0 0.0 0.0 0.0]\n",
      "((TOSgusto.SCPS).traj).Tf = 200.0\n",
      "((TOSgusto.SCPS).traj).dt = 10.526315789473685\n",
      "(TOSgusto.SCPS).iterations = 1\n",
      "(TOSgusto.SCPS).scp_status = Symbol[:NA, :ViolatesConstraints]\n",
      "(((TOSgusto.SCPS).param).alg).ω_vec = [2.0, 20.0]\n",
      "(((TOSgusto.SCPS).param).alg).Δ_vec = [4.0, 4.0]\n",
      "((TOSgusto.SCPS).traj).X = [0.2 0.29624 0.529601 0.773493 0.924245 0.990203 1.06587 1.20695 1.38991 1.56361 1.68531 1.74216 1.75685 1.76348 1.78974 1.8593 1.99448 2.21557 2.54342 3.0; 2.4 2.4209 2.44737 2.40499 2.25765 2.05708 1.9039 1.87128 1.93 1.89076 1.58132 1.11633 0.764593 0.641472 0.696644 0.838582 0.97661 1.02133 0.886215 0.5; 0.0 0.0 0.0 0.0 0.0 0.0 0.0 0.0 0.0 0.0 0.0 0.0 0.0 0.0 0.0 0.0 0.0 0.0 0.0 0.0; 0.0 0.0182857 0.0260527 0.0202868 0.00835611 0.00417586 0.0102003 0.0166063 0.0181553 0.0148471 0.0082764 0.00252435 0.000267313 0.000992554 0.00399764 0.00921875 0.0164644 0.025543 0.0367494 0.05; 0.0 0.00397045 0.00105919 -0.00911212 -0.0188822 -0.0192255 -0.009878 0.00367959 0.00747722 -0.0149324 -0.0438623 -0.0444854 -0.0223443 -0.0010487 0.0115315 0.0154367 0.0107886 -0.0022914 -0.0233808 -0.05; 0.0 0.0 0.0 0.0 0.0 0.0 0.0 0.0 0.0 0.0 0.0 0.0 0.0 0.0 0.0 0.0 0.0 0.0 0.0 0.0]\n",
      "((TOSgusto.SCPS).traj).U = [0.0346142 0.0234757 0.00119868 -0.0195159 -0.0183855 0.00510567 0.0140328 0.00631783 -0.00139717 -0.00911218 -0.0117616 -0.00651147 -0.000658687 0.00296263 0.00658394 0.0100025 0.0130154 0.0158256 0.019775 0.0223194; 0.00995029 0.00266303 -0.0119115 -0.0204007 -0.0106369 0.00954616 0.0201491 0.0229207 -0.0108564 -0.0603347 -0.0315697 0.0295902 0.0407477 0.0269041 0.0130606 -0.000654337 -0.0141118 -0.0274407 -0.0395563 -0.0450075; 0.0 0.0 0.0 0.0 0.0 0.0 0.0 0.0 0.0 0.0 0.0 0.0 0.0 0.0 0.0 0.0 0.0 0.0 0.0 0.0]\n",
      "((TOSgusto.SCPS).traj).Tf = 200.0\n",
      "((TOSgusto.SCPS).traj).dt = 10.526315789473685\n",
      "(TOSgusto.SCPS).iterations = 1\n"
     ]
    },
    {
     "name": "stdout",
     "output_type": "stream",
     "text": [
      "(TOSgusto.SCPS).scp_status = Symbol[:NA, :ViolatesConstraints]\n",
      "(((TOSgusto.SCPS).param).alg).ω_vec = [2.0, 20.0]\n",
      "(((TOSgusto.SCPS).param).alg).Δ_vec = [4.0, 4.0]\n",
      "((TOSgusto.SCPS).traj).X = [0.2 0.29624 0.529601 0.773493 0.924245 0.990202 1.06587 1.20695 1.38991 1.56361 1.68531 1.74216 1.75685 1.76348 1.78974 1.8593 1.99448 2.21557 2.54342 3.0; 2.4 2.4209 2.44737 2.40499 2.25765 2.05708 1.9039 1.87128 1.93 1.89076 1.58132 1.11633 0.764593 0.641472 0.696644 0.838582 0.97661 1.02133 0.886215 0.5; 0.0 0.0 0.0 0.0 0.0 0.0 0.0 0.0 0.0 0.0 0.0 0.0 0.0 0.0 0.0 0.0 0.0 0.0 0.0 0.0; 0.0 0.0182857 0.0260527 0.0202868 0.00835608 0.00417583 0.0102003 0.0166064 0.0181553 0.0148471 0.00827639 0.00252434 0.000267315 0.000992572 0.00399766 0.00921876 0.0164644 0.025543 0.0367494 0.05; 0.0 0.00397043 0.0010592 -0.00911206 -0.0188821 -0.0192255 -0.00987804 0.00367953 0.0074772 -0.0149324 -0.0438623 -0.0444854 -0.0223443 -0.00104871 0.0115315 0.0154367 0.0107886 -0.00229139 -0.0233808 -0.05; 0.0 0.0 0.0 0.0 0.0 0.0 0.0 0.0 0.0 0.0 0.0 0.0 0.0 0.0 0.0 0.0 0.0 0.0 0.0 0.0]\n",
      "((TOSgusto.SCPS).traj).U = [0.0346142 0.0234757 0.00119868 -0.019516 -0.0183855 0.00510571 0.0140329 0.00631786 -0.00139718 -0.00911223 -0.0117617 -0.00651146 -0.000658651 0.00296265 0.00658393 0.0100024 0.0130154 0.0158256 0.019775 0.0223195; 0.00995024 0.00266302 -0.0119114 -0.0204006 -0.0106369 0.00954603 0.020149 0.0229207 -0.0108563 -0.0603347 -0.0315697 0.0295902 0.0407477 0.0269041 0.0130606 -0.000654324 -0.0141118 -0.0274407 -0.0395563 -0.0450075; 0.0 0.0 0.0 0.0 0.0 0.0 0.0 0.0 0.0 0.0 0.0 0.0 0.0 0.0 0.0 0.0 0.0 0.0 0.0 0.0]\n",
      "((TOSgusto.SCPS).traj).Tf = 200.0\n",
      "((TOSgusto.SCPS).traj).dt = 10.526315789473685\n",
      "(TOSgusto.SCPS).iterations = 1\n",
      "(TOSgusto.SCPS).scp_status = Symbol[:NA, :ViolatesConstraints]\n",
      "(((TOSgusto.SCPS).param).alg).ω_vec = [2.0, 20.0]\n",
      "(((TOSgusto.SCPS).param).alg).Δ_vec = [4.0, 4.0]\n",
      "((TOSgusto.SCPS).traj).X = [0.2 0.29624 0.529601 0.773493 0.924245 0.990202 1.06587 1.20695 1.38991 1.56361 1.68531 1.74216 1.75685 1.76348 1.78974 1.8593 1.99448 2.21557 2.54342 3.0; 2.4 2.4209 2.44737 2.40499 2.25765 2.05708 1.9039 1.87128 1.93 1.89076 1.58132 1.11633 0.764593 0.641471 0.696644 0.838582 0.97661 1.02133 0.886215 0.5; 0.0 0.0 0.0 0.0 0.0 0.0 0.0 0.0 0.0 0.0 0.0 0.0 0.0 0.0 0.0 0.0 0.0 0.0 0.0 0.0; 0.0 0.0182857 0.0260527 0.0202868 0.00835608 0.00417584 0.0102003 0.0166064 0.0181553 0.0148471 0.0082764 0.00252434 0.000267314 0.000992567 0.00399766 0.00921876 0.0164644 0.025543 0.0367494 0.05; 0.0 0.00397043 0.0010592 -0.00911205 -0.0188821 -0.0192255 -0.00987806 0.00367952 0.0074772 -0.0149324 -0.0438623 -0.0444854 -0.0223443 -0.0010487 0.0115315 0.0154367 0.0107886 -0.0022914 -0.0233809 -0.05; 0.0 0.0 0.0 0.0 0.0 0.0 0.0 0.0 0.0 0.0 0.0 0.0 0.0 0.0 0.0 0.0 0.0 0.0 0.0 0.0]\n",
      "((TOSgusto.SCPS).traj).U = [0.0346142 0.0234757 0.00119868 -0.0195159 -0.0183855 0.0051057 0.0140329 0.00631785 -0.00139718 -0.00911222 -0.0117617 -0.00651146 -0.000658661 0.00296264 0.00658394 0.0100024 0.0130154 0.0158255 0.019775 0.0223195; 0.00995024 0.00266302 -0.0119114 -0.0204006 -0.0106369 0.00954599 0.020149 0.0229207 -0.0108563 -0.0603347 -0.0315697 0.0295902 0.0407477 0.0269041 0.0130606 -0.000654338 -0.0141119 -0.0274407 -0.0395563 -0.0450074; 0.0 0.0 0.0 0.0 0.0 0.0 0.0 0.0 0.0 0.0 0.0 0.0 0.0 0.0 0.0 0.0 0.0 0.0 0.0 0.0]\n",
      "((TOSgusto.SCPS).traj).Tf = 200.0\n",
      "((TOSgusto.SCPS).traj).dt = 10.526315789473685\n",
      "(TOSgusto.SCPS).iterations = 1\n",
      "(TOSgusto.SCPS).scp_status = Symbol[:NA, :ViolatesConstraints]\n",
      "(((TOSgusto.SCPS).param).alg).ω_vec = [2.0, 20.0]\n",
      "(((TOSgusto.SCPS).param).alg).Δ_vec = [4.0, 4.0]\n",
      "((TOSgusto.SCPS).traj).X = [0.2 0.29624 0.529601 0.773493 0.924245 0.990202 1.06587 1.20695 1.38991 1.56361 1.68531 1.74216 1.75685 1.76348 1.78974 1.8593 1.99448 2.21557 2.54342 3.0; 2.4 2.4209 2.44737 2.40498 2.25765 2.05708 1.9039 1.87128 1.93 1.89076 1.58132 1.11633 0.764593 0.641471 0.696644 0.838582 0.97661 1.02133 0.886215 0.5; 0.0 0.0 0.0 0.0 0.0 0.0 0.0 0.0 0.0 0.0 0.0 0.0 0.0 0.0 0.0 0.0 0.0 0.0 0.0 0.0; 0.0 0.0182857 0.0260527 0.0202868 0.00835609 0.00417584 0.0102003 0.0166064 0.0181553 0.0148471 0.0082764 0.00252435 0.000267319 0.00099257 0.00399766 0.00921876 0.0164644 0.025543 0.0367494 0.05; 0.0 0.00397042 0.00105919 -0.00911207 -0.0188821 -0.0192255 -0.00987804 0.00367954 0.00747722 -0.0149324 -0.0438623 -0.0444854 -0.0223443 -0.0010487 0.0115315 0.0154367 0.0107886 -0.00229141 -0.0233809 -0.05; 0.0 0.0 0.0 0.0 0.0 0.0 0.0 0.0 0.0 0.0 0.0 0.0 0.0 0.0 0.0 0.0 0.0 0.0 0.0 0.0]\n",
      "((TOSgusto.SCPS).traj).U = [0.0346142 0.0234757 0.00119868 -0.0195159 -0.0183855 0.00510569 0.0140329 0.00631785 -0.00139718 -0.00911221 -0.0117617 -0.00651146 -0.000658664 0.00296264 0.00658393 0.0100024 0.0130154 0.0158255 0.019775 0.0223195; 0.00995022 0.00266301 -0.0119114 -0.0204006 -0.0106369 0.00954603 0.020149 0.0229207 -0.0108563 -0.0603347 -0.0315697 0.0295902 0.0407477 0.0269042 0.0130606 -0.00065434 -0.0141119 -0.0274407 -0.0395563 -0.0450074; 0.0 0.0 0.0 0.0 0.0 0.0 0.0 0.0 0.0 0.0 0.0 0.0 0.0 0.0 0.0 0.0 0.0 0.0 0.0 0.0]\n",
      "((TOSgusto.SCPS).traj).Tf = 200.0\n",
      "((TOSgusto.SCPS).traj).dt = 10.526315789473685\n",
      "(TOSgusto.SCPS).iterations = 1\n",
      "(TOSgusto.SCPS).scp_status = Symbol[:NA, :ViolatesConstraints]\n",
      "(((TOSgusto.SCPS).param).alg).ω_vec = [2.0, 20.0]\n",
      "(((TOSgusto.SCPS).param).alg).Δ_vec = [4.0, 4.0]\n",
      "((TOSgusto.SCPS).traj).X = [0.2 0.29624 0.529601 0.773493 0.924245 0.990202 1.06587 1.20695 1.38991 1.56361 1.68531 1.74216 1.75685 1.76348 1.78974 1.8593 1.99448 2.21557 2.54342 3.0; 2.4 2.4209 2.44737 2.40499 2.25765 2.05708 1.9039 1.87128 1.93 1.89076 1.58132 1.11633 0.764593 0.641472 0.696644 0.838582 0.97661 1.02133 0.886215 0.5; 0.0 0.0 0.0 0.0 0.0 0.0 0.0 0.0 0.0 0.0 0.0 0.0 0.0 0.0 0.0 0.0 0.0 0.0 0.0 0.0; 0.0 0.0182857 0.0260527 0.0202868 0.00835608 0.00417584 0.0102003 0.0166064 0.0181553 0.0148471 0.00827639 0.00252433 0.000267313 0.000992571 0.00399767 0.00921876 0.0164644 0.025543 0.0367494 0.05; 0.0 0.00397043 0.00105919 -0.00911207 -0.0188821 -0.0192255 -0.00987804 0.00367954 0.00747721 -0.0149324 -0.0438623 -0.0444854 -0.0223443 -0.00104869 0.0115315 0.0154367 0.0107886 -0.00229142 -0.0233809 -0.05; 0.0 0.0 0.0 0.0 0.0 0.0 0.0 0.0 0.0 0.0 0.0 0.0 0.0 0.0 0.0 0.0 0.0 0.0 0.0 0.0]\n",
      "((TOSgusto.SCPS).traj).U = [0.0346142 0.0234757 0.00119868 -0.019516 -0.0183855 0.0051057 0.0140329 0.00631785 -0.00139718 -0.00911222 -0.0117617 -0.00651146 -0.00065865 0.00296265 0.00658394 0.0100024 0.0130154 0.0158255 0.019775 0.0223195; 0.00995024 0.00266301 -0.0119114 -0.0204006 -0.0106369 0.00954603 0.020149 0.0229207 -0.0108563 -0.0603347 -0.0315697 0.0295902 0.0407477 0.0269041 0.0130606 -0.000654347 -0.0141119 -0.0274407 -0.0395563 -0.0450074; 0.0 0.0 0.0 0.0 0.0 0.0 0.0 0.0 0.0 0.0 0.0 0.0 0.0 0.0 0.0 0.0 0.0 0.0 0.0 0.0]\n",
      "((TOSgusto.SCPS).traj).Tf = 200.0\n",
      "((TOSgusto.SCPS).traj).dt = 10.526315789473685\n",
      "(TOSgusto.SCPS).iterations = 1\n",
      "(TOSgusto.SCPS).scp_status = Symbol[:NA, :ViolatesConstraints]\n",
      "(((TOSgusto.SCPS).param).alg).ω_vec = [2.0, 20.0]\n",
      "(((TOSgusto.SCPS).param).alg).Δ_vec = [4.0, 4.0]\n",
      "((TOSgusto.SCPS).traj).X = [0.2 0.29624 0.529601 0.773493 0.924245 0.990202 1.06587 1.20695 1.38991 1.56361 1.68531 1.74216 1.75685 1.76348 1.78974 1.8593 1.99448 2.21557 2.54342 3.0; 2.4 2.4209 2.44737 2.40499 2.25765 2.05708 1.9039 1.87128 1.93 1.89076 1.58132 1.11633 0.764592 0.641471 0.696644 0.838582 0.97661 1.02133 0.886215 0.5; 0.0 0.0 0.0 0.0 0.0 0.0 0.0 0.0 0.0 0.0 0.0 0.0 0.0 0.0 0.0 0.0 0.0 0.0 0.0 0.0; 0.0 0.0182857 0.0260527 0.0202868 0.00835607 0.00417583 0.0102003 0.0166064 0.0181553 0.0148471 0.0082764 0.00252434 0.000267308 0.000992563 0.00399766 0.00921876 0.0164644 0.025543 0.0367494 0.05; 0.0 0.00397043 0.00105919 -0.00911207 -0.0188821 -0.0192255 -0.00987805 0.00367951 0.0074772 -0.0149324 -0.0438623 -0.0444854 -0.0223443 -0.0010487 0.0115315 0.0154367 0.0107886 -0.0022914 -0.0233809 -0.05; 0.0 0.0 0.0 0.0 0.0 0.0 0.0 0.0 0.0 0.0 0.0 0.0 0.0 0.0 0.0 0.0 0.0 0.0 0.0 0.0]\n",
      "((TOSgusto.SCPS).traj).U = [0.0346143 0.0234757 0.00119866 -0.019516 -0.0183855 0.00510572 0.0140329 0.00631786 -0.00139718 -0.00911223 -0.0117617 -0.00651147 -0.000658658 0.00296265 0.00658394 0.0100024 0.0130154 0.0158255 0.019775 0.0223195; 0.00995024 0.00266302 -0.0119114 -0.0204006 -0.0106368 0.00954599 0.020149 0.0229207 -0.0108562 -0.0603347 -0.0315697 0.0295902 0.0407477 0.0269042 0.0130606 -0.000654339 -0.0141119 -0.0274407 -0.0395563 -0.0450074; 0.0 0.0 0.0 0.0 0.0 0.0 0.0 0.0 0.0 0.0 0.0 0.0 0.0 0.0 0.0 0.0 0.0 0.0 0.0 0.0]\n",
      "((TOSgusto.SCPS).traj).Tf = 200.0\n",
      "((TOSgusto.SCPS).traj).dt = 10.526315789473685\n",
      "(TOSgusto.SCPS).iterations = 1\n"
     ]
    }
   ],
   "source": [
    "for i in 1:20\n",
    "    next_SCPS = solve_SCP!(TOSgusto, TOP, solve_gusto_jump!, TOSgusto.SCPS.traj, \"Ipopt\", max_iter=1, print_level=0);\n",
    "    @show TOSgusto.SCPS.scp_status\n",
    "    @show TOSgusto.SCPS.param.alg.ω_vec\n",
    "    @show TOSgusto.SCPS.param.alg.Δ_vec\n",
    "    @show TOSgusto.SCPS.traj.X\n",
    "    @show TOSgusto.SCPS.traj.U\n",
    "    @show TOSgusto.SCPS.traj.Tf\n",
    "    @show TOSgusto.SCPS.traj.dt\n",
    "    @show TOSgusto.SCPS.iterations\n",
    "end"
   ]
  },
  {
   "cell_type": "code",
   "execution_count": 21,
   "metadata": {},
   "outputs": [
    {
     "name": "stdout",
     "output_type": "stream",
     "text": [
      "(TOSgusto.SCPS).scp_status = Symbol[:NA, :ViolatesConstraints, :ViolatesConstraints, :ViolatesConstraints]\n",
      "(((TOSgusto.SCPS).param).alg).ω_vec = [2.0, 20.0, 200.0, 2000.0]\n",
      "(((TOSgusto.SCPS).param).alg).Δ_vec = [4.0, 4.0, 4.0, 4.0]\n",
      "((TOSgusto.SCPS).traj).X = [0.2 0.29624 0.529601 0.773493 0.924245 0.990203 1.06587 1.20695 1.38991 1.56361 1.68531 1.74216 1.75685 1.76348 1.78974 1.8593 1.99448 2.21557 2.54342 3.0; 2.4 2.4209 2.44737 2.40499 2.25765 2.05708 1.9039 1.87128 1.93 1.89076 1.58132 1.11633 0.764593 0.641472 0.696644 0.838582 0.97661 1.02133 0.886215 0.5; 0.0 0.0 0.0 0.0 0.0 0.0 0.0 0.0 0.0 0.0 0.0 0.0 0.0 0.0 0.0 0.0 0.0 0.0 0.0 0.0; 0.0 0.0182857 0.0260527 0.0202868 0.0083561 0.00417586 0.0102003 0.0166063 0.0181553 0.0148471 0.00827639 0.00252434 0.000267317 0.000992569 0.00399766 0.00921876 0.0164644 0.025543 0.0367494 0.05; 0.0 0.00397044 0.00105919 -0.00911211 -0.0188822 -0.0192255 -0.00987801 0.00367957 0.00747722 -0.0149324 -0.0438623 -0.0444854 -0.0223443 -0.0010487 0.0115315 0.0154367 0.0107886 -0.00229141 -0.0233809 -0.05; 0.0 0.0 0.0 0.0 0.0 0.0 0.0 0.0 0.0 0.0 0.0 0.0 0.0 0.0 0.0 0.0 0.0 0.0 0.0 0.0]\n",
      "((TOSgusto.SCPS).traj).U = [0.0346142 0.0234757 0.00119868 -0.0195159 -0.0183855 0.00510568 0.0140328 0.00631783 -0.00139718 -0.0091122 -0.0117617 -0.00651146 -0.000658662 0.00296264 0.00658394 0.0100024 0.0130154 0.0158255 0.019775 0.0223195; 0.00995028 0.00266302 -0.0119115 -0.0204007 -0.0106368 0.00954611 0.020149 0.0229207 -0.0108563 -0.0603347 -0.0315697 0.0295902 0.0407477 0.0269041 0.0130606 -0.000654342 -0.0141119 -0.0274407 -0.0395563 -0.0450074; 0.0 0.0 0.0 0.0 0.0 0.0 0.0 0.0 0.0 0.0 0.0 0.0 0.0 0.0 0.0 0.0 0.0 0.0 0.0 0.0]\n",
      "((TOSgusto.SCPS).traj).Tf = 200.0\n",
      "((TOSgusto.SCPS).traj).dt = 10.526315789473685\n",
      "(TOSgusto.SCPS).iterations = 3\n"
     ]
    },
    {
     "data": {
      "text/plain": [
       "3"
      ]
     },
     "execution_count": 21,
     "metadata": {},
     "output_type": "execute_result"
    }
   ],
   "source": [
    "full_SCPS = solve_SCP!(TOSgusto, TOP, solve_gusto_jump!, TOSgusto.SCPS.traj, \"Ipopt\", max_iter=100, print_level=0);\n",
    "@show TOSgusto.SCPS.scp_status\n",
    "@show TOSgusto.SCPS.param.alg.ω_vec\n",
    "@show TOSgusto.SCPS.param.alg.Δ_vec\n",
    "@show TOSgusto.SCPS.traj.X\n",
    "@show TOSgusto.SCPS.traj.U\n",
    "@show TOSgusto.SCPS.traj.Tf\n",
    "@show TOSgusto.SCPS.traj.dt\n",
    "@show TOSgusto.SCPS.iterations"
   ]
  },
  {
   "cell_type": "code",
   "execution_count": 18,
   "metadata": {
    "scrolled": false
   },
   "outputs": [
    {
     "name": "stdout",
     "output_type": "stream",
     "text": [
      "Randomness"
     ]
    }
   ],
   "source": [
    "include(\"../ok.jl\")"
   ]
  },
  {
   "cell_type": "code",
   "execution_count": null,
   "metadata": {},
   "outputs": [],
   "source": [
    "# @show TOSgusto.SCPS.param.alg.ω_vec\n",
    "function ok()\n",
    "    print(\"thiss2\")\n",
    "end\n",
    "ok()"
   ]
  },
  {
   "cell_type": "code",
   "execution_count": 13,
   "metadata": {},
   "outputs": [
    {
     "name": "stdout",
     "output_type": "stream",
     "text": [
      "(TOSgusto.SCPS).dual = [1.18585, 0.0792019, 0.0, 3.04974, 0.78768, 0.0]\n",
      "(TOSgusto.SCPS).traj = Trajectory([0.2 0.356809 0.681854 0.908889 0.961339 0.985315 1.09604 1.26675 1.42619 1.53796 1.61666 1.70477 1.83012 1.98604 2.14286 2.26937 2.35538 2.43718 2.61106 3.0; 2.4 2.41609 2.41076 2.30491 2.11842 1.94558 1.83199 1.74662 1.64222 1.4984 1.33033 1.17263 1.05435 0.988327 0.976585 1.01234 1.0628 1.05503 0.894058 0.5; 0.0 0.0 0.0 0.0 0.0 0.0 0.0 0.0 0.0 0.0 0.0 0.0 0.0 0.0 0.0 0.0 0.0 0.0 0.0 0.0; 0.0 0.0297938 0.0319647 0.011172 -0.00120646 0.00576185 0.0152758 0.017159 0.0131355 0.00809958 0.00685299 0.00988849 0.0139288 0.0156965 0.0140992 0.00993755 0.00640456 0.00913757 0.0238987 0.05; 0.0 0.00305751 -0.00407025 -0.0160419 -0.0193914 -0.0134472 -0.00813502 -0.00808526 -0.0117513 -0.0155747 -0.0163573 -0.0136071 -0.00886632 -0.00367721 0.00144614 0.00534725 0.00423951 -0.00571436 -0.024871 -0.05; 0.0 0.0 0.0 0.0 0.0 0.0 0.0 0.0 0.0 0.0 0.0 0.0 0.0 0.0 0.0 0.0 0.0 0.0 0.0 0.0], [0.0619498 0.032699 -0.0258024 -0.0402518 0.000927873 0.021209 0.00901491 -0.00303225 -0.00974967 -0.00624854 0.00228837 0.00735482 0.00548032 0.000135328 -0.00520967 -0.00801091 -0.00321271 0.0118949 0.0349981 0.0479206; 0.0110894 -0.00137627 -0.0212672 -0.0167643 0.00612339 0.0127603 0.00411533 -0.00395726 -0.00768917 -0.00445701 0.00197098 0.00676589 0.0082946 0.00819016 0.00808569 0.00430738 -0.00782645 -0.023795 -0.0370619 -0.0427679; 0.0 0.0 0.0 0.0 0.0 0.0 0.0 0.0 0.0 0.0 0.0 0.0 0.0 0.0 0.0 0.0 0.0 0.0 0.0 0.0], 200.0, 10.526315789473685)\n"
     ]
    },
    {
     "data": {
      "text/plain": [
       "Trajectory"
      ]
     },
     "execution_count": 13,
     "metadata": {},
     "output_type": "execute_result"
    }
   ],
   "source": [
    "SCPS = solve_SCP!(TOSgusto, TOP, solve_gusto_jump!, TOSgusto.SCPS.traj, \"Ipopt\", max_iter=1, print_level=0);\n",
    "@show TOSgusto.SCPS.dual\n",
    "@show TOSgusto.SCPS.traj\n",
    "@show TOSgusto.SCPS.param.alg.ω_vec\n",
    "@show TOSgusto.SCPS.param.alg.Δ_vec"
   ]
  },
  {
   "cell_type": "code",
   "execution_count": 6,
   "metadata": {},
   "outputs": [],
   "source": [
    "# using Profile\n",
    "# using ProfileView \n",
    "# Profile.clear()\n",
    "# @profile solve_SCP!(TOSgusto, TOP, solve_gusto_jump!, init_traj_straightline, \"Gurobi\", OutputFlag=0)\n",
    "# ProfileView.view()"
   ]
  },
  {
   "cell_type": "code",
   "execution_count": 22,
   "metadata": {},
   "outputs": [
    {
     "name": "stdout",
     "output_type": "stream",
     "text": [
      "Academic license - for non-commercial use only\n",
      "Academic license - for non-commercial use only\n",
      "Academic license - for non-commercial use only\n",
      "Academic license - for non-commercial use only\n",
      "Academic license - for non-commercial use only\n",
      "Academic license - for non-commercial use only\n",
      "Academic license - for non-commercial use only\n",
      "Academic license - for non-commercial use only\n",
      "Academic license - for non-commercial use only\n",
      "Academic license - for non-commercial use only\n",
      "Academic license - for non-commercial use only\n",
      "Academic license - for non-commercial use only\n"
     ]
    }
   ],
   "source": [
    "SCPS = solve_SCP!(TOSgusto, TOP, solve_gusto_jump!, init_traj_straightline, \"Gurobi\", OutputFlag=0);\n",
    "# SCPS = solve_SCP!(TOSgusto, TOP, solve_gusto_jump!, init_traj_straightline, \"Ipopt\", print_level=0);\n"
   ]
  },
  {
   "cell_type": "code",
   "execution_count": 23,
   "metadata": {},
   "outputs": [
    {
     "name": "stdout",
     "output_type": "stream",
     "text": [
      "(TOSgusto.SCPS).converged = true\n",
      "(TOSgusto.SCPS).iterations = 6\n",
      "(TOSgusto.SCPS).total_time = 6.451426258000001\n",
      "(TOSgusto.SCPS).accept_solution = Bool[true, true, true, true, true, true, true]\n",
      "(TOSgusto.SCPS).solver_status = Union{TerminationStatusCode, Symbol}[:NA, OPTIMAL, OPTIMAL, OPTIMAL, OPTIMAL, OPTIMAL, OPTIMAL]\n",
      "(TOSgusto.SCPS).scp_status = Symbol[:NA, :ViolatesConstraints, :ViolatesConstraints, :ViolatesConstraints, :ViolatesConstraints, :ViolatesConstraints, :ViolatesConstraints]\n",
      "(TOSgusto.SCPS).convergence_measure = [0.0, 0.121476, 0.0849042, 0.0464864, 0.0146997, 0.00463386, 0.00146759]\n",
      "(((TOSgusto.SCPS).param).alg).ω_vec = [2.0, 20.0, 200.0, 2000.0, 20000.0, 200000.0, 2.0e6]\n",
      "(((TOSgusto.SCPS).param).alg).Δ_vec = [4.0, 4.0, 4.0, 4.0, 4.0, 4.0, 4.0]\n",
      "(TOSgusto.SCPS).J_true = Any[0.0, 0.253129, 0.29253, 0.230932, 0.208509, 0.203066, 0.201448]\n",
      "(TOSgusto.SCPS).dual = [NaN, NaN, NaN, NaN, NaN, NaN]\n"
     ]
    }
   ],
   "source": [
    "@show TOSgusto.SCPS.converged\n",
    "@show TOSgusto.SCPS.iterations\n",
    "@show TOSgusto.SCPS.total_time\n",
    "@show TOSgusto.SCPS.accept_solution\n",
    "@show TOSgusto.SCPS.solver_status\n",
    "@show TOSgusto.SCPS.scp_status\n",
    "@show TOSgusto.SCPS.convergence_measure\n",
    "@show TOSgusto.SCPS.param.alg.ω_vec\n",
    "@show TOSgusto.SCPS.param.alg.Δ_vec\n",
    "@show TOSgusto.SCPS.J_true\n",
    "@show TOSgusto.SCPS.dual\n",
    ";"
   ]
  },
  {
   "cell_type": "code",
   "execution_count": 25,
   "metadata": {},
   "outputs": [
    {
     "name": "stderr",
     "output_type": "stream",
     "text": [
      "┌ Info: Serving MeshCat visualizer at http://127.0.0.1:8700\n",
      "└ @ MeshCat /home/somrita/.julia/packages/MeshCat/WlA0B/src/servers.jl:24\n"
     ]
    },
    {
     "data": {
      "text/plain": [
       "Process(`\u001b[4mxdg-open\u001b[24m \u001b[4mhttp://127.0.0.1:8700\u001b[24m`, ProcessExited(0))"
      ]
     },
     "execution_count": 25,
     "metadata": {},
     "output_type": "execute_result"
    },
    {
     "name": "stdout",
     "output_type": "stream",
     "text": [
      "Opening in existing browser session.\n"
     ]
    }
   ],
   "source": []
  },
  {
   "cell_type": "code",
   "execution_count": 11,
   "metadata": {},
   "outputs": [
    {
     "name": "stdout",
     "output_type": "stream",
     "text": [
      "(TOSgusto.SCPS).traj = Trajectory([0.2 0.201861 0.20669 0.213193 0.220707 0.229091 0.238307 0.248317 0.259084 0.27057 0.282736 0.295545 0.308958 0.322938 0.337448 0.352448 0.367901 0.383769 0.400015 0.416599 0.433486 0.450635 0.46801 0.485573 0.503285 0.521109 0.539007 0.556941 0.574872 0.592764 0.610578 0.628276 0.64582 0.663173 0.680296 0.697151 0.713701 0.729908 0.745733 0.761139 0.776088 0.790543 0.804464 0.817814 0.830555 0.842651 0.854073 0.8648 0.87482 0.884123 0.892712 0.900602 0.907824 0.91442 0.920448 0.925975 0.931074 0.935815 0.940269 0.944507 0.948601 0.95262 0.956636 0.96072 0.964942 0.969375 0.974089 0.979152 0.98463 0.990576 0.997039 1.00406 1.01166 1.01984 1.02857 1.03781 1.04754 1.05773 1.06834 1.07934 1.09071 1.10241 1.11441 1.12668 1.13918 1.1519 1.16479 1.17783 1.19098 1.20421 1.2175 1.23081 1.24411 1.25736 1.27055 1.28364 1.29659 1.30937 1.32196 1.33433 1.34643 1.35825 1.36975 1.3809 1.39167 1.40202 1.41195 1.42147 1.43057 1.43929 1.44765 1.45566 1.46334 1.47071 1.4778 1.48462 1.49118 1.49752 1.50365 1.50958 1.51534 1.52095 1.52643 1.53179 1.53706 1.54226 1.54739 1.5525 1.55758 1.56267 1.56778 1.57293 1.57815 1.58344 1.58883 1.59434 1.59999 1.6058 1.61179 1.61797 1.62437 1.631 1.63789 1.64505 1.65251 1.66028 1.66838 1.67683 1.68566 1.69487 1.7045 1.71456 1.72506 1.73603 1.74749 1.75946 1.77196 1.785 1.7986 1.81279 1.82759 1.843 1.85907 1.87578 1.89317 1.91125 1.93001 1.94947 1.96964 1.99052 2.01211 2.03444 2.0575 2.0813 2.10585 2.13116 2.15723 2.18407 2.21169 2.2401 2.2693 2.2993 2.33011 2.36174 2.39419 2.42747 2.46158 2.49655 2.53237 2.56907 2.60672 2.64537 2.68511 2.72601 2.76815 2.8116 2.85643 2.90273 2.95056 3.0; 2.4 2.40014 2.40056 2.40123 2.40214 2.40325 2.40457 2.40605 2.40768 2.40943 2.4113 2.41324 2.41525 2.4173 2.41938 2.42144 2.42349 2.42549 2.42743 2.42928 2.43102 2.43263 2.43409 2.43538 2.43647 2.43735 2.43799 2.43837 2.43847 2.43827 2.43775 2.43688 2.43564 2.43402 2.43199 2.42953 2.42662 2.42324 2.41936 2.41496 2.41003 2.40454 2.39847 2.39179 2.3845 2.37656 2.36796 2.35871 2.34881 2.33827 2.3271 2.31533 2.303 2.29014 2.27679 2.26302 2.24887 2.2344 2.21965 2.20468 2.18955 2.1743 2.15898 2.14366 2.12838 2.11319 2.09815 2.08331 2.06871 2.05442 2.04045 2.02687 2.01369 2.00091 1.98851 1.97647 1.96477 1.95339 1.94231 1.9315 1.92096 1.91064 1.90054 1.89063 1.8809 1.87131 1.86185 1.8525 1.84324 1.83404 1.82489 1.81576 1.80663 1.79748 1.7883 1.77905 1.76972 1.76028 1.75073 1.74102 1.73115 1.72109 1.71082 1.70033 1.68958 1.67856 1.66726 1.65568 1.64385 1.63176 1.61945 1.60692 1.5942 1.58129 1.56821 1.55499 1.54162 1.52814 1.51456 1.50088 1.48714 1.47333 1.45949 1.44562 1.43175 1.41788 1.40403 1.39023 1.37647 1.36279 1.3492 1.3357 1.32232 1.30908 1.29599 1.28306 1.27031 1.25776 1.24543 1.23332 1.22145 1.20985 1.19852 1.18749 1.17676 1.16635 1.15629 1.14658 1.13724 1.12829 1.11974 1.11161 1.10391 1.09666 1.08988 1.08358 1.07778 1.07249 1.06773 1.06352 1.05987 1.05679 1.0543 1.05238 1.051 1.05008 1.04952 1.04921 1.04903 1.04886 1.0486 1.04812 1.04732 1.04607 1.04427 1.0418 1.03855 1.0344 1.02923 1.02293 1.01539 1.00649 0.996126 0.984171 0.970515 0.955044 0.937644 0.918199 0.896599 0.872754 0.846597 0.818082 0.787167 0.753809 0.717966 0.679596 0.638656 0.595104 0.548898 0.5; 0.0 -3.78719e-10 -1.52369e-9 -3.4555e-9 -6.1977e-9 -9.77391e-9 -1.42077e-8 -1.95229e-8 -2.5743e-8 -3.28918e-8 -4.09928e-8 -5.00698e-8 -6.01463e-8 -7.12459e-8 -8.3392e-8 -9.66081e-8 -1.10917e-7 -1.26343e-7 -1.42908e-7 -1.60635e-7 -1.79548e-7 -1.99668e-7 -2.21019e-7 -2.43622e-7 -2.67499e-7 -2.92672e-7 -3.19163e-7 -3.46992e-7 -3.7618e-7 -4.06747e-7 -4.38713e-7 -4.72096e-7 -5.06915e-7 -5.43187e-7 -5.80928e-7 -6.20155e-7 -6.6088e-7 -7.03119e-7 -7.46882e-7 -7.9218e-7 -8.39023e-7 -8.87417e-7 -9.37368e-7 -9.8888e-7 -1.04195e-6 -1.09659e-6 -1.15279e-6 -1.21054e-6 -1.26985e-6 -1.3307e-6 -1.39308e-6 -1.45697e-6 -1.52237e-6 -1.58926e-6 -1.65761e-6 -1.7274e-6 -1.7986e-6 -1.87119e-6 -1.94512e-6 -2.02035e-6 -2.09685e-6 -2.17457e-6 -2.25345e-6 -2.33345e-6 -2.41452e-6 -2.49658e-6 -2.57959e-6 -2.66347e-6 -2.74818e-6 -2.83363e-6 -2.91977e-6 -3.00652e-6 -3.09382e-6 -3.18159e-6 -3.26976e-6 -3.35825e-6 -3.44699e-6 -3.53588e-6 -3.62486e-6 -3.71384e-6 -3.80272e-6 -3.89141e-6 -3.97983e-6 -4.06787e-6 -4.15544e-6 -4.24242e-6 -4.32873e-6 -4.41424e-6 -4.49886e-6 -4.58246e-6 -4.66493e-6 -4.74615e-6 -4.826e-6 -4.90437e-6 -4.98111e-6 -5.0561e-6 -5.12922e-6 -5.20032e-6 -5.26927e-6 -5.33592e-6 -5.40014e-6 -5.46177e-6 -5.52066e-6 -5.57665e-6 -5.62958e-6 -5.6793e-6 -5.72563e-6 -5.7684e-6 -5.80745e-6 -5.84261e-6 -5.87369e-6 -5.90054e-6 -5.92297e-6 -5.94083e-6 -5.95394e-6 -5.96214e-6 -5.96528e-6 -5.96322e-6 -5.9558e-6 -5.9429e-6 -5.92439e-6 -5.90016e-6 -5.87011e-6 -5.83414e-6 -5.79219e-6 -5.74417e-6 -5.69004e-6 -5.62976e-6 -5.56332e-6 -5.4907e-6 -5.41192e-6 -5.32701e-6 -5.23603e-6 -5.13905e-6 -5.03616e-6 -4.92748e-6 -4.81315e-6 -4.69335e-6 -4.56825e-6 -4.43808e-6 -4.30308e-6 -4.16353e-6 -4.01972e-6 -3.87199e-6 -3.72069e-6 -3.56622e-6 -3.40898e-6 -3.24942e-6 -3.08802e-6 -2.92528e-6 -2.76173e-6 -2.59791e-6 -2.43439e-6 -2.27178e-6 -2.11066e-6 -1.95166e-6 -1.79539e-6 -1.64248e-6 -1.49353e-6 -1.34915e-6 -1.20991e-6 -1.07636e-6 -9.48987e-7 -8.28257e-7 -7.14558e-7 -6.08213e-7 -5.09471e-7 -4.18499e-7 -3.35383e-7 -2.60118e-7 -1.92617e-7 -1.3271e-7 -8.01612e-8 -3.46707e-8 4.11656e-9 3.66086e-8 6.32609e-8 8.45705e-8 1.01069e-7 1.13316e-7 1.21885e-7 1.2736e-7 1.30313e-7 1.31291e-7 1.3079e-7 1.29227e-7 1.26907e-7 1.23981e-7 1.20416e-7 1.15976e-7 1.10225e-7 1.02586e-7 9.24878e-8 7.95528e-8 6.3912e-8 4.65485e-8 2.919e-8 1.41087e-8 3.72857e-9 0.0; 0.0 0.00370298 0.00590751 0.00703369 0.00791842 0.00876542 0.00957468 0.0103462 0.01108 0.0117761 0.0124344 0.013055 0.0136378 0.0141829 0.0146903 0.01516 0.0155919 0.0159861 0.0163425 0.0166612 0.0169422 0.0171854 0.0173909 0.0175587 0.0176887 0.017781 0.0178356 0.0178524 0.0178315 0.0177729 0.0176765 0.0175424 0.0173706 0.017161 0.0169137 0.0166287 0.0163059 0.0159454 0.0155472 0.0151112 0.0146375 0.014126 0.0135768 0.0129899 0.0123653 0.0117062 0.0110226 0.0103244 0.00961488 0.00889913 0.00819239 0.00750987 0.00686184 0.00626376 0.00573112 0.00526909 0.00487768 0.00455687 0.00430668 0.00412711 0.00401815 0.00397981 0.00401208 0.00411497 0.00428847 0.00453259 0.00484732 0.00522968 0.00567076 0.00616164 0.00669933 0.00727397 0.00785641 0.00841766 0.00894806 0.00944761 0.00991631 0.0103542 0.0107612 0.0111373 0.0114826 0.0117971 0.0120807 0.0123335 0.0125554 0.0127464 0.0129066 0.013036 0.0131345 0.0132022 0.013239 0.0132449 0.01322 0.0131643 0.0130777 0.0129603 0.012812 0.0126328 0.0124228 0.012182 0.0119103 0.0116078 0.0112744 0.0109102 0.0105151 0.0100954 0.00966998 0.00925759 0.0088645 0.00849073 0.00813626 0.00780109 0.00748522 0.00718866 0.0069114 0.00665345 0.0064148 0.00619545 0.00599541 0.00581467 0.00565324 0.00551111 0.00538828 0.00528476 0.00520054 0.00513562 0.00509001 0.00506371 0.00505671 0.00506901 0.00510062 0.00515153 0.00522174 0.00531126 0.00542008 0.00554821 0.00569564 0.00586238 0.00604842 0.00625376 0.00647841 0.00672236 0.00698562 0.00726818 0.00757005 0.00789122 0.0082317 0.00859149 0.00897059 0.00936899 0.0097867 0.0102237 0.0106801 0.0111557 0.0116507 0.012165 0.0126986 0.0132515 0.0138238 0.0144154 0.0150263 0.0156562 0.0163037 0.0169666 0.0176412 0.0183242 0.0190146 0.0197123 0.0204174 0.0211298 0.0218496 0.0225767 0.0233112 0.024053 0.0248022 0.0255587 0.0263226 0.0270938 0.0278724 0.0286583 0.0294516 0.0302523 0.0310602 0.0318756 0.0326983 0.0335283 0.0343657 0.0352104 0.0360709 0.0369725 0.0379404 0.0389832 0.0401008 0.0412932 0.0425604 0.0439024 0.0453193 0.0468109 0.0483774 0.05; 0.0 0.000281264 0.000546527 0.000790456 0.00101305 0.00121431 0.00139424 0.00155283 0.00169009 0.00180601 0.0019006 0.00197385 0.00202578 0.00205637 0.00206562 0.00205355 0.00202014 0.0019654 0.00188933 0.00179193 0.0016732 0.00153315 0.00137176 0.00118904 0.000984988 0.000759609 0.000512902 0.000244865 -4.45009e-5 -0.000355196 -0.00068722 -0.00104057 -0.00141525 -0.00181126 -0.0022286 -0.00266727 -0.00312726 -0.00360859 -0.00411124 -0.00463521 -0.00518052 -0.00574715 -0.0063351 -0.00694438 -0.00757498 -0.00822329 -0.00887844 -0.0095296 -0.0101731 -0.0108058 -0.011418 -0.012 -0.0125462 -0.0130497 -0.0135034 -0.0139049 -0.0142542 -0.0145514 -0.0147964 -0.0149893 -0.01513 -0.0152186 -0.015255 -0.0152392 -0.0151713 -0.0150512 -0.014879 -0.0146558 -0.0143849 -0.0140698 -0.0137116 -0.0133184 -0.0129143 -0.0125232 -0.0121531 -0.011804 -0.011476 -0.011169 -0.010883 -0.010618 -0.010374 -0.0101511 -0.00994915 -0.00976825 -0.00960837 -0.00946952 -0.00935169 -0.00925488 -0.0091791 -0.00912434 -0.0090906 -0.00907789 -0.0090862 -0.00911554 -0.0091659 -0.00923728 -0.00932969 -0.00944313 -0.00957758 -0.00973306 -0.00990957 -0.0101071 -0.0103257 -0.0105652 -0.0108258 -0.0111029 -0.0113825 -0.0116511 -0.0119038 -0.0121409 -0.0123622 -0.0125677 -0.0127575 -0.0129315 -0.0130898 -0.0132324 -0.0133592 -0.0134703 -0.0135656 -0.0136452 -0.013709 -0.0137571 -0.0137894 -0.013806 -0.0138069 -0.013792 -0.0137614 -0.013715 -0.0136529 -0.013575 -0.0134814 -0.013372 -0.0132469 -0.0131061 -0.0129495 -0.0127771 -0.0125891 -0.0123852 -0.0121657 -0.0119303 -0.0116793 -0.0114125 -0.0111299 -0.0108316 -0.0105176 -0.0101878 -0.00984226 -0.00948098 -0.00910396 -0.00871119 -0.00830267 -0.00787841 -0.00743839 -0.00698262 -0.0065111 -0.00602382 -0.00552078 -0.00500197 -0.0044674 -0.00391704 -0.00335089 -0.00277221 -0.00219087 -0.00162751 -0.0011199 -0.000706801 -0.00040547 -0.000218058 -0.000144564 -0.000184989 -0.000339334 -0.000607599 -0.000989785 -0.00148589 -0.00209592 -0.00281987 -0.00365774 -0.00460954 -0.00567526 -0.0068549 -0.00814847 -0.00955596 -0.0110774 -0.0127127 -0.014462 -0.0163252 -0.0183023 -0.0203933 -0.0225893 -0.0248634 -0.0271886 -0.0295559 -0.0319653 -0.0344169 -0.0369105 -0.0394463 -0.0420242 -0.0446442 -0.0473063 -0.05; 0.0 -7.5365e-10 -1.52484e-9 -2.31945e-9 -3.13753e-9 -3.97912e-9 -4.84423e-9 -5.7329e-9 -6.64512e-9 -7.5809e-9 -8.54021e-9 -9.52301e-9 -1.05293e-8 -1.15589e-8 -1.26119e-8 -1.3688e-8 -1.47874e-8 -1.59097e-8 -1.70549e-8 -1.82228e-8 -1.94133e-8 -2.06262e-8 -2.18613e-8 -2.31184e-8 -2.43972e-8 -2.56975e-8 -2.70189e-8 -2.8361e-8 -2.97233e-8 -3.11053e-8 -3.25065e-8 -3.39261e-8 -3.53634e-8 -3.68176e-8 -3.82877e-8 -3.97728e-8 -4.12716e-8 -4.27831e-8 -4.43057e-8 -4.58381e-8 -4.73785e-8 -4.89255e-8 -5.04771e-8 -5.20315e-8 -5.35869e-8 -5.51413e-8 -5.66927e-8 -5.8239e-8 -5.97782e-8 -6.1308e-8 -6.28263e-8 -6.43304e-8 -6.5818e-8 -6.7286e-8 -6.87315e-8 -7.01512e-8 -7.15414e-8 -7.28986e-8 -7.4219e-8 -7.54989e-8 -7.67345e-8 -7.79225e-8 -7.90595e-8 -8.01428e-8 -8.11698e-8 -8.21379e-8 -8.30453e-8 -8.38899e-8 -8.46701e-8 -8.53842e-8 -8.60306e-8 -8.66078e-8 -8.71142e-8 -8.7548e-8 -8.79074e-8 -8.81901e-8 -8.83938e-8 -8.85158e-8 -8.85538e-8 -8.8505e-8 -8.83668e-8 -8.81366e-8 -8.78115e-8 -8.73887e-8 -8.68656e-8 -8.62394e-8 -8.55073e-8 -8.46667e-8 -8.37149e-8 -8.26493e-8 -8.14671e-8 -8.0166e-8 -7.87432e-8 -7.71962e-8 -7.55222e-8 -7.37185e-8 -7.17821e-8 -6.97099e-8 -6.74986e-8 -6.51447e-8 -6.26447e-8 -5.99948e-8 -5.71913e-8 -5.42305e-8 -5.11091e-8 -4.78238e-8 -4.43719e-8 -4.07512e-8 -3.696e-8 -3.29976e-8 -2.88637e-8 -2.4559e-8 -2.00854e-8 -1.54454e-8 -1.06429e-8 -5.68296e-9 -5.71523e-10 4.68433e-9 1.00766e-8 1.55965e-8 2.12344e-8 2.69801e-8 3.28224e-8 3.87495e-8 4.47488e-8 5.08069e-8 5.69094e-8 6.30411e-8 6.91857e-8 7.53259e-8 8.14435e-8 8.75193e-8 9.35329e-8 9.94631e-8 1.05288e-7 1.10983e-7 1.16526e-7 1.21891e-7 1.27053e-7 1.31985e-7 1.36659e-7 1.41049e-7 1.45126e-7 1.4886e-7 1.52224e-7 1.55187e-7 1.57721e-7 1.59797e-7 1.61387e-7 1.62466e-7 1.63009e-7 1.62992e-7 1.62398e-7 1.61208e-7 1.59412e-7 1.57e-7 1.53971e-7 1.50326e-7 1.46077e-7 1.41242e-7 1.35847e-7 1.2993e-7 1.23535e-7 1.16718e-7 1.09544e-7 1.02083e-7 9.4414e-8 8.66188e-8 7.8783e-8 7.09935e-8 6.33343e-8 5.58797e-8 4.86931e-8 4.1833e-8 3.53537e-8 2.93054e-8 2.37327e-8 1.86735e-8 1.41589e-8 1.02112e-8 6.8424e-9 4.05221e-9 1.82426e-9 1.21668e-10 -1.11841e-9 -1.99092e-9 -2.62711e-9 -3.19601e-9 -3.89678e-9 -4.93916e-9 -6.50638e-9 -8.69407e-9 -1.1402e-8 -1.43388e-8 -1.67861e-8 -1.7767e-8 -1.67764e-8 -1.32358e-8 -7.41985e-9 0.0], [0.0722958 0.0509128 0.0224382 0.0150327 0.0144049 0.0137771 0.0131493 0.0125216 0.0118938 0.011266 0.0106382 0.0100104 0.00938268 0.0087549 0.00812713 0.00749936 0.00687159 0.00624382 0.00561605 0.00498829 0.00436052 0.00373276 0.00310499 0.00247723 0.00184946 0.0012217 0.000593938 -3.38243e-5 -0.000661586 -0.00128935 -0.00191711 -0.00254487 -0.00317264 -0.0038004 -0.00442816 -0.00505593 -0.00568369 -0.00631145 -0.00693922 -0.00756698 -0.00819474 -0.0088225 -0.00945025 -0.010078 -0.0107057 -0.0112236 -0.0115216 -0.0117098 -0.0118979 -0.0119171 -0.0115984 -0.0111107 -0.0104513 -0.00944847 -0.00827382 -0.00709912 -0.0059244 -0.00474964 -0.00357487 -0.00240008 -0.00122529 -5.05031e-5 0.00112429 0.00229907 0.00347386 0.00464863 0.00582338 0.00689896 0.00777674 0.00855634 0.009334 0.00978594 0.00959368 0.00908052 0.00856734 0.00805415 0.00754094 0.00702772 0.0065145 0.00600127 0.00548805 0.00497482 0.00446158 0.00394835 0.00343512 0.00292189 0.00240866 0.00189543 0.0013822 0.000868975 0.000355748 -0.000157479 -0.000670705 -0.00118393 -0.00169716 -0.00221038 -0.0027236 -0.00323683 -0.00375005 -0.00426328 -0.0047765 -0.00528972 -0.00580294 -0.00631616 -0.00682938 -0.00713401 -0.00702141 -0.00670016 -0.00637889 -0.00605767 -0.00573654 -0.00541542 -0.00509429 -0.00477315 -0.00445201 -0.00413086 -0.00380972 -0.00348857 -0.00316742 -0.00284627 -0.00252512 -0.00220396 -0.00188281 -0.00156166 -0.00124051 -0.00091936 -0.000598208 -0.000277058 4.40932e-5 0.000365244 0.000686394 0.00100754 0.00132869 0.00164985 0.001971 0.00229215 0.0026133 0.00293445 0.0032556 0.00357676 0.00389791 0.00421907 0.00454024 0.00486141 0.00518259 0.00550377 0.00582496 0.00614617 0.00646739 0.00678863 0.00710989 0.00743117 0.00775248 0.00807382 0.00839519 0.00871659 0.00903805 0.00935956 0.00968113 0.0100028 0.0103245 0.0106326 0.010913 0.0111435 0.0113019 0.0114242 0.0115465 0.0116687 0.011791 0.0119133 0.0120356 0.0121579 0.0122802 0.0124025 0.0125248 0.0126471 0.0127694 0.0128917 0.013014 0.0131363 0.0132585 0.0133808 0.0135031 0.0136254 0.0137477 0.01387 0.0139923 0.0141144 0.0145169 0.0154808 0.0167254 0.0179701 0.0192148 0.0204595 0.0217042 0.0229489 0.0241936 0.0254382 0.0266829 0.0273053; 0.00476795 0.00459049 0.00423556 0.00388063 0.00352571 0.00317078 0.00281586 0.00246093 0.00210601 0.00175109 0.00139617 0.00104126 0.000686348 0.000331446 -2.34484e-5 -0.000378333 -0.00073321 -0.00108808 -0.00144294 -0.00179781 -0.00215266 -0.00250752 -0.00286237 -0.00321721 -0.00357206 -0.0039269 -0.00428175 -0.00463659 -0.00499143 -0.00534626 -0.0057011 -0.00605593 -0.00641076 -0.00676559 -0.00712042 -0.00747524 -0.00783006 -0.00818488 -0.00853969 -0.00889449 -0.00924929 -0.00960407 -0.00995884 -0.0103136 -0.0106683 -0.0109027 -0.0108962 -0.0107694 -0.0106426 -0.0104086 -0.00996012 -0.00940443 -0.00877075 -0.00798107 -0.00711339 -0.00624569 -0.00537799 -0.00451029 -0.00364258 -0.00277488 -0.00190717 -0.00103947 -0.000171762 0.000695942 0.00156365 0.00243135 0.00329904 0.00412898 0.00488362 0.00560096 0.00631721 0.00676533 0.0066812 0.00633159 0.00598196 0.00563231 0.00528264 0.00493296 0.00458326 0.00423355 0.00388383 0.00353411 0.00318438 0.00283464 0.0024849 0.00213515 0.0017854 0.00143565 0.00108589 0.00073613 0.000386368 3.66036e-5 -0.000313162 -0.000662928 -0.0010127 -0.00136246 -0.00171223 -0.002062 -0.00241178 -0.00276155 -0.00311133 -0.0034611 -0.00381086 -0.00416063 -0.0045104 -0.00470726 -0.00459824 -0.00433626 -0.00407426 -0.00381229 -0.00355035 -0.00328841 -0.00302648 -0.00276454 -0.00250261 -0.00224067 -0.00197873 -0.0017168 -0.00145486 -0.00119293 -0.00093099 -0.000669055 -0.000407119 -0.000145183 0.000116753 0.000378689 0.000640624 0.00090256 0.0011645 0.00142643 0.00168837 0.0019503 0.00221224 0.00247418 0.00273611 0.00299805 0.00325998 0.00352192 0.00378385 0.00404579 0.00430773 0.00456966 0.0048316 0.00509354 0.00535548 0.00561743 0.00587938 0.00614133 0.0064033 0.00666527 0.00692727 0.00718928 0.00745131 0.00771338 0.00797549 0.00823765 0.00849988 0.0087622 0.00902464 0.00928725 0.00955023 0.00970399 0.00963878 0.00910575 0.00778416 0.00596065 0.00406547 0.00217027 0.000275071 -0.00162014 -0.00351535 -0.00541058 -0.00730581 -0.00920105 -0.0110963 -0.0129916 -0.0148868 -0.0167821 -0.0186774 -0.0205727 -0.0224679 -0.0243632 -0.0262585 -0.0281538 -0.0300491 -0.0319444 -0.0338396 -0.0357353 -0.0373326 -0.0383323 -0.039033 -0.0397337 -0.0404344 -0.041135 -0.0418357 -0.0425364 -0.0432371 -0.0439378 -0.0446385 -0.0449888; -1.36909e-10 -1.39048e-10 -1.43332e-10 -1.47624e-10 -1.51924e-10 -1.5623e-10 -1.60541e-10 -1.64854e-10 -1.69167e-10 -1.73477e-10 -1.77783e-10 -1.82081e-10 -1.86369e-10 -1.90645e-10 -1.94906e-10 -1.99149e-10 -2.03372e-10 -2.07573e-10 -2.11749e-10 -2.15898e-10 -2.20016e-10 -2.24101e-10 -2.28148e-10 -2.32152e-10 -2.36106e-10 -2.40003e-10 -2.43833e-10 -2.47584e-10 -2.51246e-10 -2.54804e-10 -2.58246e-10 -2.61558e-10 -2.64726e-10 -2.67735e-10 -2.70567e-10 -2.73202e-10 -2.75622e-10 -2.77803e-10 -2.79723e-10 -2.81362e-10 -2.827e-10 -2.83722e-10 -2.84413e-10 -2.84762e-10 -2.84759e-10 -2.84395e-10 -2.83661e-10 -2.82547e-10 -2.81041e-10 -2.79129e-10 -2.76786e-10 -2.73985e-10 -2.70688e-10 -2.66852e-10 -2.62432e-10 -2.57385e-10 -2.51676e-10 -2.45282e-10 -2.38196e-10 -2.30429e-10 -2.22008e-10 -2.12975e-10 -2.0338e-10 -1.93281e-10 -1.8273e-10 -1.71777e-10 -1.60461e-10 -1.48816e-10 -1.36862e-10 -1.24613e-10 -1.12078e-10 -9.92574e-11 -8.61471e-11 -7.27131e-11 -5.88882e-11 -4.46308e-11 -2.99278e-11 -1.47654e-11 8.69255e-13 1.6988e-11 3.36006e-11 5.07139e-11 6.83317e-11 8.64554e-11 1.05084e-10 1.24214e-10 1.4384e-10 1.63958e-10 1.8456e-10 2.05641e-10 2.27198e-10 2.49228e-10 2.71734e-10 2.94725e-10 3.18217e-10 3.42233e-10 3.66802e-10 3.91958e-10 4.17734e-10 4.44159e-10 4.71257e-10 4.99037e-10 5.27496e-10 5.56611e-10 5.86337e-10 6.16608e-10 6.47338e-10 6.78421e-10 7.09738e-10 7.41154e-10 7.72519e-10 8.03666e-10 8.34414e-10 8.64562e-10 8.93905e-10 9.22238e-10 9.49367e-10 9.75115e-10 9.99323e-10 1.02184e-9 1.04254e-9 1.06128e-9 1.07793e-9 1.09234e-9 1.10437e-9 1.11386e-9 1.12064e-9 1.12453e-9 1.12536e-9 1.12294e-9 1.11709e-9 1.10761e-9 1.09433e-9 1.07707e-9 1.05565e-9 1.02991e-9 9.99682e-10 9.64819e-10 9.25177e-10 8.80623e-10 8.31035e-10 7.76304e-10 7.1634e-10 6.51073e-10 5.80464e-10 5.04516e-10 4.23285e-10 3.36892e-10 2.45535e-10 1.49492e-10 4.91307e-11 -5.50942e-11 -1.62633e-10 -2.72838e-10 -3.84951e-10 -4.98091e-10 -6.11233e-10 -7.23189e-10 -8.3259e-10 -9.37897e-10 -1.03743e-9 -1.12943e-9 -1.21213e-9 -1.28386e-9 -1.34312e-9 -1.38865e-9 -1.41945e-9 -1.43482e-9 -1.43434e-9 -1.41786e-9 -1.38661e-9 -1.34299e-9 -1.28843e-9 -1.22349e-9 -1.14894e-9 -1.0657e-9 -9.74835e-10 -8.7761e-10 -7.75455e-10 -6.70057e-10 -5.63453e-10 -4.58204e-10 -3.57583e-10 -2.65838e-10 -1.88231e-10 -1.31247e-10 -1.01693e-10 -1.06617e-10 -1.49972e-10 -2.31713e-10 -3.42125e-10 -4.58921e-10 -5.32612e-10 -5.42727e-10 -3.53425e-10 -5.74923e-12 3.68544e-10 9.28169e-10 1.20121e-9 1.51581e-9], 200.0, 1.0050251256281406)"
     ]
    },
    {
     "name": "stdout",
     "output_type": "stream",
     "text": [
      "\n"
     ]
    },
    {
     "data": {
      "text/plain": [
       "Trajectory([0.2 0.201861 … 2.95056 3.0; 2.4 2.40014 … 0.548898 0.5; … ; 0.0 0.000281264 … -0.0473063 -0.05; 0.0 -7.5365e-10 … -7.41985e-9 0.0], [0.0722958 0.0509128 … 0.0266829 0.0273053; 0.00476795 0.00459049 … -0.0446385 -0.0449888; -1.36909e-10 -1.39048e-10 … 1.20121e-9 1.51581e-9], 200.0, 1.0050251256281406)"
      ]
     },
     "execution_count": 11,
     "metadata": {},
     "output_type": "execute_result"
    }
   ],
   "source": [
    "@show TOSgusto.SCPS.traj\n"
   ]
  },
  {
   "cell_type": "code",
   "execution_count": 2,
   "metadata": {},
   "outputs": [
    {
     "ename": "UndefVarError",
     "evalue": "UndefVarError: TOSgusto not defined",
     "output_type": "error",
     "traceback": [
      "UndefVarError: TOSgusto not defined",
      "",
      "Stacktrace:",
      " [1] top-level scope at In[2]:1"
     ]
    }
   ],
   "source": [
    "typeof(TOSgusto.SCPS.traj)\n"
   ]
  },
  {
   "cell_type": "code",
   "execution_count": null,
   "metadata": {},
   "outputs": [],
   "source": []
  }
 ],
 "metadata": {
  "kernelspec": {
   "display_name": "Julia 1.0.3",
   "language": "julia",
   "name": "julia-1.0"
  },
  "language_info": {
   "file_extension": ".jl",
   "mimetype": "application/julia",
   "name": "julia",
   "version": "1.0.3"
  }
 },
 "nbformat": 4,
 "nbformat_minor": 2
}
