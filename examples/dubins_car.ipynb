{
 "cells": [
  {
   "cell_type": "code",
   "execution_count": 1,
   "metadata": {
    "scrolled": true
   },
   "outputs": [
    {
     "name": "stderr",
     "output_type": "stream",
     "text": [
      "┌ Info: Precompiling BulletCollision [b3564421-7037-56b3-90f4-5b7f54e2ead3]\n",
      "└ @ Base loading.jl:1192\n"
     ]
    },
    {
     "data": {
      "text/html": [
       "    <script class='js-collapse-script'>\n",
       "        var curMatch =\n",
       "            window.location.href\n",
       "            .match(/(.*?)\\/notebooks\\/.*\\.ipynb/);\n",
       "\n",
       "        curMatch = curMatch ||\n",
       "            window.location.href\n",
       "            .match(/(.*?)\\/apps\\/.*\\.ipynb/);\n",
       "\n",
       "        if ( curMatch ) {\n",
       "            $('head').append('<base href=\"' + curMatch[1] + '/\">');\n",
       "        }\n",
       "    </script>\n"
      ],
      "text/plain": [
       "HTML{String}(\"    <script class='js-collapse-script'>\\n        var curMatch =\\n            window.location.href\\n            .match(/(.*?)\\\\/notebooks\\\\/.*\\\\.ipynb/);\\n\\n        curMatch = curMatch ||\\n            window.location.href\\n            .match(/(.*?)\\\\/apps\\\\/.*\\\\.ipynb/);\\n\\n        if ( curMatch ) {\\n            \\$('head').append('<base href=\\\"' + curMatch[1] + '/\\\">');\\n        }\\n    </script>\\n\")"
      ]
     },
     "metadata": {},
     "output_type": "display_data"
    },
    {
     "data": {
      "text/html": [
       "<script class='js-collapse-script' src='/assetserver/75259c676c4c94b02ca26a89265c53e5a244a54a-assets/webio/dist/bundle.js'></script>"
      ],
      "text/plain": [
       "HTML{String}(\"<script class='js-collapse-script' src='/assetserver/75259c676c4c94b02ca26a89265c53e5a244a54a-assets/webio/dist/bundle.js'></script>\")"
      ]
     },
     "metadata": {},
     "output_type": "display_data"
    },
    {
     "data": {
      "text/html": [
       "<script class='js-collapse-script' src='/assetserver/75259c676c4c94b02ca26a89265c53e5a244a54a-assets/providers/ijulia_setup.js'></script>"
      ],
      "text/plain": [
       "HTML{String}(\"<script class='js-collapse-script' src='/assetserver/75259c676c4c94b02ca26a89265c53e5a244a54a-assets/providers/ijulia_setup.js'></script>\")"
      ]
     },
     "metadata": {},
     "output_type": "display_data"
    },
    {
     "data": {
      "text/html": [
       "  <script class='js-collapse-script'>\n",
       "    $('.js-collapse-script').parent('.output_subarea').css('padding', '0');\n",
       "  </script>\n"
      ],
      "text/plain": [
       "HTML{String}(\"  <script class='js-collapse-script'>\\n    \\$('.js-collapse-script').parent('.output_subarea').css('padding', '0');\\n  </script>\\n\")"
      ]
     },
     "metadata": {},
     "output_type": "display_data"
    },
    {
     "data": {
      "text/plain": [
       "Forest"
      ]
     },
     "execution_count": 1,
     "metadata": {},
     "output_type": "execute_result"
    }
   ],
   "source": [
    "# using GuSTO\n",
    "include(\"../src/GuSTO.jl\")"
   ]
  },
  {
   "cell_type": "code",
   "execution_count": 2,
   "metadata": {},
   "outputs": [
    {
     "data": {
      "text/plain": [
       "TrajectoryOptimizationSolution(Trajectory([0.0 0.0 … 0.0 0.0; 0.0 0.0 … 0.0 0.0; 0.0 0.0 … 0.0 0.0], [0.0 0.0 … 0.0 0.0], 10.0, 0.10101010101010101), #undef, #undef, #undef)"
      ]
     },
     "execution_count": 2,
     "metadata": {},
     "output_type": "execute_result"
    }
   ],
   "source": [
    "robot = Car()\n",
    "model = DubinsCar()\n",
    "env = BlankEnv()\n",
    "\n",
    "N = 100\n",
    "tf_guess = 10.\n",
    "x_init = 2*ones(3)\n",
    "goal_set = GoalSet()\n",
    "add_goal!(goal_set, Goal(PointGoal(zeros(3)), tf_guess, model))\n",
    "\n",
    "PD = ProblemDefinition(robot, model, env, x_init, goal_set)\n",
    "TOP = TrajectoryOptimizationProblem(PD, N, tf_guess, fixed_final_time=true)\n",
    "TOS_SCP = TrajectoryOptimizationSolution(TOP)"
   ]
  },
  {
   "cell_type": "code",
   "execution_count": 3,
   "metadata": {},
   "outputs": [
    {
     "ename": "UndefVarError",
     "evalue": "UndefVarError: cse_init_constraints not defined",
     "output_type": "error",
     "traceback": [
      "UndefVarError: cse_init_constraints not defined",
      "",
      "Stacktrace:",
      " [1] SCPConstraints(::SCPProblem{Car,DubinsCar,BlankEnv}) at /home/somrita/Dropbox/Somrita Linux Files/AA290/GuSTO.jl/src/dynamics/dubins_car.jl:195",
      " [2] #solve_gusto_jump!#9(::Base.Iterators.Pairs{Symbol,Int64,Tuple{Symbol},NamedTuple{(:print_level,),Tuple{Int64}}}, ::Function, ::SCPSolution, ::SCPProblem{Car,DubinsCar,BlankEnv}, ::String, ::Int64, ::Bool) at /home/somrita/Dropbox/Somrita Linux Files/AA290/GuSTO.jl/src/scp/scp_gusto.jl:68",
      " [3] #solve_gusto_jump! at ./none:0 [inlined]",
      " [4] #solve_SCP!#7(::Int64, ::Bool, ::Base.Iterators.Pairs{Symbol,Int64,Tuple{Symbol},NamedTuple{(:print_level,),Tuple{Int64}}}, ::Function, ::TrajectoryOptimizationSolution, ::TrajectoryOptimizationProblem{Car,DubinsCar,BlankEnv}, ::typeof(solve_gusto_jump!), ::typeof(init_traj_straightline), ::String) at /home/somrita/Dropbox/Somrita Linux Files/AA290/GuSTO.jl/src/traj_opt.jl:60",
      " [5] (::getfield(Main, Symbol(\"#kw##solve_SCP!\")))(::NamedTuple{(:print_level,),Tuple{Int64}}, ::typeof(solve_SCP!), ::TrajectoryOptimizationSolution, ::TrajectoryOptimizationProblem{Car,DubinsCar,BlankEnv}, ::Function, ::Function, ::String) at ./none:0",
      " [6] top-level scope at In[3]:3"
     ]
    }
   ],
   "source": [
    "# SCP Only\n",
    "TOS_SCP = TrajectoryOptimizationSolution(TOP)\n",
    "# solve_SCP!(TOS_SCP, TOP, solve_gusto_jump!, init_traj_straightline, \"Gurobi\", OutputFlag=0)\n",
    "solve_SCP!(TOS_SCP, TOP, solve_gusto_jump!, init_traj_straightline, \"Ipopt\", print_level=0)\n",
    "# solve_SCP!(TOS_SCP, TOP, solve_gusto_jump!, init_traj_straightline, \"Mosek\")\n",
    "\n",
    "@show TOS_SCP.SCPS.converged\n",
    "@show TOS_SCP.SCPS.convergence_measure\n",
    "@show TOS_SCP.SCPS.iterations\n",
    "@show TOS_SCP.SCPS.total_time\n",
    "@show TOS_SCP.SCPS.J_true[end]"
   ]
  },
  {
   "cell_type": "code",
   "execution_count": 4,
   "metadata": {},
   "outputs": [
    {
     "data": {
      "image/png": "[encoded data removed]"
     },
     "execution_count": 4,
     "metadata": {},
     "output_type": "execute_result"
    }
   ],
   "source": [
    "using Plots\n",
    "gr(fmt=:png)\n",
    "plot([TOS_SCP.SCPS.traj.X[1,:]], [TOS_SCP.SCPS.traj.X[2,:]],\n",
    "    xlabel = \"x\",\n",
    "    ylabel = \"y\",\n",
    "    aspect_ratio = 1,\n",
    "    legend = :none)"
   ]
  },
  {
   "cell_type": "code",
   "execution_count": 5,
   "metadata": {
    "scrolled": false
   },
   "outputs": [
    {
     "ename": "UndefVarError",
     "evalue": "UndefVarError: cse_init_constraints not defined",
     "output_type": "error",
     "traceback": [
      "UndefVarError: cse_init_constraints not defined",
      "",
      "Stacktrace:",
      " [1] SCPConstraints(::SCPProblem{Car,DubinsCar,BlankEnv}) at /home/somrita/Dropbox/Somrita Linux Files/AA290/GuSTO.jl/src/dynamics/dubins_car.jl:195",
      " [2] #solve_gusto_jump!#9(::Base.Iterators.Pairs{Symbol,Int64,Tuple{Symbol},NamedTuple{(:print_level,),Tuple{Int64}}}, ::Function, ::SCPSolution, ::SCPProblem{Car,DubinsCar,BlankEnv}, ::String, ::Int64, ::Bool) at /home/somrita/Dropbox/Somrita Linux Files/AA290/GuSTO.jl/src/scp/scp_gusto.jl:68",
      " [3] #solve_gusto_jump! at ./none:0 [inlined] (repeats 2 times)",
      " [4] #solve_SCPshooting!#6(::Int64, ::Base.Iterators.Pairs{Symbol,Int64,Tuple{Symbol},NamedTuple{(:print_level,),Tuple{Int64}}}, ::Function, ::TrajectoryOptimizationSolution, ::TrajectoryOptimizationProblem{Car,DubinsCar,BlankEnv}, ::typeof(solve_gusto_jump!), ::typeof(init_traj_straightline), ::String) at /home/somrita/Dropbox/Somrita Linux Files/AA290/GuSTO.jl/src/traj_opt.jl:20",
      " [5] (::getfield(Main, Symbol(\"#kw##solve_SCPshooting!\")))(::NamedTuple{(:print_level,),Tuple{Int64}}, ::typeof(solve_SCPshooting!), ::TrajectoryOptimizationSolution, ::TrajectoryOptimizationProblem{Car,DubinsCar,BlankEnv}, ::Function, ::Function, ::String) at ./none:0",
      " [6] top-level scope at In[5]:2"
     ]
    }
   ],
   "source": [
    "TOS_SCPS  = TrajectoryOptimizationSolution(TOP)\n",
    "solve_SCPshooting!(TOS_SCPS, TOP, solve_gusto_jump!, init_traj_straightline, \"Ipopt\", print_level=0)\n",
    "\n",
    "@show TOS_SCPS.SS.converged\n",
    "@show TOS_SCPS.SS.prob_status\n",
    "@show TOS_SCPS.SCPS.iterations\n",
    "@show TOS_SCPS.total_time\n",
    "@show TOS_SCPS.SS.J_true[end]\n",
    "@show TOS_SCPS.SCPS.dual"
   ]
  },
  {
   "cell_type": "code",
   "execution_count": 6,
   "metadata": {},
   "outputs": [
    {
     "data": {
      "image/png": "[encoded data removed]"
     },
     "execution_count": 6,
     "metadata": {},
     "output_type": "execute_result"
    }
   ],
   "source": [
    "using Plots\n",
    "gr(fmt=:png)\n",
    "plot([TOS_SCPS.SS.traj.X[1,:]], [TOS_SCPS.SS.traj.X[2,:]],\n",
    "    xlabel = \"x\",\n",
    "    ylabel = \"y\",\n",
    "    aspect_ratio = 1,\n",
    "    legend = :none)"
   ]
  },
  {
   "cell_type": "code",
   "execution_count": 7,
   "metadata": {},
   "outputs": [],
   "source": [
    "# TOS_SCPS.SS.J_true"
   ]
  },
  {
   "cell_type": "code",
   "execution_count": 8,
   "metadata": {},
   "outputs": [],
   "source": [
    "# TOS_SCPS.SCPS.J_true"
   ]
  },
  {
   "cell_type": "code",
   "execution_count": 9,
   "metadata": {},
   "outputs": [
    {
     "data": {
      "text/plain": [
       "0"
      ]
     },
     "execution_count": 9,
     "metadata": {},
     "output_type": "execute_result"
    }
   ],
   "source": [
    "TOS_SCPS.SCPS.iterations"
   ]
  },
  {
   "cell_type": "code",
   "execution_count": 10,
   "metadata": {},
   "outputs": [
    {
     "data": {
      "image/png": "[encoded data removed]"
     },
     "execution_count": 10,
     "metadata": {},
     "output_type": "execute_result"
    }
   ],
   "source": [
    "using Plots\n",
    "gr(fmt=:png)\n",
    "plot([TOS_SCPS.SCPS.traj.X[1,:]], [TOS_SCPS.SCPS.traj.X[2,:]],\n",
    "    xlabel = \"x\",\n",
    "    ylabel = \"y\",\n",
    "    aspect_ratio = 1,\n",
    "    legend = :none)"
   ]
  },
  {
   "cell_type": "code",
   "execution_count": 11,
   "metadata": {
    "scrolled": true
   },
   "outputs": [
    {
     "name": "stdout",
     "output_type": "stream",
     "text": [
      "(TOS_SCPS.SCPS).dual = Any[]\n"
     ]
    },
    {
     "ename": "StackOverflowError",
     "evalue": "StackOverflowError:",
     "output_type": "error",
     "traceback": [
      "StackOverflowError:",
      "",
      "Stacktrace:",
      " [1] recursive_bottom_eltype(::Type) at /home/somrita/.julia/packages/RecursiveArrayTools/peaIl/src/utils.jl:79 (repeats 34864 times)",
      " [2] #__init#292(::Float64, ::Array{Float64,1}, ::Array{Float64,1}, ::Nothing, ::Bool, ::Nothing, ::Bool, ::Bool, ::Bool, ::Nothing, ::Bool, ::Bool, ::Float64, ::Bool, ::Rational{Int64}, ::Nothing, ::Nothing, ::Int64, ::Rational{Int64}, ::Int64, ::Int64, ::Rational{Int64}, ::Bool, ::Int64, ::Nothing, ::Nothing, ::Int64, ::Float64, ::Float64, ::typeof(DiffEqBase.ODE_DEFAULT_NORM), ::typeof(opnorm), ::typeof(DiffEqBase.ODE_DEFAULT_ISOUTOFDOMAIN), ::typeof(DiffEqBase.ODE_DEFAULT_UNSTABLE_CHECK), ::Bool, ::Bool, ::Bool, ::Bool, ::Bool, ::Bool, ::Bool, ::Bool, ::Int64, ::String, ::typeof(DiffEqBase.ODE_DEFAULT_PROG_MESSAGE), ::Nothing, ::Bool, ::Bool, ::Bool, ::Base.Iterators.Pairs{Symbol,Bool,Tuple{Symbol},NamedTuple{(:default_set,),Tuple{Bool}}}, ::typeof(DiffEqBase.__init), ::ODEProblem{Array{Any,1},Tuple{Float64,Float64},true,ShootingProblem{Car,DubinsCar,BlankEnv},ODEFunction{true,typeof(shooting_ode!),UniformScaling{Bool},Nothing,Nothing,Nothing,Nothing,Nothing,Nothing,Nothing,Nothing},Nothing,DiffEqBase.StandardODEProblem}, ::CompositeAlgorithm{Tuple{Vern9,Rodas5{0,false,DiffEqBase.DefaultLinSolve,DataType}},AutoSwitch{Vern9,Rodas5{0,false,DiffEqBase.DefaultLinSolve,DataType},Rational{Int64},Float64}}, ::Array{Any,1}, ::Array{Any,1}, ::Array{Any,1}, ::Type{Val{true}}) at /home/somrita/.julia/packages/OrdinaryDiffEq/Cc6K8/src/solve.jl:104",
      " [3] (::getfield(DiffEqBase, Symbol(\"#kw##__init\")))(::NamedTuple{(:default_set, :dtmin, :force_dtmin, :saveat),Tuple{Bool,Float64,Bool,Float64}}, ::typeof(DiffEqBase.__init), ::ODEProblem{Array{Any,1},Tuple{Float64,Float64},true,ShootingProblem{Car,DubinsCar,BlankEnv},ODEFunction{true,typeof(shooting_ode!),UniformScaling{Bool},Nothing,Nothing,Nothing,Nothing,Nothing,Nothing,Nothing,Nothing},Nothing,DiffEqBase.StandardODEProblem}, ::CompositeAlgorithm{Tuple{Vern9,Rodas5{0,false,DiffEqBase.DefaultLinSolve,DataType}},AutoSwitch{Vern9,Rodas5{0,false,DiffEqBase.DefaultLinSolve,DataType},Rational{Int64},Float64}}, ::Array{Any,1}, ::Array{Any,1}, ::Array{Any,1}, ::Type{Val{true}}) at ./none:0",
      " [4] #__solve#291(::Base.Iterators.Pairs{Symbol,Real,NTuple{4,Symbol},NamedTuple{(:default_set, :dtmin, :force_dtmin, :saveat),Tuple{Bool,Float64,Bool,Float64}}}, ::Function, ::ODEProblem{Array{Any,1},Tuple{Float64,Float64},true,ShootingProblem{Car,DubinsCar,BlankEnv},ODEFunction{true,typeof(shooting_ode!),UniformScaling{Bool},Nothing,Nothing,Nothing,Nothing,Nothing,Nothing,Nothing,Nothing},Nothing,DiffEqBase.StandardODEProblem}, ::CompositeAlgorithm{Tuple{Vern9,Rodas5{0,false,DiffEqBase.DefaultLinSolve,DataType}},AutoSwitch{Vern9,Rodas5{0,false,DiffEqBase.DefaultLinSolve,DataType},Rational{Int64},Float64}}, ::Array{Any,1}, ::Array{Any,1}, ::Array{Any,1}, ::Type{Val{true}}) at /home/somrita/.julia/packages/OrdinaryDiffEq/Cc6K8/src/solve.jl:6",
      " [5] (::getfield(DiffEqBase, Symbol(\"#kw##__solve\")))(::NamedTuple{(:default_set, :dtmin, :force_dtmin, :saveat),Tuple{Bool,Float64,Bool,Float64}}, ::typeof(DiffEqBase.__solve), ::ODEProblem{Array{Any,1},Tuple{Float64,Float64},true,ShootingProblem{Car,DubinsCar,BlankEnv},ODEFunction{true,typeof(shooting_ode!),UniformScaling{Bool},Nothing,Nothing,Nothing,Nothing,Nothing,Nothing,Nothing,Nothing},Nothing,DiffEqBase.StandardODEProblem}, ::CompositeAlgorithm{Tuple{Vern9,Rodas5{0,false,DiffEqBase.DefaultLinSolve,DataType}},AutoSwitch{Vern9,Rodas5{0,false,DiffEqBase.DefaultLinSolve,DataType},Rational{Int64},Float64}}, ::Array{Any,1}, ::Array{Any,1}, ::Array{Any,1}, ::Type{Val{true}}) at ./none:0 (repeats 5 times)",
      " [6] #__solve#2(::Bool, ::Base.Iterators.Pairs{Symbol,Real,Tuple{Symbol,Symbol,Symbol},NamedTuple{(:dtmin, :force_dtmin, :saveat),Tuple{Float64,Bool,Float64}}}, ::Function, ::ODEProblem{Array{Any,1},Tuple{Float64,Float64},true,ShootingProblem{Car,DubinsCar,BlankEnv},ODEFunction{true,typeof(shooting_ode!),UniformScaling{Bool},Nothing,Nothing,Nothing,Nothing,Nothing,Nothing,Nothing,Nothing},Nothing,DiffEqBase.StandardODEProblem}, ::Nothing) at /home/somrita/.julia/packages/DifferentialEquations/UZIcy/src/default_solve.jl:15",
      " [7] (::getfield(DiffEqBase, Symbol(\"#kw##__solve\")))(::NamedTuple{(:default_set, :dtmin, :force_dtmin, :saveat),Tuple{Bool,Float64,Bool,Float64}}, ::typeof(DiffEqBase.__solve), ::ODEProblem{Array{Any,1},Tuple{Float64,Float64},true,ShootingProblem{Car,DubinsCar,BlankEnv},ODEFunction{true,typeof(shooting_ode!),UniformScaling{Bool},Nothing,Nothing,Nothing,Nothing,Nothing,Nothing,Nothing,Nothing},Nothing,DiffEqBase.StandardODEProblem}, ::Nothing) at ./none:0",
      " [8] #__solve#1(::Bool, ::Base.Iterators.Pairs{Symbol,Real,Tuple{Symbol,Symbol,Symbol},NamedTuple{(:dtmin, :force_dtmin, :saveat),Tuple{Float64,Bool,Float64}}}, ::Function, ::ODEProblem{Array{Any,1},Tuple{Float64,Float64},true,ShootingProblem{Car,DubinsCar,BlankEnv},ODEFunction{true,typeof(shooting_ode!),UniformScaling{Bool},Nothing,Nothing,Nothing,Nothing,Nothing,Nothing,Nothing,Nothing},Nothing,DiffEqBase.StandardODEProblem}) at /home/somrita/.julia/packages/DifferentialEquations/UZIcy/src/default_solve.jl:5",
      " [9] (::getfield(DiffEqBase, Symbol(\"#kw##__solve\")))(::NamedTuple{(:dtmin, :force_dtmin, :saveat),Tuple{Float64,Bool,Float64}}, ::typeof(DiffEqBase.__solve), ::ODEProblem{Array{Any,1},Tuple{Float64,Float64},true,ShootingProblem{Car,DubinsCar,BlankEnv},ODEFunction{true,typeof(shooting_ode!),UniformScaling{Bool},Nothing,Nothing,Nothing,Nothing,Nothing,Nothing,Nothing,Nothing},Nothing,DiffEqBase.StandardODEProblem}) at ./none:0",
      " [10] #solve#435(::Base.Iterators.Pairs{Symbol,Real,Tuple{Symbol,Symbol,Symbol},NamedTuple{(:dtmin, :force_dtmin, :saveat),Tuple{Float64,Bool,Float64}}}, ::Function, ::ODEProblem{Array{Any,1},Tuple{Float64,Float64},true,ShootingProblem{Car,DubinsCar,BlankEnv},ODEFunction{true,typeof(shooting_ode!),UniformScaling{Bool},Nothing,Nothing,Nothing,Nothing,Nothing,Nothing,Nothing,Nothing},Nothing,DiffEqBase.StandardODEProblem}) at /home/somrita/.julia/packages/DiffEqBase/BvErs/src/solve.jl:41",
      " [11] (::getfield(DiffEqBase, Symbol(\"#kw##solve\")))(::NamedTuple{(:dtmin, :force_dtmin, :saveat),Tuple{Float64,Bool,Float64}}, ::typeof(DiffEqBase.solve), ::ODEProblem{Array{Any,1},Tuple{Float64,Float64},true,ShootingProblem{Car,DubinsCar,BlankEnv},ODEFunction{true,typeof(shooting_ode!),UniformScaling{Bool},Nothing,Nothing,Nothing,Nothing,Nothing,Nothing,Nothing,Nothing},Nothing,DiffEqBase.StandardODEProblem}) at ./none:0",
      " [12] top-level scope at In[11]:7"
     ]
    }
   ],
   "source": [
    "@show TOS_SCPS.SCPS.dual\n",
    "dt = tf_guess/(N-1)\n",
    "tspan = (0., tf_guess)\n",
    "SP = ShootingProblem(TOP, TOS_SCPS.SCPS)\n",
    "x0 = [TOP.PD.x_init; TOS_SCPS.SCPS.dual]\n",
    "prob = ODEProblem(shooting_ode!, x0, tspan, SP)\n",
    "sol = DifferentialEquations.solve(prob, dtmin=dt, force_dtmin=true, saveat=dt);"
   ]
  },
  {
   "cell_type": "code",
   "execution_count": 12,
   "metadata": {},
   "outputs": [
    {
     "ename": "UndefVarError",
     "evalue": "UndefVarError: sol not defined",
     "output_type": "error",
     "traceback": [
      "UndefVarError: sol not defined",
      "",
      "Stacktrace:",
      " [1] top-level scope at ./In[12]:3"
     ]
    }
   ],
   "source": [
    "X_ODE = zeros(3,N)\n",
    "for i = 1:N\n",
    "    X_ODE[:,i] = sol.u[i][1:3]\n",
    "end\n",
    "X_ODE"
   ]
  },
  {
   "cell_type": "code",
   "execution_count": 13,
   "metadata": {},
   "outputs": [
    {
     "data": {
      "image/png": "[encoded data removed]"
     },
     "execution_count": 13,
     "metadata": {},
     "output_type": "execute_result"
    }
   ],
   "source": [
    "using Plots\n",
    "gr(fmt=:png)\n",
    "plot([X_ODE[1,:]], [X_ODE[2,:]],\n",
    "    xlabel = \"x\",\n",
    "    ylabel = \"y\",\n",
    "    aspect_ratio = 1,\n",
    "    legend = :none)"
   ]
  },
  {
   "cell_type": "code",
   "execution_count": 14,
   "metadata": {},
   "outputs": [
    {
     "ename": "UndefVarError",
     "evalue": "UndefVarError: x_goal not defined",
     "output_type": "error",
     "traceback": [
      "UndefVarError: x_goal not defined",
      "",
      "Stacktrace:",
      " [1] top-level scope at /home/somrita/.julia/packages/JuMP/jnmGG/src/macros.jl:410",
      " [2] top-level scope at In[14]:14"
     ]
    }
   ],
   "source": [
    "solver_model = Model(with_optimizer(Ipopt.Optimizer; print_level=0))\n",
    "N = 100\n",
    "dt = tf_guess/(N-1)\n",
    "model = TOP.PD.model\n",
    "x_max, x_min, u_max, u_min, v, k = model.x_max, model.x_min, model.u_max, model.u_min, model.v, model.k\n",
    "@variable(solver_model, x_min[1] <= x[1:N] <= x_max[1])\n",
    "@variable(solver_model, x_min[2] <= y[1:N] <= x_max[2]) \n",
    "@variable(solver_model, x_min[3] <= θ[1:N] <= x_max[3])\n",
    "@variable(solver_model, u_min <= u[1:N-1] <= u_max)\n",
    "@NLconstraint(solver_model, dyn_x[k=1:N-1], x[k+1] == x[k] + dt*v*cos(θ[k]))\n",
    "@NLconstraint(solver_model, dyn_y[k=1:N-1], y[k+1] == y[k] + dt*v*sin(θ[k]))\n",
    "@NLconstraint(solver_model, dyn_θ[k=1:N-1], θ[k+1] == θ[k] + dt*k*u[k])\n",
    "@constraint(solver_model, con_init, [x[1];y[1];θ[1]] .== x_init)\n",
    "@constraint(solver_model, con_goal, [x[N];y[N];θ[N]] .== x_goal)\n",
    "@objective(solver_model, Min, sum(u[k]^2 for k = 1:N-1))"
   ]
  },
  {
   "cell_type": "code",
   "execution_count": 15,
   "metadata": {},
   "outputs": [],
   "source": [
    "# solver_model"
   ]
  },
  {
   "cell_type": "code",
   "execution_count": 16,
   "metadata": {},
   "outputs": [
    {
     "name": "stdout",
     "output_type": "stream",
     "text": [
      "\n",
      "******************************************************************************\n",
      "This program contains Ipopt, a library for large-scale nonlinear optimization.\n",
      " Ipopt is released as open source code under the Eclipse Public License (EPL).\n",
      "         For more information visit http://projects.coin-or.org/Ipopt\n",
      "******************************************************************************\n",
      "\n"
     ]
    },
    {
     "data": {
      "text/plain": [
       "0.0"
      ]
     },
     "execution_count": 16,
     "metadata": {},
     "output_type": "execute_result"
    }
   ],
   "source": [
    "JuMP.optimize!(solver_model)\n",
    "JuMP.termination_status(solver_model)\n",
    "JuMP.objective_value(solver_model)"
   ]
  },
  {
   "cell_type": "code",
   "execution_count": 17,
   "metadata": {},
   "outputs": [
    {
     "ename": "UndefVarError",
     "evalue": "UndefVarError: y_sol not defined",
     "output_type": "error",
     "traceback": [
      "UndefVarError: y_sol not defined",
      "",
      "Stacktrace:",
      " [1] top-level scope at In[17]:4"
     ]
    }
   ],
   "source": [
    "x_sol = JuMP.value.(x[1,:])\n",
    "using Plots\n",
    "gr(fmt=:png)\n",
    "plot([x_sol], [y_sol],\n",
    "    xlabel = \"x\",\n",
    "    ylabel = \"y\",\n",
    "    aspect_ratio = 1,\n",
    "    legend = :none)"
   ]
  },
  {
   "cell_type": "code",
   "execution_count": 18,
   "metadata": {},
   "outputs": [
    {
     "data": {
      "text/plain": [
       "3-element Array{Float64,1}:\n",
       " -5.494144503759745e-10\n",
       " -7.125959878119682e-11\n",
       " -6.355480590872e-10   "
      ]
     },
     "execution_count": 18,
     "metadata": {},
     "output_type": "execute_result"
    }
   ],
   "source": [
    "p0 = -JuMP.dual.(con_init)"
   ]
  },
  {
   "cell_type": "code",
   "execution_count": 19,
   "metadata": {},
   "outputs": [
    {
     "name": "stdout",
     "output_type": "stream",
     "text": [
      "pθ0 = (2u0) / k = -1.8366942399730888\n"
     ]
    },
    {
     "data": {
      "text/plain": [
       "-1.8366942399730888"
      ]
     },
     "execution_count": 19,
     "metadata": {},
     "output_type": "execute_result"
    }
   ],
   "source": [
    "u0 = JuMP.value.(u[1])\n",
    "@show pθ0 = 2*u0/k "
   ]
  },
  {
   "cell_type": "code",
   "execution_count": 20,
   "metadata": {},
   "outputs": [
    {
     "data": {
      "text/plain": [
       "3.4602823118588973e-10"
      ]
     },
     "execution_count": 20,
     "metadata": {},
     "output_type": "execute_result"
    }
   ],
   "source": [
    "p0[3]/pθ0"
   ]
  },
  {
   "cell_type": "code",
   "execution_count": 21,
   "metadata": {},
   "outputs": [
    {
     "name": "stdout",
     "output_type": "stream",
     "text": [
      "(TOS_SCPS.SCPS).dual = Any[]\n"
     ]
    }
   ],
   "source": [
    "@show TOS_SCPS.SCPS.dual\n",
    "dt = tf_guess/(N-1)\n",
    "tspan = (0., tf_guess)\n",
    "SP = ShootingProblem(TOP, TOS_SCPS.SCPS)\n",
    "x0 = [TOP.PD.x_init; p0]\n",
    "prob = ODEProblem(shooting_ode!, x0, tspan, SP)\n",
    "sol = DifferentialEquations.solve(prob);"
   ]
  },
  {
   "cell_type": "code",
   "execution_count": 22,
   "metadata": {},
   "outputs": [
    {
     "ename": "BoundsError",
     "evalue": "BoundsError: attempt to access 4-element Array{Array{Float64,1},1} at index [5]",
     "output_type": "error",
     "traceback": [
      "BoundsError: attempt to access 4-element Array{Array{Float64,1},1} at index [5]",
      "",
      "Stacktrace:",
      " [1] getindex(::Array{Array{Float64,1},1}, ::Int64) at ./array.jl:731",
      " [2] top-level scope at ./In[22]:3"
     ]
    }
   ],
   "source": [
    "X_ODE = zeros(3,N)\n",
    "for i = 1:N\n",
    "    X_ODE[:,i] = sol.u[i][1:3]\n",
    "end\n",
    "X_ODE"
   ]
  },
  {
   "cell_type": "code",
   "execution_count": 23,
   "metadata": {},
   "outputs": [
    {
     "data": {
      "image/png": "[encoded data removed]"
     },
     "execution_count": 23,
     "metadata": {},
     "output_type": "execute_result"
    }
   ],
   "source": [
    "using Plots\n",
    "gr(fmt=:png)\n",
    "plot([X_ODE[1,:]], [X_ODE[2,:]],\n",
    "    xlabel = \"x\",\n",
    "    ylabel = \"y\",\n",
    "    aspect_ratio = 1,\n",
    "    legend = :none)"
   ]
  },
  {
   "cell_type": "code",
   "execution_count": null,
   "metadata": {},
   "outputs": [],
   "source": []
  },
  {
   "cell_type": "code",
   "execution_count": null,
   "metadata": {},
   "outputs": [],
   "source": []
  },
  {
   "cell_type": "code",
   "execution_count": null,
   "metadata": {},
   "outputs": [],
   "source": []
  },
  {
   "cell_type": "code",
   "execution_count": null,
   "metadata": {},
   "outputs": [],
   "source": []
  },
  {
   "cell_type": "code",
   "execution_count": null,
   "metadata": {},
   "outputs": [],
   "source": []
  }
 ],
 "metadata": {
  "kernelspec": {
   "display_name": "Julia 1.0.3",
   "language": "julia",
   "name": "julia-1.0"
  },
  "language_info": {
   "file_extension": ".jl",
   "mimetype": "application/julia",
   "name": "julia",
   "version": "1.0.3"
  }
 },
 "nbformat": 4,
 "nbformat_minor": 2
}
