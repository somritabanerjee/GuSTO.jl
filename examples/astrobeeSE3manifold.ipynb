{
 "cells": [
  {
   "cell_type": "code",
   "execution_count": 1,
   "metadata": {},
   "outputs": [
    {
     "name": "stderr",
     "output_type": "stream",
     "text": [
      "┌ Info: Precompiling BulletCollision [b3564421-7037-56b3-90f4-5b7f54e2ead3]\n",
      "└ @ Base loading.jl:1192\n"
     ]
    },
    {
     "data": {
      "text/html": [
       "    <script class='js-collapse-script'>\n",
       "        var curMatch =\n",
       "            window.location.href\n",
       "            .match(/(.*?)\\/notebooks\\/.*\\.ipynb/);\n",
       "\n",
       "        curMatch = curMatch ||\n",
       "            window.location.href\n",
       "            .match(/(.*?)\\/apps\\/.*\\.ipynb/);\n",
       "\n",
       "        if ( curMatch ) {\n",
       "            $('head').append('<base href=\"' + curMatch[1] + '/\">');\n",
       "        }\n",
       "    </script>\n"
      ],
      "text/plain": [
       "HTML{String}(\"    <script class='js-collapse-script'>\\n        var curMatch =\\n            window.location.href\\n            .match(/(.*?)\\\\/notebooks\\\\/.*\\\\.ipynb/);\\n\\n        curMatch = curMatch ||\\n            window.location.href\\n            .match(/(.*?)\\\\/apps\\\\/.*\\\\.ipynb/);\\n\\n        if ( curMatch ) {\\n            \\$('head').append('<base href=\\\"' + curMatch[1] + '/\\\">');\\n        }\\n    </script>\\n\")"
      ]
     },
     "metadata": {},
     "output_type": "display_data"
    },
    {
     "data": {
      "text/html": [
       "<script class='js-collapse-script' src='/assetserver/75259c676c4c94b02ca26a89265c53e5a244a54a-assets/webio/dist/bundle.js'></script>"
      ],
      "text/plain": [
       "HTML{String}(\"<script class='js-collapse-script' src='/assetserver/75259c676c4c94b02ca26a89265c53e5a244a54a-assets/webio/dist/bundle.js'></script>\")"
      ]
     },
     "metadata": {},
     "output_type": "display_data"
    },
    {
     "data": {
      "text/html": [
       "<script class='js-collapse-script' src='/assetserver/75259c676c4c94b02ca26a89265c53e5a244a54a-assets/providers/ijulia_setup.js'></script>"
      ],
      "text/plain": [
       "HTML{String}(\"<script class='js-collapse-script' src='/assetserver/75259c676c4c94b02ca26a89265c53e5a244a54a-assets/providers/ijulia_setup.js'></script>\")"
      ]
     },
     "metadata": {},
     "output_type": "display_data"
    },
    {
     "data": {
      "text/html": [
       "  <script class='js-collapse-script'>\n",
       "    $('.js-collapse-script').parent('.output_subarea').css('padding', '0');\n",
       "  </script>\n"
      ],
      "text/plain": [
       "HTML{String}(\"  <script class='js-collapse-script'>\\n    \\$('.js-collapse-script').parent('.output_subarea').css('padding', '0');\\n  </script>\\n\")"
      ]
     },
     "metadata": {},
     "output_type": "display_data"
    },
    {
     "data": {
      "text/plain": [
       "Forest"
      ]
     },
     "execution_count": 1,
     "metadata": {},
     "output_type": "execute_result"
    }
   ],
   "source": [
    "# using GuSTO\"\n",
    "include(\"../src/GuSTO.jl\")"
   ]
  },
  {
   "cell_type": "code",
   "execution_count": 2,
   "metadata": {},
   "outputs": [
    {
     "name": "stdout",
     "output_type": "stream",
     "text": [
      "\n",
      "******************************************************************************\n",
      "This program contains Ipopt, a library for large-scale nonlinear optimization.\n",
      " Ipopt is released as open source code under the Eclipse Public License (EPL).\n",
      "         For more information visit http://projects.coin-or.org/Ipopt\n",
      "******************************************************************************\n",
      "\n"
     ]
    }
   ],
   "source": [
    "robot = Astrobee3D()\n",
    "model = AstrobeeSE3Manifold()\n",
    "env = ISSCorner();\n",
    "\n",
    "N = 50\n",
    "tf_guess = 10.\n",
    "goal_set = GoalSet()\n",
    "\n",
    "add_obstacles!(env)\n",
    "\n",
    "# Small corner maneuver\n",
    "r_init = [11.2; -0.8; 5.6]\n",
    "r_goal = [10.9; 3.0; 5.0]\n",
    "\n",
    "q_init = [1.; 0.; 0.; 0.]\n",
    "# q_goal = [1.; 0.; 0.; 0.]\n",
    "# q_goal = [1.; 0.5; 0.5; 0.5]\n",
    "q_goal = [1.; 0.2; 0.3; 0.4]\n",
    "q_goal = q_goal/norm(q_goal)\n",
    "\n",
    "x_init = [r_init; zeros(3); q_init; zeros(3)]\n",
    "v_goal = zeros(3)\n",
    "ω_goal = zeros(3)\n",
    "\n",
    "x_goal = [r_goal; v_goal; q_goal; ω_goal]\n",
    "# add_goal!(goal_set, Goal(PointGoal(x_goal), tf_guess, model))\n",
    "\n",
    "ε = 1e-4\n",
    "add_goal!(goal_set, Goal(PointGoal(r_goal), tf_guess, 1:3))\n",
    "add_goal!(goal_set, Goal(PointGoal(v_goal), tf_guess, 4:6))\n",
    "add_goal!(goal_set, Goal(BoxGoal(q_goal.-ε, q_goal.+ε), tf_guess, 7:10))\n",
    "# add_goal!(goal_set, Goal(PointGoal(q_goal), tf_guess, 7:10))\n",
    "add_goal!(goal_set, Goal(PointGoal(ω_goal), tf_guess, 11:13))\n",
    "\n",
    "PD = ProblemDefinition(robot, model, env, x_init, goal_set);\n",
    "TOP = TrajectoryOptimizationProblem(PD, N, tf_guess, fixed_final_time=true)\n",
    "TOS_SCP = TrajectoryOptimizationSolution(TOP)\n",
    "\n",
    "solve_SCP!(TOS_SCP, TOP, solve_gusto_jump!, init_traj_straightline, \"Ipopt\", print_level=0)"
   ]
  },
  {
   "cell_type": "code",
   "execution_count": 3,
   "metadata": {},
   "outputs": [
    {
     "name": "stdout",
     "output_type": "stream",
     "text": [
      "(TOS_SCP.SCPS).converged = true\n",
      "(TOS_SCP.SCPS).iterations = 7\n",
      "(TOS_SCP.SCPS).total_time = 45.074505128\n",
      "(TOS_SCP.SCPS).accept_solution = Bool[true, true, true, true, true, true, true, true]\n",
      "(TOS_SCP.SCPS).solver_status = Union{TerminationStatusCode, Symbol}[:NA, LOCALLY_SOLVED, LOCALLY_SOLVED, LOCALLY_SOLVED, LOCALLY_SOLVED, LOCALLY_SOLVED, LOCALLY_SOLVED, LOCALLY_SOLVED]\n",
      "(TOS_SCP.SCPS).scp_status = Symbol[:NA, :ViolatesConstraints, :ViolatesConstraints, :ViolatesConstraints, :OK, :OK, :OK, :OK]\n",
      "(TOS_SCP.SCPS).convergence_measure = [0.0, 0.0688753, 0.00388088, 0.0030732, 0.0110116, 0.000427816, 1.40182e-5, 5.6762e-7]\n",
      "(((TOS_SCP.SCPS).param).alg).ω_vec = [1.0, 5.0, 25.0, 125.0, 125.0, 125.0, 125.0, 125.0]\n",
      "(((TOS_SCP.SCPS).param).alg).Δ_vec = [1000.0, 1000.0, 1000.0, 1000.0, 1000.0, 1000.0, 1000.0, 1000.0]\n",
      "(TOS_SCP.SCPS).J_true = Any[0.0, 62.2831, 63.0013, 64.4436, 99.1265, 98.8738, 98.8771, 98.8775]\n",
      "(TOS_SCP.SCPS).dual = [-1.28574, 655.518, -133.94, -10.2259, 3295.77, -672.769, 0.000159258, 0.000206814, 0.000310268, 0.000413724, 0.000517014, 0.00077564, 0.00103427]\n"
     ]
    }
   ],
   "source": [
    "@show TOS_SCP.SCPS.converged\n",
    "@show TOS_SCP.SCPS.iterations\n",
    "@show TOS_SCP.SCPS.total_time\n",
    "@show TOS_SCP.SCPS.accept_solution\n",
    "@show TOS_SCP.SCPS.solver_status\n",
    "@show TOS_SCP.SCPS.scp_status\n",
    "@show TOS_SCP.SCPS.convergence_measure\n",
    "@show TOS_SCP.SCPS.param.alg.ω_vec\n",
    "@show TOS_SCP.SCPS.param.alg.Δ_vec\n",
    "@show TOS_SCP.SCPS.J_true\n",
    "@show TOS_SCP.SCPS.dual\n",
    ";"
   ]
  },
  {
   "cell_type": "code",
   "execution_count": 4,
   "metadata": {},
   "outputs": [
    {
     "name": "stdout",
     "output_type": "stream",
     "text": [
      "(TOS_SCP.SCPS).converged = true\n",
      "(TOS_SCP.SCPS).iterations = 7\n",
      "(TOS_SCP.SCPS).total_time = 45.074505128\n",
      "(TOS_SCP.SCPS).accept_solution = Bool[true, true, true, true, true, true, true, true]\n",
      "(TOS_SCP.SCPS).solver_status = Union{TerminationStatusCode, Symbol}[:NA, LOCALLY_SOLVED, LOCALLY_SOLVED, LOCALLY_SOLVED, LOCALLY_SOLVED, LOCALLY_SOLVED, LOCALLY_SOLVED, LOCALLY_SOLVED]\n",
      "(TOS_SCP.SCPS).scp_status = Symbol[:NA, :ViolatesConstraints, :ViolatesConstraints, :ViolatesConstraints, :OK, :OK, :OK, :OK]\n",
      "(TOS_SCP.SCPS).convergence_measure = [0.0, 0.0688753, 0.00388088, 0.0030732, 0.0110116, 0.000427816, 1.40182e-5, 5.6762e-7]\n",
      "(((TOS_SCP.SCPS).param).alg).ω_vec = [1.0, 5.0, 25.0, 125.0, 125.0, 125.0, 125.0, 125.0]\n",
      "(((TOS_SCP.SCPS).param).alg).Δ_vec = [1000.0, 1000.0, 1000.0, 1000.0, 1000.0, 1000.0, 1000.0, 1000.0]\n",
      "(TOS_SCP.SCPS).J_true = Any[0.0, 62.2831, 63.0013, 64.4436, 99.1265, 98.8738, 98.8771, 98.8775]\n",
      "(TOS_SCP.SCPS).dual = [-1.28574, 655.518, -133.94, -10.2259, 3295.77, -672.769, 0.000159258, 0.000206814, 0.000310268, 0.000413724, 0.000517014, 0.00077564, 0.00103427]\n"
     ]
    }
   ],
   "source": [
    "@show TOS_SCP.SCPS.converged\n",
    "@show TOS_SCP.SCPS.iterations\n",
    "@show TOS_SCP.SCPS.total_time\n",
    "@show TOS_SCP.SCPS.accept_solution\n",
    "@show TOS_SCP.SCPS.solver_status\n",
    "@show TOS_SCP.SCPS.scp_status\n",
    "@show TOS_SCP.SCPS.convergence_measure\n",
    "@show TOS_SCP.SCPS.param.alg.ω_vec\n",
    "@show TOS_SCP.SCPS.param.alg.Δ_vec\n",
    "@show TOS_SCP.SCPS.J_true\n",
    "@show TOS_SCP.SCPS.dual\n",
    ";"
   ]
  },
  {
   "cell_type": "code",
   "execution_count": 5,
   "metadata": {},
   "outputs": [
    {
     "data": {
      "image/png": "[encoded data removed]"
     },
     "execution_count": 5,
     "metadata": {},
     "output_type": "execute_result"
    }
   ],
   "source": [
    "using Plots\n",
    "gr(fmt=:png)\n",
    "plot()\n",
    "for i = 7:10\n",
    "    plot!([collect(1:N)],[TOS_SCP.SCPS.traj.X[i,:]],\n",
    "        xlabel = \"q\",\n",
    "        ylabel = \"y\",\n",
    "        legend = :none)\n",
    "end\n",
    "plot!()"
   ]
  },
  {
   "cell_type": "code",
   "execution_count": 6,
   "metadata": {},
   "outputs": [
    {
     "data": {
      "image/png": "[encoded data removed]"
     },
     "execution_count": 6,
     "metadata": {},
     "output_type": "execute_result"
    }
   ],
   "source": [
    "gr(fmt=:png)\n",
    "plot()\n",
    "plot!([collect(1:N)],[TOS_SCP.SCPS.traj.X[4,:]],\n",
    "    xlabel = \"q\",\n",
    "    ylabel = \"y\",\n",
    "    legend = :none)"
   ]
  },
  {
   "cell_type": "code",
   "execution_count": 7,
   "metadata": {},
   "outputs": [
    {
     "data": {
      "image/png": "[encoded data removed]"
     },
     "execution_count": 7,
     "metadata": {},
     "output_type": "execute_result"
    }
   ],
   "source": [
    "gr(fmt=:png)\n",
    "plot()\n",
    "plot!([collect(1:N)],[TOS_SCP.SCPS.traj.X[1,:]],\n",
    "    xlabel = \"q\",\n",
    "    ylabel = \"y\",\n",
    "    legend = :none)"
   ]
  },
  {
   "cell_type": "code",
   "execution_count": 8,
   "metadata": {},
   "outputs": [
    {
     "name": "stdout",
     "output_type": "stream",
     "text": [
      "instantiated a floating joint\n"
     ]
    },
    {
     "name": "stderr",
     "output_type": "stream",
     "text": [
      "┌ Info: Serving MeshCat visualizer at http://127.0.0.1:8700\n",
      "└ @ MeshCat /home/somrita/.julia/packages/MeshCat/WlA0B/src/servers.jl:24\n"
     ]
    },
    {
     "data": {
      "text/plain": [
       "Process(`\u001b[4mxdg-open\u001b[24m \u001b[4mhttp://127.0.0.1:8700\u001b[24m`, ProcessExited(0))"
      ]
     },
     "execution_count": 8,
     "metadata": {},
     "output_type": "execute_result"
    },
    {
     "name": "stdout",
     "output_type": "stream",
     "text": [
      "Opening in existing browser session.\n"
     ]
    },
    {
     "name": "stderr",
     "output_type": "stream",
     "text": [
      "┌ Error: error handling request\n",
      "│   exception = (ArgumentError(\"stream is closed or unusable\"), Base.StackTraces.StackFrame[check_open at stream.jl:252 [inlined], uv_write_async(::TCPSocket, ::Ptr{UInt8}, ::UInt64) at stream.jl:800, uv_write(::TCPSocket, ::Ptr{UInt8}, ::UInt64) at stream.jl:774, unsafe_write(::TCPSocket, ::Ptr{UInt8}, ::UInt64) at stream.jl:830, unsafe_write at ConnectionPool.jl:134 [inlined], macro expansion at gcutils.jl:87 [inlined], write at io.jl:164 [inlined], closebody at Streams.jl:111 [inlined], closewrite(::Stream{Request,Transaction{TCPSocket}}) at Streams.jl:126, (::##13#14{#_servercoroutine#11{ServerWS},Transaction{TCPSocket},Stream{Request,Transaction{TCPSocket}}})() at task.jl:259])\n",
      "└ @ HTTP.Servers /home/somrita/.julia/packages/HTTP/wY7Vc/src/Servers.jl:364\n"
     ]
    }
   ],
   "source": [
    "using AstrobeeRobot\n",
    "\n",
    "# Animate Astrobee trajectory\n",
    "vis = Visualizer()\n",
    "delete!(vis)\n",
    "\n",
    "vis[:goal]\n",
    "for (idx,obs) in enumerate(env.keepout_zones)\n",
    "    setobject!(vis[:goal][:goal], \n",
    "        Object(HyperSphere(Point3f0(x_goal[1:3]), 0.1f0),\n",
    "            MeshBasicMaterial(color=RGBA(0,1.0,0.,0.3))))\n",
    "end\n",
    "\n",
    "vis[:workspace]\n",
    "for (idx,ws) in enumerate(env.keepin_zones)\n",
    "    if idx in (5,8)\n",
    "        setobject!(vis[:workspace][Symbol(string(\"ws\",idx))],\n",
    "            Object(ws, MeshBasicMaterial(color=RGBA(0.95,0.93,0.26,0.3), depthWrite=false)))\n",
    "    else\n",
    "        setobject!(vis[:workspace][Symbol(string(\"ws\",idx))],\n",
    "            Object(ws, MeshBasicMaterial(color=RGBA(0.95,0.93,0.26,0.3))))\n",
    "    end\n",
    "end\n",
    "\n",
    "vis[:obstacle]\n",
    "for (idx,ws) in enumerate(env.obstacle_set)\n",
    "    setobject!(vis[:workspace][Symbol(string(\"ws\",idx+length(env.keepin_zones)))],\n",
    "        Object(ws,MeshBasicMaterial(color=RGBA(0.95,0.26,0.26,0.3))))\n",
    "end\n",
    "\n",
    "ab = Astrobee()\n",
    "mvis = MechanismVisualizer(\n",
    "    ab.mechanism,\n",
    "    URDFVisuals(AstrobeeRobot.urdfpath(), package_path=[dirname(dirname(AstrobeeRobot.urdfpath()))]),\n",
    "    vis);\n",
    "\n",
    "speed_factor = 3\n",
    "\n",
    "Qs = Vector{Vector{Float64}}()\n",
    "for k in 1:speed_factor:N\n",
    "#     q = [quat_inv(TOS_SCP.SCPS.traj.X[7:10,k]); TOS_SCP.SCPS.traj.X[1:3,k]]\n",
    "    q = [quat_inv(TOS_SCP.SCPS.traj.X[7:10,k]); TOS_SCP.SCPS.traj.X[1:3,k]]\n",
    "    push!(Qs,q)\n",
    "end\n",
    "\n",
    "trans = Translation(14., -1., 7.)\n",
    "rot = LinearMap(RotZ(-0.6)) ∘ LinearMap(RotY(-0.2))\n",
    "settransform!(vis[\"/Cameras/default\"], trans ∘ rot)\n",
    "setprop!(vis[\"/Cameras/default/rotated/<object>\"], \"zoom\", 1.9)\n",
    "setprop!(vis[\"/Cameras/default/rotated/<object>\"], \"near\", 0.05)\n",
    "\n",
    "sleep(3)\n",
    "setanimation!(mvis,1:length(Qs),Qs)\n",
    "\n",
    "plot_in_cell = false\n",
    "plot_in_cell ? IJuliaCell(vis) : open(vis)"
   ]
  },
  {
   "cell_type": "code",
   "execution_count": null,
   "metadata": {},
   "outputs": [],
   "source": []
  },
  {
   "cell_type": "code",
   "execution_count": null,
   "metadata": {},
   "outputs": [],
   "source": []
  },
  {
   "cell_type": "code",
   "execution_count": null,
   "metadata": {},
   "outputs": [],
   "source": []
  },
  {
   "cell_type": "code",
   "execution_count": null,
   "metadata": {},
   "outputs": [],
   "source": []
  }
 ],
 "metadata": {
  "kernelspec": {
   "display_name": "Julia 1.0.3",
   "language": "julia",
   "name": "julia-1.0"
  },
  "language_info": {
   "file_extension": ".jl",
   "mimetype": "application/julia",
   "name": "julia",
   "version": "1.0.3"
  }
 },
 "nbformat": 4,
 "nbformat_minor": 2
}
