{
 "cells": [
  {
   "cell_type": "code",
   "execution_count": 3,
   "metadata": {},
   "outputs": [
    {
     "ename": "Base.IOError",
     "evalue": "IOError: could not spawn `ffmpeg -v 0 -i /tmp/tmpnEmNFy/%06d.png -vf palettegen=stats_mode=diff -y /tmp/tmpnEmNFy/palette.bmp`: no such file or directory (ENOENT)",
     "output_type": "error",
     "traceback": [
      "IOError: could not spawn `ffmpeg -v 0 -i /tmp/tmpnEmNFy/%06d.png -vf palettegen=stats_mode=diff -y /tmp/tmpnEmNFy/palette.bmp`: no such file or directory (ENOENT)",
      "",
      "Stacktrace:",
      " [1] _jl_spawn(::String, ::Array{String,1}, ::Cmd, ::Tuple{RawFD,RawFD,RawFD}) at ./process.jl:367",
      " [2] (::getfield(Base, Symbol(\"##493#494\")){Cmd})(::Tuple{RawFD,RawFD,RawFD}) at ./process.jl:509",
      " [3] setup_stdio(::getfield(Base, Symbol(\"##493#494\")){Cmd}, ::Tuple{RawFD,RawFD,RawFD}) at ./process.jl:490",
      " [4] #_spawn#492(::Nothing, ::Function, ::Cmd, ::Tuple{RawFD,RawFD,RawFD}) at ./process.jl:508",
      " [5] _spawn at ./process.jl:504 [inlined]",
      " [6] #run#503(::Bool, ::Function, ::Cmd) at ./process.jl:662",
      " [7] run at ./process.jl:661 [inlined]",
      " [8] #buildanimation#245(::Int64, ::Int64, ::Bool, ::Bool, ::Function, ::String, ::String, ::Bool) at /home/somrita/.julia/packages/Plots/47Tik/src/animation.jl:82",
      " [9] buildanimation at /home/somrita/.julia/packages/Plots/47Tik/src/animation.jl:73 [inlined] (repeats 2 times)",
      " [10] #gif#242 at /home/somrita/.julia/packages/Plots/47Tik/src/animation.jl:63 [inlined]",
      " [11] gif at /home/somrita/.julia/packages/Plots/47Tik/src/animation.jl:63 [inlined] (repeats 2 times)",
      " [12] macro expansion at /home/somrita/.julia/packages/Plots/47Tik/src/animation.jl:164 [inlined]",
      " [13] top-level scope at ./In[3]:20 [inlined]",
      " [14] top-level scope at ./none:0"
     ]
    }
   ],
   "source": [
    "using Plots\n",
    "\n",
    "# define the Lorenz attractor\n",
    "mutable struct Lorenz\n",
    "    dt; σ; ρ; β; x; y; z\n",
    "end\n",
    "\n",
    "function step!(l::Lorenz)\n",
    "    dx = l.σ*(l.y - l.x)       ; l.x += l.dt * dx\n",
    "    dy = l.x*(l.ρ - l.z) - l.y ; l.y += l.dt * dy\n",
    "    dz = l.x*l.y - l.β*l.z     ; l.z += l.dt * dz\n",
    "end\n",
    "\n",
    "attractor = Lorenz((dt = 0.02, σ = 10., ρ = 28., β = 8//3, x = 1., y = 1., z = 1.)...)\n",
    "\n",
    "\n",
    "# initialize a 3D plot with 1 empty series\n",
    "plt = plot3d(1, xlim=(-25,25), ylim=(-25,25), zlim=(0,50),\n",
    "                title = \"Lorenz Attractor\", marker = 2)\n",
    "\n",
    "# build an animated gif by pushing new points to the plot, saving every 10th frame\n",
    "@gif for i=1:1500\n",
    "    step!(attractor)\n",
    "    push!(plt, attractor.x, attractor.y, attractor.z)\n",
    "end every 10"
   ]
  },
  {
   "cell_type": "code",
   "execution_count": null,
   "metadata": {},
   "outputs": [],
   "source": []
  }
 ],
 "metadata": {
  "kernelspec": {
   "display_name": "Julia 1.0.3",
   "language": "julia",
   "name": "julia-1.0"
  },
  "language_info": {
   "file_extension": ".jl",
   "mimetype": "application/julia",
   "name": "julia",
   "version": "1.0.3"
  }
 },
 "nbformat": 4,
 "nbformat_minor": 2
}
